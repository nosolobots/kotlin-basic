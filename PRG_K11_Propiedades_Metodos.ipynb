{
 "cells": [
  {
   "cell_type": "markdown",
   "id": "a4887e6b",
   "metadata": {},
   "source": [
    "# K11. Propiedades y Métodos\n",
    "---"
   ]
  },
  {
   "cell_type": "markdown",
   "id": "1ebb4553",
   "metadata": {},
   "source": [
    "## 1. Propiedades\n",
    "---"
   ]
  },
  {
   "cell_type": "markdown",
   "id": "77c9fc24",
   "metadata": {},
   "source": [
    "Previamente, hemos introducido las **propiedades** como los miembros de datos (atributos) de las clases de Kotlin. Por ejemplo:"
   ]
  },
  {
   "cell_type": "code",
   "execution_count": 7,
   "id": "db80da90",
   "metadata": {},
   "outputs": [],
   "source": [
    "class Coche(val marca:String, val modelo: String, var color: String)"
   ]
  },
  {
   "cell_type": "markdown",
   "id": "fd71bfe4",
   "metadata": {},
   "source": [
    "La clase anterior declara tres propiedades en su **constructor primario** que se inicializarán durante la creación de sus diferentes instancias.\n",
    "\n",
    "<br>Las propiedades definen métodos de tipo **getter** y, en el caso de las variables, tipo **setter** con implementaciones por defecto, pero podemos personalizarlas"
   ]
  },
  {
   "cell_type": "code",
   "execution_count": 2,
   "id": "76d00bc6",
   "metadata": {},
   "outputs": [
    {
     "name": "stdout",
     "output_type": "stream",
     "text": [
      "coche: BMW X1 Blanco\n",
      "coche: BMW X1 Rojo\n"
     ]
    }
   ],
   "source": [
    "val c = Coche(\"BMW\", \"X1\", \"Blanco\")\n",
    "\n",
    "println(\"coche: ${c.marca} ${c.modelo} ${c.color}\")\n",
    "\n",
    "// no podemos cambiar el valor de una constante\n",
    "//c.modelo = \"X3\"\n",
    "\n",
    "c.color = \"Rojo\"\n",
    "\n",
    "println(\"coche: ${c.marca} ${c.modelo} ${c.color}\")"
   ]
  },
  {
   "cell_type": "markdown",
   "id": "fafe064f",
   "metadata": {},
   "source": [
    "### Valores por defecto"
   ]
  },
  {
   "cell_type": "markdown",
   "id": "5e3a1f73",
   "metadata": {},
   "source": [
    "En el ejemplo anterior, para crear una instancia de la clase coche, deberemos proporcionar valores para cada una de las tres propiedades definidas en el constructor primario de la clase. "
   ]
  },
  {
   "cell_type": "code",
   "execution_count": 8,
   "id": "16f34d0e",
   "metadata": {
    "scrolled": true
   },
   "outputs": [
    {
     "name": "stderr",
     "output_type": "stream",
     "text": [
      "Line_134.jupyter.kts (1:16 - 17) No value passed for parameter 'marca'\n",
      "Line_134.jupyter.kts (1:16 - 17) No value passed for parameter 'modelo'\n",
      "Line_134.jupyter.kts (1:16 - 17) No value passed for parameter 'color'"
     ]
    }
   ],
   "source": [
    "// El siguiente código producirá un error\n",
    "val c2 = Coche()"
   ]
  },
  {
   "cell_type": "markdown",
   "id": "70b05542",
   "metadata": {},
   "source": [
    "En algún caso, nos interesará establecer un valor por defecto con el que inicializar un determinado atributo en caso de que no se proporcione. Del mismo modo que hacemos con los parámetros de las funciones con valores por defecto, asignaremos un valor al parámetro en cuestión. En este caso, no estaremos obligados a proporcionarlo en el momento de invocar el contructor de la clase"
   ]
  },
  {
   "cell_type": "code",
   "execution_count": 10,
   "id": "2565e37b",
   "metadata": {
    "scrolled": true
   },
   "outputs": [
    {
     "name": "stdout",
     "output_type": "stream",
     "text": [
      "coche: Renault Clio Negro\n",
      "coche: Citroën C5 Blanco\n"
     ]
    }
   ],
   "source": [
    "class Coche(val marca:String, val modelo: String, var color: String = \"Blanco\")\n",
    "\n",
    "val c1 = Coche(\"Renault\", \"Clio\", \"Negro\")\n",
    "println(\"coche: ${c1.marca} ${c1.modelo} ${c1.color}\")\n",
    "\n",
    "// omitimos el valor para el color (se usará el valor por defecto)\n",
    "val c2 = Coche(\"Citroën\", \"C5\")\n",
    "println(\"coche: ${c2.marca} ${c2.modelo} ${c2.color}\")"
   ]
  },
  {
   "cell_type": "markdown",
   "id": "9a5c4d86",
   "metadata": {},
   "source": [
    "### Inicializador de Propiedades"
   ]
  },
  {
   "cell_type": "markdown",
   "id": "1f37a02c",
   "metadata": {},
   "source": [
    "Las propiedades también puede inicializarse fuera del constructor primario. Por ejemplo, podríamos reescribir la clase anterior de la siguiente manera:"
   ]
  },
  {
   "cell_type": "code",
   "execution_count": 18,
   "id": "5db6b71c",
   "metadata": {},
   "outputs": [
    {
     "name": "stdout",
     "output_type": "stream",
     "text": [
      "coche: Renault Clio Blanco\n",
      "coche: Citroën C5 Blanco\n"
     ]
    }
   ],
   "source": [
    "class Coche (val marca: String, val modelo: String, var color: String) \n",
    "{\n",
    "    init {\n",
    "        color = \"Blanco\"\n",
    "    }\n",
    "}\n",
    "\n",
    "// proporcionamos el valor para el color (se SOBREESCRIBIRÁ con el valor por defecto)\n",
    "val c1 = Coche(\"Renault\", \"Clio\", \"Negro\")\n",
    "println(\"coche: ${c1.marca} ${c1.modelo} ${c1.color}\")\n",
    "\n",
    "// omitimos el valor para el color (se usará el valor del inicializador)\n",
    "val c2 = Coche(\"Citroën\", \"C5\")\n",
    "println(\"coche: ${c2.marca} ${c2.modelo} ${c2.color}\")"
   ]
  },
  {
   "cell_type": "markdown",
   "id": "3a6e01ab",
   "metadata": {},
   "source": [
    "En el ejemplo anterior, **```init```** define un **bloque de inicialización** de propiedades, donde podemos establecer el valor de una propiedad siempre que sea variable (no constante). Las propiedades que se asignen dentro del bloque de inicialización, no necesitan que se proporcione un valor para ellas en el momento de crear el objeto. Es más, fíjate que el valor proporcionado se sobreescribe con el valor del inicializador (razón por la que no pueden definirse como constantes)"
   ]
  },
  {
   "cell_type": "markdown",
   "id": "f28a0883",
   "metadata": {},
   "source": [
    "### Constructores secundarios"
   ]
  },
  {
   "cell_type": "markdown",
   "id": "f6b81698",
   "metadata": {},
   "source": [
    "En Kotlin, al igual que en Java, podemos definir múltiples constructores (**constructores secundarios**) para inicializar los objetos de una clase a partir de distintos conjuntos de argumentos. De todas formas, al igual que ocurre en otros lenguajes como Python, el hecho de poder definir valores por defecto para las propiedades, hace que este conjunto de constructores no sea necesario.\n",
    "\n",
    "Para definir constructores, emplearemos la palabra reservada **```constructor```**. Además, estos constructores deben delegar en el constructor primario"
   ]
  },
  {
   "cell_type": "code",
   "execution_count": 33,
   "id": "8f4db602",
   "metadata": {
    "scrolled": true
   },
   "outputs": [],
   "source": [
    "class Usuario(val nombre: String, var edad: Int) {\n",
    "    constructor(edad: Int): this(\"Anónimo\", edad) {\n",
    "        println(\"Creando usuario anónimo de $edad años\")\n",
    "    }\n",
    "    constructor(nombre: String): this(nombre, -1) {\n",
    "        println(\"Creando usuario $nombre sin edad\")\n",
    "    }\n",
    "    constructor(): this(\"Anónimo\", -1) {\n",
    "        println(\"Creando usuario anónimo sin edad\")\n",
    "    }\n",
    "    fun print() { println(\"Hola, soy $nombre y tengo $edad años\")}\n",
    "}"
   ]
  },
  {
   "cell_type": "code",
   "execution_count": 34,
   "id": "c21950ac",
   "metadata": {},
   "outputs": [
    {
     "name": "stdout",
     "output_type": "stream",
     "text": [
      "Hola, soy Bob y tengo 32 años\n",
      "Creando usuario Joe sin edad\n",
      "Hola, soy Joe y tengo -1 años\n",
      "Creando usuario anónimo de 17 años\n",
      "Hola, soy Anónimo y tengo 17 años\n",
      "Creando usuario anónimo sin edad\n",
      "Hola, soy Anónimo y tengo -1 años\n"
     ]
    }
   ],
   "source": [
    "val u1 = Usuario(\"Bob\", 32)\n",
    "u1.print()\n",
    "\n",
    "val u2 = Usuario(\"Joe\")\n",
    "u2.print()\n",
    "\n",
    "val u3 = Usuario(17)\n",
    "u3.print()\n",
    "\n",
    "val u4 = Usuario()\n",
    "u4.print()"
   ]
  },
  {
   "cell_type": "markdown",
   "id": "55173d2b",
   "metadata": {},
   "source": [
    "Empleando valores por defecto, podríamos escribir la clase anterior de la siguiente manera:"
   ]
  },
  {
   "cell_type": "code",
   "execution_count": 32,
   "id": "cffd1697",
   "metadata": {},
   "outputs": [],
   "source": [
    "class UsuarioDefault(val nombre: String = \"Anónimo\", var edad: Int = -1) {\n",
    "    fun print() { println(\"Hola, soy $nombre y tengo $edad años\")}\n",
    "}"
   ]
  },
  {
   "cell_type": "code",
   "execution_count": 31,
   "id": "e4b1458f",
   "metadata": {},
   "outputs": [
    {
     "name": "stdout",
     "output_type": "stream",
     "text": [
      "Hola, soy Bob y tengo 32 años\n",
      "Hola, soy Joe y tengo -1 años\n",
      "Hola, soy Anónimo y tengo 17 años\n",
      "Hola, soy Anónimo y tengo -1 años\n"
     ]
    }
   ],
   "source": [
    "val u1 = UsuarioDefault(\"Bob\", 32)\n",
    "u1.print()\n",
    "\n",
    "val u2 = UsuarioDefault(nombre = \"Joe\")\n",
    "u2.print()\n",
    "\n",
    "val u3 = UsuarioDefault(edad = 17)\n",
    "u3.print()\n",
    "\n",
    "val u4 = UsuarioDefault()\n",
    "u4.print()"
   ]
  },
  {
   "cell_type": "markdown",
   "id": "a03eeb93",
   "metadata": {},
   "source": [
    "### Accesores personalizados"
   ]
  },
  {
   "cell_type": "markdown",
   "id": "37b012ff",
   "metadata": {},
   "source": [
    "En muchas ocasiones, las implementaciones por defecto de los accesores de nuestros parámetros serán suficientes. Podremos acceder al valor de los mismos, y modificarlos en el caso de que estén definidos como variables, empleando el operador punto (.). \n",
    "\n",
    "<br>Sin embargo, habrá ocasiones en que nos interese personalizar esos **getter** y **setter** porque debemos haceer un cálculo o proceso extra más allá de una simple lectura o asignación de valor. Evidentemente, en caso de añadir un _setter_, la propiedad debe declararse como variable.\n",
    "\n",
    "<br>En el siguiente ejemplo, además de las propiedades **```ancho```** y **```alto```** de la pantalla, definimos la propiedad **```diagonal```** con un _getter_ que nos devolverá la longitud de la diagonal obtenido a partir de las dos otras propiedades:"
   ]
  },
  {
   "cell_type": "code",
   "execution_count": 35,
   "id": "9c15b9ff",
   "metadata": {},
   "outputs": [],
   "source": [
    "data class TV(var ancho: Double, var alto: Double) {\n",
    "    val diagonal: Int \n",
    "        get() {\n",
    "            val cmToInches = 0.393701\n",
    "            val diag = Math.sqrt(ancho * ancho + alto * alto) * cmToInches\n",
    "            return diag.roundToInt()\n",
    "        }\n",
    "}"
   ]
  },
  {
   "cell_type": "code",
   "execution_count": 44,
   "id": "816198fa",
   "metadata": {},
   "outputs": [
    {
     "name": "stdout",
     "output_type": "stream",
     "text": [
      "TV LG OLED42 diagonal = 42\"\n"
     ]
    }
   ],
   "source": [
    "val LG42 = TV(ancho = 93.2, alto = 54.0)\n",
    "println(\"TV LG OLED42 diagonal = ${LG42.diagonal}\\\"\")"
   ]
  },
  {
   "cell_type": "markdown",
   "id": "d7073792",
   "metadata": {},
   "source": [
    "La propiedad **```diagonal```** anterior es de **sólo lectura**. Vamos a modificarla para que se pueda modificar. Para ello, la vamos a convertir en variable (var). Además, un cambio de la diagonal va a suponer que tengamos que modificar el **```ancho```** y **```alto```** de la televisión manteniendo la relación de aspecto, por lo que añadiremode un _setter_ personalizado para realizar dicho proceso. El _setter_ correspondiente tendrá un parámetro (value) a través del cual proporcionaremos el nuevo valor de la diagonal"
   ]
  },
  {
   "cell_type": "code",
   "execution_count": 48,
   "id": "c0013e1c",
   "metadata": {},
   "outputs": [
    {
     "name": "stdout",
     "output_type": "stream",
     "text": [
      "TV diagonal = 42\" [93.2 cm x 54.0 cm]\n",
      "TV diagonal = 50\" [109.88760571429934 cm x 63.668784426739954 cm]\n"
     ]
    }
   ],
   "source": [
    "data class TV(var ancho: Double, var alto: Double) {\n",
    "    val cmToinches = 0.393701\n",
    "    val inchesTocm = 2.54\n",
    "    var diagonal: Int \n",
    "        get() {\n",
    "            val diag = Math.sqrt(ancho * ancho + alto * alto) * cmToinches\n",
    "            return diag.roundToInt()\n",
    "        }\n",
    "        set(value) {\n",
    "            val ratio = ancho / alto\n",
    "            val newDiag = value * inchesTocm\n",
    "            ancho = (newDiag * ratio) / Math.sqrt(1 + ratio * ratio)\n",
    "            alto = ancho / ratio\n",
    "        }\n",
    "}\n",
    "\n",
    "val tv = TV(ancho = 93.2, alto = 54.0)\n",
    "println(\"TV diagonal = ${tv.diagonal}\\\" [${tv.ancho} cm x ${tv.alto} cm]\")\n",
    "\n",
    "// cambiamos el valor de la diagonal --> cambia el ancho y alto manteniendo la relación de aspecto\n",
    "tv.diagonal = 50\n",
    "println(\"TV diagonal = ${tv.diagonal}\\\" [${tv.ancho} cm x ${tv.alto} cm]\")\n"
   ]
  }
 ],
 "metadata": {
  "kernelspec": {
   "display_name": "Kotlin",
   "language": "kotlin",
   "name": "kotlin"
  },
  "language_info": {
   "codemirror_mode": "text/x-kotlin",
   "file_extension": ".kt",
   "mimetype": "text/x-kotlin",
   "name": "kotlin",
   "nbconvert_exporter": "",
   "pygments_lexer": "kotlin",
   "version": "1.8.0-RC"
  },
  "varInspector": {
   "cols": {
    "lenName": 16,
    "lenType": 16,
    "lenVar": 40
   },
   "kernels_config": {
    "python": {
     "delete_cmd_postfix": "",
     "delete_cmd_prefix": "del ",
     "library": "var_list.py",
     "varRefreshCmd": "print(var_dic_list())"
    },
    "r": {
     "delete_cmd_postfix": ") ",
     "delete_cmd_prefix": "rm(",
     "library": "var_list.r",
     "varRefreshCmd": "cat(var_dic_list()) "
    }
   },
   "types_to_exclude": [
    "module",
    "function",
    "builtin_function_or_method",
    "instance",
    "_Feature"
   ],
   "window_display": false
  }
 },
 "nbformat": 4,
 "nbformat_minor": 5
}
