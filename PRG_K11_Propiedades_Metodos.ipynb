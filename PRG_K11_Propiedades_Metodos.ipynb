{
 "cells": [
  {
   "cell_type": "markdown",
   "id": "a4887e6b",
   "metadata": {},
   "source": [
    "# K11. Propiedades y Métodos\n",
    "---"
   ]
  },
  {
   "cell_type": "markdown",
   "id": "77c9fc24",
   "metadata": {},
   "source": [
    "Previamente, hemos introducido las **propiedades** como los miembros de datos (atributos) de las clases de Kotlin. Por ejemplo:"
   ]
  },
  {
   "cell_type": "code",
   "execution_count": 6,
   "id": "db80da90",
   "metadata": {},
   "outputs": [],
   "source": [
    "class Coche(val marca:String, val modelo: String, var color: String)"
   ]
  },
  {
   "cell_type": "markdown",
   "id": "fd71bfe4",
   "metadata": {},
   "source": [
    "La clase anterior declara tres propiedades en su constructor primario que se inicializarán durante la creación de sus diferentes instancias.\n",
    "\n",
    "<br>Las propiedades definen métodos de tipo **getter** y **setter** (en el caso de las variables) con implementaciones por defecto, pero podemos personalizarlas"
   ]
  },
  {
   "cell_type": "code",
   "execution_count": 8,
   "id": "76d00bc6",
   "metadata": {},
   "outputs": [
    {
     "name": "stdout",
     "output_type": "stream",
     "text": [
      "coche: BMW X1 Blanco\n",
      "coche: BMW X1 Rojo\n"
     ]
    }
   ],
   "source": [
    "val c = Coche(\"BMW\", \"X1\", \"Blanco\")\n",
    "\n",
    "println(\"coche: ${c.marca} ${c.modelo} ${c.color}\")\n",
    "\n",
    "// no podemos cambiar el valor de una constante\n",
    "//c.modelo = \"X3\"\n",
    "\n",
    "c.color = \"Rojo\"\n",
    "\n",
    "println(\"coche: ${c.marca} ${c.modelo} ${c.color}\")"
   ]
  }
 ],
 "metadata": {
  "kernelspec": {
   "display_name": "Kotlin",
   "language": "kotlin",
   "name": "kotlin"
  },
  "language_info": {
   "codemirror_mode": "text/x-kotlin",
   "file_extension": ".kt",
   "mimetype": "text/x-kotlin",
   "name": "kotlin",
   "nbconvert_exporter": "",
   "pygments_lexer": "kotlin",
   "version": "1.7.20-dev-1299"
  },
  "varInspector": {
   "cols": {
    "lenName": 16,
    "lenType": 16,
    "lenVar": 40
   },
   "kernels_config": {
    "python": {
     "delete_cmd_postfix": "",
     "delete_cmd_prefix": "del ",
     "library": "var_list.py",
     "varRefreshCmd": "print(var_dic_list())"
    },
    "r": {
     "delete_cmd_postfix": ") ",
     "delete_cmd_prefix": "rm(",
     "library": "var_list.r",
     "varRefreshCmd": "cat(var_dic_list()) "
    }
   },
   "types_to_exclude": [
    "module",
    "function",
    "builtin_function_or_method",
    "instance",
    "_Feature"
   ],
   "window_display": false
  }
 },
 "nbformat": 4,
 "nbformat_minor": 5
}
