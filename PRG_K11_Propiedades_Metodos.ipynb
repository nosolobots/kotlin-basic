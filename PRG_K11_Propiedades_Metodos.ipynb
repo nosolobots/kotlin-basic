{
 "cells": [
  {
   "cell_type": "markdown",
   "id": "6ccb7467",
   "metadata": {
    "toc": true
   },
   "source": [
    "<h1>Table of Contents<span class=\"tocSkip\"></span></h1>\n",
    "<div class=\"toc\"><ul class=\"toc-item\"><li><span><a href=\"#K11.-Propiedades-y-Métodos\" data-toc-modified-id=\"K11.-Propiedades-y-Métodos-1\">K11. Propiedades y Métodos</a></span><ul class=\"toc-item\"><li><span><a href=\"#1.-Propiedades\" data-toc-modified-id=\"1.-Propiedades-1.1\">1. Propiedades</a></span><ul class=\"toc-item\"><li><span><a href=\"#Valores-por-defecto\" data-toc-modified-id=\"Valores-por-defecto-1.1.1\">Valores por defecto</a></span></li><li><span><a href=\"#Inicializador-de-Propiedades\" data-toc-modified-id=\"Inicializador-de-Propiedades-1.1.2\">Inicializador de Propiedades</a></span></li><li><span><a href=\"#Constructores-secundarios\" data-toc-modified-id=\"Constructores-secundarios-1.1.3\">Constructores secundarios</a></span></li><li><span><a href=\"#Accesores-personalizados\" data-toc-modified-id=\"Accesores-personalizados-1.1.4\">Accesores personalizados</a></span></li></ul></li><li><span><a href=\"#1.2.-Propiedades-Delegadas\" data-toc-modified-id=\"1.2.-Propiedades-Delegadas-1.2\">1.2. Propiedades Delegadas</a></span><ul class=\"toc-item\"><li><span><a href=\"#Propiedades-observables\" data-toc-modified-id=\"Propiedades-observables-1.2.1\">Propiedades observables</a></span></li><li><span><a href=\"#Limitar-el-valor-de-una-variable\" data-toc-modified-id=\"Limitar-el-valor-de-una-variable-1.2.2\">Limitar el valor de una variable</a></span></li><li><span><a href=\"#Propiedades-Lazy\" data-toc-modified-id=\"Propiedades-Lazy-1.2.3\">Propiedades <em>Lazy</em></a></span></li></ul></li><li><span><a href=\"#1.3.-Inicialización-tardía\" data-toc-modified-id=\"1.3.-Inicialización-tardía-1.3\">1.3. Inicialización tardía</a></span></li><li><span><a href=\"#1.4.-Propiedades-extendidas\" data-toc-modified-id=\"1.4.-Propiedades-extendidas-1.4\">1.4. Propiedades extendidas</a></span></li></ul></li></ul></div>"
   ]
  },
  {
   "cell_type": "markdown",
   "id": "a4887e6b",
   "metadata": {},
   "source": [
    "# K11. Propiedades y Métodos\n",
    "---"
   ]
  },
  {
   "cell_type": "markdown",
   "id": "1ebb4553",
   "metadata": {},
   "source": [
    "## 1. Propiedades\n",
    "---"
   ]
  },
  {
   "cell_type": "markdown",
   "id": "77c9fc24",
   "metadata": {},
   "source": [
    "Previamente, hemos introducido las **propiedades** como los miembros de datos (atributos) de las clases de Kotlin. Por ejemplo:"
   ]
  },
  {
   "cell_type": "code",
   "execution_count": null,
   "id": "db80da90",
   "metadata": {},
   "outputs": [],
   "source": [
    "class Coche(val marca:String, val modelo: String, var color: String)"
   ]
  },
  {
   "cell_type": "markdown",
   "id": "fd71bfe4",
   "metadata": {},
   "source": [
    "La clase anterior declara tres propiedades en su **constructor primario** que se inicializarán durante la creación de sus diferentes instancias.\n",
    "\n",
    "<br>Las propiedades definen métodos de tipo **getter** y, en el caso de las variables, tipo **setter** con implementaciones por defecto, pero podemos personalizarlas"
   ]
  },
  {
   "cell_type": "code",
   "execution_count": null,
   "id": "76d00bc6",
   "metadata": {},
   "outputs": [],
   "source": [
    "val c = Coche(\"BMW\", \"X1\", \"Blanco\")\n",
    "\n",
    "println(\"coche: ${c.marca} ${c.modelo} ${c.color}\")\n",
    "\n",
    "// no podemos cambiar el valor de una constante\n",
    "//c.modelo = \"X3\"\n",
    "\n",
    "c.color = \"Rojo\"\n",
    "\n",
    "println(\"coche: ${c.marca} ${c.modelo} ${c.color}\")"
   ]
  },
  {
   "cell_type": "markdown",
   "id": "fafe064f",
   "metadata": {},
   "source": [
    "### Valores por defecto"
   ]
  },
  {
   "cell_type": "markdown",
   "id": "5e3a1f73",
   "metadata": {},
   "source": [
    "En el ejemplo anterior, para crear una instancia de la clase coche, deberemos proporcionar valores para cada una de las tres propiedades definidas en el constructor primario de la clase. "
   ]
  },
  {
   "cell_type": "code",
   "execution_count": null,
   "id": "16f34d0e",
   "metadata": {
    "scrolled": true
   },
   "outputs": [],
   "source": [
    "// El siguiente código producirá un error\n",
    "val c2 = Coche()"
   ]
  },
  {
   "cell_type": "markdown",
   "id": "70b05542",
   "metadata": {},
   "source": [
    "En algún caso, nos interesará establecer un valor por defecto con el que inicializar un determinado atributo en caso de que no se proporcione. Del mismo modo que hacemos con los parámetros de las funciones con valores por defecto, asignaremos un valor al parámetro en cuestión. En este caso, no estaremos obligados a proporcionarlo en el momento de invocar el contructor de la clase"
   ]
  },
  {
   "cell_type": "code",
   "execution_count": null,
   "id": "2565e37b",
   "metadata": {
    "scrolled": true
   },
   "outputs": [],
   "source": [
    "class Coche(val marca:String, val modelo: String, var color: String = \"Blanco\")\n",
    "\n",
    "val c1 = Coche(\"Renault\", \"Clio\", \"Negro\")\n",
    "println(\"coche: ${c1.marca} ${c1.modelo} ${c1.color}\")\n",
    "\n",
    "// omitimos el valor para el color (se usará el valor por defecto)\n",
    "val c2 = Coche(\"Citroën\", \"C5\")\n",
    "println(\"coche: ${c2.marca} ${c2.modelo} ${c2.color}\")"
   ]
  },
  {
   "cell_type": "markdown",
   "id": "9a5c4d86",
   "metadata": {},
   "source": [
    "### Inicializador de Propiedades"
   ]
  },
  {
   "cell_type": "markdown",
   "id": "1f37a02c",
   "metadata": {},
   "source": [
    "Las propiedades también puede inicializarse fuera del constructor primario. Por ejemplo, podríamos reescribir la clase anterior de la siguiente manera:"
   ]
  },
  {
   "cell_type": "code",
   "execution_count": null,
   "id": "5db6b71c",
   "metadata": {},
   "outputs": [],
   "source": [
    "class Coche (val marca: String, val modelo: String, var color: String) \n",
    "{\n",
    "    init {\n",
    "        color = \"Blanco\"\n",
    "    }\n",
    "}\n",
    "\n",
    "// proporcionamos el valor para el color (se SOBREESCRIBIRÁ con el valor por defecto)\n",
    "val c1 = Coche(\"Renault\", \"Clio\", \"Negro\")\n",
    "println(\"coche: ${c1.marca} ${c1.modelo} ${c1.color}\")\n",
    "\n",
    "// omitimos el valor para el color (se usará el valor del inicializador)\n",
    "val c2 = Coche(\"Citroën\", \"C5\")\n",
    "println(\"coche: ${c2.marca} ${c2.modelo} ${c2.color}\")"
   ]
  },
  {
   "cell_type": "markdown",
   "id": "3a6e01ab",
   "metadata": {},
   "source": [
    "En el ejemplo anterior, **```init```** define un **bloque de inicialización** de propiedades, donde podemos establecer el valor de una propiedad siempre que sea variable (no constante). Las propiedades que se asignen dentro del bloque de inicialización, no necesitan que se proporcione un valor para ellas en el momento de crear el objeto. Es más, fíjate que el valor proporcionado se sobreescribe con el valor del inicializador (razón por la que no pueden definirse como constantes)"
   ]
  },
  {
   "cell_type": "markdown",
   "id": "f28a0883",
   "metadata": {},
   "source": [
    "### Constructores secundarios"
   ]
  },
  {
   "cell_type": "markdown",
   "id": "f6b81698",
   "metadata": {},
   "source": [
    "En Kotlin, al igual que en Java, podemos definir múltiples constructores (**constructores secundarios**) para inicializar los objetos de una clase a partir de distintos conjuntos de argumentos. De todas formas, al igual que ocurre en otros lenguajes como Python, el hecho de poder definir valores por defecto para las propiedades, hace que este conjunto de constructores no sea necesario.\n",
    "\n",
    "Para definir constructores, emplearemos la palabra reservada **```constructor```**. Además, estos constructores deben delegar en el constructor primario"
   ]
  },
  {
   "cell_type": "code",
   "execution_count": null,
   "id": "8f4db602",
   "metadata": {
    "scrolled": true
   },
   "outputs": [],
   "source": [
    "class Usuario(val nombre: String, var edad: Int) {\n",
    "    constructor(edad: Int): this(\"Anónimo\", edad) {\n",
    "        println(\"Creando usuario anónimo de $edad años\")\n",
    "    }\n",
    "    constructor(nombre: String): this(nombre, -1) {\n",
    "        println(\"Creando usuario $nombre sin edad\")\n",
    "    }\n",
    "    constructor(): this(\"Anónimo\", -1) {\n",
    "        println(\"Creando usuario anónimo sin edad\")\n",
    "    }\n",
    "    fun print() { println(\"Hola, soy $nombre y tengo $edad años\")}\n",
    "}"
   ]
  },
  {
   "cell_type": "code",
   "execution_count": null,
   "id": "c21950ac",
   "metadata": {},
   "outputs": [],
   "source": [
    "val u1 = Usuario(\"Bob\", 32)\n",
    "u1.print()\n",
    "\n",
    "val u2 = Usuario(\"Joe\")\n",
    "u2.print()\n",
    "\n",
    "val u3 = Usuario(17)\n",
    "u3.print()\n",
    "\n",
    "val u4 = Usuario()\n",
    "u4.print()"
   ]
  },
  {
   "cell_type": "markdown",
   "id": "55173d2b",
   "metadata": {},
   "source": [
    "Empleando valores por defecto, podríamos escribir la clase anterior de la siguiente manera:"
   ]
  },
  {
   "cell_type": "code",
   "execution_count": null,
   "id": "cffd1697",
   "metadata": {},
   "outputs": [],
   "source": [
    "class UsuarioDefault(val nombre: String = \"Anónimo\", var edad: Int = -1) {\n",
    "    fun print() { println(\"Hola, soy $nombre y tengo $edad años\")}\n",
    "}"
   ]
  },
  {
   "cell_type": "code",
   "execution_count": null,
   "id": "e4b1458f",
   "metadata": {},
   "outputs": [],
   "source": [
    "val u1 = UsuarioDefault(\"Bob\", 32)\n",
    "u1.print()\n",
    "\n",
    "val u2 = UsuarioDefault(nombre = \"Joe\")\n",
    "u2.print()\n",
    "\n",
    "val u3 = UsuarioDefault(edad = 17)\n",
    "u3.print()\n",
    "\n",
    "val u4 = UsuarioDefault()\n",
    "u4.print()"
   ]
  },
  {
   "cell_type": "markdown",
   "id": "a03eeb93",
   "metadata": {},
   "source": [
    "### Accesores personalizados"
   ]
  },
  {
   "cell_type": "markdown",
   "id": "37b012ff",
   "metadata": {},
   "source": [
    "En muchas ocasiones, las implementaciones por defecto de los accesores de nuestros parámetros serán suficientes. Podremos acceder al valor de los mismos, y modificarlos en el caso de que estén definidos como variables, empleando el operador punto (.). \n",
    "\n",
    "<br>Sin embargo, habrá ocasiones en que nos interese personalizar esos **getter** y **setter** porque debemos haceer un cálculo o proceso extra más allá de una simple lectura o asignación de valor. Evidentemente, en caso de añadir un _setter_, la propiedad debe declararse como variable.\n",
    "\n",
    "<br>En el siguiente ejemplo, además de las propiedades **```ancho```** y **```alto```** de la pantalla, definimos la propiedad **```diagonal```** con un _getter_ que nos devolverá la longitud de la diagonal obtenido a partir de las dos otras propiedades. **Fíjate** como, para acceder al valor de dicha propiedad, no invocamos directamente el nuevo _getter_, sino que seguimos accediendo a la propiedad directamente usando el operador punto (**.**) (el método **```get()```** se invocará \"por debajo\" de forma implícita)"
   ]
  },
  {
   "cell_type": "code",
   "execution_count": null,
   "id": "9c15b9ff",
   "metadata": {},
   "outputs": [],
   "source": [
    "data class TV(var ancho: Double, var alto: Double) {\n",
    "    val diagonal: Int \n",
    "        get() {\n",
    "            val cmToInches = 0.393701\n",
    "            val diag = Math.sqrt(ancho * ancho + alto * alto) * cmToInches\n",
    "            return diag.roundToInt()\n",
    "        }\n",
    "}"
   ]
  },
  {
   "cell_type": "code",
   "execution_count": null,
   "id": "816198fa",
   "metadata": {},
   "outputs": [],
   "source": [
    "val LG42 = TV(ancho = 93.2, alto = 54.0)\n",
    "println(\"TV LG OLED42 diagonal = ${LG42.diagonal}\\\"\")"
   ]
  },
  {
   "cell_type": "markdown",
   "id": "d7073792",
   "metadata": {},
   "source": [
    "La propiedad **```diagonal```** anterior es de **sólo lectura**. Vamos a modificarla para que se pueda modificar. Para ello, la vamos a convertir en variable (var). Además, un cambio de la diagonal va a suponer que tengamos que modificar el **```ancho```** y **```alto```** de la televisión manteniendo la relación de aspecto, por lo que añadiremode un _setter_ personalizado para realizar dicho proceso. El _setter_ correspondiente tendrá un parámetro (value) a través del cual proporcionaremos el nuevo valor de la diagonal. Nuevamente, **fíjate** como, de forma similar al caso del _getter_ personalizado, el _setter_ no se invoca directamente, sino que se llama de forma implícita en el momento que hacemos la asignación de un valor a la propiedad."
   ]
  },
  {
   "cell_type": "code",
   "execution_count": null,
   "id": "c0013e1c",
   "metadata": {},
   "outputs": [],
   "source": [
    "data class TV(var ancho: Double, var alto: Double) {\n",
    "    val cmToinches = 0.393701\n",
    "    val inchesTocm = 2.54\n",
    "    var diagonal: Int \n",
    "        get() {\n",
    "            val diag = Math.sqrt(ancho * ancho + alto * alto) * cmToinches\n",
    "            return diag.roundToInt()\n",
    "        }\n",
    "        set(value) {\n",
    "            val ratio = ancho / alto\n",
    "            val newDiag = value * inchesTocm\n",
    "            ancho = (newDiag * ratio) / Math.sqrt(1 + ratio * ratio)\n",
    "            alto = ancho / ratio\n",
    "        }\n",
    "}\n",
    "\n",
    "val tv = TV(ancho = 93.2, alto = 54.0)\n",
    "println(\"TV diagonal = ${tv.diagonal}\\\" [${tv.ancho} cm x ${tv.alto} cm]\")\n",
    "\n",
    "// cambiamos el valor de la diagonal --> cambia el ancho y alto manteniendo la relación de aspecto\n",
    "tv.diagonal = 50\n",
    "println(\"TV diagonal = ${tv.diagonal}\\\" [${tv.ancho} cm x ${tv.alto} cm]\")\n"
   ]
  },
  {
   "cell_type": "markdown",
   "id": "c578d464",
   "metadata": {},
   "source": [
    "## 1.2. Propiedades Delegadas\n",
    "---"
   ]
  },
  {
   "cell_type": "markdown",
   "id": "89fccaae",
   "metadata": {},
   "source": [
    "Hemos visto como inicializar y actualizar nuestras propiedades de forma básica, por ejemplo mediante un valor por defecto o mediante un método accesor personalizado.\n",
    "\n",
    "<br>Sin embargo, en ocasiones tendremos que realizar inicializaciones más complejas delegando la inicialización en otro objeto o retardando la misma. También podríamos querer \"monitorizar\" cuando se produce un cambio en una propiedad. \n",
    "\n",
    "<br>La librería estándar de Kotlin proporciona varios métodos para definir estas **propiedades delegadas** mediante el empleo de la palabra reservada **```by```**\n",
    "\n",
    "<br>\n",
    "\n",
    "```kotlin\n",
    "class Ejemplo {\n",
    "    var p: String by Delegate()\n",
    "}\n",
    "```\n",
    "    \n",
    "<br>Aquí, **Delegate()** representa un objeto de una clase que será el encargado de proporcionar los métodos accesores para la propiedad **p**. Es decir, en lugar de usar los suyos propios, \"delega\" el acceso a los métodos **```getValue()```** y **```setValue()```** que debe proporcionar la clase **Delegate**\n",
    "\n",
    "<br>Aunque podríamos hacer nuestras propias implementaciones, Kotlin ya nos proporciona una serie de funciones para los tipos de delegados más comunes. Para poder usarlas, deberemos importarlas"
   ]
  },
  {
   "cell_type": "code",
   "execution_count": null,
   "id": "f02ecb61",
   "metadata": {},
   "outputs": [],
   "source": [
    "import kotlin.properties.Delegates"
   ]
  },
  {
   "cell_type": "markdown",
   "id": "82b51b79",
   "metadata": {},
   "source": [
    "### Propiedades observables"
   ]
  },
  {
   "cell_type": "markdown",
   "id": "fb6f67ad",
   "metadata": {},
   "source": [
    "Las propiedades observables son aquellas para las que definimos **_listeners_** o funciones de **_callback_** que serán invocadas cada vez que se produzca un cambio en el valor de la misma.\n",
    "\n",
    "<br>Podemos crear este tipo de _listeners_ mediante **```Delegates.observable()```**. Éste acepta dos parámetros, un valor inicial para la propiedad y una función (_lambda_) que será invocada cada vez que haya una modificación del valor la propiedad. Este _lambda_ tendrá tres parámetros: la propiedad observada, el antiguo valor y el nuevo valor.\n",
    "\n",
    "<br>En el siguiente ejemplo, cada vez que cambiemos el nombre del usuario se invocará el _lambda_ que imprime un mensaje con el cambio"
   ]
  },
  {
   "cell_type": "code",
   "execution_count": null,
   "id": "d4bf52f4",
   "metadata": {},
   "outputs": [],
   "source": [
    "class Usuario {\n",
    "    var nombre: String by Delegates.observable(\"<sin nombre>\") {\n",
    "        prop, old, new ->\n",
    "        println(\"Cambio de nombre: $old -> $new\")\n",
    "    }\n",
    "}"
   ]
  },
  {
   "cell_type": "code",
   "execution_count": null,
   "id": "f590a10a",
   "metadata": {},
   "outputs": [],
   "source": [
    "val user = Usuario()\n",
    "user.nombre = \"first\"\n",
    "user.nombre = \"second\""
   ]
  },
  {
   "cell_type": "markdown",
   "id": "51af898d",
   "metadata": {},
   "source": [
    "### Limitar el valor de una variable"
   ]
  },
  {
   "cell_type": "markdown",
   "id": "3ce53236",
   "metadata": {},
   "source": [
    "Podemos emplear observables para limitar el valor de una variable. En este caso, emplearemos **```Delegates.vetoable()```** que se invoca antes de producir el cambio en el valor. Este _lambda_ devolverá un valor booleano indicando si se procede a la modificación del valor o no."
   ]
  },
  {
   "cell_type": "code",
   "execution_count": null,
   "id": "7ed81983",
   "metadata": {},
   "outputs": [],
   "source": [
    "class MotorE {\n",
    "    val MAX_VOLTAGE = 6\n",
    "    \n",
    "    var voltage by Delegates.vetoable(0.0) {\n",
    "        // no necesitamos ni la propiedad ni el valor antiguo, por eso usamos _\n",
    "        _, _, new -> \n",
    "        if (new > MAX_VOLTAGE) {\n",
    "            println(\"Voltaje demasiado alto (cambio no realizado)\")\n",
    "            false\n",
    "        }\n",
    "        else {\n",
    "            true\n",
    "        }\n",
    "    }\n",
    "    \n",
    "    fun printVoltage() {\n",
    "        println(\"Voltaje actual: $voltage\")\n",
    "    }\n",
    "}"
   ]
  },
  {
   "cell_type": "code",
   "execution_count": null,
   "id": "fc306106",
   "metadata": {
    "scrolled": true
   },
   "outputs": [],
   "source": [
    "val motor = MotorE()\n",
    "motor.printVoltage()\n",
    "\n",
    "motor.voltage = 5.5\n",
    "motor.printVoltage()\n",
    "\n",
    "motor.voltage = 12.0\n",
    "motor.printVoltage()"
   ]
  },
  {
   "cell_type": "markdown",
   "id": "d9392617",
   "metadata": {},
   "source": [
    "### Propiedades _Lazy_"
   ]
  },
  {
   "cell_type": "markdown",
   "id": "2cab591f",
   "metadata": {},
   "source": [
    "En ocasiones, definimos propiedades que necesitan un tiempo de proceso considerable (por ejemplo, la descarga de una imagen de perfil de usuario). En estos casos, en lugar de ralentizar la creación del objeto, podemos diferir dicho proceso hasta el momento en que realmente necesitemos acceder a dicha propiedad. Es lo que conocemos como **_lazy properties_**.\n",
    "\n",
    "<br>El delegado **```lazy```** nos permite definir un _lambda_ que se invocará la primera vez que necesitemos acceder al valor de la propiedad, recordando dicho valor en posteriores accesos. Este _lambda_ no recibe ningún parámetro"
   ]
  },
  {
   "cell_type": "code",
   "execution_count": null,
   "id": "434b33a1",
   "metadata": {},
   "outputs": [],
   "source": [
    "class Circulo(var radio: Double = 0.0) {\n",
    "    val pi: Double by lazy {\n",
    "        // calculamos el valor de PI\n",
    "        println(\"calculando PI...\")\n",
    "        ((4.0 * Math.atan(1.0 / 5.0)) - Math.atan(1.0 / 230.0)) * 4.0\n",
    "    }\n",
    "    \n",
    "    val perimetro: Double\n",
    "        get() = 2 * pi * radio\n",
    "}"
   ]
  },
  {
   "cell_type": "code",
   "execution_count": null,
   "id": "e62cfccf",
   "metadata": {
    "scrolled": true
   },
   "outputs": [],
   "source": [
    "val c = Circulo(5.0)\n",
    "\n",
    "// para calcular el diámetro, necesita calcular el valor de PI\n",
    "println(\"Diametro = ${c.perimetro}\")\n",
    "\n",
    "// cambiamos el radio y recalculamos el diámetro (ya no necesita calcular PI otra vez)\n",
    "c.radio = 10.0\n",
    "println(\"Diametro = ${c.perimetro}\")"
   ]
  },
  {
   "cell_type": "markdown",
   "id": "89165c02",
   "metadata": {},
   "source": [
    "## 1.3. Inicialización tardía\n",
    "---"
   ]
  },
  {
   "cell_type": "markdown",
   "id": "33a0991b",
   "metadata": {},
   "source": [
    "Hasta ahora, las propiedades de nuestras clases tienen un valor de inicialización proporcionado a través del constructor o un valor por defecto. Si queremos que una propiedad no tenga necesariamente un valor en el momento de crear una instancia de la clase, la podemos \"marcar\" con la palabra reservada **```lateinit```**, de forma que podamos asignarle un valor una vez creado el objeto.\n",
    "\n",
    "<br>Debemos tener presente lo siguiente:\n",
    "\n",
    "- Debemos definir la propiedad como **variable**\n",
    "- No podemos acceder a la propiedad hasta que le hayamos asignado un valor. En caso de hacerlo, se producirá un error."
   ]
  },
  {
   "cell_type": "code",
   "execution_count": null,
   "id": "9279fe5e",
   "metadata": {},
   "outputs": [],
   "source": [
    "data class Bombilla(val temp: Double, val watt: Double, var state: Boolean = false) \n",
    "class Lampara() {\n",
    "    lateinit var bombilla: Bombilla\n",
    "    fun switch() { bombilla.state = !bombilla.state }\n",
    "}"
   ]
  },
  {
   "cell_type": "code",
   "execution_count": null,
   "id": "3ba08f33",
   "metadata": {},
   "outputs": [],
   "source": [
    "// creamos una lampara\n",
    "val lamp = Lampara()\n",
    "\n",
    "// si accedemos a la propiedad bombilla, se producirá un error\n",
    "//lamp.switch()\n",
    "\n",
    "// añadimos una bombilla\n",
    "lamp.bombilla = Bombilla(temp = 2700.0, watt = 6.0)\n",
    "\n",
    "// ahora podemos acceder a la propiedad\n",
    "println(if (lamp.bombilla.state) \"on\" else \"off\")\n",
    "lamp.switch()\n",
    "println(if (lamp.bombilla.state) \"on\" else \"off\")"
   ]
  },
  {
   "cell_type": "markdown",
   "id": "ed381413",
   "metadata": {},
   "source": [
    "## 1.4. Propiedades extendidas\n",
    "---"
   ]
  },
  {
   "cell_type": "markdown",
   "id": "90c60a0b",
   "metadata": {},
   "source": [
    "Kotlin nos permite añadir nuevas propiedades a clases existentes (por ejemplo, las proporcionadas por una librería) sin necesidad de modificar su definición (algo que, salvo que dispongamos del código fuente de la clase, no podríamos hacer). Son las denominadas **propiedades extendidas**.\n",
    "\n",
    "<br>Para ello, simplemente creamos la nueva propiedad con su nombre añadido al nombre de la clase. Por ejemplo, a nuestra anterior clase **```Circulo```** podríamos añadirle una nueva propiedad que nos devuelva el **diametro**:"
   ]
  },
  {
   "cell_type": "code",
   "execution_count": null,
   "id": "2527f06b",
   "metadata": {},
   "outputs": [],
   "source": [
    "// creamos una propiedad extendida de la clase Circulo\n",
    "val Circulo.diametro: Double\n",
    "    get() = 2.0 * radio\n",
    "\n",
    "val c = Circulo(3.0)\n",
    "\n",
    "// ahora, podemos obtener el diámetro del círculo usando la nueva propiedad\n",
    "c.diametro"
   ]
  },
  {
   "cell_type": "markdown",
   "id": "5167c634",
   "metadata": {},
   "source": [
    "## 2. Métodos\n",
    "---"
   ]
  },
  {
   "cell_type": "markdown",
   "id": "c83b5e71",
   "metadata": {},
   "source": [
    "Como ya sabemos, los métodos no son más que funciones definidas dentro de una clase. Si acaso, su única particularidad es que a través de la palabra reservada **```this```** reciben, de forma implícita, una referencia al propio objeto desde el que son invocadas. Utilizando esta referencia, el método tiene acceso al estado interno del objeto (propiedades). De todas formas, resaltar que, al igual que ocurre en Java, no es obligatorio utilizar dicha referencia **```this```** para acceder a los atributos del objeto. "
   ]
  },
  {
   "cell_type": "code",
   "execution_count": null,
   "id": "a16a988a",
   "metadata": {},
   "outputs": [],
   "source": [
    "class Robot(var x: Double = 0.0, var y: Double = 0.0, var speed: Double = 0.0) {\n",
    "    fun moveRight() {\n",
    "        this.x += speed;\n",
    "    }\n",
    "    fun moveLeft() {\n",
    "        x -= speed;\n",
    "    }\n",
    "    fun moveUp() {\n",
    "        this.y += speed\n",
    "    }\n",
    "    fun moveDown() {\n",
    "        y -= speed\n",
    "    }\n",
    "    \n",
    "    fun whereAreYou() = \"[Robot: pos ($x, $y); vel: $speed]\"\n",
    "}"
   ]
  },
  {
   "cell_type": "code",
   "execution_count": null,
   "id": "5c75be84",
   "metadata": {},
   "outputs": [],
   "source": [
    "val robbie = Robot()\n",
    "println(robbie.whereAreYou())\n",
    "\n",
    "\n",
    "robbie.speed = 2.5\n",
    "robbie.moveRight()\n",
    "robbie.moveRight()\n",
    "robbie.moveUp()\n",
    "println(robbie.whereAreYou())"
   ]
  },
  {
   "cell_type": "markdown",
   "id": "cb5ae2c5",
   "metadata": {},
   "source": [
    "### 2.1 Métodos extendidos\n",
    "---"
   ]
  },
  {
   "cell_type": "markdown",
   "id": "d8f29c5b",
   "metadata": {},
   "source": [
    "De forma similar a las propiedades extendidas vistas previamente, podemos añadir métodos a una clase sin tener que modificar su declaración.\n",
    "\n",
    "<br>Para ello, en la declaración del nuevo método, atenpondremos el nombre de la clase al suyo separados por el operador punto (**.**)"
   ]
  },
  {
   "cell_type": "code",
   "execution_count": null,
   "id": "4b779c19",
   "metadata": {
    "scrolled": true
   },
   "outputs": [],
   "source": [
    "// método extendido de la clase Círculo\n",
    "fun Circulo.print() {\n",
    "    println(\"[Circulo: radio = $radio]\")\n",
    "}\n",
    "\n",
    "val c = Circulo(2.5)\n",
    "c.print()"
   ]
  },
  {
   "cell_type": "markdown",
   "id": "a6dada48",
   "metadata": {},
   "source": [
    "## 3. Ejercicios\n",
    "---"
   ]
  },
  {
   "cell_type": "markdown",
   "id": "bb00bc63",
   "metadata": {},
   "source": [
    "1. \n",
    "Sobreescribe la siguiente clase para usar valores por defecto y inicialización _lazy_.\n",
    "\n",
    "```kotlin\n",
    "class IceCream {\n",
    "    val name: String\n",
    "    val ingredients: ArrayList<String>\n",
    "}\n",
    "```\n",
    "\n",
    "- Usa un valor por defecto para la propiedad ```name```, por ejemplo \"IceCream\"\n",
    "- Inicializa de forma _lazy_ la lista de ingredientes"
   ]
  },
  {
   "cell_type": "code",
   "execution_count": null,
   "id": "fe1cb3d0",
   "metadata": {},
   "outputs": [],
   "source": [
    "// SOLUCIÓN\n"
   ]
  },
  {
   "cell_type": "code",
   "execution_count": null,
   "id": "cd3e6fb1",
   "metadata": {},
   "outputs": [],
   "source": [
    "// TEST\n",
    "// --> IceCream []\n",
    "val helado = IceCream()\n",
    "println(\"${helado.name} ${helado.ingredients}\")"
   ]
  },
  {
   "cell_type": "markdown",
   "id": "24c8767f",
   "metadata": {},
   "source": [
    "2. \n",
    "Partiendo de la clase Coche definida al principio del cuaderno: \n",
    "\n",
    "```kotlin\n",
    "class Coche(val marca:String, val modelo: String, var color: String)\n",
    "```\n",
    "\n",
    "vamos a añadirle una nueva propiedad llamada **deposito** de tipo **```FuelTank```**:\n",
    "\n",
    "```kotlin\n",
    "class FuelTank {\n",
    "    var level = 0.0 // porcentaje de llenado entre 0 y 1\n",
    "}\n",
    "```\n",
    "\n",
    "- Añade a FuelTank una propiedad **lowFuel** de tipo booleano\n",
    "- Activa **lowFuel** cuando el nivel de combustible descienda por debajo de 10%\n",
    "- El valor de **lowFuel** no puede ser inferior a 0.0\n",
    "- Asegúrate de desactivar **lowFuel** cuando se llena el depósito"
   ]
  },
  {
   "cell_type": "code",
   "execution_count": null,
   "id": "41a6f125",
   "metadata": {},
   "outputs": [],
   "source": [
    "// SOLUCIÓN\n",
    "import kotlin.properties.Delegates\n",
    "\n",
    "class Coche(val marca:String, val modelo: String, var color: String, val deposito: FuelTank = FuelTank())\n",
    "\n",
    "class FuelTank {\n",
    "    var lowFuel: Boolean = true\n",
    "    var level by Delegates.vetoable(0.0) {\n",
    "        _, _, new ->\n",
    "        if (new >= 0.0) {\n",
    "            lowFuel = if (new < 0.1) true else false\n",
    "            true\n",
    "        }\n",
    "        else \n",
    "            false\n",
    "    }\n",
    "}"
   ]
  },
  {
   "cell_type": "code",
   "execution_count": null,
   "id": "0f42b350",
   "metadata": {},
   "outputs": [],
   "source": [
    "// TESTS\n",
    "val c = Coche(marca=\"Kia\", modelo=\"Niro\", color=\"Rojo\")\n",
    "\n",
    "// --> 0.0 true\n",
    "println(\"${c.deposito.level} ${c.deposito.lowFuel}\")\n",
    "\n",
    "// --> 0.0 true\n",
    "c.deposito.level = -1.0\n",
    "println(\"${c.deposito.level} ${c.deposito.lowFuel}\")\n",
    "\n",
    "// --> 0.5 false\n",
    "c.deposito.level = 0.5\n",
    "println(\"${c.deposito.level} ${c.deposito.lowFuel}\")\n",
    "\n",
    "// -->\n",
    "// 0.38 false\n",
    "// 0.26 false\n",
    "// 0.14 false\n",
    "\n",
    "repeat(3) {\n",
    "    c.deposito.level -= 0.12\n",
    "    println(\"${c.deposito.level} ${c.deposito.lowFuel}\")\n",
    "}"
   ]
  },
  {
   "cell_type": "markdown",
   "id": "de55f5ec",
   "metadata": {},
   "source": [
    "3. \n",
    "Dada la siguiente clase:\n",
    "\n",
    "```kotlin\n",
    "import kotlin.math.PI\n",
    "\n",
    "class Circle(var radius: Double = 0.0) {\n",
    "    val area: Double \n",
    "        get() {\n",
    "            return PI * radius * radius\n",
    "        }\n",
    "}       \n",
    "    \n",
    "```\n",
    "\n",
    "Añádele un método de forma que se pueda cambiar el área por un factor de crecimiento. Por ejemplo, si se invoca **```circle.grow(factor = 3)```** el área de la instancia será el triple de la actual\n",
    "\n",
    "<br>**PISTA:** convierte ```area``` en una variable y añadele un _setter_"
   ]
  },
  {
   "cell_type": "code",
   "execution_count": null,
   "id": "1fad1ac5",
   "metadata": {},
   "outputs": [],
   "source": [
    "// SOLUCIÓN\n"
   ]
  },
  {
   "cell_type": "code",
   "execution_count": null,
   "id": "f80d6398",
   "metadata": {},
   "outputs": [],
   "source": [
    "// TESTS\n",
    "// -->\n",
    "// 50,27\n",
    "// 100,53\n",
    "val c = Circle(4.0)\n",
    "println(\"%.2f\".format(c.area))\n",
    "c.grow(factor = 2.0)\n",
    "println(\"%.2f\".format(c.area))"
   ]
  },
  {
   "cell_type": "markdown",
   "id": "d82fc5e9",
   "metadata": {},
   "source": [
    "4. \n",
    "Añade los métodos **```esPar()```** y **```esImpar()```** al tipo **```Int```** que devolverán un booleano indicando la naturaleza del número en cuestión"
   ]
  },
  {
   "cell_type": "code",
   "execution_count": null,
   "id": "b98e2a9c",
   "metadata": {},
   "outputs": [],
   "source": [
    "// SOLUCIÓN\n"
   ]
  },
  {
   "cell_type": "code",
   "execution_count": null,
   "id": "4fcf4f8c",
   "metadata": {},
   "outputs": [],
   "source": [
    "// TEST 1\n",
    "// --> true\n",
    "println(2.esPar())\n",
    "\n",
    "// TEST 2\n",
    "// --> true\n",
    "println(53.esImpar())\n",
    "\n",
    "// TEST 3\n",
    "// --> false\n",
    "var n1 = 5\n",
    "println(n1.esPar())"
   ]
  },
  {
   "cell_type": "markdown",
   "id": "2c6788d8",
   "metadata": {},
   "source": [
    "### Soluciones\n",
    "---"
   ]
  },
  {
   "cell_type": "markdown",
   "id": "2358e336",
   "metadata": {},
   "source": [
    "##### 1.\n",
    "```kotlin\n",
    "class IceCream {\n",
    "    val name: String\n",
    "    val ingredients: ArrayList<String> by lazy {\n",
    "        ArrayList<String>()\n",
    "    }\n",
    "    \n",
    "    init {\n",
    "        name = \"IceCream\"\n",
    "    }\n",
    "}\n",
    "```"
   ]
  },
  {
   "cell_type": "markdown",
   "id": "8334c78c",
   "metadata": {},
   "source": [
    "##### 2.\n",
    "```kotlin\n",
    "import kotlin.properties.Delegates\n",
    "\n",
    "class Coche(val marca:String, val modelo: String, var color: String, val deposito: FuelTank = FuelTank())\n",
    "\n",
    "class FuelTank {\n",
    "    var lowFuel: Boolean = true\n",
    "    var level by Delegates.vetoable(0.0) {\n",
    "        _, _, new ->\n",
    "        if (new >= 0.0) {\n",
    "            lowFuel = if (new < 0.1) true else false\n",
    "            true\n",
    "        }\n",
    "        else \n",
    "            false\n",
    "    }\n",
    "}\n",
    "```"
   ]
  },
  {
   "cell_type": "markdown",
   "id": "6b68f76d",
   "metadata": {},
   "source": [
    "##### 3.\n",
    "```kotlin\n",
    "class Circle(var radius: Double = 0.0) {\n",
    "    var area: Double \n",
    "        get() = PI * radius * radius\n",
    "        set(value) {\n",
    "            radius = sqrt(value / PI)\n",
    "        }\n",
    "        \n",
    "        fun grow(factor: Double) {\n",
    "            area *= factor\n",
    "        }\n",
    "}\n",
    "```"
   ]
  },
  {
   "cell_type": "markdown",
   "id": "10fb3ef7",
   "metadata": {},
   "source": [
    "##### 4.\n",
    "```kotlin\n",
    "fun Int.esPar() = this % 2 == 0\n",
    "fun Int.esImpar() = !this.esPar()\n",
    "```"
   ]
  }
 ],
 "metadata": {
  "kernelspec": {
   "display_name": "Kotlin",
   "language": "kotlin",
   "name": "kotlin"
  },
  "language_info": {
   "codemirror_mode": "text/x-kotlin",
   "file_extension": ".kt",
   "mimetype": "text/x-kotlin",
   "name": "kotlin",
   "nbconvert_exporter": "",
   "pygments_lexer": "kotlin",
   "version": "1.7.20-dev-1299"
  },
  "toc": {
   "base_numbering": 1,
   "nav_menu": {},
   "number_sections": false,
   "sideBar": true,
   "skip_h1_title": false,
   "title_cell": "Table of Contents",
   "title_sidebar": "Contents",
   "toc_cell": true,
   "toc_position": {},
   "toc_section_display": true,
   "toc_window_display": false
  },
  "varInspector": {
   "cols": {
    "lenName": 16,
    "lenType": 16,
    "lenVar": 40
   },
   "kernels_config": {
    "python": {
     "delete_cmd_postfix": "",
     "delete_cmd_prefix": "del ",
     "library": "var_list.py",
     "varRefreshCmd": "print(var_dic_list())"
    },
    "r": {
     "delete_cmd_postfix": ") ",
     "delete_cmd_prefix": "rm(",
     "library": "var_list.r",
     "varRefreshCmd": "cat(var_dic_list()) "
    }
   },
   "types_to_exclude": [
    "module",
    "function",
    "builtin_function_or_method",
    "instance",
    "_Feature"
   ],
   "window_display": false
  }
 },
 "nbformat": 4,
 "nbformat_minor": 5
}
