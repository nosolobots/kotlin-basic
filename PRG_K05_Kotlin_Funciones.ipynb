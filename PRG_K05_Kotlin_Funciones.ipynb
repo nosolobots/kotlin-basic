{
 "cells": [
  {
   "cell_type": "markdown",
   "id": "840c00a8",
   "metadata": {
    "toc": true
   },
   "source": [
    "<h1>Table of Contents<span class=\"tocSkip\"></span></h1>\n",
    "<div class=\"toc\"><ul class=\"toc-item\"><li><span><a href=\"#K05.-Funciones\" data-toc-modified-id=\"K05.-Funciones-1\">K05. Funciones</a></span><ul class=\"toc-item\"><li><span><a href=\"#Declaración\" data-toc-modified-id=\"Declaración-1.1\">Declaración</a></span></li><li><span><a href=\"#Parámetros\" data-toc-modified-id=\"Parámetros-1.2\">Parámetros</a></span></li><li><span><a href=\"#Valor-de-Retorno\" data-toc-modified-id=\"Valor-de-Retorno-1.3\">Valor de Retorno</a></span></li><li><span><a href=\"#Sobrecarga-de-Funciones\" data-toc-modified-id=\"Sobrecarga-de-Funciones-1.4\">Sobrecarga de Funciones</a></span></li><li><span><a href=\"#Funciones-como-Variables\" data-toc-modified-id=\"Funciones-como-Variables-1.5\">Funciones como Variables</a></span><ul class=\"toc-item\"><li><span><a href=\"#Referencia-a-la-función\" data-toc-modified-id=\"Referencia-a-la-función-1.5.1\">Referencia a la función</a></span></li><li><span><a href=\"#Funciones-Anónimas-y-Expresiones-Lambda\" data-toc-modified-id=\"Funciones-Anónimas-y-Expresiones-Lambda-1.5.2\">Funciones Anónimas y Expresiones Lambda</a></span></li></ul></li><li><span><a href=\"#Funciones-sin-Retorno\" data-toc-modified-id=\"Funciones-sin-Retorno-1.6\">Funciones sin Retorno</a></span></li><li><span><a href=\"#Ejercicios\" data-toc-modified-id=\"Ejercicios-1.7\">Ejercicios</a></span><ul class=\"toc-item\"><li><span><a href=\"#Soluciones\" data-toc-modified-id=\"Soluciones-1.7.1\">Soluciones</a></span></li></ul></li></ul></li></ul></div>"
   ]
  },
  {
   "cell_type": "markdown",
   "id": "350fcb07",
   "metadata": {},
   "source": [
    "# K05. Funciones\n",
    "---"
   ]
  },
  {
   "cell_type": "markdown",
   "id": "98735c4f",
   "metadata": {},
   "source": [
    "## Declaración\n",
    "---"
   ]
  },
  {
   "cell_type": "markdown",
   "id": "d9cd0e10",
   "metadata": {},
   "source": [
    "Las funciones son parte central de muchos lenguajes de programación. En esencia, nos permiten definir bloques de código que realizan una determinada tarea. Dichos bloques podrán ser invocados desde diferentes puntos de nuestra aplicación cada vez que lo necesitemos.\n",
    "\n",
    "<br>Supongamos una función que imprima nuestro nombre. La podríamos crear de la siguiente manera:"
   ]
  },
  {
   "cell_type": "code",
   "execution_count": null,
   "id": "69c88c19",
   "metadata": {},
   "outputs": [],
   "source": [
    "fun printMyName() {\n",
    "    println(\"Mi nombre es Johne Doe\")\n",
    "}"
   ]
  },
  {
   "cell_type": "markdown",
   "id": "9ad5ec20",
   "metadata": {},
   "source": [
    "El código anterior muestra la **declaración** de una función simple en Kotlin, sin parámetros ni valor de retorno. Para definir dichas funciones, usamos la palabra reservada **```fun```** seguida por el **nombre** de la misma. A continuación, unos parántesis nos permitirán definir su lista de **parámetros** (ninguno en este caso). Por último, el **bloque** de código de la función encerrado entre llaves\n",
    "\n",
    "<br>\n",
    "\n",
    "El formato general de dicha declaración sería:\n",
    "\n",
    "```\n",
    "fun nombreFunc(lista_params): tipo_retorno {\n",
    "    bloque_codigo\n",
    "}\n",
    "```\n",
    "\n",
    "<br>Una vez declarada, para ejecutar dicha función, no tenemos más que invocar su nombre desde algún punto de nuestro programa:"
   ]
  },
  {
   "cell_type": "code",
   "execution_count": null,
   "id": "6e838705",
   "metadata": {},
   "outputs": [],
   "source": [
    "printMyName()"
   ]
  },
  {
   "cell_type": "markdown",
   "id": "b4df001e",
   "metadata": {},
   "source": [
    "## Parámetros\n",
    "---"
   ]
  },
  {
   "cell_type": "markdown",
   "id": "37160403",
   "metadata": {},
   "source": [
    "Por ejemplo, considera la siguiente versión de la función anterior:"
   ]
  },
  {
   "cell_type": "code",
   "execution_count": null,
   "id": "8381f7aa",
   "metadata": {},
   "outputs": [],
   "source": [
    "fun printMyName(name: String) {\n",
    "    println(\"Mi nombre es $name\")\n",
    "}"
   ]
  },
  {
   "cell_type": "markdown",
   "id": "62e847d3",
   "metadata": {},
   "source": [
    "En este caso, se ha definido un parámetro (**name**), de tipo ```String```, a través del cual podemos pasarle a dicha función el nombre a imprimir"
   ]
  },
  {
   "cell_type": "code",
   "execution_count": null,
   "id": "3ed07637",
   "metadata": {},
   "outputs": [],
   "source": [
    "printMyName(\"John Doe\")"
   ]
  },
  {
   "cell_type": "markdown",
   "id": "ef752c1a",
   "metadata": {},
   "source": [
    "En Kotlin, los parámetros de las funciones son **constantes**, por lo que no pueden ser reasignados. Por ejemplo, la siguiente declaración producirá un error:"
   ]
  },
  {
   "cell_type": "code",
   "execution_count": null,
   "id": "371b3be5",
   "metadata": {
    "scrolled": true
   },
   "outputs": [],
   "source": [
    "fun noFunciona(x: Int) {\n",
    "    x = 3\n",
    "    println(x)\n",
    "}"
   ]
  },
  {
   "cell_type": "markdown",
   "id": "c980ed53",
   "metadata": {},
   "source": [
    "Podremos definir todos los parámetros que necesitemos:"
   ]
  },
  {
   "cell_type": "code",
   "execution_count": null,
   "id": "0e999927",
   "metadata": {},
   "outputs": [],
   "source": [
    "fun multipleOf(mult:Int, value: Int) {\n",
    "    println(\"$mult * $value = ${mult * value}\")\n",
    "}"
   ]
  },
  {
   "cell_type": "markdown",
   "id": "df003bfd",
   "metadata": {},
   "source": [
    "Para invocar la función anterior, tendremos que pasar un argumento por cada uno de sus parámetros, que serán asignados según el orden de la lista:"
   ]
  },
  {
   "cell_type": "code",
   "execution_count": null,
   "id": "b6079f26",
   "metadata": {},
   "outputs": [],
   "source": [
    "multipleOf(4, 2)"
   ]
  },
  {
   "cell_type": "markdown",
   "id": "04e385ee",
   "metadata": {},
   "source": [
    "Kotlin nos permite emplear los nombres de los parámetros en la invocación del método (**_named arguments_**), con lo cual podremos pasar los argumentos en el orden que queramos. Además, esto suele mejorar la legibilidad del código:"
   ]
  },
  {
   "cell_type": "code",
   "execution_count": null,
   "id": "276eec8c",
   "metadata": {},
   "outputs": [],
   "source": [
    "multipleOf(value = 2, mult = 4)"
   ]
  },
  {
   "cell_type": "markdown",
   "id": "e699d6ce",
   "metadata": {},
   "source": [
    "Kotlin nos permite también definir **valores por defecto** para los parámetros de la función"
   ]
  },
  {
   "cell_type": "code",
   "execution_count": null,
   "id": "8f62f72a",
   "metadata": {},
   "outputs": [],
   "source": [
    "fun multipleOf(mult:Int = 1, value: Int) {\n",
    "    println(\"$mult * $value = ${mult * value}\")\n",
    "}"
   ]
  },
  {
   "cell_type": "markdown",
   "id": "e02a42f5",
   "metadata": {},
   "source": [
    "Así, en caso de que omitamos dicho argumento en la llamada al método, se utilizará el valor por defecto"
   ]
  },
  {
   "cell_type": "code",
   "execution_count": null,
   "id": "fe70fa21",
   "metadata": {},
   "outputs": [],
   "source": [
    "multipleOf(4, 2)\n",
    "multipleOf(value = 2)"
   ]
  },
  {
   "cell_type": "markdown",
   "id": "25a24773",
   "metadata": {},
   "source": [
    "Aunque no es extricatemente obligatorio, es conveniente poner al final de la lista de parámetros aquellos que tienen valor por defecto. En caso contrario, podrían quedarnos parámetros obligatorios (sin valor por defecto) sin asignar en la invocación. Por ejemplo, el siguiente código producirá un error al quedar el parámetro ```value``` (que no tienen valor por defecto, sin asignar"
   ]
  },
  {
   "cell_type": "code",
   "execution_count": null,
   "id": "59226331",
   "metadata": {},
   "outputs": [],
   "source": [
    "// el argumento 2 se asigna al parámetro mult y value queda sin asignar\n",
    "multipleOf(2)"
   ]
  },
  {
   "cell_type": "markdown",
   "id": "61f05f50",
   "metadata": {},
   "source": [
    "Cambiando la declaración del método, poniendo los parámetros con valores por defecto al final, ya no tendremos el problema anterior:"
   ]
  },
  {
   "cell_type": "code",
   "execution_count": null,
   "id": "33cdd525",
   "metadata": {},
   "outputs": [],
   "source": [
    "fun multipleOf(value: Int, mult:Int = 1) {\n",
    "    println(\"$mult * $value = ${mult * value}\")\n",
    "}\n",
    "\n",
    "multipleOf(2)"
   ]
  },
  {
   "cell_type": "markdown",
   "id": "9d56cac6",
   "metadata": {},
   "source": [
    "## Valor de Retorno\n",
    "---\n"
   ]
  },
  {
   "cell_type": "markdown",
   "id": "f3ca0d36",
   "metadata": {},
   "source": [
    "Nuestras funciones podrán retornar un valor que podremos asignar a una variable (o constante) o usar en una expresión. \n",
    "\n",
    "<br>Para ello, en la declaración de la función, tendremos que indicar el tipo del valor devuelto añadiendo **:TIPO** después de la lista de parámetros\n",
    "\n",
    "<br>Dentro del bloque de código, emplearemos la sentencia ```return <VALUE>``` para salir de la función y devolver el valor correspondiente"
   ]
  },
  {
   "cell_type": "code",
   "execution_count": null,
   "id": "bf152320",
   "metadata": {},
   "outputs": [],
   "source": [
    "fun multipleOf(value: Int, mult:Int = 1): Int {\n",
    "    return value * mult\n",
    "}\n",
    "\n",
    "println(\"2 * 4 = ${multipleOf(2, 4)}\")"
   ]
  },
  {
   "cell_type": "markdown",
   "id": "ff35eec6",
   "metadata": {},
   "source": [
    "En Kotlin, es posible devolver más de un valor de forma sencilla empleando los tipos ```Pair``` y ```Triple```:"
   ]
  },
  {
   "cell_type": "code",
   "execution_count": null,
   "id": "7908cce8",
   "metadata": {},
   "outputs": [],
   "source": [
    "fun divide(dividendo: Int, divisor: Int): Pair<Int, Int> {\n",
    "    return Pair(dividendo / divisor, dividendo % divisor)\n",
    "}"
   ]
  },
  {
   "cell_type": "markdown",
   "id": "be41128f",
   "metadata": {},
   "source": [
    "Utilizado estas clases, podemos asignar simultaneamente los valores devueltos sobre varias variables/constantes sin necesidad de acceder explícitamente a sus miembros:"
   ]
  },
  {
   "cell_type": "code",
   "execution_count": null,
   "id": "237f14bc",
   "metadata": {},
   "outputs": [],
   "source": [
    "val dividendo = 7\n",
    "val divisor = 2\n",
    "\n",
    "val (cociente, resto) = divide(dividendo, divisor)\n",
    "\n",
    "println(\"La division entera de $dividendo entre $divisor es $cociente y resto $resto\")"
   ]
  },
  {
   "cell_type": "markdown",
   "id": "8f2960d6",
   "metadata": {},
   "source": [
    "En aquellos casos en los que la función consista en una expresión simple, podemos asignar dicha expresión a la función utilizando **=** y evitando la necesidad añadir las llaves de bloque, la sentencia ```return``` e, incluso, el tipo retornado (si no lo indicamos, se obtiene por inferencia). Esto simplifica enormemente la declaración de estas funciones haciendo el código menos verboso"
   ]
  },
  {
   "cell_type": "code",
   "execution_count": null,
   "id": "5941034f",
   "metadata": {},
   "outputs": [],
   "source": [
    "fun divide(dividendo: Int, divisor: Int) = Pair(dividendo / divisor, dividendo % divisor)\n",
    "\n",
    "println(divide(5, 2))"
   ]
  },
  {
   "cell_type": "markdown",
   "id": "530bbde1",
   "metadata": {},
   "source": [
    "## Sobrecarga de Funciones\n",
    "---"
   ]
  },
  {
   "cell_type": "markdown",
   "id": "5754cd00",
   "metadata": {},
   "source": [
    "Al igual que numerosos lenguajes, Kotlin permite la sobrecarga de funciones. Es decir, definir diversas variantes con el mismo nombre de una función.\n",
    "\n",
    "<br>Para ello, las variantes tienen que satisfacer una de las siguientes condiciones:\n",
    "\n",
    "- Diferente número de parámetros\n",
    "- Diferente tipo de los parámetros\n",
    "\n",
    "<br>**NOTA:** el tipo del retorno no es suficiente para distinguir dos funciones con el mismo nombre"
   ]
  },
  {
   "cell_type": "code",
   "execution_count": null,
   "id": "0d5044ce",
   "metadata": {},
   "outputs": [],
   "source": [
    "fun plusOperator(operand1: String, operand2: String) = operand1 + operand2\n",
    "fun plusOperator(operand1: Int, operand2: Int) = operand1 + operand2"
   ]
  },
  {
   "cell_type": "code",
   "execution_count": null,
   "id": "f48b86c0",
   "metadata": {},
   "outputs": [],
   "source": [
    "println(plusOperator(\"Hello, \", \"World!\"))\n",
    "println(plusOperator(2, 3))"
   ]
  },
  {
   "cell_type": "markdown",
   "id": "751610b8",
   "metadata": {},
   "source": [
    "## Funciones como Variables\n",
    "---"
   ]
  },
  {
   "cell_type": "markdown",
   "id": "41546301",
   "metadata": {},
   "source": [
    "En Kotlin, al igual que en otros lenguajes como Python, las funciones son lo que se denominan **_first-class functions_**\n",
    "\n",
    "<br>Un lenguaje de programación que soporte _first-class functions_ nos permite:\n",
    "\n",
    "- Asignar una función a una variable\n",
    "- Pasar una función como argumento a otra función\n",
    "- Devolver una función desde otra función como valor de retorno\n",
    "\n",
    "<br>Existen diversas maneras de asignar una función a una variable en Kotlin:\n",
    "\n"
   ]
  },
  {
   "cell_type": "markdown",
   "id": "129401b7",
   "metadata": {},
   "source": [
    "### Referencia a la función"
   ]
  },
  {
   "cell_type": "markdown",
   "id": "0a63cfde",
   "metadata": {},
   "source": [
    "Si la función ha sido declarada previamente, podemos utilizar el **operador referencia ::** para asignarla a una variable o pasarla como argumento a otra función. \n",
    "\n",
    "<br>El tipo de la misma será inferido a partir del tipo de los argumentos y retorno de la función asignada. "
   ]
  },
  {
   "cell_type": "code",
   "execution_count": null,
   "id": "71e7b69d",
   "metadata": {},
   "outputs": [],
   "source": [
    "// declaración de la función\n",
    "fun add(a: Int, b: Int) = a + b\n",
    "\n",
    "// asignación de la función a la variable myFunction\n",
    "var myFunction = ::add"
   ]
  },
  {
   "cell_type": "markdown",
   "id": "08d162d5",
   "metadata": {},
   "source": [
    "En el ejemplo anterior, el tipo inferido de la variable sería: **```(Int, Int) -> Int```**\n",
    "\n",
    "<br>Ahora, podemos usar la variable del mismo modo que usamos la función:"
   ]
  },
  {
   "cell_type": "code",
   "execution_count": null,
   "id": "26f441a2",
   "metadata": {
    "scrolled": false
   },
   "outputs": [],
   "source": [
    "println(myFunction(2, 3))"
   ]
  },
  {
   "cell_type": "markdown",
   "id": "7705ec45",
   "metadata": {},
   "source": [
    "Lo realmente ventajoso de este mecanismo es que podemos reasignar la variable anterior a una nueva función, lo cual puede ser muy ventajoso en el caso específico de los parámetros de las funciones. Así, además de parametrizar una función a partir de los datos recibidos podemos hacerlo a partir de funciones que le proporcinarán comportamientos alternativos, dotando a nuestras funciones de un mayor grado de flexibilidad."
   ]
  },
  {
   "cell_type": "code",
   "execution_count": null,
   "id": "133297ff",
   "metadata": {
    "scrolled": true
   },
   "outputs": [],
   "source": [
    "fun add(a: Int, b: Int) = a + b\n",
    "fun sub(a: Int, b: Int) = a - b\n",
    "fun mult(a: Int, b: Int) = a * b\n",
    "fun operation(op: (Int, Int) -> Int, a: Int, b: Int) = op(a, b)\n",
    "\n",
    "// array de referencias a funciones\n",
    "val operaciones = arrayOf(::add, ::sub, ::mult)\n",
    "\n",
    "// lanzamos las distintas operaciones sobre un conjunto de datos\n",
    "val a = 5; val b = 2\n",
    "for (op in operaciones)\n",
    "    println(operation(op, a, b))"
   ]
  },
  {
   "cell_type": "markdown",
   "id": "7c60ed6d",
   "metadata": {},
   "source": [
    "### Funciones Anónimas y Expresiones Lambda"
   ]
  },
  {
   "cell_type": "markdown",
   "id": "d8508f52",
   "metadata": {},
   "source": [
    "Las funciones anónimas y las expresiones lambda representan el mismo tipo de objeto, funciones que no están vinculadas a un identificador explícito.\n",
    "\n",
    "<br>Aunque volveremos sobre ellas más adelante, veamos un ejemplo:"
   ]
  },
  {
   "cell_type": "code",
   "execution_count": null,
   "id": "f336a178",
   "metadata": {
    "scrolled": true
   },
   "outputs": [],
   "source": [
    "// Declaración de una función anónima\n",
    "val add = fun(a: Int, b: Int) = a + b\n",
    "\n",
    "// Declaración de una función lambda \n",
    "val sub = { a: Int, b: Int -> a - b }\n",
    "              \n",
    "// array de referencias a funciones\n",
    "val operaciones = arrayOf(add, sub)\n",
    "\n",
    "// lanzamos las distintas operaciones sobre un conjunto de datos\n",
    "val a = 5; val b = 2\n",
    "for (op in operaciones)\n",
    "    println(operation(op, a, b))              "
   ]
  },
  {
   "cell_type": "markdown",
   "id": "e6d4b32e",
   "metadata": {},
   "source": [
    "## Funciones sin Retorno\n",
    "---"
   ]
  },
  {
   "cell_type": "markdown",
   "id": "a94e2ebc",
   "metadata": {},
   "source": [
    "Existen funciones que pueden estar diseñadas para no retornar nunca. Por ejemplo, funciones encargadas de finalizar una aplicación en caso de error grave o funciones encargandas de la gestión del bucle de eventos de una aplicación gráfica.\n",
    "\n",
    "<br>Kotlin tiene una manera sencilla de indicarle al compilador que una función no va a retornar nunca, lo que puede derivar en ciertas optimizaciones a la hora de generar el código para llamar a la función. Simplemente debemos establecer como valor de retorno de la función la palabra reservada **```Nothing```** "
   ]
  },
  {
   "cell_type": "markdown",
   "id": "89a87b8e",
   "metadata": {},
   "source": [
    "## Ejercicios\n",
    "---"
   ]
  },
  {
   "cell_type": "markdown",
   "id": "c2be2cee",
   "metadata": {},
   "source": [
    "1. Crea una función denominada **isNumberDivisible** que acepte dos valores enteros como parámetros: un número y un divisor. La función nos indicará si el número es divisible por el divisor o no."
   ]
  },
  {
   "cell_type": "code",
   "execution_count": null,
   "id": "b85479bb",
   "metadata": {},
   "outputs": [],
   "source": [
    "fun isNumberDivisible(num: Int, div: Int) = num % div == 0"
   ]
  },
  {
   "cell_type": "markdown",
   "id": "1de4dafa",
   "metadata": {},
   "source": [
    "2. Empleando la función anterior, crea una nueva función denominada **isPrime** que reciba un número entero y nos diga si es primo o no (un número es primo si sólo es divisible por 1 y por si mismo)"
   ]
  },
  {
   "cell_type": "code",
   "execution_count": null,
   "id": "3fa1c893",
   "metadata": {},
   "outputs": [],
   "source": []
  },
  {
   "cell_type": "markdown",
   "id": "d0302036",
   "metadata": {},
   "source": [
    "3. Empleando la función anterior, imprime todos los números primos entre 1 y 100"
   ]
  },
  {
   "cell_type": "code",
   "execution_count": null,
   "id": "cdb95a6c",
   "metadata": {},
   "outputs": [],
   "source": []
  },
  {
   "cell_type": "markdown",
   "id": "2f98639c",
   "metadata": {},
   "source": [
    "4. Crea una función denominada **cuadrado** que acepte los siguientes parámetros: alto, ancho y un carácter. La función dibujará el perímetro de u\n",
    "n rectángulo de las dimensiones indicadas utilizando el carácter pasado como argumento. En caso de que alguna de las dimensiones sea menor que 1, no se imprimirá nada"
   ]
  },
  {
   "cell_type": "code",
   "execution_count": null,
   "id": "832cca5c",
   "metadata": {},
   "outputs": [],
   "source": []
  },
  {
   "cell_type": "markdown",
   "id": "43575a5d",
   "metadata": {},
   "source": [
    "5. Las funciones recursivas son aquellas que se llaman a sí mismas. Crea una función recursiva denominada **fibonacci** que nos calcule cualquier término de la secuencia de forma recursiva. Para ello, ten en cuenta lo siguiente:\n",
    "- el valor de la secuencia es 0 para cualquier término menor que 1\n",
    "- el término n de la secuencia será: fibonacci(n) = fibonacci(n-1) + fibonacci(n-2)"
   ]
  },
  {
   "cell_type": "code",
   "execution_count": null,
   "id": "68f98adb",
   "metadata": {},
   "outputs": [],
   "source": []
  },
  {
   "cell_type": "markdown",
   "id": "6aa3d2e8",
   "metadata": {},
   "source": [
    "6. Empleando la función anterior, imprime los primeros 10 términos de la secuencia de Fibonacci"
   ]
  },
  {
   "cell_type": "code",
   "execution_count": null,
   "id": "720b4ce7",
   "metadata": {},
   "outputs": [],
   "source": []
  },
  {
   "cell_type": "markdown",
   "id": "765be63c",
   "metadata": {},
   "source": [
    "### Soluciones"
   ]
  },
  {
   "cell_type": "markdown",
   "id": "4a4b64a8",
   "metadata": {},
   "source": [
    "##### 1.\n",
    "```\n",
    "fun isNumberDivisible(num: Int, div: Int) = num % div == 0\n",
    "```"
   ]
  },
  {
   "cell_type": "markdown",
   "id": "213ff43f",
   "metadata": {},
   "source": [
    "##### 2.\n",
    "```\n",
    "fun isPrime(num: Int): Boolean {\n",
    "    var prime = true\n",
    "    for (i in 2..num/2)\n",
    "        if (isNumberDivisible(num, i)) {\n",
    "            prime = false\n",
    "            break\n",
    "        }\n",
    "    return prime\n",
    "}\n",
    "```"
   ]
  },
  {
   "cell_type": "markdown",
   "id": "ffdeaeca",
   "metadata": {},
   "source": [
    "##### 3.\n",
    "```\n",
    "for (i in 1..100) if (isPrime(i)) println(i)\n",
    "```"
   ]
  },
  {
   "cell_type": "markdown",
   "id": "7f1e27c8",
   "metadata": {},
   "source": [
    "##### 4.\n",
    "```\n",
    "fun cuadrado(alto: Int, ancho: Int, ch: Char) {\n",
    "    if (alto < 1 || ancho < 1) return\n",
    "    \n",
    "    for (fila in 1..alto) {\n",
    "        if (fila == 1 || fila == alto) \n",
    "            for (j in 1..ancho) print(ch)\n",
    "        else {\n",
    "            print(ch)\n",
    "            if(ancho > 1) {\n",
    "                for (j in 2..ancho-1) print(' ')\n",
    "                print(ch)\n",
    "            }\n",
    "        }\n",
    "        println()\n",
    "    }\n",
    "}\n",
    "```"
   ]
  },
  {
   "cell_type": "markdown",
   "id": "7d92dda6",
   "metadata": {},
   "source": [
    "##### 5.\n",
    "```\n",
    "fun fibonacci(n: Int): Int {\n",
    "    when {\n",
    "        n < 1 -> return 0\n",
    "        n == 1 || n == 2 -> return 1\n",
    "        else -> return fibonacci(n - 2) + fibonacci(n - 1)\n",
    "    }\n",
    "}\n",
    "```"
   ]
  },
  {
   "cell_type": "markdown",
   "id": "a9ab1411",
   "metadata": {},
   "source": [
    "##### 6.\n",
    "```\n",
    "for (i in 1..10) println(\"fibonacci($i) = ${fibonacci(i)}\")\n",
    "```"
   ]
  }
 ],
 "metadata": {
  "kernelspec": {
   "display_name": "Kotlin",
   "language": "kotlin",
   "name": "kotlin"
  },
  "language_info": {
   "codemirror_mode": "text/x-kotlin",
   "file_extension": ".kt",
   "mimetype": "text/x-kotlin",
   "name": "kotlin",
   "nbconvert_exporter": "",
   "pygments_lexer": "kotlin",
   "version": "1.8.0-RC"
  },
  "toc": {
   "base_numbering": 1,
   "nav_menu": {},
   "number_sections": false,
   "sideBar": true,
   "skip_h1_title": false,
   "title_cell": "Table of Contents",
   "title_sidebar": "Contents",
   "toc_cell": true,
   "toc_position": {},
   "toc_section_display": true,
   "toc_window_display": false
  },
  "vscode": {
   "interpreter": {
    "hash": "767d51c1340bd893661ea55ea3124f6de3c7a262a8b4abca0554b478b1e2ff90"
   }
  }
 },
 "nbformat": 4,
 "nbformat_minor": 5
}
