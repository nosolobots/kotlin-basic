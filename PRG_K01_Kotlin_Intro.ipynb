{
 "cells": [
  {
   "cell_type": "markdown",
   "id": "c1bfb424",
   "metadata": {
    "toc": true
   },
   "source": [
    "<h1>Table of Contents<span class=\"tocSkip\"></span></h1>\n",
    "<div class=\"toc\"><ul class=\"toc-item\"><li><span><a href=\"#K01.-Introducción-a-Kotlin\" data-toc-modified-id=\"K01.-Introducción-a-Kotlin-1\">K01. Introducción a Kotlin</a></span><ul class=\"toc-item\"><li><span><a href=\"#¿Qué-es-Kotlin?\" data-toc-modified-id=\"¿Qué-es-Kotlin?-1.1\">¿Qué es Kotlin?</a></span></li><li><span><a href=\"#Un-lenguaje-multiplataforma\" data-toc-modified-id=\"Un-lenguaje-multiplataforma-1.2\">Un lenguaje multiplataforma</a></span></li><li><span><a href=\"#Características\" data-toc-modified-id=\"Características-1.3\">Características</a></span></li><li><span><a href=\"#Breve-Historia\" data-toc-modified-id=\"Breve-Historia-1.4\">Breve Historia</a></span></li><li><span><a href=\"#Un-programa-simple-en-Kotlin\" data-toc-modified-id=\"Un-programa-simple-en-Kotlin-1.5\">Un programa simple en Kotlin</a></span></li><li><span><a href=\"#Conclusión\" data-toc-modified-id=\"Conclusión-1.6\">Conclusión</a></span></li></ul></li></ul></div>"
   ]
  },
  {
   "cell_type": "markdown",
   "id": "c3f27b3f",
   "metadata": {},
   "source": [
    "# K01. Introducción a Kotlin\n",
    "---"
   ]
  },
  {
   "cell_type": "markdown",
   "id": "f955cf0d",
   "metadata": {},
   "source": [
    "## ¿Qué es Kotlin?"
   ]
  },
  {
   "cell_type": "markdown",
   "id": "1e640c2c",
   "metadata": {},
   "source": [
    "**Kotlin** es un lenguaje de programación moderno desarrollado por [JetBrains](https://www.jetbrains.com/). Tiene una sintaxis clara y concisa que hace que el código sea fácil de leer.\n",
    "\n",
    "<br>A pesar de su \"juventud\", Kotlin es ampliamente usado y su popularidad está en auge.\n",
    "\n",
    "<br>EL conocimiento de Kotlin permite a los desarrolladores el crear aplicaciones para dispositivos móviles, para servidor y aplicaciones de escritorio, así como _frameworks_ y librerías. Como lenguaje de propósito general, puede ser usado en múltiples áreas como servicios financieros, telecomunicaciones, sistemas embebidos, medicina, herramientas de desarrollo (como [IntelliJ IDEA](https://www.jetbrains.com/es-es/idea/)),..."
   ]
  },
  {
   "cell_type": "markdown",
   "id": "720b6530",
   "metadata": {},
   "source": [
    "## Un lenguaje multiplataforma"
   ]
  },
  {
   "cell_type": "markdown",
   "id": "d7a70b41",
   "metadata": {},
   "source": [
    "- **JVM:** Kotlin es totalmente interoperable con Java, lo que significa que Kotlin trabaja perfectamente con todo el código y librerías Java existentes. Esto permite a las compañías una transición gradual de Java a Kotlin porque el código Java puede acceder también a código Kotlin. Al mismo tiempo, los desarrolladores pueden usar Kotlin como único lenguaje para sus proyectos. Habitualmente, Kotlin se compila a _bytecode_ Java y se ejecuta desde la JVM (como cualquier otra clase Java)\n",
    "\n",
    "<br>\n",
    "\n",
    "- **Android:** usando Kotlin, se pueden crear aplicaciones móviles para el sistema operativo más usado en el mundo.\n",
    "\n",
    "<br>\n",
    "\n",
    "- **JS:** Kotlin también es compatible con JavaScript, lo que permite el desarrollo del _frontend_ web de aplicaciones y ejecutarlas en un navegador.\n",
    "\n",
    "<br>\n",
    "\n",
    "- **Native:** Kotlin puede ser compilado en código objeto nativo y ejecutado directamente en sistemas Windows, Linux, iOS y macOS.\n",
    "\n",
    "<br><center><img src=\"https://ucarecdn.com/28192c0c-2d02-4503-8948-034efaddb8a0/\" width=\"600\"/></center>"
   ]
  },
  {
   "cell_type": "markdown",
   "id": "62a3a38c",
   "metadata": {},
   "source": [
    "## Características"
   ]
  },
  {
   "cell_type": "markdown",
   "id": "5151c62d",
   "metadata": {},
   "source": [
    "Kotlin se ha diseñado como un **lenguaje práctico**, lo que significa que su objetivo principal es la resolución de problemas reales en lugar de tener un propósito académico.\n",
    "\n",
    "<br>Kotlin soporta **múltiples paradigmas de programación**, como la programación impertiva, programación estructurada, programación orientada a objetos, programación genérica y programación funcional.\n",
    "\n",
    "<br>Por otro lado. Kotlin es un lenguaje **_tool-friendly_**, lo que significa que es compatible con herramientas de desarrollo populares como IntelliJ IDEA, Eclipse, Android Studio y otras."
   ]
  },
  {
   "cell_type": "markdown",
   "id": "b2c3a5ab",
   "metadata": {},
   "source": [
    "## Breve Historia"
   ]
  },
  {
   "cell_type": "markdown",
   "id": "b83cdc5e",
   "metadata": {},
   "source": [
    "En Julio de 2011, JetBrains desveló el Proyecto Kotlin, un nuevo lenguaje para la Plataforma Java. El nombre hace referencia a la isla Kotlin, cerca de San Petersburgo, Rusia. El objetivo primero del proyecto era proporcionar una alternativa más concisa y segura a Java en todos los contextos donde se estaba usando ese lenguaje.\n",
    "\n",
    "<br>En 2016, se libera la primera versión estable (Kotlin v1.0). La comunidad de desarrolladores ya estaba interesada en usar este lenguaje, especialmente en Android.\n",
    "\n",
    "<br>En la conferencia Google I/O de 2017, Google anuncia soporte _first-class_ para Kotlin en Android: (https://www.youtube.com/watch?v=EtQ8Le8-zyo&t=660s)\n",
    "\n",
    "<br>En la conferencia Google I/O de 2019, Google anuncia Kotlin como su lenguaje preferente (_Kotlin-first_) para Android: (https://www.youtube.com/watch?v=LoLqSbV1ELU&t=530s)\n",
    "\n",
    "<br>En el siguiente documento, Google justifica su elección de Kotlin como lenguaje preferente para la plataforma Android: (https://developer.android.com/kotlin/first) \n",
    "\n",
    "<br>En este momento, Kotlin es considerado un lenguaje de propósito general para muchas plataformas, no sólo para Android. El lenguaje tiene varias _\"releases\"_ nuevas cada año. La última versión está disponible en el [sitio oficial](https://kotlinlang.org/)"
   ]
  },
  {
   "cell_type": "markdown",
   "id": "b5c4692e",
   "metadata": {},
   "source": [
    "## Un programa simple en Kotlin"
   ]
  },
  {
   "cell_type": "markdown",
   "id": "8a3d7b90",
   "metadata": {},
   "source": [
    "Aquí se muestra un programa simple en Kotlin que imprime `Hello, Kotlin!`:\n",
    "\n",
    "<br>\n",
    "\n",
    "```kotlin\n",
    "fun main() {\n",
    "    println(\"Hello, Kotlin!\")\n",
    "}\n",
    "```\n",
    "\n",
    "<br>Más adelante, veremos cómo compilarlo a _bytecode_ Java y ejecutarlo en local en la JVM.\n",
    "\n",
    "<br>Por ahora, vamos a probar su ejecución en una celda de un notebook Jupyter:"
   ]
  },
  {
   "cell_type": "code",
   "execution_count": null,
   "id": "b10c4a2e",
   "metadata": {},
   "outputs": [
    {
     "ename": "",
     "evalue": "",
     "output_type": "error",
     "traceback": [
      "\u001b[1;31mNo se pudo iniciar el kernel porque falta el módulo 'run_kotlin_kernel'. Considere la posibilidad de instalar este módulo.\n",
      "\u001b[1;31mHaga clic <a href='https://aka.ms/kernelFailuresMissingModule'>aquí</a> para obtener más información."
     ]
    }
   ],
   "source": [
    "fun main() {\n",
    "    println(\"Hello, Kotlin!\")\n",
    "}\n",
    "\n",
    "// Invocamos la función main(). En local, esto no sería necesario pues se invocaría automáticamente por la JVM\n",
    "main()"
   ]
  },
  {
   "cell_type": "markdown",
   "id": "4f5977ba",
   "metadata": {},
   "source": [
    "## Conclusión"
   ]
  },
  {
   "cell_type": "markdown",
   "id": "dc9d2a45",
   "metadata": {},
   "source": [
    "Ya sabes qué es Kotlin, cómo se desarrolló y dónde se usa. Descubriste algunas de las características que lo hacen tan especial y viste tus primeras líneas de código Kotlin. A continuación, más!"
   ]
  }
 ],
 "metadata": {
  "kernelspec": {
   "display_name": "Kotlin",
   "language": "kotlin",
   "name": "kotlin"
  },
  "language_info": {
   "codemirror_mode": "text/x-kotlin",
   "file_extension": ".kt",
   "mimetype": "text/x-kotlin",
   "name": "kotlin",
   "nbconvert_exporter": "",
   "pygments_lexer": "kotlin",
   "version": "1.8.0-RC"
  },
  "toc": {
   "base_numbering": 1,
   "nav_menu": {},
   "number_sections": false,
   "sideBar": true,
   "skip_h1_title": false,
   "title_cell": "Table of Contents",
   "title_sidebar": "Contents",
   "toc_cell": true,
   "toc_position": {},
   "toc_section_display": true,
   "toc_window_display": false
  }
 },
 "nbformat": 4,
 "nbformat_minor": 5
}
