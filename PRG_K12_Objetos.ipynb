{
 "cells": [
  {
   "cell_type": "markdown",
   "id": "e52673dd",
   "metadata": {},
   "source": [
    "## K12. Objetos\n",
    "---"
   ]
  },
  {
   "cell_type": "markdown",
   "id": "61669eac",
   "metadata": {},
   "source": [
    "Kotlin introduce una nueva palabra reservada que no está disponible en otros lenguajes como Java, la palabra **```object```**\n",
    "\n",
    "<br>Como veremos a continuación, **```object```** nos va a permitir de forma fácil crear clases de las que sólo pueda existir una única instancia en ejecución (patrón **singleton**), así como crear **objetos anónimos**"
   ]
  },
  {
   "cell_type": "markdown",
   "id": "3ba6cba1",
   "metadata": {},
   "source": [
    "## 1. Singletons\n",
    "---"
   ]
  },
  {
   "cell_type": "markdown",
   "id": "848ed2ce",
   "metadata": {},
   "source": [
    "El **singleton** es uno de los patrones más simples de los patrones de diseño empleados en ingeniería del software y, al mismo tiempo, de gran aplicación (aunque hay quien rechaza su uso por la introducción de un **estado global** en la aplicación). Este patrón se usa cuando queremos restringir una clase de forma que sólo pueda haber una **única** instancia en tiempo de ejecución."
   ]
  },
  {
   "cell_type": "markdown",
   "id": "b9241962",
   "metadata": {},
   "source": [
    "### 1.1. Named Objects"
   ]
  },
  {
   "cell_type": "markdown",
   "id": "2d3251f9",
   "metadata": {},
   "source": [
    "La palabra reservada **```object```** de Kotlin permite "
   ]
  }
 ],
 "metadata": {
  "kernelspec": {
   "display_name": "Kotlin",
   "language": "kotlin",
   "name": "kotlin"
  },
  "language_info": {
   "codemirror_mode": "text/x-kotlin",
   "file_extension": ".kt",
   "mimetype": "text/x-kotlin",
   "name": "kotlin",
   "nbconvert_exporter": "",
   "pygments_lexer": "kotlin",
   "version": "1.7.20-dev-1299"
  },
  "varInspector": {
   "cols": {
    "lenName": 16,
    "lenType": 16,
    "lenVar": 40
   },
   "kernels_config": {
    "python": {
     "delete_cmd_postfix": "",
     "delete_cmd_prefix": "del ",
     "library": "var_list.py",
     "varRefreshCmd": "print(var_dic_list())"
    },
    "r": {
     "delete_cmd_postfix": ") ",
     "delete_cmd_prefix": "rm(",
     "library": "var_list.r",
     "varRefreshCmd": "cat(var_dic_list()) "
    }
   },
   "types_to_exclude": [
    "module",
    "function",
    "builtin_function_or_method",
    "instance",
    "_Feature"
   ],
   "window_display": false
  }
 },
 "nbformat": 4,
 "nbformat_minor": 5
}
