{
 "cells": [
  {
   "cell_type": "markdown",
   "id": "b4dba153",
   "metadata": {},
   "source": [
    "# K14. Interfaces\n",
    "---"
   ]
  },
  {
   "cell_type": "markdown",
   "id": "5e2cc404",
   "metadata": {},
   "source": [
    "## 1. Declaración\n",
    "---"
   ]
  },
  {
   "cell_type": "markdown",
   "id": "cd80ae39",
   "metadata": {},
   "source": [
    "De forma similar a otros lenguajes como Java, Kotlin nos permite la definición de **interfaces**. Estos no son más que \"plantillas\" que declaran una serie de métodos (sin cuerpo) y que sirven para establecer un \"contrato\" con las clases que los implementan, al estar obligadas a implementar dichos métodos (de forma similar a lo que ocurre con los métodos abstractos).\n",
    "\n",
    "<br>La gran utilidad de los interfaces es que establecen una serie de comportamientos comunes que las clases deben implementar. A diferencia de la herencia, una clase puede implementar múltiples interfaces\n",
    "\n",
    "<br>Veamos un ejemplo de interfaz en Kotlin:"
   ]
  },
  {
   "cell_type": "code",
   "execution_count": null,
   "id": "1a0f4e3b",
   "metadata": {},
   "outputs": [],
   "source": [
    "interface Vehiculo {\n",
    "    fun acelera()\n",
    "    fun frena()\n",
    "}"
   ]
  },
  {
   "cell_type": "markdown",
   "id": "35f73afc",
   "metadata": {},
   "source": [
    "Una clase puede implementar este interfaz usando la misma sintaxis que para la herencia, es decir, usando los dos puntos (**:**) a continuación del nombre de la clase y añadiendo el nombre del interfaz. Deberá implementar los métodos declarados en el interfaz y los marcará con **```override```**"
   ]
  },
  {
   "cell_type": "code",
   "execution_count": null,
   "id": "4460bee6",
   "metadata": {},
   "outputs": [],
   "source": [
    "class Bicicleta: Vehiculo {\n",
    "    var pedaleo = false\n",
    "    \n",
    "    override fun acelera() {\n",
    "        pedaleo = true\n",
    "    }\n",
    "    \n",
    "    override fun frena() {\n",
    "        pedaleo = false\n",
    "    }\n",
    "}"
   ]
  },
  {
   "cell_type": "markdown",
   "id": "964aa3db",
   "metadata": {},
   "source": [
    "## 2. Implementaciones por defecto\n",
    "---"
   ]
  },
  {
   "cell_type": "markdown",
   "id": "96c64560",
   "metadata": {},
   "source": [
    "Los métodos de los interfaces en Kotlin pueden tener cuerpo, lo que se denomina **implementación por defecto**. En este caso, las clases que implementen dicho interfaz no están obligadas a sobreescribir dicho método ya que, en caso de no proporcionar código para el mismo, se usa la implementación proporcionada por el interfaz "
   ]
  },
  {
   "cell_type": "code",
   "execution_count": null,
   "id": "b174c1af",
   "metadata": {},
   "outputs": [],
   "source": [
    "interface SpaceShip {\n",
    "    fun accelerate()\n",
    "    fun stop() {\n",
    "        println(\"Whoa, slow down!\")\n",
    "    }\n",
    "}\n",
    "\n",
    "class LightFreighter: SpaceShip {\n",
    "    override fun accelerate() {\n",
    "        println(\"Proceed to hyperspace!\")\n",
    "    }\n",
    "}\n",
    "\n",
    "class MoonLander: SpaceShip {\n",
    "    override fun accelerate() {\n",
    "        println(\"Initialize Descent!\")\n",
    "    }    \n",
    "    \n",
    "    override fun stop() {\n",
    "        println(\"Landing!\")\n",
    "    }  \n",
    "}\n",
    "\n",
    "val falcon = LightFreighter()\n",
    "falcon.accelerate()\n",
    "falcon.stop()\n",
    "\n",
    "val eagle = MoonLander()\n",
    "eagle.accelerate()\n",
    "eagle.stop()"
   ]
  },
  {
   "cell_type": "markdown",
   "id": "34f05f62",
   "metadata": {},
   "source": [
    "## 3. Propiedades en los interfaces\n",
    "---"
   ]
  },
  {
   "cell_type": "markdown",
   "id": "d1bd774e",
   "metadata": {},
   "source": [
    "Podemos definir propiedades en los interfaces pero, dado que estos no almacenan estado, debemos, o bien proporcionarle un valor, o bien dejarla como **abstracta** (sin valor) por lo que las clases que implementen el interfaz deberán proporcionarle uno."
   ]
  },
  {
   "cell_type": "code",
   "execution_count": null,
   "id": "a430058d",
   "metadata": {},
   "outputs": [],
   "source": [
    "interface PropiedadesVehiculo {\n",
    "    val peso: Int // abstracta\n",
    "    val nombre: String\n",
    "        get() = \"Vehículo\"\n",
    "}"
   ]
  },
  {
   "cell_type": "code",
   "execution_count": null,
   "id": "27c588c1",
   "metadata": {},
   "outputs": [],
   "source": [
    "class Coche: PropiedadesVehiculo {\n",
    "    override val peso = 1000\n",
    "}\n",
    "\n",
    "class Tanque: PropiedadesVehiculo {\n",
    "    override val peso: Int\n",
    "        get() = 10000\n",
    "    \n",
    "    override val nombre: String\n",
    "        get() = \"Tanque\"\n",
    "}"
   ]
  },
  {
   "cell_type": "markdown",
   "id": "b7840f4a",
   "metadata": {},
   "source": [
    "En el ejemplo anterior, ambas clases (**Coche** y **Tanque**) están obligadas a proporcionar un valor para **```peso```**. Sin embargo, en el caso de la propiedad **```nombre```**, dado que ya tiene asignado un valor en el interfaz, no están obligadas a sobreescribirla"
   ]
  },
  {
   "cell_type": "markdown",
   "id": "2b464e4f",
   "metadata": {},
   "source": [
    "## 4. Herencia de interfaces\n",
    "---"
   ]
  },
  {
   "cell_type": "markdown",
   "id": "e41fb514",
   "metadata": {},
   "source": [
    "De forma similar a las clases, podemos crear nuestras propias jerarquías de interfaces. De hecho, ya vimos algún ejemplo en la librería estándar de Kotlin: **```List```** <---- **```MutableList```**\n",
    "\n",
    "<br>Un interfaz que herede de otro, heredará todos los miembros definidos en su padre. Por tanto, toda clase que implemente el subinterfaz, deberá sobreescribir todos los métodos (tanto del hijo como del padre)"
   ]
  },
  {
   "cell_type": "code",
   "execution_count": null,
   "id": "efd83bbb",
   "metadata": {},
   "outputs": [],
   "source": [
    "interface VehiculoDeRuedas: Vehiculo {\n",
    "    val numRuedas: Int // abstracta\n",
    "    var tamRuedas: Double\n",
    "}\n",
    "\n",
    "class Moto: VehiculoDeRuedas {\n",
    "    var gas = false\n",
    "    var brake = false\n",
    "    \n",
    "    override val numRuedas = 2\n",
    "    override var tamRuedas = 635.8\n",
    "    override fun acelera() {\n",
    "        gas = true\n",
    "        brake = false\n",
    "    }\n",
    "    override fun frena() {\n",
    "        gas = false\n",
    "        brake = true\n",
    "    }\n",
    "}"
   ]
  },
  {
   "cell_type": "markdown",
   "id": "07dd5e20",
   "metadata": {},
   "source": [
    "### Polimorfismo"
   ]
  },
  {
   "cell_type": "markdown",
   "id": "7de8112f",
   "metadata": {},
   "source": [
    "Al igual que nos pasa con la herencia de clases, podemos declarar una variable o constante de un **tipo de interfaz** y asignarle una instancia de cualquier clase que implemente dicho interfaz o alguno de sus subinterfaces. Lógicamente, empleando dicha variable, sólo tendremos acceso a los métodos definidos en su tipo."
   ]
  },
  {
   "cell_type": "code",
   "execution_count": null,
   "id": "425769e3",
   "metadata": {},
   "outputs": [],
   "source": [
    "// Creamos una lista de vehículos\n",
    "val vehiculos = mutableListOf<Vehiculo>()\n",
    "\n",
    "// Añadimos algunas instancias\n",
    "vehiculos += Bicicleta()\n",
    "vehiculos += Moto()\n",
    "\n",
    "// podemos invocar métodos definidos en Vehiculo.package\n",
    "vehiculos.forEach { it.acelera() }\n",
    "\n",
    "// no podemos acceder a miembros de una sublcase dado que la lista es del tipo Vehiculo\n",
    "//vehiculos[1].gas\n",
    "\n",
    "// tendríamos que hacer un cast\n",
    "(vehiculos[1] as Moto).gas"
   ]
  },
  {
   "cell_type": "markdown",
   "id": "f7411eb4",
   "metadata": {},
   "source": [
    "## 5. Implementación mútltiple\n",
    "---"
   ]
  },
  {
   "cell_type": "markdown",
   "id": "1d27f97f",
   "metadata": {},
   "source": [
    "Como ya comentamos previamente, y a diferencia de lo que pasa con la herencia, una clase puede implemtar múltiples interfaces. Como es lógico, la clase en cuestión estará obligada a proporcionar un cuerpo para todos los métodos de los interfaces implementados (que no tengan implementación por defecto) y para todos los atributos abstractos"
   ]
  },
  {
   "cell_type": "code",
   "execution_count": null,
   "id": "4a56b8a7",
   "metadata": {},
   "outputs": [],
   "source": [
    "interface A {\n",
    "    fun foo()\n",
    "}\n",
    "\n",
    "interface B {\n",
    "    fun bar()\n",
    "}\n",
    "\n",
    "class X : A, B {\n",
    "    // implementamos el método de A\n",
    "    override fun foo() {\n",
    "        println(\"foo\")\n",
    "    }\n",
    "    \n",
    "    // implementamos el método de B\n",
    "    override fun bar() {\n",
    "        println(\"bar\")\n",
    "    }\n",
    "}"
   ]
  },
  {
   "cell_type": "code",
   "execution_count": null,
   "id": "f76b88ed",
   "metadata": {},
   "outputs": [],
   "source": [
    "val x = X()\n",
    "\n",
    "x.foo()\n",
    "x.bar()"
   ]
  },
  {
   "cell_type": "markdown",
   "id": "0a0debbb",
   "metadata": {},
   "source": [
    "Nos podemos encontrar en una situación en que los interfaces implementados definan funciones con el mismo nombre y con implementaciones por defecto. En ese caso, si la clase no proporciona una implemetación, ¿qué método se invocaría?\n",
    "\n",
    "<br>Kotlin resuerve esta situación forzando a la la clase a proporcionar una implementación"
   ]
  },
  {
   "cell_type": "code",
   "execution_count": null,
   "id": "66a9fc9b",
   "metadata": {},
   "outputs": [],
   "source": [
    "interface C {\n",
    "    fun baz() {\n",
    "        println(\" C --> baz!!\")\n",
    "    }\n",
    "}\n",
    "\n",
    "interface D {\n",
    "    fun baz() {\n",
    "        println(\" D --> baz!!\")\n",
    "    }\n",
    "}\n",
    "\n",
    "class Y : C, D {\n",
    "    // estamos obligado a implementar el método\n",
    "    override fun baz() {\n",
    "        super<C>.baz()\n",
    "        super<D>.baz()\n",
    "        println(\" Y --> baz!!\")\n",
    "    }\n",
    "}"
   ]
  },
  {
   "cell_type": "markdown",
   "id": "73162f86",
   "metadata": {},
   "source": [
    "Fíjate como, al estar el método declarado en ambos interfaces, la clase **```Y```** está obligada a sobreescribirlo (a pesar de que tienen una implementación por defecto). Fíjate también en el empleo de **```super```** como genérico (pasándole el tipo del interfaz) para poder acceder a dichas implementaciones por defecto. "
   ]
  },
  {
   "cell_type": "code",
   "execution_count": null,
   "id": "09d13328",
   "metadata": {},
   "outputs": [],
   "source": [
    "val y = Y()\n",
    "\n",
    "y.baz()"
   ]
  },
  {
   "cell_type": "markdown",
   "id": "7d54f2ab",
   "metadata": {},
   "source": [
    "## 6. Interfaces en la librería estándar\n",
    "---"
   ]
  },
  {
   "cell_type": "markdown",
   "id": "7861f1f0",
   "metadata": {},
   "source": [
    "La librería estándar de Kotlin define numerosos interfaces para los más variados usos. Veamos algunos de ellos."
   ]
  },
  {
   "cell_type": "markdown",
   "id": "761c6eb9",
   "metadata": {},
   "source": [
    "### [Iterator](https://kotlinlang.org/api/latest/jvm/stdlib/kotlin.collections/-iterator/)"
   ]
  },
  {
   "cell_type": "markdown",
   "id": "88cea2b2",
   "metadata": {},
   "source": [
    "Cuando vimos las colecciones, ya introdujimos el **```Iterator```**. Este interfaz nos proporciona un mecanismo homogéneo para desplazarnos por las colecciones son independencia de la naturaleza última de la misma."
   ]
  },
  {
   "cell_type": "code",
   "execution_count": null,
   "id": "b6a79b14",
   "metadata": {
    "scrolled": true
   },
   "outputs": [],
   "source": [
    "val cars = listOf(\"Lamborghini\", \"Ferrari\", \"Porsche\")\n",
    "val numbers = mapOf(\"Brady\" to 12, \"Manning\" to 18, \"Brees\" to 9)\n",
    "\n",
    "// se crea un iterator de forma implícita\n",
    "for(car in cars) {\n",
    "    println(car)\n",
    "}\n",
    "\n",
    "// se crea un iterator de forma implícita\n",
    "for(qb in numbers) {\n",
    "    println(\"${qb.key} lleva el ${qb.value}\")\n",
    "}"
   ]
  },
  {
   "cell_type": "markdown",
   "id": "b3cdb19f",
   "metadata": {},
   "source": [
    "### [Comparable](https://kotlinlang.org/api/latest/jvm/stdlib/kotlin/-comparable/)"
   ]
  },
  {
   "cell_type": "markdown",
   "id": "f3813066",
   "metadata": {},
   "source": [
    "Este interfaz declara la siguiente **función operador** que nos permite comparar instancias de una clase:\n",
    "\n",
    "```kotlin\n",
    "abstract operator fun compareTo(other: T): Int\n",
    "```\n",
    "\n",
    "El método debe devolver un valor 0 si el objeto es igual al otro objeto **```other```**, un valor negativo (-1) si es menor, y un valor positivo (1) si es mayor"
   ]
  },
  {
   "cell_type": "code",
   "execution_count": null,
   "id": "e0d0a48c",
   "metadata": {},
   "outputs": [],
   "source": [
    "class Square(val width: Double, val height: Double) : Comparable<Square> {\n",
    "    val area: Double\n",
    "        get() = width * height\n",
    "    \n",
    "    override operator fun compareTo(other: Square): Int {\n",
    "        return when {\n",
    "            this.area > other.area -> 1\n",
    "            this.area == other.area -> 0\n",
    "            else -> -1\n",
    "        }\n",
    "    }\n",
    "    \n",
    "    override fun equals(other: Any?): Boolean {\n",
    "        return this.area == (other as Square).area\n",
    "    }\n",
    " }\n",
    "\n",
    "println(Square(4.0, 2.0) > Square(1.0, 1.0))\n",
    "println(Square(4.0, 2.0) > Square(5.0, 5.0))\n",
    "println(Square(2.0, 2.0) == Square(4.0, 1.0))"
   ]
  },
  {
   "cell_type": "markdown",
   "id": "7edc6ca2",
   "metadata": {},
   "source": [
    "Fíjate que, como en el ejemplo anterior, al sobreescribir **```compareTo```**, es conveniente sobreescribir el método **```equals```** para mantener la coherencia (es el empleado por **==**)"
   ]
  },
  {
   "cell_type": "markdown",
   "id": "58e7690b",
   "metadata": {},
   "source": [
    "## 7. Ejercicios\n",
    "---"
   ]
  },
  {
   "cell_type": "markdown",
   "id": "5c61cb5e",
   "metadata": {},
   "source": [
    "1. \n",
    "Crea una serie de interfaces para las diferentes tareas en una tienda de mascotas que tiene perros, gatos, peces y pájaros.\n",
    "\n",
    "<br>Las actividades de la tienda pueden dividirse en las siguientes tareas:\n",
    "\n",
    "- Todos los animales tienen que ser alimentados\n",
    "- Los animales que pueden volar necesitan ser enjaulados\n",
    "- Los animales que pueden nadar necesitan estar en una pecera\n",
    "- Los animales que caminan necesitan hacer ejercicio\n",
    "- Las peceras y las jaulas necesitan ser limpiadas"
   ]
  },
  {
   "cell_type": "code",
   "execution_count": null,
   "id": "0cf564dd",
   "metadata": {},
   "outputs": [],
   "source": [
    "// SOLUCIÓN\n"
   ]
  },
  {
   "cell_type": "markdown",
   "id": "109c0074",
   "metadata": {},
   "source": [
    "2. \n",
    "Crea clases para cada animal de forma que implementen los interfaces adecuados"
   ]
  },
  {
   "cell_type": "code",
   "execution_count": null,
   "id": "89a56f28",
   "metadata": {},
   "outputs": [],
   "source": [
    "// SOLUCIÓN\n"
   ]
  },
  {
   "cell_type": "markdown",
   "id": "7deb1608",
   "metadata": {},
   "source": [
    "3. \n",
    "Crea clases para las jaulas y peceras. Deberan mantener una lista interna de los animales que contienen. Añade métodos que permitan alimentar y pasear a los animales."
   ]
  },
  {
   "cell_type": "code",
   "execution_count": null,
   "id": "2e087961",
   "metadata": {},
   "outputs": [],
   "source": [
    "// SOLUCIÓN\n"
   ]
  },
  {
   "cell_type": "markdown",
   "id": "6c4430f8",
   "metadata": {},
   "source": [
    "### Soluciones\n",
    "---"
   ]
  },
  {
   "cell_type": "markdown",
   "id": "7b1da334",
   "metadata": {},
   "source": [
    "##### 1.\n",
    "```kotlin\n",
    "interface Alimentable {\n",
    "    fun darComida() {\n",
    "        println(\"Comiendo!\")\n",
    "    }\n",
    "}\n",
    "\n",
    "interface Volador: Alimentable {\n",
    "    var enjaulado: Boolean\n",
    "}\n",
    "\n",
    "interface Acuatico: Alimentable {\n",
    "    var enPecera: Boolean\n",
    "}\n",
    "\n",
    "interface Terrestre: Alimentable {\n",
    "    fun sacarDePaseo() {\n",
    "        println(\"Me voy a dar una vuelta!\")\n",
    "    }\n",
    "}\n",
    "\n",
    "interface Limpiable {\n",
    "    fun limpiar() {\n",
    "        println(\"Sacando la basura!\")\n",
    "    }\n",
    "}\n",
    "```"
   ]
  },
  {
   "cell_type": "markdown",
   "id": "33ad4cd6",
   "metadata": {},
   "source": [
    "##### 2.\n",
    "```kotlin\n",
    "class Perro(val raza: String): Terrestre {}\n",
    "class Gato(val raza: String): Terrestre {}\n",
    "class Pez(val especie: String): Acuatico {\n",
    "    override var enPecera = true\n",
    "}\n",
    "class Pajaro(val especie: String): Volador {\n",
    "    override var enjaulado = true\n",
    "}\n",
    "```"
   ]
  },
  {
   "cell_type": "markdown",
   "id": "84b62e04",
   "metadata": {},
   "source": [
    "##### 3.\n",
    "```kotlin\n",
    "class Pecera(val peces: MutableList<Acuatico> = mutableListOf()): Limpiable {\n",
    "    fun alimentar() {\n",
    "        peces.forEach { it.darComida() }\n",
    "    }\n",
    "}\n",
    "\n",
    "class JaulaTerrestre(val animales: MutableList<Terrestre> = mutableListOf()): Limpiable {\n",
    "    fun alimentar() {\n",
    "        animales.forEach { it.darComida() }\n",
    "    }\n",
    "}\n",
    "\n",
    "class jaulaVolador(val animales: MutableList<Volador> = mutableListOf()): Limpiable {\n",
    "    fun alimentar() {\n",
    "        animales.forEach { it.darComida() }\n",
    "    }\n",
    "}\n",
    "```"
   ]
  }
 ],
 "metadata": {
  "kernelspec": {
   "display_name": "Kotlin",
   "language": "kotlin",
   "name": "kotlin"
  },
  "language_info": {
   "codemirror_mode": "text/x-kotlin",
   "file_extension": ".kt",
   "mimetype": "text/x-kotlin",
   "name": "kotlin",
   "nbconvert_exporter": "",
   "pygments_lexer": "kotlin",
   "version": "1.7.20-dev-1299"
  },
  "varInspector": {
   "cols": {
    "lenName": 16,
    "lenType": 16,
    "lenVar": 40
   },
   "kernels_config": {
    "python": {
     "delete_cmd_postfix": "",
     "delete_cmd_prefix": "del ",
     "library": "var_list.py",
     "varRefreshCmd": "print(var_dic_list())"
    },
    "r": {
     "delete_cmd_postfix": ") ",
     "delete_cmd_prefix": "rm(",
     "library": "var_list.r",
     "varRefreshCmd": "cat(var_dic_list()) "
    }
   },
   "types_to_exclude": [
    "module",
    "function",
    "builtin_function_or_method",
    "instance",
    "_Feature"
   ],
   "window_display": false
  }
 },
 "nbformat": 4,
 "nbformat_minor": 5
}
