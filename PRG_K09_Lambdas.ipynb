{
 "cells": [
  {
   "cell_type": "markdown",
   "id": "03dd0e09",
   "metadata": {
    "toc": true
   },
   "source": [
    "<h1>Table of Contents<span class=\"tocSkip\"></span></h1>\n",
    "<div class=\"toc\"><ul class=\"toc-item\"><li><span><a href=\"#K09.-Lambdas-básico\" data-toc-modified-id=\"K09.-Lambdas-básico-1\">K09. Lambdas básico</a></span><ul class=\"toc-item\"><li><span><a href=\"#1.-Introdución\" data-toc-modified-id=\"1.-Introdución-1.1\">1. Introdución</a></span></li><li><span><a href=\"#2.-Definición-de-Lambdas\" data-toc-modified-id=\"2.-Definición-de-Lambdas-1.2\">2. Definición de Lambdas</a></span><ul class=\"toc-item\"><li><span><a href=\"#Sintaxis-simplificada\" data-toc-modified-id=\"Sintaxis-simplificada-1.2.1\">Sintaxis simplificada</a></span></li></ul></li><li><span><a href=\"#3.-Lambdas-como-argumentos-de-funciones\" data-toc-modified-id=\"3.-Lambdas-como-argumentos-de-funciones-1.3\">3. Lambdas como argumentos de funciones</a></span></li><li><span><a href=\"#4.-Lambdas-sin-valor-de-retorno\" data-toc-modified-id=\"4.-Lambdas-sin-valor-de-retorno-1.4\">4. Lambdas sin valor de retorno</a></span></li><li><span><a href=\"#5.-Clausuras\" data-toc-modified-id=\"5.-Clausuras-1.5\">5. Clausuras</a></span></li></ul></li></ul></div>"
   ]
  },
  {
   "cell_type": "markdown",
   "id": "ad869821",
   "metadata": {},
   "source": [
    "# K09. Lambdas básico\n",
    "---"
   ]
  },
  {
   "cell_type": "markdown",
   "id": "417b0721",
   "metadata": {},
   "source": [
    "## 1. Introdución\n",
    "---"
   ]
  },
  {
   "cell_type": "markdown",
   "id": "cb814157",
   "metadata": {},
   "source": [
    "Las funciones **lambda** también se conocen como **funciones anónimas**. Su nombre proviene del [cálculo lambda](https://es.wikipedia.org/wiki/C%C3%A1lculo_lambda), introducido por **Alonzo Church** y **Stephen Kleene** en la década de 1930, en un intento de crear un sistema formal de definición de funciones computables.\n",
    "\n",
    "<br>En algunos lenguajes, las funciones lambda son sinónimos también de las [**clausuras**](https://es.wikipedia.org/wiki/Clausura_(inform%C3%A1tica)), cuyo nombre provienen de su capacidad de \"enclaustrar\" las variables del mismo ámbito en el que se definió la función. Es decir, una función lambda puede acceder y manipular cualquier variable del contexto circundante, actuando como una función anidada dentro de otra."
   ]
  },
  {
   "cell_type": "markdown",
   "id": "acbf8794",
   "metadata": {},
   "source": [
    "## 2. Definición de Lambdas\n",
    "---"
   ]
  },
  {
   "cell_type": "markdown",
   "id": "909fdebd",
   "metadata": {},
   "source": [
    "<br>Dado que las lambdas no tienen nombre, ¿cómo las definimos e invocamos? \n",
    "\n",
    "<br>Para poder usar una lambda, lo primero que tenemos que hacer es asignarla a una variable o constante, cuyo tipo será el correspondiente a la firma (_signature_) de la función lambda. Es lo que llamamos **tipo de función**, como por ejemplo ```(Int) -> String``` que representa el fipo de una función con un parámetro de tipo ```Int``` y un valor de retorno de tipo  ```String```"
   ]
  },
  {
   "cell_type": "code",
   "execution_count": null,
   "id": "379fc64b",
   "metadata": {},
   "outputs": [],
   "source": [
    "val multLambda: (Int, Int) -> Int = { a, b ->\n",
    "    a * b\n",
    "}"
   ]
  },
  {
   "cell_type": "markdown",
   "id": "63efc398",
   "metadata": {},
   "source": [
    "En el ejemplo anterior, creamos una variable (```multLambda```) con el tipo función: ```(Int, Int) -> Int```. Es decir, dicha variable podrá referenciar una función que reciba dos argumentos de tipo entero y devuelva un valor entero.\n",
    "\n",
    "<br>A continuación, le asignamos (=) un valor, como a cualquier otra variable o constante. La diferencia es que, en este caso, el valor será el **cuerpo de una función**. En dicha función declaramos los parámetros **a** y **b**, que serán los receptores de los argumentos, y tras el **->** añadiremos las sentencias del cuerpo de la función. El valor devuelto por la expresión de la última línea del cuerpo, será el valor devuelto por la función.\n",
    "\n",
    "<br>Ahora, podemos usar nuestra variable como si de una función se tratara (a diferencia de las funciones, las lambdas no permiten usar los nombres de los parámetros en el paso de argumentos. Es decir, no podemos hacer algo como: ```multLambda(a=2, b=3)```)"
   ]
  },
  {
   "cell_type": "code",
   "execution_count": null,
   "id": "f014d4ae",
   "metadata": {},
   "outputs": [],
   "source": [
    "multLambda(2, 3)"
   ]
  },
  {
   "cell_type": "markdown",
   "id": "57a54171",
   "metadata": {},
   "source": [
    "Alternativamente, podríamos usar la siguiente sintaxis para declarar nuestra lambda anterior:"
   ]
  },
  {
   "cell_type": "code",
   "execution_count": null,
   "id": "508ccf1c",
   "metadata": {},
   "outputs": [],
   "source": [
    "val multLambdaInf = { a: Int, b: Int ->\n",
    "    a * b\n",
    "}"
   ]
  },
  {
   "cell_type": "markdown",
   "id": "01a5b66b",
   "metadata": {},
   "source": [
    "En este caso, añadimos el tipo a los parámetros de la función, por lo que el tipo de la constante ```(Int, Int) -> Int``` se obtiendrá por **inferencia**"
   ]
  },
  {
   "cell_type": "code",
   "execution_count": null,
   "id": "a5193887",
   "metadata": {},
   "outputs": [],
   "source": [
    "multLambdaInf(3, 4)"
   ]
  },
  {
   "cell_type": "markdown",
   "id": "4071f1f3",
   "metadata": {},
   "source": [
    "### Sintaxis simplificada"
   ]
  },
  {
   "cell_type": "markdown",
   "id": "abe26b38",
   "metadata": {},
   "source": [
    "Comparadas con las funciones, las lambdas están diseñada para ser ligeras. Existen diversas maneras de simplificar su declaración. Como hemos visto, una de ellas es la inferencia de tipos. \n",
    "\n",
    "\n",
    "<br>Otra característica que ya hemos usado puntualmente es el empleo del **parámetro it**. Para una lambda que tenga **sólo un parámetro**, kotlin usa de forma implícita el término **```it```** para referirse al mismo"
   ]
  },
  {
   "cell_type": "code",
   "execution_count": null,
   "id": "82335155",
   "metadata": {},
   "outputs": [],
   "source": [
    "// devuelve el cuadrado de un número\n",
    "val cuadrado: (Int) -> Int = { it * it }\n",
    "\n",
    "// devuelve el factorial de un número\n",
    "val factorial: (Int) -> Int = { \n",
    "    var fact = 1\n",
    "    for(i in 2..it) fact *= i \n",
    "    fact\n",
    "}"
   ]
  },
  {
   "cell_type": "code",
   "execution_count": null,
   "id": "c84ef0ad",
   "metadata": {
    "scrolled": true
   },
   "outputs": [],
   "source": [
    "val n = 5\n",
    "println(\"El cuadrado de $n es ${cuadrado(n)}\")\n",
    "println(\"El factorial de $n es ${factorial(n)}\")"
   ]
  },
  {
   "cell_type": "markdown",
   "id": "ee9e2dc1",
   "metadata": {},
   "source": [
    "## 3. Lambdas como argumentos de funciones\n",
    "---"
   ]
  },
  {
   "cell_type": "markdown",
   "id": "3d790754",
   "metadata": {},
   "source": [
    "En kotlin las funciones son **_first-class_**, por lo que son tratadas como cualquier otra variable y pueden ser pasadas como argumento o devuleta como resultado de otra función. Lógicamente, esto también es aplicable a las lambdas.\n",
    "\n",
    "<br>A modo de ejemplo, definamos una fucnión donde uno de sus parámetros es de **tipo función**, es decir, espera recibir una función los los parámetros y retornos indicados:"
   ]
  },
  {
   "cell_type": "code",
   "execution_count": null,
   "id": "185cca08",
   "metadata": {},
   "outputs": [],
   "source": [
    "fun opera(a: Int, b: Int, operation: (Int, Int) -> Int): Int {\n",
    "    println(\"Realizando la operación...\")\n",
    "    val result = operation(a, b)\n",
    "    println(\"Operación finalizada\")\n",
    "    return result\n",
    "}"
   ]
  },
  {
   "cell_type": "markdown",
   "id": "ed2e9c40",
   "metadata": {},
   "source": [
    "Podemos invocar la función anterior pasándole una lambda..."
   ]
  },
  {
   "cell_type": "code",
   "execution_count": null,
   "id": "7328f48a",
   "metadata": {},
   "outputs": [],
   "source": [
    "// lambda\n",
    "val suma = { a: Int, b: Int -> a + b }\n",
    "\n",
    "opera(5, 3, suma)"
   ]
  },
  {
   "cell_type": "markdown",
   "id": "8ee1ab85",
   "metadata": {},
   "source": [
    "No hay necesidad de definir previamente la lambda, asignarla a una variable local y, posteriormente, pasarla como argumento de la función. Simplemente, podemos decalararla en el momento de pasarla como argumento (declaración **_in-line_**) en la invocación de la función:"
   ]
  },
  {
   "cell_type": "code",
   "execution_count": null,
   "id": "0630341b",
   "metadata": {},
   "outputs": [],
   "source": [
    "opera(3, 4, operation={ a, b -> a + b })"
   ]
  },
  {
   "cell_type": "markdown",
   "id": "13e7d884",
   "metadata": {},
   "source": [
    "En el ejemplo anterior, los tipos de los parámetros de la lambda se infieren automáticamente de la declaración de la función a la que se va a pasar la lambda como argumento.\n",
    "\n",
    "<br>En ocasiones nos encontraremos con la siguiente sintáxis, donde la declaración de la lambda se saca fuera de los paréntesis (esto sólo se puede hacer si el parámetro de tipo función es el último de la lista de parámetros)"
   ]
  },
  {
   "cell_type": "code",
   "execution_count": null,
   "id": "80d7fcf9",
   "metadata": {
    "scrolled": true
   },
   "outputs": [],
   "source": [
    "opera(3, 4) { a, b -> a + b }"
   ]
  },
  {
   "cell_type": "markdown",
   "id": "de99c5dd",
   "metadata": {},
   "source": [
    "## 4. Lambdas sin valor de retorno\n",
    "---"
   ]
  },
  {
   "cell_type": "markdown",
   "id": "dc6435a9",
   "metadata": {},
   "source": [
    "Las lambdas siempre devuelven el valor de la última expresión contenida en su cuerpo de función. En caso de no queramos que dicha lambda devuelva un valor, debemos indicarlo de forma explícita estableciendo **```Unit```** como valor de retorno en la declaración de la lambda"
   ]
  },
  {
   "cell_type": "code",
   "execution_count": null,
   "id": "36f64441",
   "metadata": {},
   "outputs": [],
   "source": [
    "val lambdaSinRetorno: () -> Unit = {\n",
    "    println(\"No tengo parámetros y tampoco devuelvo nada\")\n",
    "}\n",
    "\n",
    "lambdaSinRetorno()"
   ]
  },
  {
   "cell_type": "markdown",
   "id": "a64fd1a8",
   "metadata": {},
   "source": [
    "<br>En realidad, la función anterior sí que devuelve \"algo\" (Unit) aunque sin un significado o valor concreto que podamos usar. Como vimos en su momento, podemos definir funciones que no retornen nunca (por lo que nunca devolverán nada), en cuyo caso podemos establecer el tipo del retorno a **```Nothing```**. Una lambda de ese tipo puede ser como la siguiente, que lanza una excepción, con lo que se aborta la ejecución de la función:"
   ]
  },
  {
   "cell_type": "code",
   "execution_count": null,
   "id": "b6b655ef",
   "metadata": {},
   "outputs": [],
   "source": [
    "val exitWithException: () -> Nothing = {\n",
    "    throw NullPointerException()\n",
    "}"
   ]
  },
  {
   "cell_type": "markdown",
   "id": "68833b56",
   "metadata": {},
   "source": [
    "## 5. Clausuras\n",
    "---"
   ]
  },
  {
   "cell_type": "markdown",
   "id": "95006eb9",
   "metadata": {},
   "source": [
    "Una característica importante de las lambdas es que actúan como **clausuras**, pudiendo por tanto acceder a las variables y constantes de su propio ámbito. Recordemos que el ámbito define el rango en que una variable, constante,... puede ser accedida. Las lambdas **heredan** todas las entidades del ámbito en el que son definidas.\n",
    "\n",
    "<br>Por ejemplo:"
   ]
  },
  {
   "cell_type": "code",
   "execution_count": null,
   "id": "61f215f7",
   "metadata": {},
   "outputs": [],
   "source": [
    "var contador = 0\n",
    "val incrementaContador = { contador += 1 }"
   ]
  },
  {
   "cell_type": "markdown",
   "id": "e762c37b",
   "metadata": {},
   "source": [
    "A pesar de que la varaible ```contador``` está definida fuera de la lambda, como pertenece al ámbito en que fue declarada, podremos acceder a ella desde dentro de la misma. Es decir, ```contador``` no es una variable local a la lambda, si no que estamos accediendo a una variable externa al cuerpo de la misma como podemos ver al ejecutar el siguiente código"
   ]
  },
  {
   "cell_type": "code",
   "execution_count": null,
   "id": "9609ed1e",
   "metadata": {},
   "outputs": [],
   "source": [
    "incrementaContador()\n",
    "incrementaContador()\n",
    "incrementaContador()\n",
    "incrementaContador()\n",
    "incrementaContador()\n",
    "\n",
    "println(\"contador = $contador\")"
   ]
  },
  {
   "cell_type": "markdown",
   "id": "697c61f6",
   "metadata": {},
   "source": [
    "EL hecho de que las lambdas puedan \"capturar\" variables fuera de su ámbito local, puede ser extremadamente útil. Por ejemplo, la siguietne función:"
   ]
  },
  {
   "cell_type": "code",
   "execution_count": null,
   "id": "f77541a2",
   "metadata": {},
   "outputs": [],
   "source": [
    "fun creaContador(): () -> Int {\n",
    "    var cont = 0\n",
    "    val incrementaCont: () -> Int = {\n",
    "        cont += 1\n",
    "        cont\n",
    "    }\n",
    "    return incrementaCont    \n",
    "}"
   ]
  },
  {
   "cell_type": "markdown",
   "id": "7dcd7ebb",
   "metadata": {},
   "source": [
    "La función anterior no recibe argumentos y devuelve una lambda, la cual tampoco define parámetros y devuelve un valor entero (```() -> Int```). La lambda devuelta por esta función incrementará su contador interno cada vez que la invoquemos:"
   ]
  },
  {
   "cell_type": "code",
   "execution_count": null,
   "id": "229b648f",
   "metadata": {
    "scrolled": true
   },
   "outputs": [],
   "source": [
    "// creamos dos contaadores independientes\n",
    "val counter1 = creaContador()\n",
    "val counter2 = creaContador()\n",
    "\n",
    "println(\"contador1 = ${counter1()}\")\n",
    "println(\"contador2 = ${counter2()}\")\n",
    "println(\"contador2 = ${counter2()}\")\n",
    "println(\"contador1 = ${counter1()}\")\n",
    "println(\"contador1 = ${counter1()}\")"
   ]
  },
  {
   "cell_type": "markdown",
   "id": "55fc0044",
   "metadata": {},
   "source": [
    "Aquí, es importante fijarse como en el momento de llamar a la función **```creaContador()```**, se ha creado una lambda asignada a la constante **```incrementaCont```** que ha **capturado** las variables y constantes del ámbito de la función, con los valores que tuvieran en ese momento. Así, aunque dicho ámbito se destruya al finalizar la función, o se cree un nuevo al invocarla de nuevo, la lambda generada tendrá una \"copia\" del estado en el momento que fue creada"
   ]
  }
 ],
 "metadata": {
  "kernelspec": {
   "display_name": "Kotlin",
   "language": "kotlin",
   "name": "kotlin"
  },
  "language_info": {
   "codemirror_mode": "text/x-kotlin",
   "file_extension": ".kt",
   "mimetype": "text/x-kotlin",
   "name": "kotlin",
   "nbconvert_exporter": "",
   "pygments_lexer": "kotlin",
   "version": "1.8.0-RC"
  },
  "toc": {
   "base_numbering": 1,
   "nav_menu": {},
   "number_sections": false,
   "sideBar": true,
   "skip_h1_title": false,
   "title_cell": "Table of Contents",
   "title_sidebar": "Contents",
   "toc_cell": true,
   "toc_position": {},
   "toc_section_display": true,
   "toc_window_display": false
  },
  "varInspector": {
   "cols": {
    "lenName": 16,
    "lenType": 16,
    "lenVar": 40
   },
   "kernels_config": {
    "python": {
     "delete_cmd_postfix": "",
     "delete_cmd_prefix": "del ",
     "library": "var_list.py",
     "varRefreshCmd": "print(var_dic_list())"
    },
    "r": {
     "delete_cmd_postfix": ") ",
     "delete_cmd_prefix": "rm(",
     "library": "var_list.r",
     "varRefreshCmd": "cat(var_dic_list()) "
    }
   },
   "types_to_exclude": [
    "module",
    "function",
    "builtin_function_or_method",
    "instance",
    "_Feature"
   ],
   "window_display": false
  }
 },
 "nbformat": 4,
 "nbformat_minor": 5
}
