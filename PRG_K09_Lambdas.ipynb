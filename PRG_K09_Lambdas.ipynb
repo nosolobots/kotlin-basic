{
 "cells": [
  {
   "cell_type": "markdown",
   "id": "ad869821",
   "metadata": {},
   "source": [
    "# K09. Lambdas básico\n",
    "---"
   ]
  },
  {
   "cell_type": "markdown",
   "id": "417b0721",
   "metadata": {},
   "source": [
    "## 1. Introdución\n",
    "---"
   ]
  },
  {
   "cell_type": "markdown",
   "id": "cb814157",
   "metadata": {},
   "source": [
    "Las funciones **lambda** también se conocen como **funciones anónimas**. Su nombre proviene del [cálculo lambda](https://es.wikipedia.org/wiki/C%C3%A1lculo_lambda), introducido por **Alonzo Church** y **Stephen Kleene** en la década de 1930, en un intento de crear un sistema formal de definición de funciones computables.\n",
    "\n",
    "<br>En algunos lenguajes, las funciones lambda son sinónimos también de las [**clausuras**](https://es.wikipedia.org/wiki/Clausura_(inform%C3%A1tica)), cuyo nombre provienen de su capacidad de \"enclaustrar\" las variables del mismo ámbito en el que se definió la función. Es decir, una función lambda puede acceder y manipular cualquier variable del contexto circundante, actuando como una función anidada dentro de otra."
   ]
  },
  {
   "cell_type": "markdown",
   "id": "acbf8794",
   "metadata": {},
   "source": [
    "## 2. Definición de Lambdas\n",
    "---"
   ]
  },
  {
   "cell_type": "markdown",
   "id": "909fdebd",
   "metadata": {},
   "source": [
    "<br>Dado que las lambdas no tienen nombre, ¿cómo las definimos e invocamos? \n",
    "\n",
    "<br>Para poder usar una lambda, lo primero que tenemos que hacer es asignarla a una variable o constante, cuyo tipo será el correspondiente a la firma (_signature_) de la función lambda. Es lo que llamamos **tipo de función**, como por ejemplo ```(Int) -> String``` que representa el fipo de una función con un parámetro de tipo ```Int``` y un valor de retorno de tipo  ```String```"
   ]
  },
  {
   "cell_type": "code",
   "execution_count": null,
   "id": "379fc64b",
   "metadata": {},
   "outputs": [],
   "source": [
    "val multLambda: (Int, Int) -> Int = { a, b ->\n",
    "    a * b\n",
    "}"
   ]
  },
  {
   "cell_type": "markdown",
   "id": "63efc398",
   "metadata": {},
   "source": [
    "En el ejemplo anterior, creamos una variable (```multLambda```) con el tipo función: ```(Int, Int) -> Int```. Es decir, dicha variable podrá referenciar una función que reciba dos argumentos de tipo entero y devuelva un valor entero.\n",
    "\n",
    "<br>A continuación, le asignamos (=) un valor, como a cualquier otra variable o constante. La diferencia es que, en este caso, el valor será el **cuerpo de una función**. En dicha función declaramos los parámetros **a** y **b**, que serán los receptores de los argumentos, y tras el **->** añadiremos las sentencias del cuerpo de la función. El valor devuelto por la expresión de la última línea del cuerpo, será el valor devuelto por la función.\n",
    "\n",
    "<br>Ahora, podemos usar nuestra variable como si de una función se tratara:"
   ]
  },
  {
   "cell_type": "code",
   "execution_count": null,
   "id": "f014d4ae",
   "metadata": {},
   "outputs": [],
   "source": [
    "multLambda(2, 3)"
   ]
  },
  {
   "cell_type": "markdown",
   "id": "57a54171",
   "metadata": {},
   "source": [
    "Alternativamente, podríamos usar la siguiente sintaxis para declarar nuestra lambda anterior:"
   ]
  },
  {
   "cell_type": "code",
   "execution_count": null,
   "id": "508ccf1c",
   "metadata": {},
   "outputs": [],
   "source": [
    "val multLambdaInf = { a: Int, b: Int ->\n",
    "    a * b\n",
    "}"
   ]
  },
  {
   "cell_type": "markdown",
   "id": "01a5b66b",
   "metadata": {},
   "source": [
    "En este caso, añadimos el tipo a los parámetros de la función, por lo que el tipo de la constante ```(Int, Int) -> Int``` se obtiene por **inferencia**"
   ]
  },
  {
   "cell_type": "code",
   "execution_count": null,
   "id": "a5193887",
   "metadata": {},
   "outputs": [],
   "source": [
    "multLambdaInf(3, 4)"
   ]
  }
 ],
 "metadata": {
  "kernelspec": {
   "display_name": "Kotlin",
   "language": "kotlin",
   "name": "kotlin"
  },
  "language_info": {
   "codemirror_mode": "text/x-kotlin",
   "file_extension": ".kt",
   "mimetype": "text/x-kotlin",
   "name": "kotlin",
   "nbconvert_exporter": "",
   "pygments_lexer": "kotlin",
   "version": "1.7.20-dev-1299"
  },
  "varInspector": {
   "cols": {
    "lenName": 16,
    "lenType": 16,
    "lenVar": 40
   },
   "kernels_config": {
    "python": {
     "delete_cmd_postfix": "",
     "delete_cmd_prefix": "del ",
     "library": "var_list.py",
     "varRefreshCmd": "print(var_dic_list())"
    },
    "r": {
     "delete_cmd_postfix": ") ",
     "delete_cmd_prefix": "rm(",
     "library": "var_list.r",
     "varRefreshCmd": "cat(var_dic_list()) "
    }
   },
   "types_to_exclude": [
    "module",
    "function",
    "builtin_function_or_method",
    "instance",
    "_Feature"
   ],
   "window_display": false
  }
 },
 "nbformat": 4,
 "nbformat_minor": 5
}
