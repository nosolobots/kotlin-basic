{
 "cells": [
  {
   "cell_type": "markdown",
   "id": "137fb30a",
   "metadata": {
    "toc": true
   },
   "source": [
    "<h1>Table of Contents<span class=\"tocSkip\"></span></h1>\n",
    "<div class=\"toc\"><ul class=\"toc-item\"><li><span><a href=\"#K13.-Clases.-Conceptos-avanzados\" data-toc-modified-id=\"K13.-Clases.-Conceptos-avanzados-1\">K13. Clases. Conceptos avanzados</a></span><ul class=\"toc-item\"><li><span><a href=\"#1.-Herencia\" data-toc-modified-id=\"1.-Herencia-1.1\">1. Herencia</a></span><ul class=\"toc-item\"><li><span><a href=\"#Polimorfismo\" data-toc-modified-id=\"Polimorfismo-1.1.1\">Polimorfismo</a></span></li><li><span><a href=\"#Chequeo-de-Tipo\" data-toc-modified-id=\"Chequeo-de-Tipo-1.1.2\">Chequeo de Tipo</a></span></li><li><span><a href=\"#Sobreescritura-de-Métodos\" data-toc-modified-id=\"Sobreescritura-de-Métodos-1.1.3\">Sobreescritura de Métodos</a></span></li></ul></li><li><span><a href=\"#2.-Clases-abstractas\" data-toc-modified-id=\"2.-Clases-abstractas-1.2\">2. Clases abstractas</a></span><ul class=\"toc-item\"><li><span><a href=\"#Clases-selladas-(Sealed-Classes)\" data-toc-modified-id=\"Clases-selladas-(Sealed-Classes)-1.2.1\">Clases selladas (<em>Sealed Classes</em>)</a></span></li></ul></li><li><span><a href=\"#3.-Constructores-secundarios\" data-toc-modified-id=\"3.-Constructores-secundarios-1.3\">3. Constructores secundarios</a></span></li><li><span><a href=\"#4.-Clases-anidadas-e-internas\" data-toc-modified-id=\"4.-Clases-anidadas-e-internas-1.4\">4. Clases anidadas e internas</a></span></li><li><span><a href=\"#5.-Modificadores-de-visibilidad\" data-toc-modified-id=\"5.-Modificadores-de-visibilidad-1.5\">5. Modificadores de visibilidad</a></span></li><li><span><a href=\"#6.-Ejercicios\" data-toc-modified-id=\"6.-Ejercicios-1.6\">6. Ejercicios</a></span><ul class=\"toc-item\"><li><span><a href=\"#Soluciones\" data-toc-modified-id=\"Soluciones-1.6.1\">Soluciones</a></span></li></ul></li></ul></li></ul></div>"
   ]
  },
  {
   "cell_type": "markdown",
   "id": "090616fb",
   "metadata": {},
   "source": [
    "# K13. Clases. Conceptos avanzados\n",
    "---"
   ]
  },
  {
   "cell_type": "markdown",
   "id": "704f235b",
   "metadata": {},
   "source": [
    "En un cuaderno previo, introdujimos el concepto de clase. Vamos a seguir explorando conceptos mñas avanzados de la programación orientada a objetos en Kotlin como la herencia, polimorfismo, clases abstractas y modificadores de acceso"
   ]
  },
  {
   "cell_type": "markdown",
   "id": "12d3f85c",
   "metadata": {},
   "source": [
    "## 1. Herencia\n",
    "---"
   ]
  },
  {
   "cell_type": "markdown",
   "id": "17beab55",
   "metadata": {},
   "source": [
    "Como ya sabemos, la idea principal tras la herencia es la de propagar una serie de atributos y comportamientos comunes hacia abajo por una jerarquía de clases.\n",
    "\n",
    "<br>Al igual que en Java, una clase en Kotlin sólo podrá heredar de **único** padre (además de la clase **```Any```**, similar a **Object** en Java, de la que heredan todas)"
   ]
  },
  {
   "cell_type": "code",
   "execution_count": null,
   "id": "7353d57a",
   "metadata": {},
   "outputs": [],
   "source": [
    "data class Nota(val letra: Char, val puntos: Double, val creditos: Double)\n",
    "\n",
    "open class Persona(var nombre: String, var apellidos: String) {\n",
    "    fun nombreCompleto() = \"$nombre $apellidos\"\n",
    "}\n",
    "\n",
    "class Estudiante(nombre: String, apellidos: String,\n",
    "    var notas: MutableList<Nota> = mutableListOf())\n",
    "    : Persona(nombre, apellidos) {\n",
    "\n",
    "    fun addNota(nota: Nota) {\n",
    "        notas += nota\n",
    "    }\n",
    "}"
   ]
  },
  {
   "cell_type": "markdown",
   "id": "05ef331c",
   "metadata": {},
   "source": [
    "En el ejemplo anterior, la clase **```Estudiante```** **hereda** de **```Persona```**. Veamos algunas particularidades respecto a la sintaxis:\n",
    "\n",
    "- Para indicar que una clase es subclase de otra (hereda), lo indicamos añadiendo dos puntos (**:**) y el nombre de la superclase antes del cuerpo de la misma\n",
    "- Para poder heredar de una clase, ésta tiene que tener el modificador **```open```**. E Kotlin, las clases y métodos son finales por defecto, por lo que no se pueden heredar unas ni sobreescribir los otros\n",
    "- En Estudiante, los parámetros **```nombre```** y **```apellidos```** son simples argumentos (fíjate que no usamos ```var``` ni ```val```) que empleamos para pasar al constructor primario de **```Persona```**, que es donde están definidas dichas **propiedades** y que heredará **```Estudiante```**\n",
    "- **```Estudiante```** también hereda cualquier método definido en **```Persona```**, pero sólo lo podrá sobreescribir si está declarado como **```open```**"
   ]
  },
  {
   "cell_type": "code",
   "execution_count": null,
   "id": "9a90fb60",
   "metadata": {
    "scrolled": true
   },
   "outputs": [],
   "source": [
    "val john = Persona(nombre = \"John\", apellidos = \"Doe\")\n",
    "val jane = Estudiante(nombre = \"Jane\", apellidos = \"Doe\")\n",
    "\n",
    "println(john.nombreCompleto())\n",
    "println(jane.nombreCompleto())\n",
    "\n",
    "val mates1 = Nota(letra = 'B', puntos = 8.5, creditos = 3.0)\n",
    "jane.addNota(mates1)"
   ]
  },
  {
   "cell_type": "markdown",
   "id": "eca6d28b",
   "metadata": {},
   "source": [
    "### Polimorfismo"
   ]
  },
  {
   "cell_type": "markdown",
   "id": "15fb469a",
   "metadata": {},
   "source": [
    "Una de las características de la programación orientada a objetos, es la posibilidad de tratar de forma diferente un objeto en base al contexto. Es lo que llamamos **polimorfismo**\n",
    "\n",
    "<br>El polimorfismo está intimamente ligado con la herencia. El hecho de que una variable de un tipo de una superclase pueda referenciar a cualquier objeto de una subclase, nos permite tratar de forma conjunta a todas esas instancias hijas. Al mismo tiempo, gracias al polimorfismo, se invocará en cada caso la implementación específica de los métodos heredados y sobreescritos."
   ]
  },
  {
   "cell_type": "code",
   "execution_count": null,
   "id": "2f2bdcd2",
   "metadata": {},
   "outputs": [],
   "source": [
    "open class Animal(val nombre: String) {\n",
    "    open fun habla() { print(\"Soy $nombre: \") }\n",
    "}\n",
    "\n",
    "class Gato(mote: String): Animal(mote) {\n",
    "    override fun habla() { \n",
    "        super.habla()\n",
    "        println(\"miau!\") \n",
    "    }\n",
    "}\n",
    "\n",
    "class Perro(mote: String): Animal(mote) {\n",
    "    override fun habla() { \n",
    "        super.habla()\n",
    "        println(\"guau!\") \n",
    "    }\n",
    "}\n",
    "\n",
    "val animales = listOf<Animal>(Gato(\"Silvestre\"), Perro(\"Scooby\"), Gato(\"Tom\"))\n",
    "animales.forEach { it.habla() }"
   ]
  },
  {
   "cell_type": "markdown",
   "id": "0af3afcb",
   "metadata": {},
   "source": [
    "Respecto al ejemplo anterior:\n",
    "\n",
    "- El método **```habla()```** del padre debe estar definido como **```open```** para poder sobreescribirlo por las clases hijas\n",
    "- A su vez, las clases hijas lo \"marcarán\" como **```override```** para indicar que están sobreescribiendo un método del padre\n",
    "- Vemos como la lista está definnida para contener objetos de tipo **```Animal```**, aunque las instancias añadidas son todas de alguno de sus hijos\n",
    "- Cada vez que invoquemos el método ```**habla()**``` de alguna de estas instancias contenidas en la lista, se invocará la versión específica del objeto concreto (**polimorfismo**)\n",
    "- Desde una clase hija podemos acceder a los miembros del padre haciendo uso de la referencia **```super```**\n"
   ]
  },
  {
   "cell_type": "markdown",
   "id": "786f439f",
   "metadata": {},
   "source": [
    "### Chequeo de Tipo"
   ]
  },
  {
   "cell_type": "markdown",
   "id": "bd24d30b",
   "metadata": {},
   "source": [
    "Debido al polimorfismo, nos podemos encontrar en situaciones donde necesitemos verificar el tipo específico de la instancia referenciada por una variable. Para ello, podemos usar el operador **```is```**"
   ]
  },
  {
   "cell_type": "code",
   "execution_count": null,
   "id": "b2a95fad",
   "metadata": {},
   "outputs": [],
   "source": [
    "// constante de tipo Animal que referencia una instancia de Gato\n",
    "val animal: Animal = Gato(\"Tom\")\n",
    "\n",
    "println(animal is Gato)\n",
    "println(animal is Perro)"
   ]
  },
  {
   "cell_type": "markdown",
   "id": "ef9cb63d",
   "metadata": {},
   "source": [
    "También disponemos de operadores que nos van a permitir hacer un **cast** de forma segura hacia un supertipo o un subtipo\n",
    "\n",
    "- **```as```**, nos permite hacer un **unsafe cast** en tiempo de compilación a un tipo que sabemos que no va a fallar (por ejemplo, a un supertipo)\n",
    "- **```as?```**, nos permite hacer un **safe cast** que, en caso de fallar, nos devolverá **```null```** (por ejemplo, a un subtipo)"
   ]
  },
  {
   "cell_type": "code",
   "execution_count": null,
   "id": "8c026eeb",
   "metadata": {},
   "outputs": [],
   "source": [
    "val tom = Gato(\"Tom\") // es un Gato\n",
    "\n",
    "val animal = tom as Animal \n",
    "val perro = animal as? Perro // este cast devolverá nulo\n",
    "\n",
    "println(perro)"
   ]
  },
  {
   "cell_type": "markdown",
   "id": "f84117c5",
   "metadata": {},
   "source": [
    "### Sobreescritura de Métodos"
   ]
  },
  {
   "cell_type": "markdown",
   "id": "e7658893",
   "metadata": {},
   "source": [
    "Las subclases, además de heredar las propiedades y métodos de su superclase y definir los suyos propios, puede **sobreescribir** los métodos heredados de su padre.\n",
    "\n",
    "<br>Como ya se comentó previamente, el método de la superclase debe ir acompañado del modificador **```open```**. De forma similar, el método sobreescrito en la sublase irá precedido por **```override```**, resaltando de forma inequívoca que estamos sobreescribiendo un método heredado. Lógicamente, el método sobreescrito deberá tener la misma firma que el método del padre"
   ]
  },
  {
   "cell_type": "code",
   "execution_count": null,
   "id": "7030aa7a",
   "metadata": {},
   "outputs": [],
   "source": [
    "open class Shape {\n",
    "    open fun area(): Double { return 0.0  }\n",
    "}\n",
    "\n",
    "class Rect(val width: Double, val height: Double): Shape() {\n",
    "    override fun area() = width * height\n",
    "}\n",
    "\n",
    "class Circle(val radius: Double): Shape() {\n",
    "    override fun area() = kotlin.math.PI * radius * radius\n",
    "}"
   ]
  },
  {
   "cell_type": "code",
   "execution_count": null,
   "id": "8c71573c",
   "metadata": {},
   "outputs": [],
   "source": [
    "val r = Rect(2.0, 4.0)\n",
    "println(\"area del rectángulo = ${r.area()}\")\n",
    "\n",
    "val c = Circle(2.0)\n",
    "println(\"area del círculo = ${c.area()}\")"
   ]
  },
  {
   "cell_type": "markdown",
   "id": "91f89f33",
   "metadata": {},
   "source": [
    "## 2. Clases abstractas\n",
    "---"
   ]
  },
  {
   "cell_type": "markdown",
   "id": "0ee648f8",
   "metadata": {},
   "source": [
    "En determinadas situaciones, como las clases de ejemplo **```Animal```** o **```Shape```**, no tiene sentido instanciar directamente objetos de las mismas. Podemos prevenir esto definiéndolas como **clases abstractas**. Para ello, antepondremos el modificador **```abstract```** en la declaración de la clase.\n",
    "\n",
    "<br>Al contrario de lo que ocurre con una clase normal, las clases abstractas son **```open```** por defecto (lo contrario no tendría sentido)\n",
    "\n",
    "<br>Dentro de la clase abstracta podemos tener métodos con cuerpo y métodos sin él. Estos últimos deberán declarase a su vez como **```abstract```** y las subclases estarán obligadas a implementarlos (o a ser declaradas como clases abstractas)\n",
    "\n",
    "<br>Por ejemplo, vamos a redefinir nuestra clase **```Shape```** anterior como clase abstracta:"
   ]
  },
  {
   "cell_type": "code",
   "execution_count": null,
   "id": "8eea5d01",
   "metadata": {},
   "outputs": [],
   "source": [
    "abstract class Shape {\n",
    "    abstract fun area(): Double // no tiene cuerpo\n",
    "}\n",
    "\n",
    "class Rect(val width: Double, val height: Double): Shape() {\n",
    "    override fun area() = width * height\n",
    "}\n",
    "\n",
    "class Circle(val radius: Double): Shape() {\n",
    "    override fun area() = kotlin.math.PI * radius * radius\n",
    "}"
   ]
  },
  {
   "cell_type": "code",
   "execution_count": null,
   "id": "623cfa3d",
   "metadata": {},
   "outputs": [],
   "source": [
    "// no podemos crear objetos de Shape porque es abstracta\n",
    "// la siguiente línea generaría un error\n",
    "//val geom = Shape()\n",
    "\n",
    "val r = Rect(2.0, 4.0)\n",
    "println(\"area del rectángulo = ${r.area()}\")\n",
    "\n",
    "val c = Circle(2.0)\n",
    "println(\"area del círculo = ${c.area()}\")"
   ]
  },
  {
   "cell_type": "markdown",
   "id": "bfdaed9c",
   "metadata": {},
   "source": [
    "### Clases selladas (_Sealed Classes_)"
   ]
  },
  {
   "cell_type": "markdown",
   "id": "355fbf56",
   "metadata": {},
   "source": [
    "Las clases selladas o _sealed classes_ son clases abstractas de las que sólo existe un conjunto predefinido de subclases. En cierto modo, son similares a los tipos enumerados con la diferencia de que podemos tener múltiples instancias de dichos subtipos.\n",
    "\n",
    "<br>Por ejemplo, vamos a convertir la jerarquía **```Shape```** anterior en clases selladas. Nuestra clase **```Shape```** seguirá siendo abstracta pero, ahora, sólo podremos crear objetos de alguna de las clases hijas definidas en su interior. No podemos crear clases que hereden de **```Shape```** fuera del conjunto"
   ]
  },
  {
   "cell_type": "code",
   "execution_count": null,
   "id": "6623cdca",
   "metadata": {},
   "outputs": [],
   "source": [
    "sealed class Shape {\n",
    "    abstract fun area(): Double // no tiene cuerpo\n",
    "    \n",
    "    class Rect(val width: Double, val height: Double): Shape() {\n",
    "        override fun area() = width * height\n",
    "    }\n",
    "\n",
    "    class Circle(val radius: Double): Shape() {\n",
    "        override fun area() = kotlin.math.PI * radius * radius\n",
    "    }\n",
    "}\n",
    "\n"
   ]
  },
  {
   "cell_type": "code",
   "execution_count": null,
   "id": "3c828a0d",
   "metadata": {},
   "outputs": [],
   "source": [
    "// no podemos crear objetos de Shape porque es abstracta\n",
    "// la siguiente línea generaría un error\n",
    "//val geom = Shape()\n",
    "\n",
    "val r = Rect(3.0, 4.0)\n",
    "println(\"area del rectángulo = ${r.area()}\")\n",
    "\n",
    "val c = Circle(3.0)\n",
    "println(\"area del círculo = ${c.area()}\")"
   ]
  },
  {
   "cell_type": "markdown",
   "id": "8e4188ad",
   "metadata": {},
   "source": [
    "## 3. Constructores secundarios\n",
    "---"
   ]
  },
  {
   "cell_type": "markdown",
   "id": "231ef793",
   "metadata": {},
   "source": [
    "Hemos visto como definir constructores primarios de clases anexando una lista de propiedades y sus tipos al nombre de la clase. \n",
    "\n",
    "<br>En general, kotlin emplea la palabra reservada **```constructor```** para definir un constructor. En el caso del constructor primario, se incluye de forma implícita y no es necesario añadirla (aunque está permitido)"
   ]
  },
  {
   "cell_type": "code",
   "execution_count": null,
   "id": "bcfdf901",
   "metadata": {},
   "outputs": [],
   "source": [
    "class Persona constructor (var nombre: String, var apellidos: String) {\n",
    "    fun nombreCompleto() = \"$nombre $apellidos\"\n",
    "}"
   ]
  },
  {
   "cell_type": "markdown",
   "id": "f21686cb",
   "metadata": {},
   "source": [
    "Podemo emplear **```constructor```** para definir constructores alternativos (secundarios) de una clase. En este caso, se definnirán dentro del cuerpo de la clase"
   ]
  },
  {
   "cell_type": "code",
   "execution_count": null,
   "id": "5c94c176",
   "metadata": {},
   "outputs": [],
   "source": [
    "class Persona {\n",
    "    var nombre: String \n",
    "    var apellidos: String\n",
    "    var edad: Int\n",
    "    constructor(nombre: String, apellidos: String, edad: Int)  {\n",
    "        this.nombre = nombre\n",
    "        this.apellidos = apellidos\n",
    "        this.edad = edad\n",
    "    }\n",
    "    constructor(nombre: String, apellidos: String) { \n",
    "        this.nombre = nombre\n",
    "        this.apellidos = apellidos\n",
    "        this.edad = -1    \n",
    "    }\n",
    "    constructor() {\n",
    "        this.nombre = \"<SIN NOMBRE>\"\n",
    "        this.apellidos = \"<SIN APELLIDOS>\"\n",
    "        this.edad = -1            \n",
    "    }\n",
    "    \n",
    "    fun nombreCompleto() = \"$nombre $apellidos\"\n",
    "}"
   ]
  },
  {
   "cell_type": "markdown",
   "id": "38d74ac6",
   "metadata": {},
   "source": [
    "En el ejemplo anterior, vemos como se crean tres constructores diferentes para conjuntos de argumentos diferentes.\n",
    "\n",
    "<br>Podemos simplificar el código anterior invocando unos construcores desde otros, añadiendo dos puntos (**:**) y la llamada al constructor que nos interese mediante **```this```**"
   ]
  },
  {
   "cell_type": "code",
   "execution_count": null,
   "id": "0e56da9e",
   "metadata": {},
   "outputs": [],
   "source": [
    "class Persona {\n",
    "    var nombre: String \n",
    "    var apellidos: String\n",
    "    var edad: Int\n",
    "    constructor(nombre: String, apellidos: String, edad: Int)  {\n",
    "        this.nombre = nombre\n",
    "        this.apellidos = apellidos\n",
    "        this.edad = edad\n",
    "    }\n",
    "    constructor(nombre: String, apellidos: String): this(nombre, apellidos, -1) { }\n",
    "    constructor(): this(\"<SIN NOMBRE>\", \"<SIN APELLIDOS>\", -1) { }\n",
    "    \n",
    "    fun nombreCompleto() = \"$nombre $apellidos\"\n",
    "}"
   ]
  },
  {
   "cell_type": "markdown",
   "id": "9681bba7",
   "metadata": {},
   "source": [
    "De hecho, en caso de que la clase tenga constructor primario, estamos obligados a invocarlo desde los constructores secundarios de esta manera"
   ]
  },
  {
   "cell_type": "code",
   "execution_count": null,
   "id": "2f9d7890",
   "metadata": {},
   "outputs": [],
   "source": [
    "class Persona (var nombre: String, var apellidos: String, var edad: Int) {\n",
    "    constructor(nombre: String, apellidos: String): this(nombre, apellidos, -1)  { }\n",
    "    constructor(): this(\"<SIN NOMBRE>\", \"<SIN APELLIDOS>\", -1) { }\n",
    "    \n",
    "    fun nombreCompleto() = \"$nombre $apellidos\"\n",
    "}"
   ]
  },
  {
   "cell_type": "markdown",
   "id": "3e6c859e",
   "metadata": {},
   "source": [
    "Aunque esto lo podremos resolver habitualmente utilizando valores por defecto en el constructor primario..."
   ]
  },
  {
   "cell_type": "code",
   "execution_count": null,
   "id": "72aa282e",
   "metadata": {},
   "outputs": [],
   "source": [
    "class Persona (var nombre: String = \"<SIN NOMBRE>\", \n",
    "               var apellidos: String = \"<SIN APELLIDOS>\", \n",
    "               var edad: Int = 1) {\n",
    "    fun nombreCompleto() = \"$nombre $apellidos\"\n",
    "}"
   ]
  },
  {
   "cell_type": "markdown",
   "id": "00513eca",
   "metadata": {},
   "source": [
    "## 4. Clases anidadas e internas\n",
    "---"
   ]
  },
  {
   "cell_type": "markdown",
   "id": "0309c448",
   "metadata": {},
   "source": [
    "Cuando dos clases están íntimamente relacionadas, a veces es útil definir una dentro del ámbito de la otra"
   ]
  },
  {
   "cell_type": "code",
   "execution_count": null,
   "id": "6179595f",
   "metadata": {},
   "outputs": [],
   "source": [
    "class Coche(val nombreCoche: String) {\n",
    "    class Motor(val nombreMotor: String) {\n",
    "        \n",
    "    }\n",
    "}"
   ]
  },
  {
   "cell_type": "markdown",
   "id": "dea1355f",
   "metadata": {},
   "source": [
    "En este caso, dado que la clase **```Motor```** está definida dentro de **```Coche```**, sólo podremos acceder a ella a través de esta última. Es lo que denominamos una **clase anidada** o **_nested class_**"
   ]
  },
  {
   "cell_type": "code",
   "execution_count": null,
   "id": "4c4f3a1a",
   "metadata": {},
   "outputs": [],
   "source": [
    "val coche = Coche(\"BMW\")\n",
    "val motor = Coche.Motor(\"M8\")\n",
    "\n",
    "println(\"${coche.nombreCoche} ${motor.nombreMotor}\")"
   ]
  },
  {
   "cell_type": "markdown",
   "id": "11bfe3e3",
   "metadata": {},
   "source": [
    "En ptras ocasiones, queremos definir la clase interna como un \"miembro\" más de la clase externa, con acceso a cualquiera de sus otros miembros. Para ello, debería estar declarada como **clase interna** mediante el modificador **```inner```**"
   ]
  },
  {
   "cell_type": "code",
   "execution_count": null,
   "id": "36d10d61",
   "metadata": {},
   "outputs": [],
   "source": [
    "class Coche(var nombreCoche: String) {\n",
    "    inner class Motor(val nombreMotor: String) {  \n",
    "        fun print() {\n",
    "            println(\"Soy el motor $nombreMotor de $nombreCoche\")\n",
    "        }\n",
    "    }\n",
    "}"
   ]
  },
  {
   "cell_type": "markdown",
   "id": "77e526a0",
   "metadata": {},
   "source": [
    "Ahora, las instancias que creemos de **```Motor```** las crearemos como miembros de una instancia de **```Coche```** y tendrán acceso a cualquier otro miembro de la misma"
   ]
  },
  {
   "cell_type": "code",
   "execution_count": null,
   "id": "7b986e97",
   "metadata": {},
   "outputs": [],
   "source": [
    "val coche = Coche(\"BMW\")\n",
    "val motor = coche.Motor(\"M8\")\n",
    "\n",
    "motor.print()"
   ]
  },
  {
   "cell_type": "markdown",
   "id": "557e7f6f",
   "metadata": {},
   "source": [
    "## 5. Modificadores de visibilidad\n",
    "---"
   ]
  },
  {
   "cell_type": "markdown",
   "id": "5f75f4f6",
   "metadata": {},
   "source": [
    "En Kotlin, también podemos restringir el acceso a los diferentes miembros de una clase. En general, son similares a los disponibles en Java. Estos son:\n",
    "\n",
    "- **```public```**: visible por cualquiera (subclase, otros archivos, otros módulos del proyecto,...). Es el modificador **por defecto**\n",
    "- **```private```**: visible sólo de la misma clase para clases, y sólo dentro del mismo archivo para funciones\n",
    "- **```protected```**: visible sólo dentro de la clase y subclases\n",
    "- **```internal```**: visible sólo dentro del mismo **módulo** \n",
    "\n",
    "Normalmente, nos interesará limitar la visibilidad o alcance de nuestras clases y variables tanto como sea posible. "
   ]
  },
  {
   "cell_type": "code",
   "execution_count": null,
   "id": "59210441",
   "metadata": {},
   "outputs": [],
   "source": [
    "class A  {\n",
    "    private var _a: Int = 0\n",
    "    var a: Int\n",
    "        get() = _a\n",
    "        set(value) { \n",
    "            _a = value \n",
    "            a2 = _a * _a\n",
    "        }\n",
    "    \n",
    "    private var _a2: Int = 0\n",
    "    var a2: Int\n",
    "        get() = _a2\n",
    "        private set(value) { _a2 = value }\n",
    "}"
   ]
  },
  {
   "cell_type": "markdown",
   "id": "439fd1fa",
   "metadata": {},
   "source": [
    "La clase anterior define dos propiedades privadas, **```_a```** y **```_a2```**. Estas dos variables actúan como **_backing fields_** (campos de respaldo) de las propiedades públicas **```a```** y **```a2```** y, por tanto, accesibles desde el exterior. En el caso de **```a2```** su _setter_ también es privado y sólo puede ser accedido desde dentro de la propia clase"
   ]
  },
  {
   "cell_type": "code",
   "execution_count": null,
   "id": "93231c0e",
   "metadata": {},
   "outputs": [],
   "source": [
    "val a = A()\n",
    "\n",
    "a.a = 5 // llamamos al setter de A.a (que invoca el setter de A.a2)\n",
    "\n",
    "println(\"a=${a.a} a²=${a.a2}\")"
   ]
  },
  {
   "cell_type": "markdown",
   "id": "2dd342b9",
   "metadata": {},
   "source": [
    "## 6. Ejercicios\n",
    "---"
   ]
  },
  {
   "cell_type": "markdown",
   "id": "290d651a",
   "metadata": {},
   "source": [
    "1. \n",
    "Crea tres clases simples **```A```**, **```B```** y **```C```** donde **```C```** herede de **```B```** y ésta de **```A```**. En cada inicializador imprime el mensaje \"Soy <X>\", donde <X> es el nombre de la clase. Crea una instancia de **```C```** llamada **c**. ¿Qué mensajes se imprimen y en qué orden?"
   ]
  },
  {
   "cell_type": "code",
   "execution_count": null,
   "id": "8a4c2d7a",
   "metadata": {},
   "outputs": [],
   "source": [
    "// SOLUCIÓN\n"
   ]
  },
  {
   "cell_type": "markdown",
   "id": "1195fb14",
   "metadata": {},
   "source": [
    "2.\n",
    "- Haz un cast de la instancia **c** anterior al tipo **```A```**. ¿Qué tipo de cast utilizas y pr qué?\n",
    "- Crea una instancia de **```A```** denominada **a**. ¿Qué ocurre si tratas de hacer un cast de **a** a **```C```**?"
   ]
  },
  {
   "cell_type": "code",
   "execution_count": null,
   "id": "8adf67a2",
   "metadata": {},
   "outputs": [],
   "source": [
    "// SOLUCIÓN\n"
   ]
  },
  {
   "cell_type": "markdown",
   "id": "194d2c62",
   "metadata": {},
   "source": [
    "3. \n",
    "A partir de nuestra jerarquía inicial de Persona -> Estudiante, añade una subclase de Estudiante denominada **```EstudianteBecado```** con la propiedad adicional **importeBeca**. Esta propiedad **sólo** proporcionará acceso de lectura"
   ]
  },
  {
   "cell_type": "code",
   "execution_count": null,
   "id": "2ce6081f",
   "metadata": {},
   "outputs": [],
   "source": [
    "// SOLUCIÓN\n"
   ]
  },
  {
   "cell_type": "markdown",
   "id": "ed277699",
   "metadata": {},
   "source": [
    "### Soluciones\n",
    "---"
   ]
  },
  {
   "cell_type": "markdown",
   "id": "ccd45a7e",
   "metadata": {},
   "source": [
    "##### 1.\n",
    "```kotlin\n",
    "open class A {\n",
    "    init { println(\"Soy A\") }\n",
    "}\n",
    "\n",
    "open class B: A() {\n",
    "    init { println(\"Soy B\") }\n",
    "}\n",
    "\n",
    "open class C: B() {\n",
    "    init { println(\"Soy C\") }\n",
    "}\n",
    "\n",
    "// el constructor de cada clase invoca al de su padre en la jerarquía\n",
    "val c = C()\n",
    "```"
   ]
  },
  {
   "cell_type": "markdown",
   "id": "f4cbc6c8",
   "metadata": {},
   "source": [
    "##### 2.\n",
    "```kotlin\n",
    "// cast de c -> A (siempre posible, no necesitamos hacer as?)\n",
    "val cToA = c as A\n",
    "\n",
    "// cast de a -> C (no se puede hacer cast a una subclase)\n",
    "val a = A()\n",
    "a as? C\n",
    "```"
   ]
  },
  {
   "cell_type": "markdown",
   "id": "7df7e45a",
   "metadata": {},
   "source": [
    "##### 3.\n",
    "```kotlin\n",
    "// Añadir modificador open a Estudiante   \n",
    "class Becado(nombre: String, apellidos: String, val importeBeca: Double): Estudiante(nombre, apellidos) {}\n",
    "```"
   ]
  }
 ],
 "metadata": {
  "kernelspec": {
   "display_name": "Kotlin",
   "language": "kotlin",
   "name": "kotlin"
  },
  "language_info": {
   "codemirror_mode": "text/x-kotlin",
   "file_extension": ".kt",
   "mimetype": "text/x-kotlin",
   "name": "kotlin",
   "nbconvert_exporter": "",
   "pygments_lexer": "kotlin",
   "version": "1.8.0-RC"
  },
  "toc": {
   "base_numbering": 1,
   "nav_menu": {},
   "number_sections": false,
   "sideBar": true,
   "skip_h1_title": false,
   "title_cell": "Table of Contents",
   "title_sidebar": "Contents",
   "toc_cell": true,
   "toc_position": {},
   "toc_section_display": true,
   "toc_window_display": false
  },
  "varInspector": {
   "cols": {
    "lenName": 16,
    "lenType": 16,
    "lenVar": 40
   },
   "kernels_config": {
    "python": {
     "delete_cmd_postfix": "",
     "delete_cmd_prefix": "del ",
     "library": "var_list.py",
     "varRefreshCmd": "print(var_dic_list())"
    },
    "r": {
     "delete_cmd_postfix": ") ",
     "delete_cmd_prefix": "rm(",
     "library": "var_list.r",
     "varRefreshCmd": "cat(var_dic_list()) "
    }
   },
   "types_to_exclude": [
    "module",
    "function",
    "builtin_function_or_method",
    "instance",
    "_Feature"
   ],
   "window_display": false
  }
 },
 "nbformat": 4,
 "nbformat_minor": 5
}
