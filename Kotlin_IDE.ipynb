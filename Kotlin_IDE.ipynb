{
 "cells": [
  {
   "cell_type": "markdown",
   "id": "c53b9ba4",
   "metadata": {
    "toc": true
   },
   "source": [
    "<h1>Table of Contents<span class=\"tocSkip\"></span></h1>\n",
    "<div class=\"toc\"><ul class=\"toc-item\"><li><span><a href=\"#Entornos-de-Desarrollo-para-Kotlin\" data-toc-modified-id=\"Entornos-de-Desarrollo-para-Kotlin-1\">Entornos de Desarrollo para Kotlin</a></span></li><li><span><a href=\"#IntelliJ-IDEA\" data-toc-modified-id=\"IntelliJ-IDEA-2\">IntelliJ IDEA</a></span><ul class=\"toc-item\"><li><span><a href=\"#Creando-un-proyecto-en-IntelliJ-IDEA\" data-toc-modified-id=\"Creando-un-proyecto-en-IntelliJ-IDEA-2.1\">Creando un proyecto en IntelliJ IDEA</a></span></li><li><span><a href=\"#Creando-un-archivo-de-código-fuente\" data-toc-modified-id=\"Creando-un-archivo-de-código-fuente-2.2\">Creando un archivo de código fuente</a></span></li><li><span><a href=\"#Analizando-el-código\" data-toc-modified-id=\"Analizando-el-código-2.3\">Analizando el código</a></span></li><li><span><a href=\"#Ejecutando-el-código\" data-toc-modified-id=\"Ejecutando-el-código-2.4\">Ejecutando el código</a></span></li></ul></li><li><span><a href=\"#Compilación-y-Ejecución-desde-línea-de-comandos\" data-toc-modified-id=\"Compilación-y-Ejecución-desde-línea-de-comandos-3\">Compilación y Ejecución desde línea de comandos</a></span><ul class=\"toc-item\"><li><span><a href=\"#Instalando-el-compilador\" data-toc-modified-id=\"Instalando-el-compilador-3.1\">Instalando el compilador</a></span></li><li><span><a href=\"#Creando-la-aplicación\" data-toc-modified-id=\"Creando-la-aplicación-3.2\">Creando la aplicación</a></span></li><li><span><a href=\"#Compilando-a-bytecode-Java\" data-toc-modified-id=\"Compilando-a-bytecode-Java-3.3\">Compilando a <em>bytecode</em> Java</a></span></li><li><span><a href=\"#Compilando-a-código-nativo\" data-toc-modified-id=\"Compilando-a-código-nativo-3.4\">Compilando a código nativo</a></span></li></ul></li></ul></div>"
   ]
  },
  {
   "cell_type": "markdown",
   "id": "95d0e98f",
   "metadata": {},
   "source": [
    "## Entornos de Desarrollo para Kotlin"
   ]
  },
  {
   "cell_type": "markdown",
   "id": "ee9b75fe",
   "metadata": {},
   "source": [
    "Aunque en este curso de introducción al desarrollo con Kotlin emplearemos principalmente Jupyter notebooks, a la hora de desarrollar una aplicación haremos uso de algún IDE.\n",
    "\n",
    "<br>Aunque técnicamente es posible emplear un simple editor de texto y el compilador de línea de comandos, las herramientas habituales para desarrollo en Kotlin son **IntelliJ IDEA** para aplicaciones en general y **Android Studio** para aplicaciones específicas en el entorno Android."
   ]
  },
  {
   "cell_type": "markdown",
   "id": "546f7697",
   "metadata": {},
   "source": [
    "## IntelliJ IDEA"
   ]
  },
  {
   "cell_type": "markdown",
   "id": "ad584001",
   "metadata": {},
   "source": [
    "[**IntelliJ IDEA**](https://www.jetbrains.com/idea/) es un IDE desarrollado por [**JetBrains**](https://www.jetbrains.com/), los autores de Kotlin. JetBrains es una compañía con una dilatada experiencia en el desarrollo de IDE's para diferentes lenguajes (PyCharm para Python, IntelliJ para Java/Kotlin, CLion para C++,...) [ver](https://www.jetbrains.com/products/#type=ide)\n",
    "\n",
    "<br>Muchos de sus productos, como en el caso de IntelliJ IDEA, disponen de una versión **Community** gratuita que podremos descargar desde su página web para nuestro sistema operativo concreto: (https://www.jetbrains.com/idea/download)\n",
    "\n",
    "<br>En el caso de **Ubuntu**, es posible realizar la instalación a partir de un paquete **snap** desde los repositorios:\n",
    "\n",
    "<br>`sudo snap install intellij-idea-community --classic`\n",
    "\n",
    "<br>IntelliJ IDEA ya incluye soporte para **Kotlin**. Sin embargo, antes de instalarlo, debemos asegurarnos de tener previamente instalado un **_Java Development Kit_** ó **JDK**, versión 8 o superior."
   ]
  },
  {
   "cell_type": "markdown",
   "id": "9b91ea40",
   "metadata": {},
   "source": [
    "### Creando un proyecto en IntelliJ IDEA"
   ]
  },
  {
   "cell_type": "markdown",
   "id": "37ba70ea",
   "metadata": {},
   "source": [
    "Una vez instalados el JDK e IntelliJ IDEA, al iniciar el IDE se nos mostrará una ventana como la siguiente, desde la que podremos crear un nuevo proyecto o abrir alguno existente (si los hubiese)\n",
    "\n",
    "<br><center><img src=\"img/IDE-1.png\" width=\"400\"/></center>\n",
    "\n",
    "<br>Seleccionamos **New Project**, le damos un nombre (por ejemplo, \"Hello\"), modificamos la ubicación por defecto si lo consideramos necesario, seleccionamos **Kotlin** como lenguaje y chequeamos que se haya seleccionado un JDK (el IDE tratará de autodetectar los JDK's presentes en el sistema). Es posible también indicar el gestor de proyectos que se empleará: IntelliJ (por defecto), Maven o Gradle.\n",
    "\n",
    "<br><center><img src=\"img/IDE-2.png\" width=\"500\"/></center>\n",
    "\n",
    "<br>Una vez creado el proyecto, se nos mostrará la ventana principal del IDE con dos zona principales. Una gran zona a la derecha para el **editor** de archivos multi-pestaña, y un panel a la izquierda para el **explorador** del proyecto, donde se mostrarán nuestros archivos fuente, recursos, librerías,...\n",
    "\n",
    "<br><center><img src=\"img/IDE-3.png\" width=\"700\"/></center>"
   ]
  },
  {
   "cell_type": "markdown",
   "id": "2af637ea",
   "metadata": {},
   "source": [
    "### Creando un archivo de código fuente"
   ]
  },
  {
   "cell_type": "markdown",
   "id": "b380313f",
   "metadata": {},
   "source": [
    "Para crear un nuevo archivo de código fuente Kotlin, tenemos varias opciones:\n",
    "\n",
    "<br>\n",
    "\n",
    "- Desde el menú: **File > New > Kotlin Class/File**\n",
    "\n",
    "<br>\n",
    "\n",
    "- Navegamos por el explorador del proyecto hasta la carpeta de fuentes: **Hello > src > main > kotlin** y, abriendo el menú contextual con el botón derecho del ratón: **New > Kotlin Class/File**\n",
    "\n",
    "<br>Al nuevo archivo le damos el nombre: **hello.kt** (**.kt** es la extensión para los archivos fuente Kotlin)\n",
    "\n",
    "<br><center><img src=\"img/IDE-4.png\" width=\"700\"/></center>\n",
    "\n",
    "<br>A continuación, se nos abrirá el nuevo archivo en el editor y añadiremos el siguiente código:\n",
    "\n",
    "<br>\n",
    "\n",
    "```kotlin\n",
    "fun main() {\n",
    "  println(\"hola\")\n",
    "}\n",
    "```  \n",
    "<br><center><img src=\"img/IDE-5.png\" width=\"400\"/></center>"
   ]
  },
  {
   "cell_type": "markdown",
   "id": "48f1089e",
   "metadata": {},
   "source": [
    "### Analizando el código"
   ]
  },
  {
   "cell_type": "markdown",
   "id": "e4bad494",
   "metadata": {},
   "source": [
    "En el código anterior hemos definido una función, la función **```main()```**. Esta función, como pasa en otros muchos lenguajes con funciones similares (C, C++, Java,...), establece el **punto de entrada** de para la ejecución del programa. Por tanto, en todo programa Kotlin, debe existir dicha función en alguno de los archivos que la componen.\n",
    "\n",
    "<br>Esta función contiene una única sentencia, una llamada a la función **```println()```**. Esta función nos permite imprimir el texto pasado como argumento en la salida estándar (consola).\n",
    "\n",
    "<br>Del código anterior podemos apreciar tanto alguna similitudes como diferencias respecto de un programa similar escrito en Java:\n",
    "\n",
    "<br>\n",
    "\n",
    "```java\n",
    "class Hello {\n",
    "    public static void main(String[] args) {\n",
    "        System.out.println(\"Hello, Java!\");\n",
    "    }\n",
    "}\n",
    "```\n",
    "\n",
    "<br>A grandes rasgos, del código anterior podemos observar que:\n",
    "\n",
    "<br>\n",
    "\n",
    "1. Podemos crear funciones sin la necesidad de que estén contenidas en clases (métodos), lo que posibilita el desarrollo de librerías de funciones y la programación estructurada sin necesidad de usar programación orientada a objetos\n",
    "\n",
    "<br>\n",
    "\n",
    "2. Se mantiene parte de la sintaxis, como el empleo de \"llaves\" **{}** para delimitar bloques de código (como el contenido de una función), pero se elimina la necesidad de terminar las sentencias mediante el uso de **;**\n",
    "\n",
    "<br>\n",
    "\n",
    "3. En general, observaremos que se ha hecho un gran esfuerzo en hacer un lenguaje más conciso, como se puede apreciar en el acceso a la salida estándar.\n"
   ]
  },
  {
   "cell_type": "markdown",
   "id": "ff91f5b5",
   "metadata": {},
   "source": [
    "### Ejecutando el código"
   ]
  },
  {
   "cell_type": "markdown",
   "id": "78b04d2f",
   "metadata": {},
   "source": [
    "La forma más simple de ejecutar el código anterior, es pulsar sobre el pequeño **botón verde Run/Play** a la izquierda de ```main()``` (el IDE detectó dicha función y la estableció como punto de inicio).\n",
    "\n",
    "<br>Al ejecutar el programa, se nos debería abrir en la parte inferior del IDE un nuevo panel, la **Consola**, que debería mostrar el mensaje impreso\n",
    "\n",
    "<br><center><img src=\"img/IDE-6.png\" width=\"500\"/></center>\n",
    "\n",
    "<br>Una vez ejecutado el programa, se nos habrá creado una nueva **configuración del proyecto** que se mostrará en la parte derecha del _toolbar_ superior. Asociada a esta configuración, tendremos una botonera desde la que podremos ejecutar, depurar,... nuestro proyecto.\n",
    "\n",
    "<br><center><img src=\"img/IDE-7.png\" width=\"500\"/></center>"
   ]
  },
  {
   "cell_type": "markdown",
   "id": "639430c8",
   "metadata": {},
   "source": [
    "## Compilación y Ejecución desde línea de comandos"
   ]
  },
  {
   "cell_type": "markdown",
   "id": "97975273",
   "metadata": {},
   "source": [
    "Aunque la forma más cómoda y habitual de trabajar con Kotlin será desde un IDE como el anterior, tenemos la posibilidad de instalar una versión _standalone_ del compilador que podemos ejecutar directamente desde la consola"
   ]
  },
  {
   "cell_type": "markdown",
   "id": "f051edb9",
   "metadata": {},
   "source": [
    "### Instalando el compilador"
   ]
  },
  {
   "cell_type": "markdown",
   "id": "cb242a13",
   "metadata": {},
   "source": [
    "Con cada nueva versión de Kotlin, se publica una versión del compilador que podemos descargar desde el GItHub del proyecto: (https://github.com/JetBrains/kotlin/releases/tag/v1.7.0)\n",
    "\n",
    "<br>Al final de dicha paǵina nos encontraremos el .zip con el compilador a bytecode Java (**kotlin-compiler-X.X.X.zip**) como las versiones que permiten la compilación a código nativo para diferentes sistemas (**kotlin-native-SYSTEM-X.X.X.zip**)\n",
    "\n",
    "<br>Sólo tenemos que descargar el .zip que nos interese y descomprimirlo en una carpeta. El compilador se encontrará en la carpeta **bin** de la carpeta descomprimida. \n",
    "\n",
    "<br>**NOTA:** Para facilitar el uso del compilador, podria ser conveniente añadir dicha carpeta **bin** a la variable de entorno **PATH** del sistema."
   ]
  },
  {
   "cell_type": "markdown",
   "id": "ca0f0e90",
   "metadata": {},
   "source": [
    "### Creando la aplicación"
   ]
  },
  {
   "cell_type": "markdown",
   "id": "82910b3c",
   "metadata": {},
   "source": [
    "Desde un editor de texto cualquiera, creamos un archivo de texto denominado **hello.kt** con el código fuente anterior:\n",
    "\n",
    "<br>\n",
    "\n",
    "```kotlin\n",
    "fun main() {\n",
    "  println(\"hola\")\n",
    "}\n",
    "```  "
   ]
  },
  {
   "cell_type": "markdown",
   "id": "9c28c005",
   "metadata": {},
   "source": [
    "### Compilando a _bytecode_ Java"
   ]
  },
  {
   "cell_type": "markdown",
   "id": "38ee3f06",
   "metadata": {},
   "source": [
    "Usando el compilador contenido en el .zip **kotlin-compiler-X.X.X.zip** podremos compilar el archivo fuente anterior a bytecode que pueda ser ejecutado por la JVM.\n",
    "\n",
    "<br>Para ello, desde la propia carpeta con el archivo fuente, lo compilaremos mediante el comando:\n",
    "\n",
    "<br>\n",
    "\n",
    "```bash\n",
    "kotlinc hello.kt -include-runtime -d hello.jar\n",
    "```\n",
    "\n",
    "<br>(Recuerda que el directorio /bin de la carpeta descomprimida del compilador deberá estar en nuestro PATH o tenemos que escribir la ruta completa al compilador en el comando anterior)\n",
    "\n",
    "<br>El comando anterior generará una archivo **.jar** que tendrá un archivo **.class** con el bytecode generado. La opción **-d** nos permite definir el nombre de dicho .jar. La opción **-include-runtime** hace que dicho .jar incluya las librerías de tiempo de ejecución de Kotlin deforma que sea autocontenido y lo podamos distribuir sin preocuparnos de que el sistema destina tenga o no Kotlin. En caso de estar compilando una librería, podríamos omitir dicha opción.\n",
    "\n",
    "<br>Ahora podremos ejecutar el .jar generado empleando la JVM como si fuera cualquier otro programa Java:\n",
    "\n",
    "<br>\n",
    "\n",
    "```bash\n",
    "java -jar hello.kt\n",
    "```\n",
    "\n",
    "\n",
    "\n"
   ]
  },
  {
   "cell_type": "markdown",
   "id": "cf706bd7",
   "metadata": {},
   "source": [
    "### Compilando a código nativo"
   ]
  },
  {
   "cell_type": "markdown",
   "id": "9734dd2d",
   "metadata": {},
   "source": [
    "Usando el compilador contenido en el .zip **kotlin-native-SYSTEM-X.X.X.zip** podemos crear directamente un archivo ejecutable para el sistema correspondiente. Es decir, sin necesidad de emplear una JVM para ejecutarlo, pues se habrá compilado a código nativo u objeto del propio sistema.\n",
    "\n",
    "<br>Para ello, desde la propia carpeta con el archivo fuente, lo compilaremos mediante el comando:\n",
    "\n",
    "<br>\n",
    "\n",
    "```bash\n",
    "kotlinc-native hello.kt -o hello\n",
    "```\n",
    "\n",
    "<br>(Recuerda que el directorio /bin de la carpeta descomprimida del compilador deberá estar en nuestro PATH o tenemos que escribir la ruta completa al compilador en el comando anterior)\n",
    "\n",
    "<br>El comando anterior generará una archivo ejecutable con extensión **.kexe**. La opción **-o** nos permite definir el nombre de dicho ejecutable.\n",
    "\n",
    "<br>Ahora, no tenemos más que ejecutar el archivo binario generado:\n",
    "\n",
    "<br>\n",
    "\n",
    "```bash\n",
    "./hello.kexe\n",
    "```"
   ]
  }
 ],
 "metadata": {
  "kernelspec": {
   "display_name": "Kotlin",
   "language": "kotlin",
   "name": "kotlin"
  },
  "language_info": {
   "codemirror_mode": "text/x-kotlin",
   "file_extension": ".kt",
   "mimetype": "text/x-kotlin",
   "name": "kotlin",
   "nbconvert_exporter": "",
   "pygments_lexer": "kotlin",
   "version": "1.7.0-dev-1825"
  },
  "toc": {
   "base_numbering": 1,
   "nav_menu": {},
   "number_sections": false,
   "sideBar": true,
   "skip_h1_title": false,
   "title_cell": "Table of Contents",
   "title_sidebar": "Contents",
   "toc_cell": true,
   "toc_position": {},
   "toc_section_display": true,
   "toc_window_display": false
  }
 },
 "nbformat": 4,
 "nbformat_minor": 5
}
