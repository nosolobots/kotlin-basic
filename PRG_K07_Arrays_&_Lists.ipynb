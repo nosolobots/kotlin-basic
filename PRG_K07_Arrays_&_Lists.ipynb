{
 "cells": [
  {
   "cell_type": "markdown",
   "id": "78926047",
   "metadata": {},
   "source": [
    "# K07. Arrays y Listas\n",
    "---"
   ]
  },
  {
   "cell_type": "markdown",
   "id": "f3ce5378",
   "metadata": {},
   "source": [
    "## Arrays\n",
    "---"
   ]
  },
  {
   "cell_type": "markdown",
   "id": "7762a1c2",
   "metadata": {},
   "source": [
    "Los arrays en kotlin se corresponden con el tipo de array estático disponible en Java. Son estructores tipadas y permiten almacenar múltiples valores en espacios contiguos de la memoria, lo que puede dar lugar a altos niveles de eficiencia en determinadas operaciones y procedimientos"
   ]
  }
 ],
 "metadata": {
  "kernelspec": {
   "display_name": "Kotlin",
   "language": "kotlin",
   "name": "kotlin"
  },
  "language_info": {
   "codemirror_mode": "text/x-kotlin",
   "file_extension": ".kt",
   "mimetype": "text/x-kotlin",
   "name": "kotlin",
   "nbconvert_exporter": "",
   "pygments_lexer": "kotlin",
   "version": "1.7.20-dev-1299"
  }
 },
 "nbformat": 4,
 "nbformat_minor": 5
}
