{
 "cells": [
  {
   "cell_type": "markdown",
   "id": "569bc304",
   "metadata": {
    "toc": true
   },
   "source": [
    "<h1>Table of Contents<span class=\"tocSkip\"></span></h1>\n",
    "<div class=\"toc\"><ul class=\"toc-item\"><li><span><a href=\"#K07.-Arrays-y-Listas\" data-toc-modified-id=\"K07.-Arrays-y-Listas-1\">K07. Arrays y Listas</a></span><ul class=\"toc-item\"><li><span><a href=\"#1.-Arrays\" data-toc-modified-id=\"1.-Arrays-1.1\">1. Arrays</a></span><ul class=\"toc-item\"><li><span><a href=\"#Creación-de-Arrays\" data-toc-modified-id=\"Creación-de-Arrays-1.1.1\">Creación de Arrays</a></span></li><li><span><a href=\"#Propiedades-y-Métodos\" data-toc-modified-id=\"Propiedades-y-Métodos-1.1.2\">Propiedades y Métodos</a></span></li><li><span><a href=\"#Arrays-de-tipos-primitivos\" data-toc-modified-id=\"Arrays-de-tipos-primitivos-1.1.3\">Arrays de tipos primitivos</a></span></li><li><span><a href=\"#El-método-main\" data-toc-modified-id=\"El-método-main-1.1.4\">El método <em>main</em></a></span></li><li><span><a href=\"#Iterando-sobre-el-array\" data-toc-modified-id=\"Iterando-sobre-el-array-1.1.5\">Iterando sobre el array</a></span></li></ul></li><li><span><a href=\"#2.-Listas\" data-toc-modified-id=\"2.-Listas-1.2\">2. Listas</a></span><ul class=\"toc-item\"><li><span><a href=\"#Creación-de-Listas\" data-toc-modified-id=\"Creación-de-Listas-1.2.1\">Creación de Listas</a></span></li></ul></li></ul></li></ul></div>"
   ]
  },
  {
   "cell_type": "markdown",
   "id": "78926047",
   "metadata": {},
   "source": [
    "# K07. Arrays y Listas\n",
    "---"
   ]
  },
  {
   "cell_type": "markdown",
   "id": "f3ce5378",
   "metadata": {},
   "source": [
    "## 1. Arrays\n",
    "---"
   ]
  },
  {
   "cell_type": "markdown",
   "id": "7762a1c2",
   "metadata": {},
   "source": [
    "Los arrays en kotlin se corresponden con el tipo de array estático disponible en Java. Son estructuras tipadas y permiten almacenar múltiples valores del **mismo tipo** en espacios contiguos de la memoria, lo que da lugar a altos niveles de eficiencia en determinadas operaciones y procedimientos.\n",
    "\n",
    "<br>Como en Java, los elementos del array se indexan **empezando en 0** (zero-indexed)"
   ]
  },
  {
   "cell_type": "markdown",
   "id": "4d5b3ed5",
   "metadata": {},
   "source": [
    "### Creación de Arrays"
   ]
  },
  {
   "cell_type": "markdown",
   "id": "835d5501",
   "metadata": {},
   "source": [
    "La manera más fácil de crear un array es usando la función **```arrayOf```** de la librería estándar de Kotlin"
   ]
  },
  {
   "cell_type": "code",
   "execution_count": 10,
   "id": "16309be5",
   "metadata": {},
   "outputs": [
    {
     "data": {
      "text/plain": [
       "[1, 2, 3, 4]"
      ]
     },
     "execution_count": 10,
     "metadata": {},
     "output_type": "execute_result"
    }
   ],
   "source": [
    "// creación de un array de enteros\n",
    "val ar1 = arrayOf(1, 2, 3, 4)\n",
    "ar1"
   ]
  },
  {
   "cell_type": "markdown",
   "id": "2c6225b0",
   "metadata": {},
   "source": [
    "En este caso, Kotlin infiere el tipo del array a partir de los datos proporcionados, siendo éste el tipo **genérico** **```Array<Int>```**\n",
    "\n",
    "<br>Podemos también crear nuestro array indicando un tamaño y el valor de iniciallización del mismo:"
   ]
  },
  {
   "cell_type": "code",
   "execution_count": 1,
   "id": "58a31182",
   "metadata": {},
   "outputs": [
    {
     "name": "stdout",
     "output_type": "stream",
     "text": [
      "ar2 = [3, 3, 3, 3, 3] type = Integer[]\n"
     ]
    },
    {
     "data": {
      "text/plain": [
       "[3, 3, 3, 3, 3]"
      ]
     },
     "execution_count": 1,
     "metadata": {},
     "output_type": "execute_result"
    }
   ],
   "source": [
    "val ar2 = Array(5, {3})\n",
    "ar2"
   ]
  },
  {
   "cell_type": "markdown",
   "id": "5625b578",
   "metadata": {},
   "source": [
    "Fíjate como el hecho de definirlo como una constante, impide que podamos modificar la variable (asignarle un nuevo array). Sin embargo, podremos modificar su contenido:"
   ]
  },
  {
   "cell_type": "code",
   "execution_count": 15,
   "id": "83f5096f",
   "metadata": {
    "scrolled": true
   },
   "outputs": [
    {
     "name": "stderr",
     "output_type": "stream",
     "text": [
      "Line_1771.jupyter.kts (2:1 - 4) Val cannot be reassigned"
     ]
    }
   ],
   "source": [
    "// la siguiente sentencia producirá un error al intentar reasignar a la variable ar2 (constante) otro array\n",
    "ar2 = ar1"
   ]
  },
  {
   "cell_type": "markdown",
   "id": "0fd59985",
   "metadata": {},
   "source": [
    "Podemos acceder a los elementos del array, tanto para lectura como modificación, empleando la posición (índice) del elemento:"
   ]
  },
  {
   "cell_type": "code",
   "execution_count": 8,
   "id": "f52f60e6",
   "metadata": {},
   "outputs": [
    {
     "data": {
      "text/plain": [
       "[99, 3, 3, 3, 3]"
      ]
     },
     "execution_count": 8,
     "metadata": {},
     "output_type": "execute_result"
    }
   ],
   "source": [
    "// cambiamos el valor del primer elemento del array\n",
    "ar2[0] = 99\n",
    "ar2"
   ]
  },
  {
   "cell_type": "markdown",
   "id": "e778d359",
   "metadata": {},
   "source": [
    "### Propiedades y Métodos"
   ]
  },
  {
   "cell_type": "markdown",
   "id": "08729966",
   "metadata": {},
   "source": [
    "La clase **```Array```** nos proporciona la propiedad **```size```**, que nos devuelve el tamaño del array creado, así como toda una serie de métodos que nos permiten, entre otras cosas, acceder al primer y último elemento del array directamente, ordenarlo,... Puedes consultar sus distintas funciones en la [documentación](https://kotlinlang.org/api/latest/jvm/stdlib/kotlin/-array/) del API "
   ]
  },
  {
   "cell_type": "code",
   "execution_count": 19,
   "id": "0e532ff9",
   "metadata": {},
   "outputs": [
    {
     "name": "stdout",
     "output_type": "stream",
     "text": [
      "arr = [5, 2, 1, 4] type = Integer[]\n",
      "Tamaño: 4\n",
      "Primer elemento: 5\n",
      "Último elemento: 4\n",
      "arr = [1, 2, 4, 5]\n",
      "Primer elemento: 1\n",
      "Último elemento: 5\n"
     ]
    }
   ],
   "source": [
    "val arr = arrayOf(5,2,1,4)\n",
    "\n",
    "// imprimimos el array y su tipo\n",
    "println(\"arr = ${java.util.Arrays.toString(arr)} type = ${numArrGen.javaClass.simpleName}\")\n",
    "\n",
    "// número de elementos\n",
    "println(\"Tamaño: ${arr.size}\")\n",
    "\n",
    "// primer y último elemento del array\n",
    "println(\"Primer elemento: ${arr.first()}\")\n",
    "println(\"Último elemento: ${arr.last()}\")\n",
    "\n",
    "// ordenamos el array\n",
    "arr.sort()\n",
    "println(\"arr = ${java.util.Arrays.toString(arr)}\")\n",
    "\n",
    "// primer y último elemento del array\n",
    "println(\"Primer elemento: ${arr.first()}\")\n",
    "println(\"Último elemento: ${arr.last()}\")"
   ]
  },
  {
   "cell_type": "markdown",
   "id": "6a298889",
   "metadata": {},
   "source": [
    "### Arrays de tipos primitivos"
   ]
  },
  {
   "cell_type": "markdown",
   "id": "27640d65",
   "metadata": {},
   "source": [
    "Como acabamos de ver, al usar la función ```arrayOf``` obtenemos un array de tipo ```Array<Tipo>```, donde **Tipo** será el correspondiente a alguna clase. En concreto, si estamos generando código para la JVM, los tipos como los de números enteros, punto flotante, etc, serán las clase _wrapper_ o _boxed_ Integer, Float, Double, Char,... y no los tipos primitvos correspondientes.\n",
    "\n",
    "<br>El uso de tipos primitivos por la JVM (al compilar, ya que no existen en Kotlin) frente a los tipos referenciados correspondiente, puede redundar en un mejor rendimiento debido al menor consumo de recursos. Así, la librería estándar de Kotlin nos proporciona toda una serie de funciones que crearán estos arrays empleando tipos que se mapearán sobre tipos primitivos (kotlin.ByteArray, .ShortArray, .IntArray, .FloatArray, .FloatArray, .DoubleArray, .BooleanArray, .CharArray) en lugar del tipo genérico ```Array<Tipo>```\n",
    "\n",
    "<br>\n",
    "\n",
    "| función | tipo kotlin | tipo JVM |\n",
    "|---|---|---|\n",
    "|byteArrayOf|ByteArray|byte\\[\\]|\n",
    "|shortArrayOf|ShortArray|short\\[\\]|\n",
    "|intArrayOf|IntArray|int\\[\\]|\n",
    "|longArrayOf|LongArray|long\\[\\]|\n",
    "|charArrayOf|CharArray|char\\[\\]|\n",
    "|floatArrayOf|FloatArray|float\\[\\]|\n",
    "|doubleArrayOf|DoubleArray|double\\[\\]|\n",
    "|booleanArrayOf|BooleanArray|boolean\\[\\]|"
   ]
  },
  {
   "cell_type": "code",
   "execution_count": 8,
   "id": "be396e23",
   "metadata": {},
   "outputs": [
    {
     "name": "stdout",
     "output_type": "stream",
     "text": [
      "numArrGen = [1, 2, 3, 4] type = Integer[]\n",
      "numArrPrim = [1, 2, 3, 4] type = int[]\n"
     ]
    }
   ],
   "source": [
    "// array del tipo boxed Integer[]\n",
    "val numArrGen = arrayOf(1, 2, 3, 4)\n",
    "println(\"numArrGen = ${java.util.Arrays.toString(numArrGen)} type = ${numArrGen.javaClass.simpleName}\")\n",
    "\n",
    "// array del tipo primitivo int[]\n",
    "val numArrPrim = intArrayOf(1, 2, 3, 4)\n",
    "println(\"numArrPrim = ${java.util.Arrays.toString(numArrPrim)} type = ${numArrPrim.javaClass.simpleName}\")"
   ]
  },
  {
   "cell_type": "markdown",
   "id": "c02a306b",
   "metadata": {},
   "source": [
    "También podemos usar los constructores asociados para crear arrays de tipos primitivos de un tamaño determinado y, opcionalmente, establecer el valor de cada elemento:"
   ]
  },
  {
   "cell_type": "code",
   "execution_count": 4,
   "id": "2966be2a",
   "metadata": {
    "scrolled": true
   },
   "outputs": [
    {
     "name": "stdout",
     "output_type": "stream",
     "text": [
      "zeroes = [0, 0, 0, 0] type = int[]\n",
      "fiveDoubleArray = [5.0, 5.0, 5.0, 5.0] type = double[]\n"
     ]
    }
   ],
   "source": [
    "// array de int[] de tamaño 4 (inicializado por defecto a 0)\n",
    "val zeroes = IntArray(4)\n",
    "println(\"zeroes = ${java.util.Arrays.toString(zeroes)} type = ${zeroes.javaClass.simpleName}\")\n",
    "\n",
    "// array de double[] de tamaño 4 (inicializado por defecto a 5.0)\n",
    "val fiveDoubleArray = DoubleArray(4, {5.0})\n",
    "println(\"fiveDoubleArray = ${java.util.Arrays.toString(fiveDoubleArray)} type = ${fiveDoubleArray.javaClass.simpleName}\")"
   ]
  },
  {
   "cell_type": "markdown",
   "id": "9e7ed190",
   "metadata": {},
   "source": [
    "Por último, podemos convertir entre los tipos \"boxed\" y primitivos usando las funciones de conversión definidas en el lenguaje"
   ]
  },
  {
   "cell_type": "code",
   "execution_count": 7,
   "id": "35a77609",
   "metadata": {
    "scrolled": true
   },
   "outputs": [
    {
     "name": "stdout",
     "output_type": "stream",
     "text": [
      "boxedArray = [1, 2, 3, 4] type = Integer[]\n",
      "primitiveArray = [1, 2, 3, 4] type = int[]\n",
      "reboxedArray = [1, 2, 3, 4] type = Integer[]\n"
     ]
    }
   ],
   "source": [
    "// array de Integer[]\n",
    "val boxedArray = arrayOf(1, 2, 3, 4)\n",
    "println(\"boxedArray = ${java.util.Arrays.toString(boxedArray)} type = ${boxedArray.javaClass.simpleName}\")\n",
    "\n",
    "// lo convertimos a un array del tipo primitivo int[]\n",
    "val primitiveArray = boxedArray.toIntArray()\n",
    "println(\"primitiveArray = ${java.util.Arrays.toString(primitiveArray)} type = ${primitiveArray.javaClass.simpleName}\")\n",
    "\n",
    "// lo volvemos a convertir en un array de Integer[]\n",
    "val reboxedArray = primitiveArray.toTypedArray()\n",
    "println(\"reboxedArray = ${java.util.Arrays.toString(reboxedArray)} type = ${reboxedArray.javaClass.simpleName}\")"
   ]
  },
  {
   "cell_type": "markdown",
   "id": "72543850",
   "metadata": {},
   "source": [
    "### El método _main_"
   ]
  },
  {
   "cell_type": "markdown",
   "id": "f220e183",
   "metadata": {},
   "source": [
    "A partir de la versión 1.3 de Kotlin, la función **```main```** tiene un parámetro opcional denominado **```args```** de tipo **```Array<String>```**"
   ]
  },
  {
   "cell_type": "code",
   "execution_count": 11,
   "id": "f87fd12f",
   "metadata": {},
   "outputs": [],
   "source": [
    "fun main(args: Array<String>) {}"
   ]
  },
  {
   "cell_type": "markdown",
   "id": "daa710e2",
   "metadata": {},
   "source": [
    "Cuando ejecutamos un programa Kotlin desde la línea de comandos, podemos pasarle argumentos que se almacenarán como elementos de dicho array de forma que tengamos acceso a ellos desde el propio programa,\n",
    "\n",
    "<br>En el caso de los IDE's, normalmente nos permiten configurar la ejecución del programa de forma que podamos enviarle los argumentos que deseemos. En el caso concreto de IntelliJ, desde la configuración del projecto, podemos establecer el valor del atributo **Program arguments**\n",
    "\n",
    "<center>\n",
    "    \n",
    "<br><img src=\"img/params-1.png\" width=\"500px\"/>\n",
    "\n",
    "<br><img src=\"img/params-2.png\"/>\n",
    "    \n",
    "</center>"
   ]
  },
  {
   "cell_type": "markdown",
   "id": "4f0d5f1a",
   "metadata": {},
   "source": [
    "### Iterando sobre el array"
   ]
  },
  {
   "cell_type": "markdown",
   "id": "c3f30227",
   "metadata": {},
   "source": [
    "Para iterar sobre los elementos de un array, podemos hacerlo de diversas maneras. Definamos un array:"
   ]
  },
  {
   "cell_type": "code",
   "execution_count": 25,
   "id": "9e274a07",
   "metadata": {},
   "outputs": [],
   "source": [
    "val arr = arrayOf(\"Hola\", \"Qué\", \"Tal?\")"
   ]
  },
  {
   "cell_type": "markdown",
   "id": "aa63e802",
   "metadata": {},
   "source": [
    "- Por ejemplo, usando un bucle que nos permita indexar los elementos del array utilizando un valor índice"
   ]
  },
  {
   "cell_type": "code",
   "execution_count": 26,
   "id": "f725f395",
   "metadata": {},
   "outputs": [
    {
     "name": "stdout",
     "output_type": "stream",
     "text": [
      "El elemento de la posición 0 es Hola\n",
      "El elemento de la posición 1 es Qué\n",
      "El elemento de la posición 2 es Tal?\n"
     ]
    }
   ],
   "source": [
    "for (i in 0 until arr.size) \n",
    "    println(\"El elemento de la posición $i es ${arr[i]}\")"
   ]
  },
  {
   "cell_type": "markdown",
   "id": "bd6b0efe",
   "metadata": {},
   "source": [
    "- Podemos utilizar el bucle **for-each** anterior para iterar directamente sobre los elementos del array:"
   ]
  },
  {
   "cell_type": "code",
   "execution_count": 29,
   "id": "f11b05e0",
   "metadata": {
    "scrolled": true
   },
   "outputs": [
    {
     "name": "stdout",
     "output_type": "stream",
     "text": [
      "Hola\n",
      "Qué\n",
      "Tal?\n"
     ]
    }
   ],
   "source": [
    "for (element in arr) \n",
    "    println(element)"
   ]
  },
  {
   "cell_type": "markdown",
   "id": "5e5d714b",
   "metadata": {},
   "source": [
    "- Por último, podemos usar la función **```forEach```** de la clase **```Array```** a la que le pasaremos la acción (función **lambda**) que realizaremos sobre cada elemento (iteración del bucle)"
   ]
  },
  {
   "cell_type": "code",
   "execution_count": 33,
   "id": "3ecfbc68",
   "metadata": {
    "scrolled": true
   },
   "outputs": [
    {
     "name": "stdout",
     "output_type": "stream",
     "text": [
      "Hola\n",
      "Qué\n",
      "Tal?\n"
     ]
    }
   ],
   "source": [
    "arr.forEach { s -> \n",
    "    println(s) \n",
    "}"
   ]
  },
  {
   "cell_type": "markdown",
   "id": "63c5e80d",
   "metadata": {},
   "source": [
    "El código anterior básicamente define una función que se invocará por cada elemento del array. Dicha función recibirá el elemento correspondiente en el parámetro **```s```** y, las acciones a realizar serán, simplemente, la impresión del mismo"
   ]
  },
  {
   "cell_type": "markdown",
   "id": "57f12b6e",
   "metadata": {},
   "source": [
    "## 2. Listas\n",
    "---"
   ]
  },
  {
   "cell_type": "markdown",
   "id": "f0059278",
   "metadata": {},
   "source": [
    "Como en Java, el tipo **```List```** en Kotlin es un **interfaz** que tiene concreciones como la clase **```ArrayList```** (no existe la clase ```LinkedList``` en Kotlin)\n",
    "\n",
    "<br>Los arrays suelen ser más eficientes que las listas en términos de rendimiento puro, pero las listas tienen la ventaja de ser estructuras dinámicas, aumentando su capacidad en función de las necesidades."
   ]
  },
  {
   "cell_type": "markdown",
   "id": "4d5ec755",
   "metadata": {},
   "source": [
    "### Creación de Listas"
   ]
  }
 ],
 "metadata": {
  "kernelspec": {
   "display_name": "Kotlin",
   "language": "kotlin",
   "name": "kotlin"
  },
  "language_info": {
   "codemirror_mode": "text/x-kotlin",
   "file_extension": ".kt",
   "mimetype": "text/x-kotlin",
   "name": "kotlin",
   "nbconvert_exporter": "",
   "pygments_lexer": "kotlin",
   "version": "1.8.0-RC"
  },
  "toc": {
   "base_numbering": 1,
   "nav_menu": {},
   "number_sections": false,
   "sideBar": true,
   "skip_h1_title": false,
   "title_cell": "Table of Contents",
   "title_sidebar": "Contents",
   "toc_cell": true,
   "toc_position": {},
   "toc_section_display": true,
   "toc_window_display": false
  },
  "varInspector": {
   "cols": {
    "lenName": 16,
    "lenType": 16,
    "lenVar": 40
   },
   "kernels_config": {
    "python": {
     "delete_cmd_postfix": "",
     "delete_cmd_prefix": "del ",
     "library": "var_list.py",
     "varRefreshCmd": "print(var_dic_list())"
    },
    "r": {
     "delete_cmd_postfix": ") ",
     "delete_cmd_prefix": "rm(",
     "library": "var_list.r",
     "varRefreshCmd": "cat(var_dic_list()) "
    }
   },
   "types_to_exclude": [
    "module",
    "function",
    "builtin_function_or_method",
    "instance",
    "_Feature"
   ],
   "window_display": false
  }
 },
 "nbformat": 4,
 "nbformat_minor": 5
}
