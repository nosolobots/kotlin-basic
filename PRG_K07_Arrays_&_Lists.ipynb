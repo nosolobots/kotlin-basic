{
 "cells": [
  {
   "cell_type": "markdown",
   "id": "78926047",
   "metadata": {},
   "source": [
    "# K07. Arrays y Listas\n",
    "---"
   ]
  },
  {
   "cell_type": "markdown",
   "id": "f3ce5378",
   "metadata": {},
   "source": [
    "## Arrays\n",
    "---"
   ]
  },
  {
   "cell_type": "markdown",
   "id": "7762a1c2",
   "metadata": {},
   "source": [
    "Los arrays en kotlin se corresponden con el tipo de array estático disponible en Java. Son estructuras tipadas y permiten almacenar múltiples valores del **mismo tipo** en espacios contiguos de la memoria, lo que da lugar a altos niveles de eficiencia en determinadas operaciones y procedimientos.\n",
    "\n",
    "<br>Como en Java, los elementos del array se indexan **empezando en 0** (zero-indexed)"
   ]
  },
  {
   "cell_type": "markdown",
   "id": "4d5b3ed5",
   "metadata": {},
   "source": [
    "### Creación de Arrays\n",
    "---"
   ]
  },
  {
   "cell_type": "markdown",
   "id": "835d5501",
   "metadata": {},
   "source": [
    "La manera más fácil de crear un array es usando la función **```arrayOf```** de la librería estándar de Kotlin"
   ]
  },
  {
   "cell_type": "code",
   "execution_count": 5,
   "id": "16309be5",
   "metadata": {},
   "outputs": [
    {
     "data": {
      "text/plain": [
       "[1, 2, 3, 4]"
      ]
     },
     "execution_count": 5,
     "metadata": {},
     "output_type": "execute_result"
    }
   ],
   "source": [
    "val ar1 = arrayOf(1, 2, 3, 4)\n",
    "ar"
   ]
  },
  {
   "cell_type": "markdown",
   "id": "2c6225b0",
   "metadata": {},
   "source": [
    "En este caso, Kotlin infiere el tipo del array a partir de los datos proporcionados, siendo éste el tipo **genérico** **```Array<Int>```**\n",
    "\n",
    "<br>Podemos también crear nuestro array indicando un tamaño y el valor de iniciallización del mismo:"
   ]
  },
  {
   "cell_type": "code",
   "execution_count": 2,
   "id": "58a31182",
   "metadata": {},
   "outputs": [
    {
     "data": {
      "text/plain": [
       "[3, 3, 3, 3, 3]"
      ]
     },
     "execution_count": 2,
     "metadata": {},
     "output_type": "execute_result"
    }
   ],
   "source": [
    "val ar2 = Array(5, {3})\n",
    "ar2"
   ]
  },
  {
   "cell_type": "markdown",
   "id": "5625b578",
   "metadata": {},
   "source": [
    "Fíjate como el hecho de definirlo como una constante, impide que podamos modificar la variable (asignarle un nuevo array). Sin embargo, podremos modificar su contenido:"
   ]
  },
  {
   "cell_type": "code",
   "execution_count": 9,
   "id": "83f5096f",
   "metadata": {
    "scrolled": true
   },
   "outputs": [
    {
     "name": "stderr",
     "output_type": "stream",
     "text": [
      "Line_456.jupyter-kts (2:1 - 4) Val cannot be reassigned"
     ]
    }
   ],
   "source": [
    "// la siguiente sentencia producirá un error al intentar reasignar a la variable ar2 (constante) otro array\n",
    "ar2 = ar1"
   ]
  },
  {
   "cell_type": "code",
   "execution_count": 8,
   "id": "f52f60e6",
   "metadata": {},
   "outputs": [
    {
     "data": {
      "text/plain": [
       "[99, 3, 3, 3, 3]"
      ]
     },
     "execution_count": 8,
     "metadata": {},
     "output_type": "execute_result"
    }
   ],
   "source": [
    "// cambiamos el valor del primer elemento del array\n",
    "ar2[0] = 99\n",
    "ar2"
   ]
  },
  {
   "cell_type": "markdown",
   "id": "6a298889",
   "metadata": {},
   "source": [
    "### Arrays de tipos primitivos\n",
    "---"
   ]
  },
  {
   "cell_type": "markdown",
   "id": "27640d65",
   "metadata": {},
   "source": [
    "Como acabamos de ver, al usar la función ```arrayOf``` obtenemos un array de tipo ```Array<Tipo>```, donde **Tipo** será el correspondiente a alguna clase. En concreto, si estamos generando código para la JVM, los tipos como los de números enteros, punto flotante, etc, serán las clase _wrapper_ Integer, Float, Double, Char,... y no los tipos primitvos correspondientes.\n",
    "\n",
    "<br>El uso de tipos primitivos por la JVM (al compilar, ya que no existen en Kotlin) frente a los tipos referenciados correspondiente, puede redundar en un mejor rendimiento debido al menor consumo de recursos. Así, la librería estándar de Kotlin nos proporciona toda una serie de funciones que crearán estos arrays empleando tipos que se mapearán sobre tipos primitivos (kotlin.ByteArray, .ShortArray, .IntArray, .FloatArray, .FloatArray, .DoubleArray, .BooleanArray, .CharArray) en lugar del tipo genérico ```Array<Tipo>```\n",
    "\n",
    "<br>\n",
    "\n",
    "| función | tipo kotlin | tipo JVM |\n",
    "|---|---|---|\n",
    "|byteArrayOf|ByteArray|byte\\[ \\]|\n",
    "|shortArrayOf|ShortArray|short\\[ \\]|\n",
    "|intArrayOf|IntArray|int\\[ \\]|\n",
    "|longArrayOf|LongArray|long\\[ \\]|\n",
    "|charArrayOf|CharArray|char\\[ \\]|\n",
    "|floatArrayOf|FloatArray|float\\[ \\]|\n",
    "|doubleArrayOf|DoubleArray|double\\[ \\]|\n",
    "|booleanArrayOf|BooleanArray|boolean\\[ \\]|"
   ]
  },
  {
   "cell_type": "code",
   "execution_count": 19,
   "id": "be396e23",
   "metadata": {},
   "outputs": [
    {
     "name": "stdout",
     "output_type": "stream",
     "text": [
      "numArrGen = [1, 2, 3, 4] type = Integer[]\n",
      "numArrPrim = [1, 2, 3, 4] type = int[]\n"
     ]
    }
   ],
   "source": [
    "val numArrGen = arrayOf(1, 2, 3, 4)\n",
    "val numArrPrim = intArrayOf(1, 2, 3, 4)\n",
    "\n",
    "println(\"numArrGen = ${java.util.Arrays.toString(numArrGen)} type = ${numArrGen.javaClass.simpleName}\")\n",
    "println(\"numArrPrim = ${java.util.Arrays.toString(numArrPrim)} type = ${numArrPrim.javaClass.simpleName}\")"
   ]
  },
  {
   "cell_type": "markdown",
   "id": "2eacb134",
   "metadata": {},
   "source": []
  }
 ],
 "metadata": {
  "kernelspec": {
   "display_name": "Kotlin",
   "language": "kotlin",
   "name": "kotlin"
  },
  "language_info": {
   "codemirror_mode": "text/x-kotlin",
   "file_extension": ".kt",
   "mimetype": "text/x-kotlin",
   "name": "kotlin",
   "nbconvert_exporter": "",
   "pygments_lexer": "kotlin",
   "version": "1.7.20-dev-1299"
  },
  "varInspector": {
   "cols": {
    "lenName": 16,
    "lenType": 16,
    "lenVar": 40
   },
   "kernels_config": {
    "python": {
     "delete_cmd_postfix": "",
     "delete_cmd_prefix": "del ",
     "library": "var_list.py",
     "varRefreshCmd": "print(var_dic_list())"
    },
    "r": {
     "delete_cmd_postfix": ") ",
     "delete_cmd_prefix": "rm(",
     "library": "var_list.r",
     "varRefreshCmd": "cat(var_dic_list()) "
    }
   },
   "types_to_exclude": [
    "module",
    "function",
    "builtin_function_or_method",
    "instance",
    "_Feature"
   ],
   "window_display": false
  }
 },
 "nbformat": 4,
 "nbformat_minor": 5
}
