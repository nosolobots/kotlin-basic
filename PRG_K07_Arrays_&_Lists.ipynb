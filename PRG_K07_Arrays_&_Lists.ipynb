{
 "cells": [
  {
   "cell_type": "markdown",
   "id": "78926047",
   "metadata": {},
   "source": [
    "# K07. Arrays y Listas\n",
    "---"
   ]
  },
  {
   "cell_type": "markdown",
   "id": "f3ce5378",
   "metadata": {},
   "source": [
    "## 1. Arrays\n",
    "---"
   ]
  },
  {
   "cell_type": "markdown",
   "id": "7762a1c2",
   "metadata": {},
   "source": [
    "Los arrays en kotlin se corresponden con el tipo de array estático disponible en Java. Son estructuras tipadas y permiten almacenar múltiples valores del **mismo tipo** en espacios contiguos de la memoria, lo que da lugar a altos niveles de eficiencia en determinadas operaciones y procedimientos.\n",
    "\n",
    "<br>Como en Java, los elementos del array se indexan **empezando en 0** (zero-indexed)"
   ]
  },
  {
   "cell_type": "markdown",
   "id": "4d5b3ed5",
   "metadata": {},
   "source": [
    "### Creación de Arrays"
   ]
  },
  {
   "cell_type": "markdown",
   "id": "835d5501",
   "metadata": {},
   "source": [
    "La manera más fácil de crear un array es usando la función **```arrayOf```** de la librería estándar de Kotlin"
   ]
  },
  {
   "cell_type": "code",
   "execution_count": null,
   "id": "16309be5",
   "metadata": {},
   "outputs": [],
   "source": [
    "// creación de un array de enteros\n",
    "val ar1 = arrayOf(1, 2, 3, 4)\n",
    "ar1"
   ]
  },
  {
   "cell_type": "markdown",
   "id": "2c6225b0",
   "metadata": {},
   "source": [
    "En este caso, Kotlin infiere el tipo del array a partir de los datos proporcionados, siendo éste el tipo **genérico** **```Array<Int>```**\n",
    "\n",
    "<br>Podemos también crear nuestro array indicando un tamaño y el valor de iniciallización del mismo:"
   ]
  },
  {
   "cell_type": "code",
   "execution_count": null,
   "id": "58a31182",
   "metadata": {},
   "outputs": [],
   "source": [
    "val ar2 = Array(5, {3})\n",
    "ar2"
   ]
  },
  {
   "cell_type": "markdown",
   "id": "5625b578",
   "metadata": {},
   "source": [
    "Fíjate como el hecho de definirlo como una constante, impide que podamos modificar la variable (asignarle un nuevo array). Sin embargo, podremos modificar su contenido:"
   ]
  },
  {
   "cell_type": "code",
   "execution_count": null,
   "id": "83f5096f",
   "metadata": {
    "scrolled": true
   },
   "outputs": [],
   "source": [
    "// la siguiente sentencia producirá un error al intentar reasignar a la variable ar2 (constante) otro array\n",
    "ar2 = ar1"
   ]
  },
  {
   "cell_type": "markdown",
   "id": "0fd59985",
   "metadata": {},
   "source": [
    "Podemos acceder a los elementos del array, tanto para lectura como modificación, empleando la posición (índice) del elemento:"
   ]
  },
  {
   "cell_type": "code",
   "execution_count": null,
   "id": "f52f60e6",
   "metadata": {},
   "outputs": [],
   "source": [
    "// cambiamos el valor del primer elemento del array\n",
    "ar2[0] = 99\n",
    "ar2"
   ]
  },
  {
   "cell_type": "markdown",
   "id": "e778d359",
   "metadata": {},
   "source": [
    "### Propiedades y Métodos"
   ]
  },
  {
   "cell_type": "markdown",
   "id": "08729966",
   "metadata": {},
   "source": [
    "La clase **```Array```** nos proporciona la propiedad **```size```**, que nos devuelve el tamaño del array creado, así como toda una serie de métodos que nos permiten, entre otras cosas, acceder al primer y último elemento del array directamente, ordenarlo,... Puedes consultar sus distintas funciones en la [documentación](https://kotlinlang.org/api/latest/jvm/stdlib/kotlin/-array/) del API "
   ]
  },
  {
   "cell_type": "code",
   "execution_count": null,
   "id": "0e532ff9",
   "metadata": {},
   "outputs": [],
   "source": [
    "val arr = arrayOf(5,2,1,4)\n",
    "\n",
    "// imprimimos el array y su tipo\n",
    "println(\"arr = ${java.util.Arrays.toString(arr)} type = ${numArrGen.javaClass.simpleName}\")\n",
    "\n",
    "// número de elementos\n",
    "println(\"Tamaño: ${arr.size}\")\n",
    "\n",
    "// primer y último elemento del array\n",
    "println(\"Primer elemento: ${arr.first()}\")\n",
    "println(\"Último elemento: ${arr.last()}\")\n",
    "\n",
    "// ordenamos el array\n",
    "arr.sort()\n",
    "println(\"arr = ${java.util.Arrays.toString(arr)}\")\n",
    "\n",
    "// primer y último elemento del array\n",
    "println(\"Primer elemento: ${arr.first()}\")\n",
    "println(\"Último elemento: ${arr.last()}\")"
   ]
  },
  {
   "cell_type": "markdown",
   "id": "6a298889",
   "metadata": {},
   "source": [
    "### Arrays de tipos primitivos"
   ]
  },
  {
   "cell_type": "markdown",
   "id": "27640d65",
   "metadata": {},
   "source": [
    "Como acabamos de ver, al usar la función ```arrayOf``` obtenemos un array de tipo ```Array<Tipo>```, donde **Tipo** será el correspondiente a alguna clase. En concreto, si estamos generando código para la JVM, los tipos como los de números enteros, punto flotante, etc, serán las clase _wrapper_ o _boxed_ Integer, Float, Double, Char,... y no los tipos primitvos correspondientes.\n",
    "\n",
    "<br>El uso de tipos primitivos por la JVM (al compilar, ya que no existen en Kotlin) frente a los tipos referenciados correspondiente, puede redundar en un mejor rendimiento debido al menor consumo de recursos. Así, la librería estándar de Kotlin nos proporciona toda una serie de funciones que crearán estos arrays empleando tipos que se mapearán sobre tipos primitivos (kotlin.ByteArray, .ShortArray, .IntArray, .FloatArray, .FloatArray, .DoubleArray, .BooleanArray, .CharArray) en lugar del tipo genérico ```Array<Tipo>```\n",
    "\n",
    "<br>\n",
    "\n",
    "| función | tipo kotlin | tipo JVM |\n",
    "|---|---|---|\n",
    "|byteArrayOf|ByteArray|byte\\[\\]|\n",
    "|shortArrayOf|ShortArray|short\\[\\]|\n",
    "|intArrayOf|IntArray|int\\[\\]|\n",
    "|longArrayOf|LongArray|long\\[\\]|\n",
    "|charArrayOf|CharArray|char\\[\\]|\n",
    "|floatArrayOf|FloatArray|float\\[\\]|\n",
    "|doubleArrayOf|DoubleArray|double\\[\\]|\n",
    "|booleanArrayOf|BooleanArray|boolean\\[\\]|"
   ]
  },
  {
   "cell_type": "code",
   "execution_count": null,
   "id": "be396e23",
   "metadata": {},
   "outputs": [],
   "source": [
    "// array del tipo boxed Integer[]\n",
    "val numArrGen = arrayOf(1, 2, 3, 4)\n",
    "println(\"numArrGen = ${java.util.Arrays.toString(numArrGen)} type = ${numArrGen.javaClass.simpleName}\")\n",
    "\n",
    "// array del tipo primitivo int[]\n",
    "val numArrPrim = intArrayOf(1, 2, 3, 4)\n",
    "println(\"numArrPrim = ${java.util.Arrays.toString(numArrPrim)} type = ${numArrPrim.javaClass.simpleName}\")"
   ]
  },
  {
   "cell_type": "markdown",
   "id": "c02a306b",
   "metadata": {},
   "source": [
    "También podemos usar los constructores asociados para crear arrays de tipos primitivos de un tamaño determinado y, opcionalmente, establecer el valor de cada elemento:"
   ]
  },
  {
   "cell_type": "code",
   "execution_count": null,
   "id": "2966be2a",
   "metadata": {
    "scrolled": true
   },
   "outputs": [],
   "source": [
    "// array de int[] de tamaño 4 (inicializado por defecto a 0)\n",
    "val zeroes = IntArray(4)\n",
    "println(\"zeroes = ${java.util.Arrays.toString(zeroes)} type = ${zeroes.javaClass.simpleName}\")\n",
    "\n",
    "// array de double[] de tamaño 4 (inicializado por defecto a 5.0)\n",
    "val fiveDoubleArray = DoubleArray(4, {5.0})\n",
    "println(\"fiveDoubleArray = ${java.util.Arrays.toString(fiveDoubleArray)} type = ${fiveDoubleArray.javaClass.simpleName}\")"
   ]
  },
  {
   "cell_type": "markdown",
   "id": "9e7ed190",
   "metadata": {},
   "source": [
    "Por último, podemos convertir entre los tipos \"boxed\" y primitivos usando las funciones de conversión definidas en el lenguaje"
   ]
  },
  {
   "cell_type": "code",
   "execution_count": null,
   "id": "35a77609",
   "metadata": {
    "scrolled": true
   },
   "outputs": [],
   "source": [
    "// array de Integer[]\n",
    "val boxedArray = arrayOf(1, 2, 3, 4)\n",
    "println(\"boxedArray = ${java.util.Arrays.toString(boxedArray)} type = ${boxedArray.javaClass.simpleName}\")\n",
    "\n",
    "// lo convertimos a un array del tipo primitivo int[]\n",
    "val primitiveArray = boxedArray.toIntArray()\n",
    "println(\"primitiveArray = ${java.util.Arrays.toString(primitiveArray)} type = ${primitiveArray.javaClass.simpleName}\")\n",
    "\n",
    "// lo volvemos a convertir en un array de Integer[]\n",
    "val reboxedArray = primitiveArray.toTypedArray()\n",
    "println(\"reboxedArray = ${java.util.Arrays.toString(reboxedArray)} type = ${reboxedArray.javaClass.simpleName}\")"
   ]
  },
  {
   "cell_type": "markdown",
   "id": "72543850",
   "metadata": {},
   "source": [
    "### El método _main_"
   ]
  },
  {
   "cell_type": "markdown",
   "id": "f220e183",
   "metadata": {},
   "source": [
    "A partir de la versión 1.3 de Kotlin, la función **```main```** tiene un parámetro opcional denominado **```args```** de tipo **```Array<String>```**"
   ]
  },
  {
   "cell_type": "code",
   "execution_count": null,
   "id": "f87fd12f",
   "metadata": {},
   "outputs": [],
   "source": [
    "fun main(args: Array<String>) {}"
   ]
  },
  {
   "cell_type": "markdown",
   "id": "daa710e2",
   "metadata": {},
   "source": [
    "Cuando ejecutamos un programa Kotlin desde la línea de comandos, podemos pasarle argumentos que se almacenarán como elementos de dicho array de forma que tengamos acceso a ellos desde el propio programa,\n",
    "\n",
    "<br>En el caso de los IDE's, normalmente nos permiten configurar la ejecución del programa de forma que podamos enviarle los argumentos que deseemos. En el caso concreto de IntelliJ, desde la configuración del projecto, podemos establecer el valor del atributo **Program arguments**\n",
    "\n",
    "<center>\n",
    "    \n",
    "<br><img src=\"img/params-1.png\" width=\"500px\"/>\n",
    "\n",
    "<br><img src=\"img/params-2.png\"/>\n",
    "    \n",
    "</center>"
   ]
  },
  {
   "cell_type": "markdown",
   "id": "4f0d5f1a",
   "metadata": {},
   "source": [
    "### Iterando sobre el array"
   ]
  },
  {
   "cell_type": "markdown",
   "id": "c3f30227",
   "metadata": {},
   "source": [
    "Para iterar sobre los elementos de un array, podemos hacerlo de diversas maneras. Definamos un array:"
   ]
  },
  {
   "cell_type": "code",
   "execution_count": null,
   "id": "9e274a07",
   "metadata": {},
   "outputs": [],
   "source": [
    "val arr = arrayOf(\"Hola\", \"Qué\", \"Tal?\")"
   ]
  },
  {
   "cell_type": "markdown",
   "id": "aa63e802",
   "metadata": {},
   "source": [
    "- Por ejemplo, usando un bucle que nos permita indexar los elementos del array utilizando un valor índice"
   ]
  },
  {
   "cell_type": "code",
   "execution_count": null,
   "id": "f725f395",
   "metadata": {},
   "outputs": [],
   "source": [
    "for (i in 0 until arr.size) \n",
    "    println(\"El elemento de la posición $i es ${arr[i]}\")"
   ]
  },
  {
   "cell_type": "markdown",
   "id": "bd6b0efe",
   "metadata": {},
   "source": [
    "- Podemos utilizar el bucle **for-each** anterior para iterar directamente sobre los elementos del array:"
   ]
  },
  {
   "cell_type": "code",
   "execution_count": null,
   "id": "f11b05e0",
   "metadata": {
    "scrolled": true
   },
   "outputs": [],
   "source": [
    "for (element in arr) \n",
    "    println(element)"
   ]
  },
  {
   "cell_type": "markdown",
   "id": "5e5d714b",
   "metadata": {},
   "source": [
    "- Por último, podemos usar la función **```forEach```** de la clase **```Array```** a la que le pasaremos la acción (función **lambda**) que realizaremos sobre cada elemento (iteración del bucle)"
   ]
  },
  {
   "cell_type": "code",
   "execution_count": null,
   "id": "3ecfbc68",
   "metadata": {
    "scrolled": true
   },
   "outputs": [],
   "source": [
    "arr.forEach { s -> \n",
    "    println(s) \n",
    "}"
   ]
  },
  {
   "cell_type": "markdown",
   "id": "63c5e80d",
   "metadata": {},
   "source": [
    "El código anterior básicamente define una función que se invocará por cada elemento del array. Dicha función recibirá el elemento correspondiente en el parámetro **```s```** y, las acciones a realizar serán, simplemente, la impresión del mismo"
   ]
  },
  {
   "cell_type": "markdown",
   "id": "57f12b6e",
   "metadata": {},
   "source": [
    "## 2. Listas\n",
    "---"
   ]
  },
  {
   "cell_type": "markdown",
   "id": "f0059278",
   "metadata": {},
   "source": [
    "Como en Java, el tipo **```List```** en Kotlin es un **interfaz** que tiene concreciones como la clase **```ArrayList```** (no existe la clase ```LinkedList``` en Kotlin)\n",
    "\n",
    "<br>Los arrays suelen ser más eficientes que las listas en términos de rendimiento puro, pero las listas tienen la ventaja de ser estructuras dinámicas, aumentando su capacidad en función de las necesidades."
   ]
  },
  {
   "cell_type": "markdown",
   "id": "4d5ec755",
   "metadata": {},
   "source": [
    "### Creación de Listas"
   ]
  },
  {
   "cell_type": "markdown",
   "id": "ea8da914",
   "metadata": {},
   "source": [
    "De forma similar a los arrays, la librería estándar de kotlin nos proporciona una función para crear listas:"
   ]
  },
  {
   "cell_type": "code",
   "execution_count": null,
   "id": "ebead767",
   "metadata": {},
   "outputs": [],
   "source": [
    "val innerPlanets = listOf(\"Mercurio\", \"Venus\", \"Tierra\", \"Marte\")\n",
    "println(innerPlanets)"
   ]
  },
  {
   "cell_type": "markdown",
   "id": "5c611f8a",
   "metadata": {},
   "source": [
    "El tipo de la lista anterior es inferido como **```List<String>```** que, internamente, es convertido en un objeto **```ArrayList<String>```** (aunque improbable, podría diferir en futuras implementaciones). "
   ]
  },
  {
   "cell_type": "code",
   "execution_count": null,
   "id": "df2db065",
   "metadata": {},
   "outputs": [],
   "source": [
    "println(innerPlanets::class.simpleName)"
   ]
  },
  {
   "cell_type": "markdown",
   "id": "60d8d3f5",
   "metadata": {},
   "source": [
    "Si queremos establecer de forma explicita el tipo **```ArrayList```**, disponemos de otra función equivalente"
   ]
  },
  {
   "cell_type": "code",
   "execution_count": null,
   "id": "729eedcd",
   "metadata": {},
   "outputs": [],
   "source": [
    "val innerPlanetsArrayList = arrayListOf(\"Mercurio\", \"Venus\", \"Tierra\", \"Marte\")\n",
    "println(innerPlanetsArrayList)"
   ]
  },
  {
   "cell_type": "markdown",
   "id": "f9b62ae7",
   "metadata": {},
   "source": [
    "En cualquier caso, tenemos que tener presente que las listas anteriores son **inmutables**, por lo que no podremos modificar su contenido."
   ]
  },
  {
   "cell_type": "markdown",
   "id": "ea1a2693",
   "metadata": {},
   "source": [
    "### Listas Mutables"
   ]
  },
  {
   "cell_type": "markdown",
   "id": "488fb635",
   "metadata": {},
   "source": [
    "Para la creación de listas dinámicas, la librería estándar de kotlin nos proporciona una nueva función, **```mutableListOf```**\n",
    "\n",
    "<br>Podemos usar esta función con una serie de valores de inicialización de la lista, con lo que el tipo de la variable o constante será inferido."
   ]
  },
  {
   "cell_type": "code",
   "execution_count": null,
   "id": "70139122",
   "metadata": {},
   "outputs": [],
   "source": [
    "val outerPlanets = mutableListOf(\"Jupiter\", \"Saturno\", \"Urano\", \"Neptuno\")\n",
    "println(outerPlanets)\n",
    "\n",
    "// Plutón es un planeta!!! enano... pero planeta\n",
    "outerPlanets.add(\"Plutón\")\n",
    "println(outerPlanets)"
   ]
  },
  {
   "cell_type": "markdown",
   "id": "36b12e60",
   "metadata": {},
   "source": [
    "En el caso de crear listas vacías, debermos especificar el tipo. Esto lo podemos hacer asignando un tipo a la propia variable o constante, o haciendo uso de la propia sintáxis **genérica** del método"
   ]
  },
  {
   "cell_type": "code",
   "execution_count": null,
   "id": "399f7709",
   "metadata": {},
   "outputs": [],
   "source": [
    "val lista1: MutableList<Int> = mutableListOf()\n",
    "lista1.add(5)\n",
    "println(lista1)\n",
    "\n",
    "val lista2 = mutableListOf<Int>()\n",
    "lista2.add(5)\n",
    "println(lista2)"
   ]
  },
  {
   "cell_type": "markdown",
   "id": "675360c3",
   "metadata": {},
   "source": [
    "### Propiedades y métodos"
   ]
  },
  {
   "cell_type": "markdown",
   "id": "c7e417d8",
   "metadata": {},
   "source": [
    "El interfaz ```List``` proporciona diversas propiedades y métodos que nos permiten trabajar con dichas estructuras, muchos de los cuales son equivalentes a los de la clase Array. Puedes consultarlas en la [documentación](https://kotlinlang.org/api/latest/jvm/stdlib/kotlin.collections/-list/) oficial\n",
    "\n",
    "<br>Entre otros, la propiedad **```size```** nos devolverá el número de elementos contenidos en la lista y la función **```ìsEmpty()```** nos permitirá evaluar si la lista está vacía o no."
   ]
  },
  {
   "cell_type": "code",
   "execution_count": null,
   "id": "a8c82716",
   "metadata": {},
   "outputs": [],
   "source": [
    "if(!outerPlanets.isEmpty())\n",
    "    println(\"Hay ${outerPlanets.size} planetas más allá del cinturón de asteroides: $outerPlanets\")"
   ]
  },
  {
   "cell_type": "markdown",
   "id": "dcae7f52",
   "metadata": {},
   "source": [
    "Los métodos **```first()```** y **```last()```** nos permiten acceder directamente al primer y último elemento de la lista"
   ]
  },
  {
   "cell_type": "code",
   "execution_count": null,
   "id": "67857d18",
   "metadata": {
    "scrolled": true
   },
   "outputs": [],
   "source": [
    "println(\"El primer planeta exterior es ${outerPlanets.first()} y el último es ${outerPlanets.last()}\")"
   ]
  },
  {
   "cell_type": "markdown",
   "id": "af46bec6",
   "metadata": {},
   "source": [
    "Los métodos **```max()OrNull()```** y **```minOrNull()```** nos devolverán los elementos de valores más alto y más bajo (según el orden correspondiente), o un valor nulo en caso de que no exista tal valor (por ejemplo, en una lista vacía). Por tanto, el tipo devuleto por estas funciones es un **tipo anulable**"
   ]
  },
  {
   "cell_type": "code",
   "execution_count": null,
   "id": "5fa6a959",
   "metadata": {},
   "outputs": [],
   "source": [
    "println(outerPlanets.maxOrNull() ?: \"---\")\n",
    "\n",
    "// mínimo en una lista vacía\n",
    "println(listOf<Int>().minOrNull() ?: \"---\")"
   ]
  },
  {
   "cell_type": "markdown",
   "id": "a2f76e5b",
   "metadata": {},
   "source": [
    "Otro método útil para inspeccionar el contenido de una colección es el método **```joinToString()```**. Este método nos devuelve una cadena con los elementos de la colección separados, por defecto, por coma. Mediante sus parámetros podemos, entre otras cosas, configurar tanto el separador como el prefijo o el sufijo añadido a la cadena resultante. Ver [documentación](https://kotlinlang.org/api/latest/jvm/stdlib/kotlin.collections/join-to-string.html) "
   ]
  },
  {
   "cell_type": "code",
   "execution_count": null,
   "id": "076b445f",
   "metadata": {},
   "outputs": [],
   "source": [
    "println(outerPlanets.joinToString())\n",
    "\n",
    "// añadimos <> al principio y final, y separamos con ;\n",
    "println(outerPlanets.joinToString(separator=\"; \", prefix=\"<\", postfix=\">\"))"
   ]
  },
  {
   "cell_type": "markdown",
   "id": "27e5baec",
   "metadata": {},
   "source": [
    "### Accediendo a los elementos"
   ]
  },
  {
   "cell_type": "markdown",
   "id": "07ff8603",
   "metadata": {},
   "source": [
    "La forma más conveniente de acceder a los diferentes elementos de nuestra lista es utilizando el **indexado**, es es equivalente al empleo del método **```get()```**"
   ]
  },
  {
   "cell_type": "code",
   "execution_count": null,
   "id": "e0fac8e4",
   "metadata": {
    "scrolled": true
   },
   "outputs": [],
   "source": [
    "println(outerPlanets[1])\n",
    "println(outerPlanets.get(0))"
   ]
  },
  {
   "cell_type": "markdown",
   "id": "589bf1e0",
   "metadata": {},
   "source": [
    "### Particionado de la lista"
   ]
  },
  {
   "cell_type": "markdown",
   "id": "ded7b1a7",
   "metadata": {},
   "source": [
    "La librería estándar de kotlin dispone de diversas funciones que nos permiten extraer elementos de colecciones, como los arrays o las listas, de diversas maneras. Puedes consultar su uso y ver más ejemplos en la [documentación](https://kotlinlang.org/docs/collection-parts.html)\n",
    "\n",
    "<br>Por ejemplo, el método **```slice()```** junto con un **rango** o una colección de valores, nos permite extraer uno o más valores de un array o lista"
   ]
  },
  {
   "cell_type": "code",
   "execution_count": null,
   "id": "122d2d9e",
   "metadata": {
    "scrolled": true
   },
   "outputs": [],
   "source": [
    "// los cuatro primeros elementos 0->3\n",
    "println(outerPlanets.slice(0..3))\n",
    "\n",
    "// los cuatro primeros elementos 0->3 tomados de 2 en 2\n",
    "println(outerPlanets.slice(0..3 step 2))\n",
    "\n",
    "// los elementos de las posiciones 1,3 y 4\n",
    "println(outerPlanets.slice(listOf(1,3,4)))"
   ]
  },
  {
   "cell_type": "markdown",
   "id": "154c3950",
   "metadata": {},
   "source": [
    "De forma similar, los métodos **```take()```**, **```takeLast()```**, **```drop()```** y **```dropLast()```** permiten  extraer un número n de elementos, empezando por el principio o por el final, o inversamente, descartar un número n de elementos"
   ]
  },
  {
   "cell_type": "code",
   "execution_count": null,
   "id": "00a12a3a",
   "metadata": {},
   "outputs": [],
   "source": [
    "// los dos primeros elementos\n",
    "println(outerPlanets.take(2))\n",
    "\n",
    "// los dos último elementos\n",
    "println(outerPlanets.takeLast(2))\n",
    "\n",
    "// todos los elementos menos los 2 primeros\n",
    "println(outerPlanets.drop(2))\n",
    "\n",
    "// todos los elementos menos los 2 últimos\n",
    "println(outerPlanets.dropLast(2))"
   ]
  },
  {
   "cell_type": "markdown",
   "id": "6e9cfc44",
   "metadata": {},
   "source": [
    "De forma paralela a los métodos anteriores, disponemos de las funciones equivalentes  **```takeWhile()```**, **```takeLastWhile()```**, **```dropWhile()```** y **```dropLastWhile()```**  que, en lugar de especificar un número n de elementos, nos permiten establecer una condición para la selección de los mismos"
   ]
  },
  {
   "cell_type": "code",
   "execution_count": null,
   "id": "53bfd2be",
   "metadata": {},
   "outputs": [],
   "source": [
    "// extrae elementos de la lista, empezando por el principio, mientras su valor sea menor que 5\n",
    "println(arrayOf(1,-2,0,3,5).takeWhile{ it < 5 })\n",
    "\n",
    "// elimina los elementos de la lista, empezando por el final, hasta que encuentre un valor no negativo\n",
    "println(listOf(1,-2,0,-3,-5).dropLastWhile{ it < 0 })"
   ]
  },
  {
   "cell_type": "markdown",
   "id": "df21ceef",
   "metadata": {},
   "source": [
    "La función **```chunked()```** nos permite partir la colección en sublistas del tamaño especificado (puede que la última sublista tenga un tamaño inferior)"
   ]
  },
  {
   "cell_type": "code",
   "execution_count": null,
   "id": "7d58525f",
   "metadata": {},
   "outputs": [],
   "source": [
    "// dividimos la colección en parejas\n",
    "outerPlanets.chunked(2)"
   ]
  },
  {
   "cell_type": "markdown",
   "id": "fadf7af2",
   "metadata": {},
   "source": [
    "Además, podríamos aplicar una transformación sobre cada una de las nuevas sublistas (chunks)"
   ]
  },
  {
   "cell_type": "code",
   "execution_count": null,
   "id": "bbf831ee",
   "metadata": {
    "scrolled": true
   },
   "outputs": [],
   "source": [
    "outerPlanets.chunked(2) { if(it.size==2) it[0] < it[1] else true }"
   ]
  },
  {
   "cell_type": "markdown",
   "id": "80475257",
   "metadata": {},
   "source": [
    "Por último, la función **```windowed()```** nos permite desplazar una ventana de tamaño n sobre la colección, extrayendo las sublistas correspondientes. En principio, la distancia entre estas sublistas (distancia entre el primer elemento de una sublista y el primero de la siguiente) es 1, aunque podemos modificarlo con el parámetro **```step```**"
   ]
  },
  {
   "cell_type": "code",
   "execution_count": null,
   "id": "d6dd2c5e",
   "metadata": {},
   "outputs": [],
   "source": [
    "// creamos una lista de 10 números a partir de un rango\n",
    "val listaNum = (1..10).toList()\n",
    "println(listaNum)\n",
    "\n",
    "// la partimos de 3 en 3\n",
    "println(listaNum.windowed(3))\n",
    "\n",
    "\n",
    "// la partimos de 3 en 3 pero en conjuntos disjuntos\n",
    "println(listaNum.windowed(3, step=3))\n",
    "\n",
    "// fíjate que el 10 quedó fuera porque el conjunto resultante no tenía tamaño 3\n",
    "// podemos evitarlo con el parámetro partialWindows\n",
    "println(listaNum.windowed(3, step=3, partialWindows = true))"
   ]
  },
  {
   "cell_type": "markdown",
   "id": "b5becb0f",
   "metadata": {},
   "source": [
    "### Modificando la lista"
   ]
  },
  {
   "cell_type": "markdown",
   "id": "3371b28b",
   "metadata": {},
   "source": [
    "Podemos hacer todo tipo de cambios sobre el contenido de la listas mutables, como añadir o eliminar elementos, modificar los valores existentes o modificar el orden de los elementos"
   ]
  },
  {
   "cell_type": "markdown",
   "id": "4188d9f2",
   "metadata": {},
   "source": [
    "#### Añadir elementos"
   ]
  },
  {
   "cell_type": "markdown",
   "id": "e96df47a",
   "metadata": {},
   "source": [
    "Como ya vimos anteriormente, podemos añadir elementos a la colección usando el método **```add()```**. Otra forma de añadir nuevos elementos es mediante el operador **+**"
   ]
  },
  {
   "cell_type": "code",
   "execution_count": null,
   "id": "74f3544c",
   "metadata": {},
   "outputs": [],
   "source": [
    "val players = mutableListOf(\"John\", \"Jane\", \"Bob\")\n",
    "players.add(\"Sarah\")\n",
    "players += \"Rob\"\n",
    "\n",
    "\n",
    "println(players)"
   ]
  },
  {
   "cell_type": "markdown",
   "id": "0db394fe",
   "metadata": {},
   "source": [
    "Podemos emplear el método **```add()```** para **insertar** un elemento. Para ello, deberemos proporcionar la posición de inserción como primer argumento del método"
   ]
  },
  {
   "cell_type": "code",
   "execution_count": null,
   "id": "607393c7",
   "metadata": {},
   "outputs": [],
   "source": [
    "players.add(2, \"Neil\")\n",
    "\n",
    "println(players)"
   ]
  },
  {
   "cell_type": "markdown",
   "id": "166a0f40",
   "metadata": {},
   "source": [
    "#### Eliminar elementos"
   ]
  },
  {
   "cell_type": "markdown",
   "id": "28c43043",
   "metadata": {},
   "source": [
    "Podemos eliminar elementos de la colección tanto por **contenido** como por **posición**. \n",
    "\n",
    "<br>Para eliminar por valor, emplearemos el método **```remove()```** al que le pasaremos el objeto a eliminar. El método devuelve un valor booleano con el resultado de la operación"
   ]
  },
  {
   "cell_type": "code",
   "execution_count": null,
   "id": "5e4818e1",
   "metadata": {},
   "outputs": [],
   "source": [
    "var success = players.remove(\"Bob\")\n",
    "if (success) println(\"Bob fue eliminado\")\n",
    "\n",
    "println(players)"
   ]
  },
  {
   "cell_type": "markdown",
   "id": "585f76a5",
   "metadata": {},
   "source": [
    "El método **```removeAt()```** nos permite eliminar el elemento de la posición indicada, devolviéndolo como resultado. La posición debe estar en el rango de la colección o se producirá una excepción de tipo **```IndexOutOfBoundsException```**"
   ]
  },
  {
   "cell_type": "code",
   "execution_count": null,
   "id": "e0b160e6",
   "metadata": {},
   "outputs": [],
   "source": [
    "val removed = players.removeAt(0)\n",
    "println(\"Se ha eliminado a $removed\")\n",
    "\n",
    "println(players)"
   ]
  },
  {
   "cell_type": "markdown",
   "id": "aa06397b",
   "metadata": {},
   "source": [
    "Para determinar la posición de un elemento en la colección, podemos emplear el método **```indexOf()```**, el cual nos devoverá dicha posición o el valor **-1** en caso de no encontrarlo"
   ]
  },
  {
   "cell_type": "code",
   "execution_count": null,
   "id": "6fa167ef",
   "metadata": {},
   "outputs": [],
   "source": [
    "val search = \"Bob\"\n",
    "println(\"La posición de $search es ${players.indexOf(search)}\")"
   ]
  },
  {
   "cell_type": "markdown",
   "id": "4d7f9ed9",
   "metadata": {},
   "source": [
    "#### Modificar elementos"
   ]
  },
  {
   "cell_type": "markdown",
   "id": "aaa6608d",
   "metadata": {},
   "source": [
    "De forma similar al acceso para lectura, que podemos hacerlo a través del **indexado** de la colección mediante **\\[ \\]** o el empleo del método **```get()```**, para la modificación de un elemento también lo podremos hacer por indexado o mediante el método **```set()```**"
   ]
  },
  {
   "cell_type": "code",
   "execution_count": null,
   "id": "e41361f3",
   "metadata": {},
   "outputs": [],
   "source": [
    "println(players)\n",
    "\n",
    "// modificamos el elemento en la posición 1\n",
    "players[1] = \"Paul\"\n",
    "\n",
    "println(players)\n",
    "\n",
    "// modificamos el elemento en la posición 1 con set\n",
    "players.set(1, \"Anna\")\n",
    "\n",
    "println(players)"
   ]
  },
  {
   "cell_type": "markdown",
   "id": "0821b9bf",
   "metadata": {},
   "source": [
    "### Iterando sobre la lista"
   ]
  },
  {
   "cell_type": "markdown",
   "id": "5f3ae1c8",
   "metadata": {},
   "source": [
    "Para iterar sobre los elementos de la lista podemos emplear los mismos métodos vistos con los arrays"
   ]
  },
  {
   "cell_type": "code",
   "execution_count": null,
   "id": "0bd2309f",
   "metadata": {},
   "outputs": [],
   "source": [
    "players.forEach { s -> println(s) }\n",
    "\n",
    "println(\"---\")\n",
    "\n",
    "for (planet in outerPlanets) println(planet)"
   ]
  },
  {
   "cell_type": "markdown",
   "id": "9984752a",
   "metadata": {},
   "source": [
    "Al igual que en Java y otros lenguajes como C++, podemos desplazarnos sobre los elementos de una colección haciendo uso de iteradores. Estos tienen la ventaja de proporcionarnos acceso a los índices de los elementos anterior y posterior, así como a eliminar elementos de forma segura de la misma mientras iteramos."
   ]
  },
  {
   "cell_type": "code",
   "execution_count": null,
   "id": "d4e9f927",
   "metadata": {},
   "outputs": [],
   "source": [
    "val players = mutableListOf(\"John\", \"Jane\", \"Bob\")\n",
    "\n",
    "// recorremos los elementos\n",
    "val it1 = players.listIterator()\n",
    "while(it1.hasNext()) {\n",
    "    val i = it1.nextIndex()\n",
    "    val v = it1.next()\n",
    "    println(\"[$i] --> $v\")\n",
    "}\n",
    "\n",
    "// eliminamos los elementos que empiezan por \"J\"\n",
    "val it2 = players.listIterator()\n",
    "while(it2.hasNext()) {\n",
    "    val v = it2.next()\n",
    "    if(v[0] == 'J') it2.remove()\n",
    "}\n",
    "println(\"Ahora la lista es: ${players}\")"
   ]
  },
  {
   "cell_type": "markdown",
   "id": "5dba7a76",
   "metadata": {},
   "source": [
    "## 3. Nulabilidad\n",
    "---"
   ]
  },
  {
   "cell_type": "markdown",
   "id": "3671187e",
   "metadata": {},
   "source": [
    "Trabajando con arrays, listas u otras colecciones, deberemos tener en consideración el tratamiento de nulos. Ten en cuenta que tanto la colección como los elementos podrán estar definidos como tipos anulables.\n",
    "\n",
    "<br>Por ejemplo, la siguiente será una lista de tipo anulable:"
   ]
  },
  {
   "cell_type": "code",
   "execution_count": null,
   "id": "35a71531",
   "metadata": {},
   "outputs": [],
   "source": [
    "var nullableList: List<Int>? = listOf(1, 2, 3, 4)\n",
    "\n",
    "nullableList = null\n",
    "\n",
    "println(nullableList)"
   ]
  },
  {
   "cell_type": "markdown",
   "id": "b853646e",
   "metadata": {},
   "source": [
    "Sin embargo, en el siguiente caso crearemos una lista que acepte nulos. Es decir, el tipo de los elementos es anulable"
   ]
  },
  {
   "cell_type": "code",
   "execution_count": null,
   "id": "f1c069b2",
   "metadata": {},
   "outputs": [],
   "source": [
    "val listOfNulls = mutableListOf<Int?>(1, 2, 3, null, 4)\n",
    "\n",
    "listOfNulls[0] = null\n",
    "\n",
    "println(listOfNulls)"
   ]
  },
  {
   "cell_type": "markdown",
   "id": "3bff9af2",
   "metadata": {},
   "source": [
    "### 4. Ejercicios\n",
    "---"
   ]
  },
  {
   "cell_type": "markdown",
   "id": "7aa7d643",
   "metadata": {},
   "source": [
    "1. \n",
    "Escribe un método denominado **maxLength** que acepte una lista de cadenas de caracteres como argumento y devuelva la longitud de la cadena más larga de la lista. \n",
    "\n",
    "El método devolverá 0 si la lista está vacía"
   ]
  },
  {
   "cell_type": "code",
   "execution_count": null,
   "id": "e4d55e4d",
   "metadata": {},
   "outputs": [],
   "source": [
    "// SOLUCIÓN\n"
   ]
  },
  {
   "cell_type": "code",
   "execution_count": null,
   "id": "48774dd2",
   "metadata": {},
   "outputs": [],
   "source": [
    "// TESTS\n",
    "// --> 6\n",
    "println(maxLength(listOf(\"to\", \"be\", \"or\", \"not\", \"to\", \"be\", \"hamlet\")))\n",
    "\n",
    "// --> 0\n",
    "println(maxLength(listOf()))"
   ]
  },
  {
   "cell_type": "markdown",
   "id": "3e85c645",
   "metadata": {},
   "source": [
    "2. \n",
    "Escribe un método denominado **swapPairs** que intercambie los valores de una lista de Strings por parejas. Es decir, intercambiará el primer elemento con el segundo, el tercero con el cuarto,...\n",
    "\n",
    "En caso de que el número de elementos sea impar, el último elemento no se intercambiará"
   ]
  },
  {
   "cell_type": "code",
   "execution_count": null,
   "id": "1e92a1dd",
   "metadata": {},
   "outputs": [],
   "source": [
    "// SOLUCIÓN\n"
   ]
  },
  {
   "cell_type": "code",
   "execution_count": null,
   "id": "7cf0de07",
   "metadata": {
    "scrolled": true
   },
   "outputs": [],
   "source": [
    "// TESTS\n",
    "// --> [dos, uno, cuatro, tres, seis, cinco]\n",
    "val test1 = mutableListOf(\"uno\", \"dos\", \"tres\", \"cuatro\", \"cinco\", \"seis\")\n",
    "swapPairs(test1)\n",
    "println(test1) \n",
    "\n",
    "// --> [be, to, not, or, be, to, Hamlet]\n",
    "val test2 = mutableListOf(\"to\", \"be\", \"or\", \"not\", \"to\", \"be\", \"Hamlet\")\n",
    "swapPairs(test2)\n",
    "println(test2) \n",
    "\n",
    "// --> [I love programming!]\n",
    "val test3 = mutableListOf(\"I love programming!\")\n",
    "swapPairs(test3)\n",
    "println(test3) \n",
    "\n",
    "// --> []\n",
    "val test4 = mutableListOf<String>()\n",
    "swapPairs(test4)\n",
    "println(test4) "
   ]
  },
  {
   "cell_type": "markdown",
   "id": "84de1716",
   "metadata": {},
   "source": [
    "3. \n",
    "Escribe un método denominado **removeEvenLength** que elimine todas las cadenas de longitud par de la lista de Strings recibida como argumento"
   ]
  },
  {
   "cell_type": "code",
   "execution_count": null,
   "id": "c684c100",
   "metadata": {},
   "outputs": [],
   "source": [
    "// SOLUCIÓN\n"
   ]
  },
  {
   "cell_type": "code",
   "execution_count": null,
   "id": "0808e8f7",
   "metadata": {},
   "outputs": [],
   "source": [
    "// TESTS\n",
    "// --> [una]\n",
    "val test1 = mutableListOf(\"Esto\", \"es\", \"una\", \"prueba\")\n",
    "removeEvenLength(test1)\n",
    "println(test1) \n",
    "\n",
    "// --> [par, impar, par, impar]\n",
    "val test2 = mutableListOf(\"par\", \"impar\", \"par\", \"impar\")\n",
    "removeEvenLength(test2)\n",
    "println(test2) \n",
    "\n",
    "// --> [Arréglalo, una, vez]\n",
    "val test3 = mutableListOf(\"Arréglalo\", \"de\", \"una\", \"vez\")\n",
    "removeEvenLength(test3)\n",
    "println(test3) \n",
    "\n",
    "// --> []\n",
    "val test4 = mutableListOf<String>()\n",
    "removeEvenLength(test4)\n",
    "println(test4) "
   ]
  },
  {
   "cell_type": "markdown",
   "id": "60d84dc3",
   "metadata": {},
   "source": [
    "4. \n",
    "Escribe un método denominado **doubleList** que recibe una lista de Strings como argumento y duplica cada uno de sus elementos"
   ]
  },
  {
   "cell_type": "code",
   "execution_count": null,
   "id": "3da25f1b",
   "metadata": {},
   "outputs": [],
   "source": [
    "// SOLUCIÓN\n"
   ]
  },
  {
   "cell_type": "code",
   "execution_count": null,
   "id": "25b6e326",
   "metadata": {},
   "outputs": [],
   "source": [
    "// TESTS\n",
    "// --> [Esto, Esto, es, es, una, una, prueba, prueba]\n",
    "val test1 = mutableListOf(\"Esto\", \"es\", \"una\", \"prueba\")\n",
    "doubleList(test1)\n",
    "println(test1)\n",
    "\n",
    "// --> [1, 1, 2, 2, 3, 3]\n",
    "val test2 = mutableListOf(\"1\", \"2\", \"3\")\n",
    "doubleList(test2)\n",
    "println(test2)\n",
    "        \n",
    "// --> [Soy sólo uno, Soy sólo uno]\n",
    "val test3 = mutableListOf(\"Soy sólo uno\")\n",
    "doubleList(test3)\n",
    "println(test3)\n",
    "\n",
    "// --> []\n",
    "val test4 = mutableListOf<String>()\n",
    "doubleList(test4)\n",
    "println(test4) "
   ]
  },
  {
   "cell_type": "markdown",
   "id": "6b6df671",
   "metadata": {},
   "source": [
    "5. \n",
    "Escribe un método denominado **minToFront** que reciba una lista de enteros y mueva el mínimo de ellos al comienzo de la lista, manteniendo el orden del resto de números\n",
    "\n",
    "Puedes asumir que la lista tendrá, al menos, un elemento"
   ]
  },
  {
   "cell_type": "code",
   "execution_count": null,
   "id": "ea7054d7",
   "metadata": {},
   "outputs": [],
   "source": [
    "// SOLUCIÓN\n"
   ]
  },
  {
   "cell_type": "code",
   "execution_count": null,
   "id": "81c44402",
   "metadata": {},
   "outputs": [],
   "source": [
    "// TESTS\n",
    "// --> [2, 3, 8, 92, 4, 17, 9]\n",
    "val test1 = mutableListOf(3, 8, 92, 4, 2, 17, 9)\n",
    "minToFront(test1)\n",
    "println(test1)\n",
    "\n",
    "// --> [1]\n",
    "val test2 = mutableListOf(1)\n",
    "minToFront(test2)\n",
    "println(test2)\n",
    "\n",
    "// --> [-2, 6, 1, 4]\n",
    "val test3 = mutableListOf(6, 1, 4, -2)\n",
    "minToFront(test3)\n",
    "println(test3)"
   ]
  },
  {
   "cell_type": "markdown",
   "id": "f4566a27",
   "metadata": {},
   "source": [
    "6. \n",
    "Escribe un método denominado **removeDuplicates** que reciba una lista de Strings y elimine los duplicados"
   ]
  },
  {
   "cell_type": "code",
   "execution_count": null,
   "id": "9c93f61a",
   "metadata": {},
   "outputs": [],
   "source": [
    "// SOLUCIÓN\n"
   ]
  },
  {
   "cell_type": "code",
   "execution_count": null,
   "id": "9f668403",
   "metadata": {},
   "outputs": [],
   "source": [
    "// TESTS\n",
    "// --> [be, is, not, or, question, that, to, the]\n",
    "val test1 = mutableListOf(\"be\", \"is\", \"not\", \"be\", \"or\", \"question\", \"that\", \"to\", \"the\", \"to\")\n",
    "removeDuplicates(test1)\n",
    "println(test1)\n",
    "\n",
    "// --> [duplicado]\n",
    "val test2 = mutableListOf(\"duplicado\", \"duplicado\", \"duplicado\", \"duplicado\", \"duplicado\")\n",
    "removeDuplicates(test2)\n",
    "println(test2)\n",
    "\n",
    "// --> [único]\n",
    "val test3 = mutableListOf(\"único\")\n",
    "removeDuplicates(test3)\n",
    "println(test3)\n",
    "\n",
    "\n",
    "// --> [no, soy, el, único]\n",
    "val test4 = mutableListOf(\"no\", \"soy\", \"el\", \"único\", \"único\")\n",
    "removeDuplicates(test4)\n",
    "println(test4)"
   ]
  },
  {
   "cell_type": "markdown",
   "id": "4483f820",
   "metadata": {},
   "source": [
    "#### Soluciones\n",
    "---"
   ]
  },
  {
   "cell_type": "markdown",
   "id": "afbc20e5",
   "metadata": {},
   "source": [
    "##### 1.\n",
    "```\n",
    "fun maxLength(lista: List<String>): Int {\n",
    "    var len = 0\n",
    "    lista.forEach{ it -> len = max(len, it.length) }\n",
    "    return len\n",
    "}\n",
    "```"
   ]
  },
  {
   "cell_type": "markdown",
   "id": "71164aae",
   "metadata": {},
   "source": [
    "##### 2.\n",
    "```\n",
    "fun swapPairs(lista: MutableList<String>) {\n",
    "    for(i in 0 until lista.size-1 step 2) {\n",
    "        val item = lista[i]\n",
    "        lista[i] = lista[i + 1]\n",
    "        lista[i + 1] = item\n",
    "    }\n",
    "}\n",
    "```"
   ]
  },
  {
   "cell_type": "markdown",
   "id": "1a9e217e",
   "metadata": {},
   "source": [
    "##### 3.\n",
    "```\n",
    "fun removeEvenLength(lista: MutableList<String>) {\n",
    "    val it = lista.iterator()\n",
    "    while(it.hasNext()) {\n",
    "        val e = it.next()\n",
    "        if(e.length % 2 == 0) it.remove()\n",
    "    }\n",
    "}\n",
    "```\n"
   ]
  },
  {
   "cell_type": "markdown",
   "id": "7e729211",
   "metadata": {},
   "source": [
    "##### 4.\n",
    "```\n",
    "fun doubleList(lista: MutableList<String>) {\n",
    "    for(i in 0 until lista.size step 2) \n",
    "        lista.add(i+1, lista[i])\n",
    "}\n",
    "```"
   ]
  },
  {
   "cell_type": "markdown",
   "id": "660e5316",
   "metadata": {},
   "source": [
    "##### 5.\n",
    "```\n",
    "fun minToFront(lista: MutableList<Int>) {\n",
    "    val minval = lista.minOf { it }\n",
    "    lista.remove(minval)\n",
    "    lista.add(0, minval)\n",
    "}\n",
    "```\n"
   ]
  },
  {
   "cell_type": "markdown",
   "id": "e5d7fcb6",
   "metadata": {},
   "source": [
    "##### 6.\n",
    "```\n",
    "fun removeDuplicates(lista: MutableList<String>) {\n",
    "    for (p in 0 until lista.size - 1) {\n",
    "        val e = lista[p]\n",
    "        val it = lista.listIterator(p + 1)\n",
    "        while(it.hasNext()) \n",
    "            if (e == it.next()) it.remove()    \n",
    "        if (p >= lista.size - 2) break\n",
    "    }\n",
    "}\n",
    "```\n"
   ]
  }
 ],
 "metadata": {
  "kernelspec": {
   "display_name": "Kotlin",
   "language": "kotlin",
   "name": "kotlin"
  },
  "language_info": {
   "codemirror_mode": "text/x-kotlin",
   "file_extension": ".kt",
   "mimetype": "text/x-kotlin",
   "name": "kotlin",
   "nbconvert_exporter": "",
   "pygments_lexer": "kotlin",
   "version": "1.7.20-dev-1299"
  },
  "toc": {
   "base_numbering": 1,
   "nav_menu": {},
   "number_sections": false,
   "sideBar": true,
   "skip_h1_title": false,
   "title_cell": "Table of Contents",
   "title_sidebar": "Contents",
   "toc_cell": true,
   "toc_position": {},
   "toc_section_display": true,
   "toc_window_display": false
  },
  "varInspector": {
   "cols": {
    "lenName": 16,
    "lenType": 16,
    "lenVar": 40
   },
   "kernels_config": {
    "python": {
     "delete_cmd_postfix": "",
     "delete_cmd_prefix": "del ",
     "library": "var_list.py",
     "varRefreshCmd": "print(var_dic_list())"
    },
    "r": {
     "delete_cmd_postfix": ") ",
     "delete_cmd_prefix": "rm(",
     "library": "var_list.r",
     "varRefreshCmd": "cat(var_dic_list()) "
    }
   },
   "types_to_exclude": [
    "module",
    "function",
    "builtin_function_or_method",
    "instance",
    "_Feature"
   ],
   "window_display": false
  }
 },
 "nbformat": 4,
 "nbformat_minor": 5
}
