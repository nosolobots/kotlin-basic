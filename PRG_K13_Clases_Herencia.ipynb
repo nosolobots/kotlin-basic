{
 "cells": [
  {
   "cell_type": "markdown",
   "id": "090616fb",
   "metadata": {},
   "source": [
    "# Clases. Conceptos avanzados\n",
    "---"
   ]
  },
  {
   "cell_type": "markdown",
   "id": "704f235b",
   "metadata": {},
   "source": [
    "En un cuaderno previo, introdujimos el concepto de clase. Vamos a seguir explorando conceptos mñas avanzados de la programación orientada a objetos en Kotlin como la herencia, polimorfismo, clases abstractas y modificadores de acceso"
   ]
  },
  {
   "cell_type": "markdown",
   "id": "12d3f85c",
   "metadata": {},
   "source": [
    "## 1. Herencia\n",
    "---"
   ]
  }
 ],
 "metadata": {
  "kernelspec": {
   "display_name": "Kotlin",
   "language": "kotlin",
   "name": "kotlin"
  },
  "language_info": {
   "codemirror_mode": "text/x-kotlin",
   "file_extension": ".kt",
   "mimetype": "text/x-kotlin",
   "name": "kotlin",
   "nbconvert_exporter": "",
   "pygments_lexer": "kotlin",
   "version": "1.7.20-dev-1299"
  },
  "varInspector": {
   "cols": {
    "lenName": 16,
    "lenType": 16,
    "lenVar": 40
   },
   "kernels_config": {
    "python": {
     "delete_cmd_postfix": "",
     "delete_cmd_prefix": "del ",
     "library": "var_list.py",
     "varRefreshCmd": "print(var_dic_list())"
    },
    "r": {
     "delete_cmd_postfix": ") ",
     "delete_cmd_prefix": "rm(",
     "library": "var_list.r",
     "varRefreshCmd": "cat(var_dic_list()) "
    }
   },
   "types_to_exclude": [
    "module",
    "function",
    "builtin_function_or_method",
    "instance",
    "_Feature"
   ],
   "window_display": false
  }
 },
 "nbformat": 4,
 "nbformat_minor": 5
}
