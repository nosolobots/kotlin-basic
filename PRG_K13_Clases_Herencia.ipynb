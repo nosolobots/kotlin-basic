{
 "cells": [
  {
   "cell_type": "markdown",
   "id": "090616fb",
   "metadata": {},
   "source": [
    "# Clases. Conceptos avanzados\n",
    "---"
   ]
  },
  {
   "cell_type": "markdown",
   "id": "704f235b",
   "metadata": {},
   "source": [
    "En un cuaderno previo, introdujimos el concepto de clase. Vamos a seguir explorando conceptos mñas avanzados de la programación orientada a objetos en Kotlin como la herencia, polimorfismo, clases abstractas y modificadores de acceso"
   ]
  },
  {
   "cell_type": "markdown",
   "id": "12d3f85c",
   "metadata": {},
   "source": [
    "## 1. Herencia\n",
    "---"
   ]
  },
  {
   "cell_type": "markdown",
   "id": "17beab55",
   "metadata": {},
   "source": [
    "Como ya sabemos, la idea principal tras la herencia es la de propagar una serie de atributos y comportamientos comunes hacia abajo por una jerarquía de clases.\n",
    "\n",
    "<br>Al igual que en Java, una clase en Kotlin sólo podrá heredar de **único** padre (además de la clase **```Any```**, similar a **Object** en Java, de la que heredan todas)"
   ]
  },
  {
   "cell_type": "code",
   "execution_count": null,
   "id": "7353d57a",
   "metadata": {},
   "outputs": [],
   "source": [
    "data class Nota(val letra: Char, val puntos: Double, val creditos: Double)\n",
    "\n",
    "open class Persona(var nombre: String, var apellidos: String) {\n",
    "    fun nombreCompleto() = \"$nombre $apellidos\"\n",
    "}\n",
    "\n",
    "class Estudiante(nombre: String, apellidos: String,\n",
    "    var notas: MutableList<Nota> = mutableListOf())\n",
    "    : Persona(nombre, apellidos) {\n",
    "\n",
    "    fun addNota(nota: Nota) {\n",
    "        notas += nota\n",
    "    }\n",
    "}"
   ]
  },
  {
   "cell_type": "markdown",
   "id": "05ef331c",
   "metadata": {},
   "source": [
    "En el ejemplo anterior, la clase **```Estudiante```** **hereda** de **```Persona```**. Veamos algunas particularidades respecto a la sintaxis:\n",
    "\n",
    "- Para indicar que una clase es subclase de otra (hereda), lo indicamos añadiendo dos puntos (**:**) y el nombre de la superclase antes del cuerpo de la misma\n",
    "- Para poder heredar de una clase, ésta tiene que tener el modificador **```open```**. E Kotlin, las clases y métodos son finales por defecto, por lo que no se pueden heredar unas ni sobreescribir los otros\n",
    "- En Estudiante, los parámetros **```nombre```** y **```apellidos```** son simples argumentos (fíjate que no usamos ```var``` ni ```val```) que empleamos para pasar al constructor primario de **```Persona```**, que es donde están definidas dichas **propiedades** y que heredará **```Estudiante```**\n",
    "- **```Estudiante```** también hereda cualquier método definido en **```Persona```**, pero sólo lo podrá sobreescribir si está declarado como **```open```**"
   ]
  },
  {
   "cell_type": "code",
   "execution_count": null,
   "id": "9a90fb60",
   "metadata": {
    "scrolled": true
   },
   "outputs": [],
   "source": [
    "val john = Persona(nombre = \"John\", apellidos = \"Doe\")\n",
    "val jane = Estudiante(nombre = \"Jane\", apellidos = \"Doe\")\n",
    "\n",
    "println(john.nombreCompleto())\n",
    "println(jane.nombreCompleto())\n",
    "\n",
    "val mates1 = Nota(letra = 'B', puntos = 8.5, creditos = 3.0)\n",
    "jane.addNota(mates1)"
   ]
  },
  {
   "cell_type": "markdown",
   "id": "eca6d28b",
   "metadata": {},
   "source": [
    "### Polimorfismo"
   ]
  },
  {
   "cell_type": "markdown",
   "id": "15fb469a",
   "metadata": {},
   "source": [
    "Una de las características de la programación orientada a objetos, es la posibilidad de tratar de forma diferente un objeto en base al contexto. Es lo que llamamos **polimorfismo**\n",
    "\n",
    "<br>El polimorfismo está intimamente ligado con la herencia. El hecho de que una variable de un tipo de una superclase pueda referenciar a cualquier objeto de una subclase, nos permite tratar de forma conjunta a todas esas instancias hijas. Al mismo tiempo, gracias al polimorfismo, se invocará en cada caso la implementación específica de los métodos heredados y sobreescritos."
   ]
  },
  {
   "cell_type": "code",
   "execution_count": null,
   "id": "2f2bdcd2",
   "metadata": {},
   "outputs": [],
   "source": [
    "open class Animal(val nombre: String) {\n",
    "    open fun habla() { print(\"Soy $nombre: \") }\n",
    "}\n",
    "\n",
    "class Gato(mote: String): Animal(mote) {\n",
    "    override fun habla() { \n",
    "        super.habla()\n",
    "        println(\"miau!\") \n",
    "    }\n",
    "}\n",
    "\n",
    "class Perro(mote: String): Animal(mote) {\n",
    "    override fun habla() { \n",
    "        super.habla()\n",
    "        println(\"guau!\") \n",
    "    }\n",
    "}\n",
    "\n",
    "val animales = listOf<Animal>(Gato(\"Silvestre\"), Perro(\"Scooby\"), Gato(\"Tom\"))\n",
    "animales.forEach { it.habla() }"
   ]
  },
  {
   "cell_type": "markdown",
   "id": "0af3afcb",
   "metadata": {},
   "source": [
    "Respecto al ejemplo anterior:\n",
    "\n",
    "- El método **```habla()```** del padre debe estar definido como **```open```** para poder sobreescribirlo por las clases hijas\n",
    "- A su vez, las clases hijas lo \"marcarán\" como **```override```** para indicar que están sobreescribiendo un método del padre\n",
    "- Vemos como la lista está definnida para contener objetos de tipo **```Animal```**, aunque las instancias añadidas son todas de alguno de sus hijos\n",
    "- Cada vez que invoquemos el método ```**habla()**``` de alguna de estas instancias contenidas en la lista, se invocará la versión específica del objeto concreto (**polimorfismo**)\n",
    "- Desde una clase hija podemos acceder a los miembros del padre haciendo uso de la referencia **```super```**\n"
   ]
  },
  {
   "cell_type": "markdown",
   "id": "786f439f",
   "metadata": {},
   "source": [
    "### Chequeo de Tipo"
   ]
  },
  {
   "cell_type": "markdown",
   "id": "bd24d30b",
   "metadata": {},
   "source": [
    "Debido al polimorfismo, nos podemos encontrar en situaciones donde necesitemos verificar el tipo específico de la instancia referenciada por una variable. Para ello, podemos usar el operador **```is```**"
   ]
  },
  {
   "cell_type": "code",
   "execution_count": null,
   "id": "b2a95fad",
   "metadata": {},
   "outputs": [],
   "source": [
    "// constante de tipo Animal que referencia una instancia de Gato\n",
    "val animal: Animal = Gato(\"Tom\")\n",
    "\n",
    "println(animal is Gato)\n",
    "println(animal is Perro)"
   ]
  },
  {
   "cell_type": "markdown",
   "id": "ef9cb63d",
   "metadata": {},
   "source": [
    "También disponemos de operadores que nos van a permitir hacer un **cast** de forma segura hacia un supertipo o un subtipo\n",
    "\n",
    "- **```as```**, nos permite hacer un **unsafe cast** en tiempo de compilación a un tipo que sabemos que no va a fallar (por ejemplo, a un supertipo)\n",
    "- **```as?```**, nos permite hacer un **safe cast** que, en caso de fallar, nos devolverá **```null```** (por ejemplo, a un subtipo)"
   ]
  },
  {
   "cell_type": "code",
   "execution_count": null,
   "id": "8c026eeb",
   "metadata": {},
   "outputs": [],
   "source": [
    "val tom = Gato(\"Tom\") // es un Gato\n",
    "\n",
    "val animal = tom as Animal \n",
    "val perro = animal as? Perro // este cast devolverá nulo\n",
    "\n",
    "println(perro)"
   ]
  },
  {
   "cell_type": "markdown",
   "id": "f84117c5",
   "metadata": {},
   "source": [
    "### Sobreescritura de Métodos"
   ]
  },
  {
   "cell_type": "markdown",
   "id": "e7658893",
   "metadata": {},
   "source": [
    "Las subclases, además de heredar las propiedades y métodos de su superclase y definir los suyos propios, puede **sobreescribir** los métodos heredados de su padre.\n",
    "\n",
    "<br>Como ya se comentó previamente, el método de la superclase debe ir acompañado del modificador **```open```**. De forma similar, el método sobreescrito en la sublase irá precedido por **```override```**, resaltando de forma inequívoca que estamos sobreescribiendo un método heredado. Lógicamente, el método sobreescrito deberá tener la misma firma que el método del padre"
   ]
  },
  {
   "cell_type": "code",
   "execution_count": null,
   "id": "7030aa7a",
   "metadata": {},
   "outputs": [],
   "source": [
    "open class Shape {\n",
    "    open fun area(): Double { return 0.0  }\n",
    "}\n",
    "\n",
    "class Rect(val width: Double, val height: Double): Shape() {\n",
    "    override fun area() = width * height\n",
    "}\n",
    "\n",
    "class Circle(val radius: Double): Shape() {\n",
    "    override fun area() = kotlin.math.PI * radius * radius\n",
    "}"
   ]
  },
  {
   "cell_type": "code",
   "execution_count": null,
   "id": "8c71573c",
   "metadata": {},
   "outputs": [],
   "source": [
    "val r = Rect(2.0, 4.0)\n",
    "println(\"area del rectángulo = ${r.area()}\")\n",
    "\n",
    "val c = Circle(2.0)\n",
    "println(\"area del círculo = ${c.area()}\")"
   ]
  },
  {
   "cell_type": "markdown",
   "id": "91f89f33",
   "metadata": {},
   "source": [
    "### Clases abstractas"
   ]
  },
  {
   "cell_type": "markdown",
   "id": "0ee648f8",
   "metadata": {},
   "source": [
    "En determinadas situaciones, como las clases de ejemplo **```Animal```** o **```Shape```**, no tiene sentido instanciar directamente objetos de las mismas. Podemos prevenir esto definiéndolas como **clases abstractas**. Para ello, antepondremos el modificador **```abstract```** en la declaración de la clase.\n",
    "\n",
    "<br>Al contrario de lo que ocurre con una clase normal, las clases abstractas son **```open```** por defecto (lo contrario no tendría sentido)\n",
    "\n",
    "<br>Dentro de la clase abstracta podemos tener métodos con cuerpo y métodos sin él. Estos últimos deberán declarase a su vez como **```abstract```** y las subclases estarán obligadas a implementarlos (o a ser declaradas como clases abstractas)\n",
    "\n",
    "<br>Por ejemplo, vamos a redefinir nuestra clase **```Shape```** anterior como clase abstracta:"
   ]
  },
  {
   "cell_type": "code",
   "execution_count": null,
   "id": "8eea5d01",
   "metadata": {},
   "outputs": [],
   "source": [
    "abstract class Shape {\n",
    "    abstract fun area(): Double // no tiene cuerpo\n",
    "}\n",
    "\n",
    "class Rect(val width: Double, val height: Double): Shape() {\n",
    "    override fun area() = width * height\n",
    "}\n",
    "\n",
    "class Circle(val radius: Double): Shape() {\n",
    "    override fun area() = kotlin.math.PI * radius * radius\n",
    "}"
   ]
  },
  {
   "cell_type": "code",
   "execution_count": null,
   "id": "623cfa3d",
   "metadata": {},
   "outputs": [],
   "source": [
    "// no podemos crear objetos de Shape\n",
    "// la siguiente línea generaría un error\n",
    "//val geom = Shape()\n",
    "\n",
    "val r = Rect(2.0, 4.0)\n",
    "println(\"area del rectángulo = ${r.area()}\")\n",
    "\n",
    "val c = Circle(2.0)\n",
    "println(\"area del círculo = ${c.area()}\")"
   ]
  }
 ],
 "metadata": {
  "kernelspec": {
   "display_name": "Kotlin",
   "language": "kotlin",
   "name": "kotlin"
  },
  "language_info": {
   "codemirror_mode": "text/x-kotlin",
   "file_extension": ".kt",
   "mimetype": "text/x-kotlin",
   "name": "kotlin",
   "nbconvert_exporter": "",
   "pygments_lexer": "kotlin",
   "version": "1.8.0-RC"
  },
  "varInspector": {
   "cols": {
    "lenName": 16,
    "lenType": 16,
    "lenVar": 40
   },
   "kernels_config": {
    "python": {
     "delete_cmd_postfix": "",
     "delete_cmd_prefix": "del ",
     "library": "var_list.py",
     "varRefreshCmd": "print(var_dic_list())"
    },
    "r": {
     "delete_cmd_postfix": ") ",
     "delete_cmd_prefix": "rm(",
     "library": "var_list.r",
     "varRefreshCmd": "cat(var_dic_list()) "
    }
   },
   "types_to_exclude": [
    "module",
    "function",
    "builtin_function_or_method",
    "instance",
    "_Feature"
   ],
   "window_display": false
  }
 },
 "nbformat": 4,
 "nbformat_minor": 5
}
