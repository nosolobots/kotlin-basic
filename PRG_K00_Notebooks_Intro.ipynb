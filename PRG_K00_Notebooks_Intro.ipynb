{
 "cells": [
  {
   "cell_type": "markdown",
   "metadata": {
    "toc": true
   },
   "source": [
    "<h1>Table of Contents<span class=\"tocSkip\"></span></h1>\n",
    "<div class=\"toc\"><ul class=\"toc-item\"><li><span><a href=\"#1.-Introducción-a-los-Notebooks\" data-toc-modified-id=\"1.-Introducción-a-los-Notebooks-1\">1. Introducción a los Notebooks</a></span><ul class=\"toc-item\"><li><span><a href=\"#Kernel\" data-toc-modified-id=\"Kernel-1.1\">Kernel</a></span></li><li><span><a href=\"#Celdas\" data-toc-modified-id=\"Celdas-1.2\">Celdas</a></span></li></ul></li><li><span><a href=\"#2.-Markdown-(ejemplos)\" data-toc-modified-id=\"2.-Markdown-(ejemplos)-2\">2. Markdown (ejemplos)</a></span></li><li><span><a href=\"#Este-es-un-ejemplo-de-encabezado-de-tipo-1\" data-toc-modified-id=\"Este-es-un-ejemplo-de-encabezado-de-tipo-1-3\">Este es un ejemplo de encabezado de tipo 1</a></span><ul class=\"toc-item\"><li><span><a href=\"#Este-es-un-ejemplo-de-encabezado-de-tipo-2\" data-toc-modified-id=\"Este-es-un-ejemplo-de-encabezado-de-tipo-2-3.1\">Este es un ejemplo de encabezado de tipo 2</a></span></li></ul></li><li><span><a href=\"#3.-Librerías\" data-toc-modified-id=\"3.-Librerías-4\">3. Librerías</a></span></li></ul></div>"
   ]
  },
  {
   "cell_type": "markdown",
   "metadata": {},
   "source": [
    "# 1. Introducción a los Notebooks\n",
    "---"
   ]
  },
  {
   "cell_type": "markdown",
   "metadata": {
    "id": "QAaYmGdcaIC-"
   },
   "source": [
    "Un cuaderno (_notebook_) permite **integrar código y la salida de su ejecución** en un documento que combina visualizaciones, texto narrativo, ecuaciones matemáticas y otros tipos de _media_ (imágenes, vídeo,...)\n",
    "\n",
    "Es decir, dentro del propio documento podremos ejecutar código y mostrar su salida junto con explicaciones sobre el mismo.\n",
    "\n",
    "Al final, un _notebook_ no es más que un fichero de texto. De hecho, podemos descargarlo como un archivo **JSON** con extensión **.ipynb**"
   ]
  },
  {
   "cell_type": "markdown",
   "metadata": {
    "id": "AAmaLm2hdnsi"
   },
   "source": [
    "## Kernel\n",
    "---\n",
    "El **_Kernel_** es el \"motor de computación\" que ejecuta el código contenido en el _notebook_.\n",
    "\n",
    "Aunque podemos encontrar extensiones para dar soporte a otros lenguajes (R, Julia, Scala, Kotlin,...), los _notebooks_ suelen integrar de forma nativa un kernel para **Python**, siendo el lenguaje más popular en estos entornos.\n",
    "\n",
    "Los entornos de ejecución sobre los que se ejecutan los _notebooks_ pueden ser locales (por ejemplo, una instalación local de **_Jupyter Notebook_** o un IDE como **VS Code**), o en la nube (como **_Google Colab_**, **_Amazon SageMaker_**,...). Algunos entornos de ejecución remotos pueden darnos acceso a funcionalidades avanzadas, gratuitas o por suscripción, como puede ser el acceso a **GPU** o **TPU** para procesamiento intensivo."
   ]
  },
  {
   "cell_type": "markdown",
   "metadata": {
    "id": "vCWUp-ALhu3r"
   },
   "source": [
    "## Celdas\n",
    "---\n",
    "Las celdas conforman el cuerpo del cuaderno. Podemos añadir, editar y eliminar celdas a nuestro antojo. \n",
    "\n",
    "Pueden ser de dos tipos:\n",
    "\n",
    "- **Celda de texto**, que contiene texto en formato **Markdown**\n",
    "\n",
    "  Por ejemplo, ésta es una celda de texto\n",
    "\n",
    "- **Celda de Código**, que contiene código que será ejecutado por el _kernel_\n",
    "\n",
    "  Por ejemplo, la siguiente es una celda de código (para ejecutarla, pulsa sobre el botón de \"_play_\" o haz CTRL+ENTER)\n",
    "\n",
    "\n"
   ]
  },
  {
   "cell_type": "code",
   "execution_count": null,
   "metadata": {
    "id": "nY0SeFPUaLM7"
   },
   "outputs": [],
   "source": [
    "print(f\"2 + 3 = {2+3}\")"
   ]
  },
  {
   "cell_type": "markdown",
   "metadata": {
    "id": "taqtzI0pkPWR"
   },
   "source": [
    "Cuando ejecutamos la celda, su salida se muestra justo inmediatamente debajo. \n",
    "\n",
    "Podemos ejecutar la celda todas las veces que queramos. Cada vez que ejecutemos una celda, se nos mostrará un valor, encerrado entre corchetes [ ]. Ese número nos permite determinar si esa celda ya ha sido ejecutada (en caso contrario, no habrá ningún valor entre los corchetes o será un *)  y el orden en que se ejecutaron las diferentes celdas. Esto es importante porque las diferentes variables que creamos en una celda son globales, por lo que son accesibles desde otras celdas del cuaderno. \n",
    "\n",
    "Por ejemplo, las dos siguientes celdas comparten una misma variable. La segunda celda no podrá ejecutarse (dará el error **_name 'mi\\_variable' is not defined_**) hasta que se ejecute la primera y se asigne un valor a la misma:\n",
    "\n"
   ]
  },
  {
   "cell_type": "code",
   "execution_count": null,
   "metadata": {
    "id": "AbntimgqeoZt"
   },
   "outputs": [],
   "source": [
    "mi_variable = \"ya estoy inicializada\"\n",
    "mi_variable = 5"
   ]
  },
  {
   "cell_type": "code",
   "execution_count": null,
   "metadata": {
    "colab": {
     "base_uri": "https://localhost:8080/"
    },
    "id": "rqhRnTXaeqpp",
    "outputId": "5879b5e2-0853-4406-f695-b4a2beea729f"
   },
   "outputs": [],
   "source": [
    "print(mi_variable)"
   ]
  },
  {
   "cell_type": "markdown",
   "metadata": {},
   "source": [
    "# 2. Markdown (ejemplos)\n",
    "---"
   ]
  },
  {
   "cell_type": "markdown",
   "metadata": {
    "id": "0LLSuZrYhqqf"
   },
   "source": [
    "Markdown es un lenguaje simple y fácil de aprender para e formateo de documentos de texto. Sus elementos se corresponden con los **_tags_** de **HTML** pero con una sintaxis mucho más simple. \n",
    "\n",
    "Estos son algunos ejemplos:\n",
    "\n",
    "---\n",
    "  \n",
    "**md:** \n",
    "\n",
    "\\# Este es un ejemplo de encabezado de tipo 1\n",
    "\n",
    "**output:**\n",
    "# Este es un ejemplo de encabezado de tipo 1\n",
    "---\n",
    "**md:** \n",
    "\n",
    "\\#\\# Este es un ejemplo de encabezado de tipo 2\n",
    "\n",
    "**output:**\n",
    "## Este es un ejemplo de encabezado de tipo 2\n",
    "---\n",
    "**md:** \n",
    "\n",
    "Podemos formatear en \\*\\*negrita\\*\\* (ó \\_\\_negrita\\_\\_) y \\_cursiva\\_ (ó \\*cursiva\\*) empleando \\* y \\_. También las podemos \\*\\*\\_combinar\\_\\*\\*\n",
    "\n",
    "**output:**\n",
    "\n",
    "Podemos formatear en **negrita** (ó __negrita__) y _cursiva_ (ó *cursiva*) empleando \\* y \\_. También las podemos **_combinar_**\n",
    "\n",
    "---\n",
    "**md:** \n",
    "\n",
    "Podemos crear listas numeradas:\n",
    "\n",
    "1\\. uno\n",
    "\n",
    "2\\. dos\n",
    "\n",
    "3\\. tres\n",
    "\n",
    "Y no numeradas:\n",
    "\n",
    "\\- uno\n",
    "\n",
    "\\- dos\n",
    "\n",
    "\\- tres\n",
    "\n",
    "Y de varios niveles:\n",
    "\n",
    "\\- nivel uno\n",
    "\n",
    "&nbsp;&nbsp;\\- nivel dos\n",
    "    \n",
    "&nbsp;&nbsp;&nbsp;&nbsp;\\- nivel tres\n",
    "\n",
    "\n",
    "**output:**\n",
    "\n",
    "Podemos crear listas numeradas:\n",
    "\n",
    "1. uno\n",
    "2. dos\n",
    "3. tres\n",
    "\n",
    "Y no numeradas:\n",
    "\n",
    "- uno\n",
    "- dos\n",
    "- tres\n",
    "\n",
    "Y de varios niveles:\n",
    "\n",
    "- nivel uno\n",
    "  - nivel dos\n",
    "    - nivel tres\n",
    "---\n",
    "Podemos añadir imágenes:\n",
    "\n",
    "- usando formato MD: \n",
    "\n",
    "<pre>![text alter](https://upload.wikimedia.org/wikipedia/commons/b/b7/HAL9000isWatching.png)</pre>\n",
    "\n",
    "<br>**output:**\n",
    "<center>\n",
    "\n",
    "![text alter](https://upload.wikimedia.org/wikipedia/commons/b/b7/HAL9000isWatching.png)\n",
    "\n",
    "</center>\n",
    "\n",
    "- usando la etiqueta \\<img\\> de HTML:\n",
    "\n",
    "\\<img src=\"https://upload.wikimedia.org/wikipedia/commons/b/b7/HAL9000isWatching.png\"\n",
    "height=\"200\"/>\n",
    "\n",
    "<br>**output:**\n",
    "\n",
    "<center>\n",
    "    \n",
    "<img src=\"https://upload.wikimedia.org/wikipedia/commons/b/b7/HAL9000isWatching.png\"\n",
    "height=\"200\"/>\n",
    "\n",
    "</center>\n",
    "\n",
    "---\n",
    "\n",
    "Y añadir enlaces:\n",
    "\n",
    "- **Google Colaboratory:** https://colab.research.google.com/\n",
    "\n",
    "- **Jupyter Notebook:** https://jupyter.org/\n",
    "\n",
    "- otro ejemplo de [enlace](https://jupyter.org/)\n",
    "\n",
    "<br>\n",
    "\n",
    "Más enlaces sobre **markdown**:\n",
    "\n",
    "- https://www.markdownguide.org/\n",
    "\n",
    "- https://www.markdowntutorial.com/es/\n",
    "\n",
    "- https://colab.research.google.com/notebooks/markdown_guide.ipynb\n",
    "\n",
    "- https://guides.github.com/pdfs/markdown-cheatsheet-online.pdf"
   ]
  },
  {
   "cell_type": "markdown",
   "metadata": {},
   "source": [
    "# 3. Librerías\n",
    "---"
   ]
  },
  {
   "cell_type": "markdown",
   "metadata": {
    "id": "OIy79VViMEKb"
   },
   "source": [
    "Por último, dependiendo del _kernel_ sobre el que se esté ejecutando el cuaderno, tendremos la posibilidad de instalar, importar y utilizar todo tipo de librerías que enriquecerán nuestras presentaciones"
   ]
  },
  {
   "cell_type": "code",
   "execution_count": null,
   "metadata": {},
   "outputs": [],
   "source": [
    "# instalación de las librerías numpy y matplotlib (si no está instaladas)\n",
    "!pip install numpy\n",
    "!pip install matplotlib"
   ]
  },
  {
   "cell_type": "code",
   "execution_count": null,
   "metadata": {
    "colab": {
     "base_uri": "https://localhost:8080/",
     "height": 295
    },
    "id": "mHisqQtNMfAo",
    "outputId": "50f5f2cd-8979-4c28-c2aa-7cd0ccea55c9"
   },
   "outputs": [],
   "source": [
    "import numpy as np\n",
    "import matplotlib.pyplot as plt\n",
    "\n",
    "x = np.arange(0, 2*np.pi, 0.2)\n",
    "y_cos = np.cos(x)\n",
    "y_sin = np.sin(x)\n",
    "\n",
    "plt.plot(x, y_cos, label='cos(x)')\n",
    "plt.plot(x, y_sin, label='sin(x)')\n",
    "plt.legend()\n",
    "plt.title(\"Trigonmetric functions\")\n",
    "plt.xlabel(\"radians\")\n",
    "plt.show()"
   ]
  }
 ],
 "metadata": {
  "colab": {
   "collapsed_sections": [
    "QAaYmGdcaIC-",
    "0LLSuZrYhqqf"
   ],
   "name": "PRG_U00.1_Intro_Notebooks.ipynb",
   "provenance": []
  },
  "kernelspec": {
   "display_name": "Python 3",
   "language": "python",
   "name": "python3"
  },
  "language_info": {
   "codemirror_mode": {
    "name": "ipython",
    "version": 3
   },
   "file_extension": ".py",
   "mimetype": "text/x-python",
   "name": "python",
   "nbconvert_exporter": "python",
   "pygments_lexer": "ipython3",
   "version": "3.8.10"
  },
  "toc": {
   "base_numbering": 1,
   "nav_menu": {},
   "number_sections": false,
   "sideBar": true,
   "skip_h1_title": false,
   "title_cell": "Table of Contents",
   "title_sidebar": "Contents",
   "toc_cell": true,
   "toc_position": {},
   "toc_section_display": true,
   "toc_window_display": false
  },
  "vscode": {
   "interpreter": {
    "hash": "31f2aee4e71d21fbe5cf8b01ff0e069b9275f58929596ceb00d14d90e3e16cd6"
   }
  }
 },
 "nbformat": 4,
 "nbformat_minor": 1
}
