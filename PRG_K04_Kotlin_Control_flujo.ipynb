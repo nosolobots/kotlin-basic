{
 "cells": [
  {
   "cell_type": "markdown",
   "id": "ce47ef34",
   "metadata": {
    "toc": true
   },
   "source": [
    "<h1>Table of Contents<span class=\"tocSkip\"></span></h1>\n",
    "<div class=\"toc\"><ul class=\"toc-item\"><li><span><a href=\"#Condicionales\" data-toc-modified-id=\"Condicionales-1\">Condicionales</a></span><ul class=\"toc-item\"><li><span><a href=\"#La-expresión-if/else\" data-toc-modified-id=\"La-expresión-if/else-1.1\">La expresión <em>if/else</em></a></span></li></ul></li></ul></div>"
   ]
  },
  {
   "cell_type": "markdown",
   "id": "7b15387e",
   "metadata": {},
   "source": [
    "## Condicionales"
   ]
  },
  {
   "cell_type": "markdown",
   "id": "12f72540",
   "metadata": {},
   "source": [
    "### La expresión _if/else_\n"
   ]
  },
  {
   "cell_type": "markdown",
   "id": "4d9d9607",
   "metadata": {},
   "source": [
    "Al igual que en Java y otros lenguajes, la expresión básica del lenguaje que nos permite controlar el flujo de ejecución de instrucciones de nuestro programa, es la sentencia **```if```** (con la cláusula opcional **```else```**).\n",
    "\n",
    "<br>Sintácticamente, se expresa igual que en Java, encerrando entre paréntesis la expresión lógica a evaluar (debe devolver un valor de tipo Boolean) y, entre llaves, los bloques de código a ejecutar en caso de que la expresión se cumpla o no (las llaves no son necesarias para delimitar el bloque si sólo tenemos una única sentencia en el mismo)."
   ]
  },
  {
   "cell_type": "code",
   "execution_count": 1,
   "id": "7c5fb83d",
   "metadata": {},
   "outputs": [
    {
     "name": "stdout",
     "output_type": "stream",
     "text": [
      "Sí, 2 es mayor que 1\n",
      "El animal no es una mascota\n"
     ]
    }
   ],
   "source": [
    "if (2 > 1)\n",
    "    println(\"Sí, 2 es mayor que 1\")\n",
    "    \n",
    "val animal = \"Zorro\"\n",
    "if (animal == \"Gato\" || animal == \"Perro\") {\n",
    "    println(\"El animal es una mascota\")\n",
    "}\n",
    "else {\n",
    "    println(\"El animal no es una mascota\")\n",
    "}"
   ]
  },
  {
   "cell_type": "markdown",
   "id": "5b8fb286",
   "metadata": {},
   "source": [
    "En Kotlin no existe el operador ternario de Java o C (?: tiene un uso diferente en Kotlin que ya veremos). Sin embargo, dado que la construcción **```if-else```** es una expresión que **devuelve un valor**, podemos simplificar nuestras expresiones cuando accemos asignaciones basadas en condicionales"
   ]
  },
  {
   "cell_type": "code",
   "execution_count": 2,
   "id": "cf0e1a5d",
   "metadata": {},
   "outputs": [
    {
     "name": "stdout",
     "output_type": "stream",
     "text": [
      "max = 10, min = 5\n"
     ]
    }
   ],
   "source": [
    "val a = 5\n",
    "val b = 10\n",
    "\n",
    "val min = if (a <= b) a else b\n",
    "val max = if (a >= b) a else b\n",
    "\n",
    "println(\"max = $max, min = $min\")"
   ]
  },
  {
   "cell_type": "markdown",
   "id": "425ee123",
   "metadata": {},
   "source": [
    "Esto también es aplicable en expresiones condicionales anidadas:"
   ]
  },
  {
   "cell_type": "code",
   "execution_count": 4,
   "id": "1cde4bd4",
   "metadata": {},
   "outputs": [
    {
     "name": "stdout",
     "output_type": "stream",
     "text": [
      "Mediodía\n"
     ]
    }
   ],
   "source": [
    "val hora = 12\n",
    "\n",
    "val momentoDelDia = if (hora < 6) {\n",
    "    \"Madrugada\"\n",
    "} else if (hora < 12) {\n",
    "    \"Mañana\"\n",
    "} else if (hora < 16) {\n",
    "    \"Mediodía\"\n",
    "} else if (hora < 20) {\n",
    "    \"Tarde\"\n",
    "} else if (hora < 24) {\n",
    "    \"Noche\"\n",
    "} else {\n",
    "    \"Hora no válida\"\n",
    "}\n",
    "\n",
    "println(momentoDelDia)"
   ]
  }
 ],
 "metadata": {
  "kernelspec": {
   "display_name": "Kotlin",
   "language": "kotlin",
   "name": "kotlin"
  },
  "language_info": {
   "codemirror_mode": "text/x-kotlin",
   "file_extension": ".kt",
   "mimetype": "text/x-kotlin",
   "name": "kotlin",
   "nbconvert_exporter": "",
   "pygments_lexer": "kotlin",
   "version": "1.7.0-dev-1825"
  },
  "toc": {
   "base_numbering": 1,
   "nav_menu": {},
   "number_sections": false,
   "sideBar": true,
   "skip_h1_title": false,
   "title_cell": "Table of Contents",
   "title_sidebar": "Contents",
   "toc_cell": true,
   "toc_position": {},
   "toc_section_display": true,
   "toc_window_display": false
  }
 },
 "nbformat": 4,
 "nbformat_minor": 5
}
