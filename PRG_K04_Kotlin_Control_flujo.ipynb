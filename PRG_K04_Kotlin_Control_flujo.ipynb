{
 "cells": [
  {
   "cell_type": "markdown",
   "id": "ce47ef34",
   "metadata": {
    "toc": true
   },
   "source": [
    "<h1>Table of Contents<span class=\"tocSkip\"></span></h1>\n",
    "<div class=\"toc\"><ul class=\"toc-item\"><li><span><a href=\"#Condicionales\" data-toc-modified-id=\"Condicionales-1\">Condicionales</a></span><ul class=\"toc-item\"><li><span><a href=\"#La-expresión-if/else\" data-toc-modified-id=\"La-expresión-if/else-1.1\">La expresión <em>if/else</em></a></span></li><li><span><a href=\"#La-expresión-when\" data-toc-modified-id=\"La-expresión-when-1.2\">La expresión <em>when</em></a></span></li></ul></li><li><span><a href=\"#Ejercicios\" data-toc-modified-id=\"Ejercicios-2\">Ejercicios</a></span></li></ul></div>"
   ]
  },
  {
   "cell_type": "markdown",
   "id": "7b15387e",
   "metadata": {},
   "source": [
    "## Condicionales"
   ]
  },
  {
   "cell_type": "markdown",
   "id": "12f72540",
   "metadata": {},
   "source": [
    "### La expresión _if/else_\n"
   ]
  },
  {
   "cell_type": "markdown",
   "id": "4d9d9607",
   "metadata": {},
   "source": [
    "Al igual que en Java y otros lenguajes, la expresión básica del lenguaje que nos permite controlar el flujo de ejecución de instrucciones de nuestro programa, es la sentencia **```if```** (con la cláusula opcional **```else```**).\n",
    "\n",
    "<br>Sintácticamente, se expresa igual que en Java, encerrando entre paréntesis la expresión lógica a evaluar (debe devolver un valor de tipo Boolean) y, entre llaves, los bloques de código a ejecutar en caso de que la expresión se cumpla o no (las llaves no son necesarias para delimitar el bloque si sólo tenemos una única sentencia en el mismo). Igualmente, el alcance o ámbito de cualquier variable declarada dentro de estos bloques, se circunscribirá al mismo"
   ]
  },
  {
   "cell_type": "code",
   "execution_count": null,
   "id": "7c5fb83d",
   "metadata": {},
   "outputs": [],
   "source": [
    "if (2 > 1)\n",
    "    println(\"Sí, 2 es mayor que 1\")\n",
    "    \n",
    "val animal = \"Zorro\"\n",
    "if (animal == \"Gato\" || animal == \"Perro\") {\n",
    "    println(\"El animal es una mascota\")\n",
    "}\n",
    "else {\n",
    "    println(\"El animal no es una mascota\")\n",
    "}"
   ]
  },
  {
   "cell_type": "markdown",
   "id": "5b8fb286",
   "metadata": {},
   "source": [
    "En Kotlin no existe el operador ternario de Java o C (?: tiene un uso diferente en Kotlin que ya veremos). Sin embargo, dado que la construcción **```if-else```** es una expresión que **devuelve un valor**, podemos simplificar nuestras expresiones cuando accemos asignaciones basadas en condicionales"
   ]
  },
  {
   "cell_type": "code",
   "execution_count": null,
   "id": "cf0e1a5d",
   "metadata": {},
   "outputs": [],
   "source": [
    "val a = 5\n",
    "val b = 10\n",
    "\n",
    "val min = if (a <= b) a else b\n",
    "val max = if (a >= b) a else b\n",
    "\n",
    "println(\"max = $max, min = $min\")"
   ]
  },
  {
   "cell_type": "markdown",
   "id": "425ee123",
   "metadata": {},
   "source": [
    "Esto también es aplicable en expresiones condicionales anidadas:"
   ]
  },
  {
   "cell_type": "code",
   "execution_count": null,
   "id": "1cde4bd4",
   "metadata": {},
   "outputs": [],
   "source": [
    "val hora = 12\n",
    "\n",
    "val momentoDelDia = if (hora < 6) {\n",
    "    \"Madrugada\"\n",
    "} else if (hora < 12) {\n",
    "    \"Mañana\"\n",
    "} else if (hora < 16) {\n",
    "    \"Mediodía\"\n",
    "} else if (hora < 20) {\n",
    "    \"Tarde\"\n",
    "} else if (hora < 24) {\n",
    "    \"Noche\"\n",
    "} else {\n",
    "    \"Hora no válida\"\n",
    "}\n",
    "\n",
    "println(momentoDelDia)"
   ]
  },
  {
   "cell_type": "markdown",
   "id": "fbb15cce",
   "metadata": {},
   "source": [
    "### La expresión _when_"
   ]
  },
  {
   "cell_type": "markdown",
   "id": "29c4615b",
   "metadata": {},
   "source": [
    "Kotlin nos permite construir expresiones usando la palabra reservada **```when```** para ejecutar diferente código en función del valor de una variable o constante pasada como **argumento**. Su funcionamiento es similar al de las sentencias **```switch-case```** de Java o C."
   ]
  },
  {
   "cell_type": "code",
   "execution_count": 2,
   "id": "3846b5ed",
   "metadata": {},
   "outputs": [],
   "source": [
    "val number = 10\n",
    "\n",
    "when (number) {\n",
    "    0 -> println(\"Zero\")\n",
    "    else -> println(\"Non-zero\")\n",
    "}"
   ]
  },
  {
   "cell_type": "markdown",
   "id": "07889bc5",
   "metadata": {},
   "source": [
    "Podemos añadir tantos \"ramas\" a la expresión como deseemos. Incluso podemos combinar varios valores en un mismo test. Se ejecutará el código de la primera las condiciones que se cumpla. En caso de no cumplirse ninguna y de existir la cláusula **```else```**, se ejecutará el código asociado a la misma.\n",
    "\n",
    "<br>El código asociado a una rama puede contener múltiples instrucciones. Para ello, usaremos las llaves para agruparlas en un bloque de código"
   ]
  },
  {
   "cell_type": "code",
   "execution_count": 3,
   "id": "9baa4d28",
   "metadata": {},
   "outputs": [
    {
     "name": "stdout",
     "output_type": "stream",
     "text": [
      "El animal no es una mascota\n"
     ]
    }
   ],
   "source": [
    "val animal = \"Zorro\"\n",
    "\n",
    "when (animal) {\n",
    "    \"Gato\", \"Perro\" -> println(\"El animal es una mascota\")\n",
    "    else -> {\n",
    "        print(\"El animal\")\n",
    "        println(\" no es una mascota\")\n",
    "    }\n",
    "}"
   ]
  },
  {
   "cell_type": "markdown",
   "id": "918c0775",
   "metadata": {},
   "source": [
    "Es posible también evaluar expresiones más complejas como condición de las ramas, en lugar de simples valores. En ese caso, no se pasará ningún argumento a la expresión."
   ]
  },
  {
   "cell_type": "code",
   "execution_count": 4,
   "id": "ba861b97",
   "metadata": {},
   "outputs": [
    {
     "name": "stdout",
     "output_type": "stream",
     "text": [
      "uno es par y el otro es impar\n"
     ]
    }
   ],
   "source": [
    "val n1 = 5\n",
    "val n2 = 4\n",
    "\n",
    "when {\n",
    "    n1 % 2 == 0 && n2 % 2 == 0 -> println(\"ambos son pares\")\n",
    "    n1 % 2 != 0 && n2 % 2 != 0 -> println(\"ambos son impares\")\n",
    "    else -> println(\"uno es par y el otro es impar\")\n",
    "}"
   ]
  },
  {
   "cell_type": "markdown",
   "id": "b70f14b0",
   "metadata": {},
   "source": [
    "Al igual que en el caso de **```if```**, en Kotlin, **```when```** es una expresión, por lo que podemos utilizarla para devolver un valor. Como en los ejemplos anteriores, si no es necesario, puedes ignorar el valor devuelto y usarla como una simple sentencia.\n",
    "\n",
    "<br> En caso de que hagamos uso del valor devuelto, la expresión **```when```** debe incluir la cláusula **```else```**"
   ]
  },
  {
   "cell_type": "code",
   "execution_count": 7,
   "id": "c43a57bd",
   "metadata": {},
   "outputs": [
    {
     "name": "stdout",
     "output_type": "stream",
     "text": [
      "Número desconocido\n"
     ]
    }
   ],
   "source": [
    "val number = 5\n",
    "\n",
    "val numberName =  when(number) {\n",
    "    2 -> \"dos\"\n",
    "    3 -> \"tres\"\n",
    "    4 -> \"cuatro\"\n",
    "    else -> {\n",
    "        println(\"Número desconocido\")\n",
    "        \"-- desconocido --\"\n",
    "    }\n",
    "}"
   ]
  },
  {
   "cell_type": "markdown",
   "id": "4c4f021a",
   "metadata": {},
   "source": [
    "En la rama **```else```** del ejemplo anterior usamos llaves para incluir un bloque de código en la rama. El último valor en el bloque es el valor retornado por la rama (en caso de que se ejecute)"
   ]
  },
  {
   "cell_type": "markdown",
   "id": "f9ce5776",
   "metadata": {},
   "source": [
    "## Ejercicios"
   ]
  },
  {
   "cell_type": "markdown",
   "id": "7f7a2643",
   "metadata": {},
   "source": [
    "1. Corrige el siguiente código:"
   ]
  },
  {
   "cell_type": "code",
   "execution_count": null,
   "id": "8becb5ee",
   "metadata": {},
   "outputs": [],
   "source": [
    "val firstName = \"Joe\"\n",
    "\n",
    "if (firstName == \"Howard\") {\n",
    "    val lastName = \"Lucas\"\n",
    "} else if (firstName == \"Ray\") {\n",
    "    val lastName = \"Wenderlich\"\n",
    "}\n",
    "\n",
    "val fullName = firstName + \" \" + lastName"
   ]
  },
  {
   "cell_type": "markdown",
   "id": "d15799dc",
   "metadata": {},
   "source": [
    "2. Dados los coeficientes a, b y c, calcula las soluciones de la ecuación de segundo grado correspondiente. Ten en cuenta que el diferente número de soluciones (0, 1 ó 2) dependiendo del valor del discriminante. Si necesitas \"refrescar\" tus matemáticas, puedes consultar: https://es.wikipedia.org/wiki/Ecuaci%C3%B3n_de_segundo_grado"
   ]
  },
  {
   "cell_type": "code",
   "execution_count": null,
   "id": "30366070",
   "metadata": {},
   "outputs": [],
   "source": []
  },
  {
   "cell_type": "markdown",
   "id": "d553279b",
   "metadata": {},
   "source": [
    "3. Dado un mes (representado con un String en minúsculas) y el año actual (representado como un Int), calcula el número de días del mes. Recuerda que en los años bisiestos \"febrero\" tiene 29 días. Años bisiestos son aquellos que son múltiplos de 4 pero no de 100 y los que son múltiplos de 400"
   ]
  },
  {
   "cell_type": "code",
   "execution_count": null,
   "id": "3d05532a",
   "metadata": {},
   "outputs": [],
   "source": []
  },
  {
   "cell_type": "markdown",
   "id": "29ede53b",
   "metadata": {},
   "source": [
    "4. Dadas las coordenas x, y (de tipo Int) de un punto en el espacio, usa una expresión **```when```** para imprimir alguno de los siguientes mensajes:\n",
    "  - si x=0 e y=0, \"Punto en el origen\"\n",
    "  - si x≠0 e y=0, \"Punto sobre el eje-X\"\n",
    "  - si x=0 e y≠0, \"Punto sobre el eje-Y\"\n",
    "  - en cualquier otro caso, \"Punto en la posición (x,y)\""
   ]
  },
  {
   "cell_type": "code",
   "execution_count": null,
   "id": "97262f18",
   "metadata": {},
   "outputs": [],
   "source": []
  }
 ],
 "metadata": {
  "kernelspec": {
   "display_name": "Kotlin",
   "language": "kotlin",
   "name": "kotlin"
  },
  "language_info": {
   "codemirror_mode": "text/x-kotlin",
   "file_extension": ".kt",
   "mimetype": "text/x-kotlin",
   "name": "kotlin",
   "nbconvert_exporter": "",
   "pygments_lexer": "kotlin",
   "version": "1.7.0-dev-1825"
  },
  "toc": {
   "base_numbering": 1,
   "nav_menu": {},
   "number_sections": false,
   "sideBar": true,
   "skip_h1_title": false,
   "title_cell": "Table of Contents",
   "title_sidebar": "Contents",
   "toc_cell": true,
   "toc_position": {},
   "toc_section_display": true,
   "toc_window_display": false
  }
 },
 "nbformat": 4,
 "nbformat_minor": 5
}
