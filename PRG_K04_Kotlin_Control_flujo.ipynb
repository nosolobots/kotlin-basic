{
 "cells": [
  {
   "cell_type": "markdown",
   "id": "ce47ef34",
   "metadata": {
    "toc": true
   },
   "source": [
    "<h1>Table of Contents<span class=\"tocSkip\"></span></h1>\n",
    "<div class=\"toc\"><ul class=\"toc-item\"><li><span><a href=\"#K04.-Control-de-Flujo\" data-toc-modified-id=\"K04.-Control-de-Flujo-1\">K04. Control de Flujo</a></span><ul class=\"toc-item\"><li><span><a href=\"#1.-Condicionales\" data-toc-modified-id=\"1.-Condicionales-1.1\">1. Condicionales</a></span><ul class=\"toc-item\"><li><span><a href=\"#La-expresión-if/else\" data-toc-modified-id=\"La-expresión-if/else-1.1.1\">La expresión <em>if/else</em></a></span></li><li><span><a href=\"#La-expresión-when\" data-toc-modified-id=\"La-expresión-when-1.1.2\">La expresión <em>when</em></a></span></li></ul></li><li><span><a href=\"#2.-Bucles\" data-toc-modified-id=\"2.-Bucles-1.2\">2. Bucles</a></span><ul class=\"toc-item\"><li><span><a href=\"#Bucles-while\" data-toc-modified-id=\"Bucles-while-1.2.1\">Bucles <em>while</em></a></span></li><li><span><a href=\"#Rangos\" data-toc-modified-id=\"Rangos-1.2.2\">Rangos</a></span></li><li><span><a href=\"#El-bucle-for\" data-toc-modified-id=\"El-bucle-for-1.2.3\">El bucle <em>for</em></a></span></li><li><span><a href=\"#El-bucle-repeat\" data-toc-modified-id=\"El-bucle-repeat-1.2.4\">El bucle <em>repeat</em></a></span></li><li><span><a href=\"#break-y-continue\" data-toc-modified-id=\"break-y-continue-1.2.5\"><em>break</em> y <em>continue</em></a></span></li></ul></li><li><span><a href=\"#3.-Ejercicios\" data-toc-modified-id=\"3.-Ejercicios-1.3\">3. Ejercicios</a></span><ul class=\"toc-item\"><li><span><a href=\"#Soluciones\" data-toc-modified-id=\"Soluciones-1.3.1\">Soluciones</a></span></li></ul></li></ul></li></ul></div>"
   ]
  },
  {
   "cell_type": "markdown",
   "id": "1515f12e",
   "metadata": {},
   "source": [
    "# K04. Control de Flujo\n",
    "---"
   ]
  },
  {
   "cell_type": "markdown",
   "id": "7b15387e",
   "metadata": {},
   "source": [
    "## 1. Condicionales\n",
    "---"
   ]
  },
  {
   "cell_type": "markdown",
   "id": "12f72540",
   "metadata": {},
   "source": [
    "### La expresión _if/else_\n"
   ]
  },
  {
   "cell_type": "markdown",
   "id": "4d9d9607",
   "metadata": {},
   "source": [
    "Al igual que en Java y otros lenguajes, la expresión básica del lenguaje que nos permite controlar el flujo de ejecución de instrucciones de nuestro programa, es la sentencia **```if```** (con la cláusula opcional **```else```**).\n",
    "\n",
    "<br>\n",
    "\n",
    "```kotlin\n",
    "if (<CONDICION>) {\n",
    "    <BLOQUE DE CODIGO>\n",
    "}\n",
    "[else {\n",
    "    <BLOQUE DE CODIGO>\n",
    "}]\n",
    "```\n",
    "\n",
    "<br>Sintácticamente, se expresa igual que en Java, encerrando entre paréntesis la expresión lógica a evaluar (debe devolver un valor de tipo Boolean) y, entre llaves, los bloques de código a ejecutar en caso de que la expresión se cumpla o no (las llaves no son necesarias para delimitar el bloque si sólo tenemos una única sentencia en el mismo). Igualmente, el alcance o ámbito de cualquier variable declarada dentro de estos bloques, se circunscribirá al mismo"
   ]
  },
  {
   "cell_type": "code",
   "execution_count": 1,
   "id": "7c5fb83d",
   "metadata": {},
   "outputs": [
    {
     "name": "stdout",
     "output_type": "stream",
     "text": [
      "Sí, 2 es mayor que 1\n",
      "El animal no es una mascota\n"
     ]
    }
   ],
   "source": [
    "if (2 > 1)\n",
    "    println(\"Sí, 2 es mayor que 1\")\n",
    "    \n",
    "val animal = \"Zorro\"\n",
    "if (animal == \"Gato\" || animal == \"Perro\") {\n",
    "    println(\"El animal es una mascota\")\n",
    "}\n",
    "else {\n",
    "    println(\"El animal no es una mascota\")\n",
    "}"
   ]
  },
  {
   "cell_type": "markdown",
   "id": "5b8fb286",
   "metadata": {},
   "source": [
    "En Kotlin no existe el operador ternario de Java o C (?: tiene un uso diferente en Kotlin que ya veremos). Sin embargo, dado que la construcción **```if-else```** es una expresión que **devuelve un valor**, podemos simplificar nuestras expresiones cuando accemos asignaciones basadas en condicionales"
   ]
  },
  {
   "cell_type": "code",
   "execution_count": null,
   "id": "cf0e1a5d",
   "metadata": {},
   "outputs": [],
   "source": [
    "val a = 5\n",
    "val b = 10\n",
    "\n",
    "val min = if (a <= b) a else b\n",
    "val max = if (a >= b) a else b\n",
    "\n",
    "println(\"max = $max, min = $min\")"
   ]
  },
  {
   "cell_type": "markdown",
   "id": "425ee123",
   "metadata": {},
   "source": [
    "Esto también es aplicable en expresiones condicionales anidadas:"
   ]
  },
  {
   "cell_type": "code",
   "execution_count": null,
   "id": "1cde4bd4",
   "metadata": {},
   "outputs": [],
   "source": [
    "val hora = 12\n",
    "\n",
    "val momentoDelDia = if (hora < 6) {\n",
    "    \"Madrugada\"\n",
    "} else if (hora < 12) {\n",
    "    \"Mañana\"\n",
    "} else if (hora < 16) {\n",
    "    \"Mediodía\"\n",
    "} else if (hora < 20) {\n",
    "    \"Tarde\"\n",
    "} else if (hora < 24) {\n",
    "    \"Noche\"\n",
    "} else {\n",
    "    \"Hora no válida\"\n",
    "}\n",
    "\n",
    "println(momentoDelDia)"
   ]
  },
  {
   "cell_type": "markdown",
   "id": "7694712a",
   "metadata": {},
   "source": [
    "### La expresión _when_"
   ]
  },
  {
   "cell_type": "markdown",
   "id": "0637616c",
   "metadata": {},
   "source": [
    "Kotlin nos permite construir expresiones usando la palabra reservada **```when```** para ejecutar diferente código en función del valor de una variable o constante pasada como **argumento**. Su funcionamiento es similar al de las sentencias **```switch-case```** de Java o C.\n",
    "\n",
    "<br>\n",
    "\n",
    "```kotlin\n",
    "when (<ARGUMENTO>) {\n",
    "    <VALOR 1> -> { <BLOQUE DE CODIGO 1> }\n",
    "    <VALOR 2> -> { <BLOQUE DE CODIGO 2> }\n",
    "    . . .\n",
    "    [else] -> { <BLOQUE DE CODIGO n> }\n",
    "}\n",
    "```"
   ]
  },
  {
   "cell_type": "code",
   "execution_count": null,
   "id": "20eb1431",
   "metadata": {},
   "outputs": [],
   "source": [
    "val number = 10\n",
    "\n",
    "when (number) {\n",
    "    0 -> println(\"Zero\")\n",
    "    else -> println(\"Non-zero\")\n",
    "}"
   ]
  },
  {
   "cell_type": "markdown",
   "id": "343a22d0",
   "metadata": {},
   "source": [
    "Podemos añadir tantas \"ramas\" a la expresión como deseemos. Incluso podemos combinar varios valores en un mismo test. Se ejecutará el código de la primera de las condiciones que se cumpla. En caso de no cumplirse ninguna y de existir la cláusula **```else```**, se ejecutará el código asociado a la misma.\n",
    "\n",
    "<br>El código asociado a una rama puede contener múltiples instrucciones. Para ello, usaremos las llaves para agruparlas en un bloque de código"
   ]
  },
  {
   "cell_type": "code",
   "execution_count": null,
   "id": "57427935",
   "metadata": {},
   "outputs": [],
   "source": [
    "val animal = \"Zorro\"\n",
    "\n",
    "when (animal) {\n",
    "    \"Gato\", \"Perro\" -> println(\"El animal es una mascota\")\n",
    "    else -> {\n",
    "        print(\"El animal\")\n",
    "        println(\" no es una mascota\")\n",
    "    }\n",
    "}"
   ]
  },
  {
   "cell_type": "markdown",
   "id": "84528b6c",
   "metadata": {},
   "source": [
    "Es posible también evaluar expresiones más complejas como condición de las ramas, en lugar de simples valores. En ese caso, no se pasará ningún argumento a la expresión."
   ]
  },
  {
   "cell_type": "code",
   "execution_count": null,
   "id": "a39a5587",
   "metadata": {},
   "outputs": [],
   "source": [
    "val n1 = 5\n",
    "val n2 = 4\n",
    "\n",
    "when {\n",
    "    n1 % 2 == 0 && n2 % 2 == 0 -> println(\"ambos son pares\")\n",
    "    n1 % 2 != 0 && n2 % 2 != 0 -> println(\"ambos son impares\")\n",
    "    else -> println(\"uno es par y el otro es impar\")\n",
    "}"
   ]
  },
  {
   "cell_type": "markdown",
   "id": "75d36619",
   "metadata": {},
   "source": [
    "En Kotlin, al igual que en el caso Previo de la sentencia **```if```**, **```when```** es una expresión que devuelve un valor. Como en los ejemplos anteriores, si no es necesario, puedes ignorar el valor devuelto y usarla como una simple sentencia.\n",
    "\n",
    "<br> En caso de que hagamos uso del valor devuelto, la expresión **```when```** debe incluir la cláusula **```else```**"
   ]
  },
  {
   "cell_type": "code",
   "execution_count": null,
   "id": "54485076",
   "metadata": {},
   "outputs": [],
   "source": [
    "val number = 5\n",
    "\n",
    "val numberName =  when(number) {\n",
    "    2 -> \"dos\"\n",
    "    3 -> \"tres\"\n",
    "    4 -> \"cuatro\"\n",
    "    else -> {\n",
    "        println(\"Número desconocido\")\n",
    "        \"-- desconocido --\"\n",
    "    }\n",
    "}"
   ]
  },
  {
   "cell_type": "markdown",
   "id": "e30b3242",
   "metadata": {},
   "source": [
    "En la rama **```else```** del ejemplo anterior usamos llaves para incluir un bloque de código en la rama. El último valor en el bloque es el valor retornado por la rama (en caso de que se ejecute)"
   ]
  },
  {
   "cell_type": "markdown",
   "id": "33e219ef",
   "metadata": {},
   "source": [
    "## 2. Bucles\n",
    "---"
   ]
  },
  {
   "cell_type": "markdown",
   "id": "28e29243",
   "metadata": {},
   "source": [
    "### Bucles _while_"
   ]
  },
  {
   "cell_type": "markdown",
   "id": "964a4e1a",
   "metadata": {},
   "source": [
    "Kotlin mantiene una sintaxis similar a Java u otros lenguajes para la creación de bucles **```while```**\n",
    "\n",
    "<br>\n",
    "\n",
    "```kotlin\n",
    "while (<CONDICION>) {\n",
    "    <BLOQUE DE CODIGO>\n",
    "}\n",
    "```\n",
    "\n",
    "<br> donde el bloque de código se continuará ejecutando repetidamente mientras la condición se siga cumpliendo"
   ]
  },
  {
   "cell_type": "code",
   "execution_count": null,
   "id": "d4870dbf",
   "metadata": {},
   "outputs": [],
   "source": [
    "// cuadrados de los primeros 100 números formateados a 4 dígitos\n",
    "var i = 0\n",
    "while (i < 100) {\n",
    "    print (\"${String.format(\"%04d \", i*i)}\")\n",
    "    if (++i % 10 == 0) println()\n",
    "}"
   ]
  },
  {
   "cell_type": "markdown",
   "id": "91ee238a",
   "metadata": {},
   "source": [
    "Igualmente, disponemos de la variante **```do-while```** que, como sabemos, evalúa la condición al final del bucle por lo que siempre se ejecutará al menos una iteración del mismo\n",
    "\n",
    "<br>\n",
    "\n",
    "```kotlin\n",
    "do {\n",
    "    <BLOQUE DE CODIGO>\n",
    "} while (<CONDICION>)\n",
    "```"
   ]
  },
  {
   "cell_type": "code",
   "execution_count": null,
   "id": "5814e4dc",
   "metadata": {
    "scrolled": true
   },
   "outputs": [],
   "source": [
    "// cuadrados de los primeros 100 números formateados a 4 dígitos\n",
    "var i = 0\n",
    "do {\n",
    "    print (\"${String.format(\"%04d \", i*i)}\")\n",
    "    if (++i % 10 == 0) println()\n",
    "} while (i < 100)"
   ]
  },
  {
   "cell_type": "markdown",
   "id": "92db9496",
   "metadata": {},
   "source": [
    "### Rangos"
   ]
  },
  {
   "cell_type": "markdown",
   "id": "ec80e8f9",
   "metadata": {},
   "source": [
    "Antes de introducir los bucles definidos mediante la sentencia **```for```**, necesitamos conocer los datos de tipo **rango**, que nos permiten representar **secuencias de números enteros**.\n",
    "\n",
    "<br>Podemos emplear la siguiente notación: **\\<LIMITE INFERIOR\\>..\\<LIMITE SUPERIOR\\>** para definir **rangos cerrados** donde los límites superior e inferior del rango están incluídos"
   ]
  },
  {
   "cell_type": "code",
   "execution_count": null,
   "id": "9966b329",
   "metadata": {},
   "outputs": [],
   "source": [
    "val rango = (0..5)\n",
    "var i = rango.first\n",
    "while (i <= rango.last) {\n",
    "    println(i++)\n",
    "}"
   ]
  },
  {
   "cell_type": "markdown",
   "id": "4db9b96d",
   "metadata": {},
   "source": [
    "Adicionalmente, podemos emplear la palabra reservada **```until```** para definir **rangos medio abiertos**, donde el límite inferior está incluído en el rango pero el el límite superior no"
   ]
  },
  {
   "cell_type": "code",
   "execution_count": null,
   "id": "5ecf51ba",
   "metadata": {},
   "outputs": [],
   "source": [
    "val rango = 0 until 5\n",
    "var i = rango.first\n",
    "while (i <= rango.last) {\n",
    "    println(i++)\n",
    "}"
   ]
  },
  {
   "cell_type": "markdown",
   "id": "1a353b99",
   "metadata": {},
   "source": [
    "Los rangos creados con **(..)** y con **```until```** son **rangos crecientes**. Podemos crear rangos decrecientes usando **```downTo```**, que serán rangos **inclusivos** o **cerrados**"
   ]
  },
  {
   "cell_type": "code",
   "execution_count": null,
   "id": "4637f603",
   "metadata": {
    "scrolled": true
   },
   "outputs": [],
   "source": [
    "val rango = 5 downTo 0\n",
    "var i = rango.first\n",
    "while (i >= rango.last) {\n",
    "    println(i--)\n",
    "}"
   ]
  },
  {
   "cell_type": "markdown",
   "id": "6bdd7b09",
   "metadata": {},
   "source": [
    "### El bucle _for_"
   ]
  },
  {
   "cell_type": "markdown",
   "id": "4aabd23d",
   "metadata": {},
   "source": [
    "Sintácticamente, el bucle **```for```** de Kotlin es similar al bucle **```for-each```** de Java\n",
    "\n",
    "<br>\n",
    "\n",
    "```kotlin\n",
    "for (<CONSTANTE> in <RANGO> [step n]) {\n",
    "    <BLOQUE DE CODIGO>\n",
    "}\n",
    "```\n",
    "\n",
    "<br>donde el bucle itera sobre el rango, de forma que la constante irá tomando cada uno de los valores del rango (como en cualquier otro caso, las llaves que delimitan un bloque de código, aunque siempre recomendables, no son obligatorias si dicho bloque consta de una única instrucción)\n",
    "\n",
    "<br>Opcionalmente, podemos emplear **```step```** para indicar el **paso** o salto de la iteración"
   ]
  },
  {
   "cell_type": "code",
   "execution_count": null,
   "id": "b0016147",
   "metadata": {},
   "outputs": [],
   "source": [
    "val rango = (0..5)\n",
    "for (i in rango) {\n",
    "    println(i)\n",
    "}"
   ]
  },
  {
   "cell_type": "code",
   "execution_count": null,
   "id": "0b4eac56",
   "metadata": {},
   "outputs": [],
   "source": [
    "// de forma equivalente al anterior...\n",
    "for (i in 0..5) println(i)"
   ]
  },
  {
   "cell_type": "code",
   "execution_count": null,
   "id": "3beac93a",
   "metadata": {
    "scrolled": true
   },
   "outputs": [],
   "source": [
    "// en sentido decreciente y con paso 2\n",
    "for (i in 5 downTo 0 step 2) println(i)"
   ]
  },
  {
   "cell_type": "markdown",
   "id": "b5b1fa26",
   "metadata": {},
   "source": [
    "### El bucle _repeat_"
   ]
  },
  {
   "cell_type": "markdown",
   "id": "693205a4",
   "metadata": {},
   "source": [
    "Finalmente, cuando queremos repetir la ejecución de una serie de instrucciones un cierto número **fijo** de veces, podemos hacer uso de la sentencia **```repeat```**, que recibe como argumento el número de veces que queremos iterar en el bucle\n",
    "\n",
    "<br>\n",
    "\n",
    "```kotlin\n",
    "repeat(n) {\n",
    "    <BLOQUE DE CODIGO>\n",
    "}\n",
    "```\n",
    "\n",
    "<br>Tenemos acceso al **índice** de la iteración actual a través de la variable **```it```**"
   ]
  },
  {
   "cell_type": "code",
   "execution_count": null,
   "id": "4a7cdfd4",
   "metadata": {},
   "outputs": [],
   "source": [
    "repeat(10) {\n",
    "    println(\"Estoy en la iteración: $it\")\n",
    "}"
   ]
  },
  {
   "cell_type": "markdown",
   "id": "3a0e0600",
   "metadata": {},
   "source": [
    "### _break_ y _continue_"
   ]
  },
  {
   "cell_type": "markdown",
   "id": "b7dbf8c5",
   "metadata": {},
   "source": [
    "Podemos alterar la ejecución normal de nuestro bucle mediante el empleo de **```continue```**, que saltará al inicio de la siguiente iteración, como de **```break```**, que forzará la salida del bucle"
   ]
  },
  {
   "cell_type": "code",
   "execution_count": null,
   "id": "4cec789b",
   "metadata": {
    "scrolled": true
   },
   "outputs": [],
   "source": [
    "// cuadrados de los primeros 100 números pares\n",
    "var i = -1\n",
    "var c = 0\n",
    "while (true) { // bucle infinito\n",
    "    if (++i == 100) break // salimos al llegar a 100\n",
    "    if (i % 2 != 0) continue // si no es par, siguiente iteración\n",
    "    print (\"${String.format(\"%04d \", i*i)}\")\n",
    "    if (++c % 10 == 0) println()\n",
    "} "
   ]
  },
  {
   "cell_type": "markdown",
   "id": "68b49764",
   "metadata": {},
   "source": [
    "Cuando tenemos estructuras de bucles anidados, las sentencias **```break```** y **```continue```** alteran el comportamiento del bucle inmediato en el que se encuentren. Sin embargo, podemos añadir una **etiqueta** (que tendrá el formato **```label@```**) a estos bucles de forma que se pueda forzar un \"salto\" en un bucle externo. Simplemente tendremos que añadir la etiqueta al final de la sentencia **```break```** o **```continue```**"
   ]
  },
  {
   "cell_type": "code",
   "execution_count": null,
   "id": "766d5851",
   "metadata": {},
   "outputs": [],
   "source": [
    "extLoop@ for (i in 0 until 10) {\n",
    "    for (j in 0 until 10) {\n",
    "        if (j > i)\n",
    "            continue@extLoop // forzamos la siguiente iteración del bucle externo\n",
    "        if (i == 5)\n",
    "            break@extLoop // salimos del bucle externo\n",
    "        print(j)\n",
    "    }\n",
    "    println()\n",
    "}"
   ]
  },
  {
   "cell_type": "markdown",
   "id": "7703ae04",
   "metadata": {},
   "source": [
    "## 3. Ejercicios\n",
    "---"
   ]
  },
  {
   "cell_type": "markdown",
   "id": "616a0492",
   "metadata": {},
   "source": [
    "1. Corrige el siguiente código:"
   ]
  },
  {
   "cell_type": "code",
   "execution_count": null,
   "id": "b3d1b6b8",
   "metadata": {},
   "outputs": [],
   "source": [
    "val firstName = \"Joe\"\n",
    "\n",
    "if (firstName == \"Howard\") {\n",
    "    val lastName = \"Lucas\"\n",
    "} else if (firstName == \"Ray\") {\n",
    "    val lastName = \"Wenderlich\"\n",
    "}\n",
    "\n",
    "val fullName = firstName + \" \" + lastName"
   ]
  },
  {
   "cell_type": "markdown",
   "id": "b314ae2c",
   "metadata": {},
   "source": [
    "2. Solicita del usuario los coeficientes a, b y c para calcular las soluciones de la ecuación de segundo grado correspondiente. Ten en cuenta que el diferente número de soluciones (0, 1 ó 2) dependiendo del valor del discriminante. Si necesitas \"refrescar\" tus matemáticas, puedes consultar el siguiente [enlace](https://es.wikipedia.org/wiki/Ecuaci%C3%B3n_de_segundo_grado)"
   ]
  },
  {
   "cell_type": "code",
   "execution_count": null,
   "id": "8fa81a45",
   "metadata": {},
   "outputs": [],
   "source": []
  },
  {
   "cell_type": "markdown",
   "id": "639aaac4",
   "metadata": {},
   "source": [
    "3. Dado un mes (representado con un String en minúsculas) y el año actual (representado como un Int) introducidos por el usuario, calcula el número de días del mes. Recuerda que en los años bisiestos \"febrero\" tiene 29 días. Años bisiestos son aquellos que son múltiplos de 4 pero no de 100 y los que son múltiplos de 400"
   ]
  },
  {
   "cell_type": "code",
   "execution_count": null,
   "id": "c188172f",
   "metadata": {},
   "outputs": [],
   "source": []
  },
  {
   "cell_type": "markdown",
   "id": "bae2d27a",
   "metadata": {},
   "source": [
    "4. Dadas las coordenas x, y (de tipo Int) de un punto en el espacio, usa una expresión **```when```** para imprimir alguno de los siguientes mensajes:\n",
    "  - si x=0 e y=0, \"Punto en el origen\"\n",
    "  - si x≠0 e y=0, \"Punto sobre el eje-X\"\n",
    "  - si x=0 e y≠0, \"Punto sobre el eje-Y\"\n",
    "  - en cualquier otro caso, \"Punto en la posición (x,y)\""
   ]
  },
  {
   "cell_type": "code",
   "execution_count": null,
   "id": "4556ffbb",
   "metadata": {},
   "outputs": [],
   "source": []
  },
  {
   "cell_type": "markdown",
   "id": "e7b66e99",
   "metadata": {},
   "source": [
    "5. Imprime una tabla con las 10 primeras potencias de 2"
   ]
  },
  {
   "cell_type": "code",
   "execution_count": null,
   "id": "5a23dc7b",
   "metadata": {},
   "outputs": [],
   "source": []
  },
  {
   "cell_type": "markdown",
   "id": "0a3c6c5d",
   "metadata": {},
   "source": [
    "6. Dado un número n mayor o igual 1, calcula el término n de la [secuencia de Fibonacci](https://es.wikipedia.org/wiki/Sucesi%C3%B3n_de_Fibonacci)"
   ]
  },
  {
   "cell_type": "code",
   "execution_count": null,
   "id": "7897d0f9",
   "metadata": {},
   "outputs": [],
   "source": [
    "var n = readln().toInt()\n",
    "\n",
    "var res = 1\n",
    "if(n >= 3) {\n",
    "    var f1 = 1; var f2 = 1\n",
    "    while(n-- >2) {\n",
    "        res = f1 + f2; f1 = f2; f2 = res\n",
    "    }\n",
    "}\n",
    "println(res)"
   ]
  },
  {
   "cell_type": "markdown",
   "id": "cf8c39f1",
   "metadata": {},
   "source": [
    "7. Dado un número n, calcula el [factorial](https://es.wikipedia.org/wiki/Factorial) de dicho número n"
   ]
  },
  {
   "cell_type": "code",
   "execution_count": null,
   "id": "7be3f38e",
   "metadata": {
    "scrolled": true
   },
   "outputs": [],
   "source": []
  },
  {
   "cell_type": "markdown",
   "id": "c691d8d6",
   "metadata": {},
   "source": [
    "8. Dado un número n, imprime todos los números primos hasta n"
   ]
  },
  {
   "cell_type": "code",
   "execution_count": null,
   "id": "9a8a733a",
   "metadata": {},
   "outputs": [],
   "source": []
  },
  {
   "cell_type": "markdown",
   "id": "e2c1c5ba",
   "metadata": {},
   "source": [
    "9. Escribe un programa que solicite al usuario la introdución de valores numéricos enteros (uno por línea) hasta que se introduzca el valor “00”. A continuación, se mostrará la suma, la media, el mayor y el menor de los valores introducidos"
   ]
  },
  {
   "cell_type": "code",
   "execution_count": null,
   "id": "0b36d1d3",
   "metadata": {},
   "outputs": [],
   "source": []
  },
  {
   "cell_type": "markdown",
   "id": "4b638fbc",
   "metadata": {},
   "source": [
    "### Soluciones"
   ]
  },
  {
   "cell_type": "markdown",
   "id": "22d8e7f4",
   "metadata": {},
   "source": [
    "##### 1.\n",
    "```\n",
    "val firstName = \"Joe\"\n",
    "val lastName = \"\" // <----- necesitamos declarar la variable\n",
    "if (firstName == \"Howard\") {\n",
    "    val lastName = \"Lucas\"\n",
    "} else if (firstName == \"Ray\") {\n",
    "    val lastName = \"Wenderlich\"\n",
    "}\n",
    "\n",
    "val fullName = firstName + \" \" + lastName\n",
    "println($fullName) // <----- mostramos el resultado (no es un error)\n",
    "```"
   ]
  },
  {
   "cell_type": "markdown",
   "id": "0ce687df",
   "metadata": {},
   "source": [
    "##### 2.\n",
    "```\n",
    "val a = readln().toDouble()\n",
    "val b = readln().toDouble()\n",
    "val c = readln().toDouble()\n",
    "\n",
    "if (a == 0.0) println(\"No es una ecuación de segundo grado\")\n",
    "else {    \n",
    "    val d = b.pow(2) - 4*a*c // discriminante\n",
    "    when {\n",
    "        d == 0.0 -> {\n",
    "            // solución única\n",
    "            print(\"Solución única -> \")\n",
    "            println(\"X1 = X2 = ${-b/(2*a)}\")\n",
    "        }\n",
    "        d < 0 -> {\n",
    "            // soluciones imaginarias (no reales)\n",
    "            print(\"Soluciones imaginarias -> \")\n",
    "            val img = sqrt(-d)/(2*a)\n",
    "            println(\"X1 = ${-b/(2*a)} + i$img; X2 = ${-b/(2*a)} - i$img\")\n",
    "        }\n",
    "        d > 0 -> {\n",
    "            // soluciones reales\n",
    "            print(\"Soluciones reales -> \")\n",
    "            val rootD = sqrt(d)\n",
    "            println(\"X1 = ${(-b + rootD)/(2*a)}; X2 = ${(-b - rootD)/(2*a)}\")\n",
    "        }\n",
    "    }\n",
    "}\n",
    "```"
   ]
  },
  {
   "cell_type": "markdown",
   "id": "5668b931",
   "metadata": {},
   "source": [
    "##### 3.\n",
    "\n",
    "```\n",
    "val month = readln()\n",
    "val year = readln().toInt()\n",
    "\n",
    "val days = when (month) {\n",
    "    \"enero\", \"marzo\", \"mayo\", \"julio\", \"agosto\", \"octubre\", \"diciembre\" -> 31\n",
    "    \"abril\", \"junio\", \"septiembre\", \"noviembre\" -> 30\n",
    "    else -> if ((year % 4 == 0 && year % 100 != 0) || (year % 400 == 0)) 31 else 30    \n",
    "}\n",
    "\n",
    "println(if (days > 0) \"$month de $year tiene $days días\" else \"$month no es un mes válido\")\n",
    "```\n"
   ]
  },
  {
   "cell_type": "markdown",
   "id": "1b4c1fff",
   "metadata": {},
   "source": [
    "##### 4.\n",
    "```\n",
    "val x = readln().toInt()\n",
    "val y = readln().toInt()\n",
    "\n",
    "println(when {\n",
    "    x == 0 && y == 0 -> \"Punto en el origen\"\n",
    "    x != 0 && y == 0 -> \"Punto sobre el eje-X\"\n",
    "    x == 0 && y != 0 -> \"Punto sobre el eje-y\"\n",
    "    else -> \"Punto en la posición ($x, $y)\"\n",
    "})\n",
    "```\n"
   ]
  },
  {
   "cell_type": "markdown",
   "id": "cd6380c1",
   "metadata": {},
   "source": [
    "##### 5.\n",
    "```\n",
    "repeat(10) { println(2.0.pow(it).toInt()) }\n",
    "```"
   ]
  },
  {
   "cell_type": "markdown",
   "id": "9936d2eb",
   "metadata": {},
   "source": [
    "##### 6.\n",
    "```\n",
    "var n = readln().toInt()\n",
    "\n",
    "var res = 1\n",
    "if(n >= 3) {\n",
    "    var f1 = 1; var f2 = 1\n",
    "    while(n-- > 2) {\n",
    "        res = f1 + f2; f1 = f2; f2 = res\n",
    "    }\n",
    "}\n",
    "println(res)\n",
    "```"
   ]
  },
  {
   "cell_type": "markdown",
   "id": "1d68056a",
   "metadata": {},
   "source": [
    "##### 7.\n",
    "```\n",
    "val n = readln().toInt()\n",
    "var fact = 1\n",
    "for(i in 2..n) fact *= i\n",
    "println(\"El factorial de $n es $fact\")\n",
    "```"
   ]
  },
  {
   "cell_type": "markdown",
   "id": "cb463192",
   "metadata": {},
   "source": [
    "##### 8.\n",
    "```\n",
    "val n = readln().toInt()\n",
    "for(i in 1..n) {\n",
    "    var prime = true\n",
    "    for(j in 2..i/2)\n",
    "        if (i % j == 0) {\n",
    "            prime = false\n",
    "            break\n",
    "        }\n",
    "    if (prime) println(i)\n",
    "}\n",
    "```"
   ]
  },
  {
   "cell_type": "markdown",
   "id": "71bea6b1",
   "metadata": {},
   "source": [
    "##### 9.\n",
    "```\n",
    "var maxValue = Int.MIN_VALUE\n",
    "var minValue = Int.MAX_VALUE\n",
    "var sum = 0; var cont = 0\n",
    "\n",
    "while(true) {\n",
    "    var snum = readln()\n",
    "    if (snum == \"00\") break\n",
    "    \n",
    "    val num = snum.toInt()\n",
    "    maxValue = max(maxValue, num)\n",
    "    minValue = min(minValue, num)\n",
    "    sum += num\n",
    "    cont++\n",
    "}\n",
    "\n",
    "if (cont > 0) \n",
    "    println(\"Suma: $sum\\nMáximo: $maxValue\\nMínimo: $minValue\\nMedia: ${sum.toDouble() / cont}\")\n",
    "```"
   ]
  }
 ],
 "metadata": {
  "kernelspec": {
   "display_name": "Kotlin",
   "language": "kotlin",
   "name": "kotlin"
  },
  "language_info": {
   "codemirror_mode": "text/x-kotlin",
   "file_extension": ".kt",
   "mimetype": "text/x-kotlin",
   "name": "kotlin",
   "nbconvert_exporter": "",
   "pygments_lexer": "kotlin",
   "version": "1.8.0-RC"
  },
  "toc": {
   "base_numbering": 1,
   "nav_menu": {},
   "number_sections": false,
   "sideBar": true,
   "skip_h1_title": false,
   "title_cell": "Table of Contents",
   "title_sidebar": "Contents",
   "toc_cell": true,
   "toc_position": {},
   "toc_section_display": true,
   "toc_window_display": false
  }
 },
 "nbformat": 4,
 "nbformat_minor": 5
}
