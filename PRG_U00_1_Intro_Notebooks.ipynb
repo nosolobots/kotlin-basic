{
  "nbformat": 4,
  "nbformat_minor": 0,
  "metadata": {
    "colab": {
      "name": "PRG_U00.1_Intro_Notebooks.ipynb",
      "provenance": [],
      "collapsed_sections": [
        "QAaYmGdcaIC-",
        "0LLSuZrYhqqf"
      ]
    },
    "kernelspec": {
      "name": "python3",
      "display_name": "Python 3"
    },
    "language_info": {
      "name": "python"
    }
  },
  "cells": [
    {
      "cell_type": "markdown",
      "metadata": {
        "id": "QAaYmGdcaIC-"
      },
      "source": [
        "# Introducción a los Notebooks\n",
        "---\n",
        "Un cuaderno (_notebook_) permite integrar código y la salida de su ejecución en un documento que combina visualizaciones, texto narrativo, ecuaciones matemáticas y otros tipos de _media_.\n",
        "\n",
        "Es decir, dentro del propio documento podremos ejecutar código y mostrar su salida junto con explicaciones sobre el mismo.\n",
        "\n",
        "Al final, un _notebook_ no es más que un fichero de texto. De hecho, podemos descargarlo como un archivo **JSON** con extensión **.ipynb**"
      ]
    },
    {
      "cell_type": "markdown",
      "metadata": {
        "id": "AAmaLm2hdnsi"
      },
      "source": [
        "## Kernel\n",
        "---\n",
        "El **_Kernel_** es el \"motor de computación\" que ejecuta el código contenido en el _notebook_.\n",
        "\n",
        "Aunque podemos encontrar extensiones para dar soporte a otros lenguajes (R, Julia, Scala,...), los _notebooks_ suelen integrar de forma nativa un kernel para **Python**, siendo el lenguaje más popular en estos entornos.\n",
        "\n",
        "Los entornos de ejecución sobre los que se ejecutan los _notebooks_ pueden ser locales (por ejemplo, una instalación local de **_Jupyter Notebook_**), o en la nube (como **_Google Colab_**, **_Amazon SageMaker_**,...). Algunos entornos de ejecución remotos pueden darnos acceso a funcionalidades avanzadas, gratuitas o por suscripción, como puede ser el acceso a **GPU** o **TPU** para procesamiento intensivo."
      ]
    },
    {
      "cell_type": "markdown",
      "metadata": {
        "id": "vCWUp-ALhu3r"
      },
      "source": [
        "## Celdas\n",
        "---\n",
        "Las celdas conforman el cuerpo del cuaderno. Podemos añadir, editar y eliminar celdas a nuestro antojo. \n",
        "\n",
        "Pueden ser de dos tipos:\n",
        "\n",
        "- **Celda de texto**, que contiene texto en formato **Markdown**\n",
        "\n",
        "  Por ejemplo, ésta es una celda de texto\n",
        "\n",
        "- **Celda de Código**, que contiene código que será ejecutado por el _kernel_\n",
        "\n",
        "  Por ejemplo, la siguiente es una celda de código (para ejecutarla, pulsa sobre el botón de \"_play_\" o haz CTRL+ENTER)\n",
        "\n",
        "\n"
      ]
    },
    {
      "cell_type": "code",
      "source": [
        "from google.colab import drive\n",
        "drive.mount('/content/drive')"
      ],
      "metadata": {
        "id": "r-Z8d7njeAQJ"
      },
      "execution_count": null,
      "outputs": []
    },
    {
      "cell_type": "code",
      "metadata": {
        "id": "nY0SeFPUaLM7"
      },
      "source": [
        "print(f\"2 + 3 = {2+3}\")"
      ],
      "execution_count": null,
      "outputs": []
    },
    {
      "cell_type": "markdown",
      "metadata": {
        "id": "taqtzI0pkPWR"
      },
      "source": [
        "Cuando ejecutamos la celda, su salida se muestra justo inmediatamente debajo. \n",
        "\n",
        "Podemos ejecutar la celda todas las veces que queramos. Cada vez que ejecutemos una celda, se nos mostrará un valor, encerrado entre corchetes [ ]. Ese número nos permite determinar si esa celda ya ha sido ejecutada (en caso contrario, no habrá ningún valor entre los corchetes o será un *)  y el orden en que se ejecutaron las diferentes celdas. Esto es importante porque las diferentes variables que creamos en una celda son globales, por lo que son accesibles desde otras celdas del cuaderno. \n",
        "\n",
        "Por ejemplo, las dos siguientes celdas comparten una misma variable. La segunda celda no podrá ejecutarse (dará el error **_name 'mi\\_variable' is not defined_**) hasta que se ejecute la primera y se asigne un valor a la misma:\n",
        "\n"
      ]
    },
    {
      "cell_type": "code",
      "metadata": {
        "id": "AbntimgqeoZt"
      },
      "source": [
        "mi_variable = \"ya estoy inicializada\"\n",
        "mi_variable = 5"
      ],
      "execution_count": null,
      "outputs": []
    },
    {
      "cell_type": "code",
      "metadata": {
        "id": "rqhRnTXaeqpp",
        "colab": {
          "base_uri": "https://localhost:8080/"
        },
        "outputId": "5879b5e2-0853-4406-f695-b4a2beea729f"
      },
      "source": [
        "print(mi_variable)"
      ],
      "execution_count": null,
      "outputs": [
        {
          "output_type": "stream",
          "name": "stdout",
          "text": [
            "5\n"
          ]
        }
      ]
    },
    {
      "cell_type": "markdown",
      "metadata": {
        "id": "0LLSuZrYhqqf"
      },
      "source": [
        "## Markdown\n",
        "---\n",
        "Markdown es un lenguaje simple y fácil de aprender para e formateo de documentos de texto. Sus elementos se corresponden con los **_tags_** de **HTML** pero con una sintaxis mucho más simple. \n",
        "\n",
        "Estos son algunos ejemplos:\n",
        "\n",
        "---\n",
        "  \n",
        "**md:** \n",
        "\n",
        "\\# Este es un ejemplo de encabezado de tipo 1\n",
        "\n",
        "**out:**\n",
        "# Este es un ejemplo de encabezado de tipo 1\n",
        "---\n",
        "**md:** \n",
        "\n",
        "\\#\\# Este es un ejemplo de encabezado de tipo 2\n",
        "\n",
        "**out:**\n",
        "## Este es un ejemplo de encabezado de tipo 2\n",
        "---\n",
        "**md:** \n",
        "\n",
        "Podemos formatear en \\*\\*negrita\\*\\* (ó \\_\\_negrita\\_\\_) y \\_cursiva\\_ (ó \\*cursiva\\*) empleando \\* y \\_. También las podemos \\*\\*\\_combinar\\_\\*\\*\n",
        "\n",
        "**out:**\n",
        "\n",
        "Podemos formatear en **negrita** (ó __negrita__) y _cursiva_ (ó *cursiva*) empleando \\* y \\_. También las podemos **_combinar_**\n",
        "\n",
        "---\n",
        "**md:** \n",
        "\n",
        "Podemos crear listas numeradas:\n",
        "\n",
        "1\\. uno\n",
        "\n",
        "2\\. dos\n",
        "\n",
        "3\\. tres\n",
        "\n",
        "Y no numeradas:\n",
        "\n",
        "\\- uno\n",
        "\n",
        "\\- dos\n",
        "\n",
        "\\- tres\n",
        "\n",
        "Y de varios niveles:\n",
        "\n",
        "\\- nivel uno\n",
        "\n",
        "&nbsp;&nbsp;\\- nivel dos\n",
        "    \n",
        "&nbsp;&nbsp;&nbsp;&nbsp;\\- nivel tres\n",
        "\n",
        "\n",
        "**out:**\n",
        "\n",
        "Podemos crear listas numeradas:\n",
        "\n",
        "1. uno\n",
        "2. dos\n",
        "3. tres\n",
        "\n",
        "Y no numeradas:\n",
        "\n",
        "- uno\n",
        "- dos\n",
        "- tres\n",
        "\n",
        "Y de varios niveles:\n",
        "\n",
        "- nivel uno\n",
        "  - nivel dos\n",
        "    - nivel tres\n",
        "---\n",
        "Podemos añadir imágenes:\n",
        "<center>\n",
        "\n",
        "![text alter](https://upload.wikimedia.org/wikipedia/commons/b/b7/HAL9000isWatching.png)\n",
        "\n",
        "<img src=\"https://upload.wikimedia.org/wikipedia/commons/b/b7/HAL9000isWatching.png\"\n",
        "height=\"200\"/>\n",
        "\n",
        "</center>\n",
        "---\n",
        "Y añadir enlaces:\n",
        "\n",
        "#### Google Colaboratory:\n",
        "\n",
        "- https://colab.research.google.com/\n",
        "\n",
        "#### Jupyter Notebook:\n",
        "\n",
        "- https://jupyter.org/\n",
        "\n",
        "\n",
        "[enlace](https://jupyter.org/)\n",
        "\n",
        "#### Markdown:\n",
        "\n",
        "- https://www.markdownguide.org/\n",
        "\n",
        "- https://www.markdowntutorial.com/es/\n",
        "\n",
        "- https://colab.research.google.com/notebooks/markdown_guide.ipynb\n",
        "\n",
        "- https://guides.github.com/pdfs/markdown-cheatsheet-online.pdf"
      ]
    },
    {
      "cell_type": "markdown",
      "metadata": {
        "id": "OIy79VViMEKb"
      },
      "source": [
        "Por último, dependiendo del _kernel_ sobre el que se esté ejecutando el cuaderno, tendremos la posibilidad de importar y utilizar todo tipo de librerías que enriquecerán nuestras presentaciones"
      ]
    },
    {
      "cell_type": "code",
      "metadata": {
        "id": "mHisqQtNMfAo",
        "colab": {
          "base_uri": "https://localhost:8080/",
          "height": 295
        },
        "outputId": "50f5f2cd-8979-4c28-c2aa-7cd0ccea55c9"
      },
      "source": [
        "import numpy as np\n",
        "import matplotlib.pyplot as plt\n",
        "\n",
        "x = np.arange(0, 2*np.pi, 0.2)\n",
        "y_cos = np.cos(x)\n",
        "y_sin = np.sin(x)\n",
        "\n",
        "plt.plot(x, y_cos, label='cos(x)')\n",
        "plt.plot(x, y_sin, label='sin(x)')\n",
        "plt.legend()\n",
        "plt.title(\"Trigonmetric functions\")\n",
        "plt.xlabel(\"radians\")\n",
        "plt.show()"
      ],
      "execution_count": null,
      "outputs": [
        {
          "output_type": "display_data",
          "data": {
            "image/png": "[encoded data removed]",
            "text/plain": [
              "<Figure size 432x288 with 1 Axes>"
            ]
          },
          "metadata": {
            "needs_background": "light"
          }
        }
      ]
    }
  ]
}