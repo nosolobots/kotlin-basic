{
 "cells": [
  {
   "cell_type": "markdown",
   "id": "e78f8ef8",
   "metadata": {},
   "source": [
    "# K08. Mapas y Conjuntos\n",
    "---"
   ]
  },
  {
   "cell_type": "markdown",
   "id": "ea2a145e",
   "metadata": {},
   "source": [
    "### 1. Mapas\n",
    "---"
   ]
  },
  {
   "cell_type": "markdown",
   "id": "ef54835a",
   "metadata": {},
   "source": [
    "Un mapa es una colección no ordenada de parejas, donde cada pareja está compuesta por una **clave** y un **valor**. Por ejemplo:\n",
    "\n",
    "<br>\n",
    "\n",
    "| Clave | Valor |\n",
    "|---|---|\n",
    "|us|EEUU|\n",
    "|es|España|\n",
    "|fr|Francia|\n",
    "|de|Alemania|\n",
    "\n",
    "<br>Las claves de un mapa son **únicas** y tienen que ser del mismo tipo. De igual modo, todos los valores tienen que ser del mismo tipo. Diferentes claves, pueden tener asignado el mismo valor.\n",
    "\n",
    "<br>Los mapas son útiles cuando queremos almacenar y buscar valores asociados a una clave o identificador "
   ]
  },
  {
   "cell_type": "markdown",
   "id": "4dbea18e",
   "metadata": {},
   "source": [
    "### Creación de Mapas"
   ]
  },
  {
   "cell_type": "markdown",
   "id": "7edb8a3b",
   "metadata": {},
   "source": [
    "De forma similar a las listas, kotlin diferencia entre mapas constantes y mutables, proporcionando las funciones corrspondientes para su creación e inicialización: **```mapOf```** y **```mutableMapOf```**"
   ]
  },
  {
   "cell_type": "code",
   "execution_count": null,
   "id": "96aaf0d4",
   "metadata": {},
   "outputs": [],
   "source": [
    "// mapa inmutable\n",
    "val countries = mapOf(\"us\" to \"EEUU\", \"es\" to \"España\", \"fr\" to \"Francia\", \"de\" to \"Alemania\")\n",
    "println(countries)\n",
    "\n",
    "// mapa mutable\n",
    "val mutableCountries = mutableMapOf(\"us\" to \"EEUU\", \"es\" to \"España\", \"fr\" to \"Francia\", \"de\" to \"Alemania\")\n",
    "mutableCountries[\"UK\"] = \"Reino Unido\"\n",
    "println(mutableCountries)"
   ]
  },
  {
   "cell_type": "markdown",
   "id": "4c2ce86a",
   "metadata": {},
   "source": [
    "En el primer caso, se crea un objeto que implementa el interfaz **```Map<K, V>```** y, en el segundo, **```MutableMap<K, V>```**. En ambos casos se inferirán los tipos de la clave (K) y valor (V) a partir de los datos suministrados (String, en este caso). En el caso de crear un mapa vacío, deberemos proporcionar los tipos correspondientes para la clave y el valor"
   ]
  },
  {
   "cell_type": "code",
   "execution_count": null,
   "id": "68f3186a",
   "metadata": {
    "scrolled": true
   },
   "outputs": [],
   "source": [
    "val scoreTable = mutableMapOf<String, Int>()\n",
    "scoreTable[\"John\"] = 250\n",
    "scoreTable[\"Bob\"] = 125\n",
    "println(scoreTable)"
   ]
  },
  {
   "cell_type": "markdown",
   "id": "9de7a380",
   "metadata": {},
   "source": [
    "La librería estándar de kotlin proporciona dos concreciones del interfaz **```MutableMap<K, V>```**, los tipos **```HashMap<K, V>```** y **```LinkedHashMap<K, V>```**. La diferencia entre ambos es que el segundo emplea internamente una lista enlazada que permite preservar el orden de inserción en la colección"
   ]
  },
  {
   "cell_type": "code",
   "execution_count": null,
   "id": "fa880a8b",
   "metadata": {},
   "outputs": [],
   "source": [
    "val hashmap = HashMap<Int, String>()\n",
    "hashmap[3] = \"tres\"\n",
    "hashmap[2] = \"dos\"\n",
    "hashmap[1] = \"uno\"\n",
    "println(hashmap)\n",
    "\n",
    "// LinkedHashMap mantiene el orden de inserción\n",
    "val linkedhashmap = LinkedHashMap<Int, String>()\n",
    "linkedhashmap[3] = \"tres\"\n",
    "linkedhashmap[2] = \"dos\"\n",
    "linkedhashmap[1] = \"uno\"\n",
    "println(linkedhashmap)"
   ]
  },
  {
   "cell_type": "markdown",
   "id": "f3ef6ef4",
   "metadata": {},
   "source": [
    "Es **importante** resaltar que los mapas son colecciones **no ordenadas**. Aunque en el ejemplo anterior pueda parecer que las parejas del HashMap están ordenadas por clave, esto es absolutamente circunstancial. Va a depender de la función hash que se emplee internamente para colocar las claves en la tabla hash de la estructura interna"
   ]
  }
 ],
 "metadata": {
  "kernelspec": {
   "display_name": "Kotlin",
   "language": "kotlin",
   "name": "kotlin"
  },
  "language_info": {
   "codemirror_mode": "text/x-kotlin",
   "file_extension": ".kt",
   "mimetype": "text/x-kotlin",
   "name": "kotlin",
   "nbconvert_exporter": "",
   "pygments_lexer": "kotlin",
   "version": "1.7.20-dev-1299"
  },
  "varInspector": {
   "cols": {
    "lenName": 16,
    "lenType": 16,
    "lenVar": 40
   },
   "kernels_config": {
    "python": {
     "delete_cmd_postfix": "",
     "delete_cmd_prefix": "del ",
     "library": "var_list.py",
     "varRefreshCmd": "print(var_dic_list())"
    },
    "r": {
     "delete_cmd_postfix": ") ",
     "delete_cmd_prefix": "rm(",
     "library": "var_list.r",
     "varRefreshCmd": "cat(var_dic_list()) "
    }
   },
   "types_to_exclude": [
    "module",
    "function",
    "builtin_function_or_method",
    "instance",
    "_Feature"
   ],
   "window_display": false
  }
 },
 "nbformat": 4,
 "nbformat_minor": 5
}
