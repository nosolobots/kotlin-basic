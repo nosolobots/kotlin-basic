{
 "cells": [
  {
   "cell_type": "markdown",
   "id": "3aba4a9e",
   "metadata": {
    "toc": true
   },
   "source": [
    "<h1>Table of Contents<span class=\"tocSkip\"></span></h1>\n",
    "<div class=\"toc\"><ul class=\"toc-item\"><li><span><a href=\"#K08.-Mapas-y-Conjuntos-(Sets)\" data-toc-modified-id=\"K08.-Mapas-y-Conjuntos-(Sets)-1\">K08. Mapas y Conjuntos (Sets)</a></span><ul class=\"toc-item\"><li><span><a href=\"#1.-Mapas\" data-toc-modified-id=\"1.-Mapas-1.1\">1. Mapas</a></span><ul class=\"toc-item\"><li><span><a href=\"#Creación-de-Mapas\" data-toc-modified-id=\"Creación-de-Mapas-1.1.1\">Creación de Mapas</a></span></li><li><span><a href=\"#Propiedades-y-métodos\" data-toc-modified-id=\"Propiedades-y-métodos-1.1.2\">Propiedades y métodos</a></span></li><li><span><a href=\"#Accediendo-a-los-elementos\" data-toc-modified-id=\"Accediendo-a-los-elementos-1.1.3\">Accediendo a los elementos</a></span></li><li><span><a href=\"#Modificando-la-lista\" data-toc-modified-id=\"Modificando-la-lista-1.1.4\">Modificando la lista</a></span><ul class=\"toc-item\"><li><span><a href=\"#Eliminar-elementos\" data-toc-modified-id=\"Eliminar-elementos-1.1.4.1\">Eliminar elementos</a></span></li></ul></li><li><span><a href=\"#Iterando-sobre-el-mapa\" data-toc-modified-id=\"Iterando-sobre-el-mapa-1.1.5\">Iterando sobre el mapa</a></span></li></ul></li><li><span><a href=\"#2.-Conjuntos-(Sets)\" data-toc-modified-id=\"2.-Conjuntos-(Sets)-1.2\">2. Conjuntos (Sets)</a></span><ul class=\"toc-item\"><li><span><a href=\"#Creación-de-Conjuntos\" data-toc-modified-id=\"Creación-de-Conjuntos-1.2.1\">Creación de Conjuntos</a></span></li><li><span><a href=\"#Propiedades-y-métodos\" data-toc-modified-id=\"Propiedades-y-métodos-1.2.2\">Propiedades y métodos</a></span></li><li><span><a href=\"#Accediendo-a-los-elementos\" data-toc-modified-id=\"Accediendo-a-los-elementos-1.2.3\">Accediendo a los elementos</a></span></li><li><span><a href=\"#Modificando-el-conjunto\" data-toc-modified-id=\"Modificando-el-conjunto-1.2.4\">Modificando el conjunto</a></span><ul class=\"toc-item\"><li><span><a href=\"#Añadir-elementos\" data-toc-modified-id=\"Añadir-elementos-1.2.4.1\">Añadir elementos</a></span></li><li><span><a href=\"#Eliminar-elementos\" data-toc-modified-id=\"Eliminar-elementos-1.2.4.2\">Eliminar elementos</a></span></li></ul></li><li><span><a href=\"#Álgebra-de-conjuntos\" data-toc-modified-id=\"Álgebra-de-conjuntos-1.2.5\">Álgebra de conjuntos</a></span></li></ul></li><li><span><a href=\"#3.-Ejercicios\" data-toc-modified-id=\"3.-Ejercicios-1.3\">3. Ejercicios</a></span><ul class=\"toc-item\"><li><span><a href=\"#Soluciones\" data-toc-modified-id=\"Soluciones-1.3.1\">Soluciones</a></span></li></ul></li></ul></li></ul></div>"
   ]
  },
  {
   "cell_type": "markdown",
   "id": "e78f8ef8",
   "metadata": {},
   "source": [
    "# K08. Mapas y Conjuntos (Sets)\n",
    "---"
   ]
  },
  {
   "cell_type": "markdown",
   "id": "ea2a145e",
   "metadata": {},
   "source": [
    "## 1. Mapas\n",
    "---"
   ]
  },
  {
   "cell_type": "markdown",
   "id": "ef54835a",
   "metadata": {},
   "source": [
    "Un mapa es una colección no ordenada de parejas, donde cada pareja está compuesta por una **clave** y un **valor**. Por ejemplo:\n",
    "\n",
    "<br>\n",
    "\n",
    "| Clave | Valor |\n",
    "|---|---|\n",
    "|us|EEUU|\n",
    "|es|España|\n",
    "|fr|Francia|\n",
    "|de|Alemania|\n",
    "\n",
    "<br>Las claves de un mapa son **únicas** y tienen que ser del mismo tipo. De igual modo, todos los valores tienen que ser del mismo tipo. Diferentes claves, pueden tener asignado el mismo valor.\n",
    "\n",
    "<br>Los mapas son útiles cuando queremos almacenar y buscar valores asociados a una clave o identificador "
   ]
  },
  {
   "cell_type": "markdown",
   "id": "4dbea18e",
   "metadata": {},
   "source": [
    "### Creación de Mapas"
   ]
  },
  {
   "cell_type": "markdown",
   "id": "7edb8a3b",
   "metadata": {},
   "source": [
    "De forma similar a las listas, kotlin diferencia entre mapas constantes y mutables, proporcionando las funciones corrspondientes para su creación e inicialización: **```mapOf```** y **```mutableMapOf```**"
   ]
  },
  {
   "cell_type": "code",
   "execution_count": null,
   "id": "96aaf0d4",
   "metadata": {},
   "outputs": [],
   "source": [
    "// mapa inmutable\n",
    "val countries = mapOf(\"us\" to \"EEUU\", \"es\" to \"España\", \"fr\" to \"Francia\", \"de\" to \"Alemania\")\n",
    "println(countries)\n",
    "\n",
    "// mapa mutable\n",
    "val mutableCountries = mutableMapOf(\"us\" to \"EEUU\", \"es\" to \"España\", \"fr\" to \"Francia\", \"de\" to \"Alemania\")\n",
    "mutableCountries[\"uk\"] = \"Reino Unido\"\n",
    "println(mutableCountries)"
   ]
  },
  {
   "cell_type": "markdown",
   "id": "4c2ce86a",
   "metadata": {},
   "source": [
    "En el primer caso, se crea un objeto que implementa el interfaz **```Map<K, V>```** y, en el segundo, **```MutableMap<K, V>```**. En ambos casos se inferirán los tipos de la clave (K) y valor (V) a partir de los datos suministrados (String, en este caso). En el caso de crear un mapa vacío, deberemos proporcionar los tipos correspondientes para la clave y el valor"
   ]
  },
  {
   "cell_type": "code",
   "execution_count": null,
   "id": "68f3186a",
   "metadata": {
    "scrolled": true
   },
   "outputs": [],
   "source": [
    "val scoreTable = mutableMapOf<String, Int>()\n",
    "scoreTable[\"John\"] = 250\n",
    "scoreTable[\"Bob\"] = 125\n",
    "println(scoreTable)"
   ]
  },
  {
   "cell_type": "markdown",
   "id": "9de7a380",
   "metadata": {},
   "source": [
    "La librería estándar de kotlin proporciona dos concreciones del interfaz **```MutableMap<K, V>```**, los tipos **```HashMap<K, V>```** y **```LinkedHashMap<K, V>```**. La diferencia entre ambos es que el segundo emplea internamente una lista enlazada que permite preservar el orden de inserción en la colección.\n",
    "\n",
    "<br>Además del constructor, disponemos de las funciones **```hashMapOf```** y **```linkedMapOf```** que nos permiten crear colecciones de los tipos indicados tanto vacías como inicializadas con los elementos que nos interese"
   ]
  },
  {
   "cell_type": "code",
   "execution_count": null,
   "id": "fa880a8b",
   "metadata": {},
   "outputs": [],
   "source": [
    "val hashmap = HashMap<Int, String>()\n",
    "hashmap[3] = \"tres\"\n",
    "hashmap[2] = \"dos\"\n",
    "hashmap[1] = \"uno\"\n",
    "println(hashmap)\n",
    "\n",
    "// LinkedHashMap mantiene el orden de inserción\n",
    "val linkedhashmap = LinkedHashMap<Int, String>()\n",
    "linkedhashmap[3] = \"tres\"\n",
    "linkedhashmap[2] = \"dos\"\n",
    "linkedhashmap[1] = \"uno\"\n",
    "println(linkedhashmap)"
   ]
  },
  {
   "cell_type": "markdown",
   "id": "f3ef6ef4",
   "metadata": {},
   "source": [
    "Es **importante** resaltar que los mapas son colecciones **no ordenadas**. Aunque en el ejemplo anterior pueda parecer que las parejas del HashMap están ordenadas por clave, esto es absolutamente circunstancial. Va a depender de la función hash que se emplee internamente para colocar las claves en la tabla hash de la estructura interna"
   ]
  },
  {
   "cell_type": "markdown",
   "id": "f24f3d3f",
   "metadata": {},
   "source": [
    "### Propiedades y métodos"
   ]
  },
  {
   "cell_type": "markdown",
   "id": "46289a47",
   "metadata": {},
   "source": [
    "Tanto los interfaces **```Map<K, V>```** y **```MutableMap<K, V>```**, como el interfaz **```Collection```** del que derivan, nos proporcionan diversas propiedades y métodos para el manejo de estas estructuras. Puedes consultarlos en la documentación de la librería estándar de kotlin:\n",
    "\n",
    "- [_Collection_](https://kotlinlang.org/api/latest/jvm/stdlib/kotlin.collections/-collection/#kotlin.collections.Collection)\n",
    "- [_Map_](https://kotlinlang.org/api/latest/jvm/stdlib/kotlin.collections/-map/)\n",
    "- [_MutableMap_](https://kotlinlang.org/api/latest/jvm/stdlib/kotlin.collections/-mutable-map/)\n",
    "- [HashMap](https://kotlinlang.org/api/latest/jvm/stdlib/kotlin.collections/-hash-map/)\n",
    "- [LinkedHashMap](https://kotlinlang.org/api/latest/jvm/stdlib/kotlin.collections/-linked-hash-map/)"
   ]
  },
  {
   "cell_type": "code",
   "execution_count": null,
   "id": "c2f4e6cc",
   "metadata": {},
   "outputs": [],
   "source": [
    "val map = linkedMapOf(1 to \"one\", 2 to \"two\", 3 to \"three\")\n",
    "println(map.isEmpty())\n",
    "println(map.size)\n",
    "\n",
    "map.clear()\n",
    "println(map.isEmpty())"
   ]
  },
  {
   "cell_type": "markdown",
   "id": "b26b9863",
   "metadata": {},
   "source": [
    "### Accediendo a los elementos"
   ]
  },
  {
   "cell_type": "markdown",
   "id": "08289e2c",
   "metadata": {},
   "source": [
    "Podemos acceder a los elementos del mapa de dos maneras: \n",
    "\n",
    "- empleando el método **```get()```**\n",
    "- utilizando indexado\n",
    "\n",
    "<br>En ambos casos, debemos suministrar la clave del elemento deseado\n",
    "\n",
    "<br>En caso de no encontrar el elemento en la colección, se devolverá **```null```**. Por tanto, tenemos que tener en cuenta que ambos métodos nos devolverán un **tipo anulable**"
   ]
  },
  {
   "cell_type": "code",
   "execution_count": null,
   "id": "aac67fc6",
   "metadata": {
    "scrolled": true
   },
   "outputs": [],
   "source": [
    "println(\"es = ${countries[\"es\"]}\")\n",
    "println(\"fr = ${countries.get(\"fr\")}\")\n",
    "println(\"uk = ${countries[\"uk\"]}\")\n",
    "\n",
    "val country: String? = countries[\"es\"]\n",
    "println(country)"
   ]
  },
  {
   "cell_type": "markdown",
   "id": "8243398a",
   "metadata": {},
   "source": [
    "### Modificando la lista"
   ]
  },
  {
   "cell_type": "markdown",
   "id": "9891da1c",
   "metadata": {},
   "source": [
    "Para modificar nuestros mapas mutables tenemos principalmente dos opciones:\n",
    "\n",
    "- empleando el método **```put()```**\n",
    "- utilizando indexado\n",
    "\n",
    "<br>En ambos casos, debemos suministrar tanto la clave como el valor del elemento. En caso de que la clave no exista, se añadirá un nuevo elemento. En caso de que sí exista, se modificará el valor actual por el suministrado \n"
   ]
  },
  {
   "cell_type": "code",
   "execution_count": null,
   "id": "2d18b20a",
   "metadata": {},
   "outputs": [],
   "source": [
    "val playerData = mutableMapOf(\"name\" to \"John Doe\", \"country\" to \"us\")\n",
    "\n",
    "println(playerData)\n",
    "\n",
    "playerData[\"name\"] = \"Bob\"\n",
    "playerData.put(\"email\", \"bob@game.com\")\n",
    "\n",
    "println(playerData)"
   ]
  },
  {
   "cell_type": "markdown",
   "id": "a9d788d0",
   "metadata": {},
   "source": [
    "Como en el caso de las listas mutables, podemos emplear el operador **+** para añadir nuevas parejas a la colección"
   ]
  },
  {
   "cell_type": "code",
   "execution_count": null,
   "id": "1c089d68",
   "metadata": {
    "scrolled": true
   },
   "outputs": [],
   "source": [
    "playerData += \"age\" to \"25\"\n",
    "println(playerData)"
   ]
  },
  {
   "cell_type": "markdown",
   "id": "e66ff007",
   "metadata": {},
   "source": [
    "#### Eliminar elementos"
   ]
  },
  {
   "cell_type": "markdown",
   "id": "fe6d0fc0",
   "metadata": {},
   "source": [
    "Para **eliminar** parejas del mapa, emplearemos el método **```remove()```**. Este método recibirá como argumento la **clave** de la entrada del mapa que queremos eliminar. En caso de que suministremos también un valor, la entrada sólo se eliminará si el valor actual **coincide** con el suministrado"
   ]
  },
  {
   "cell_type": "code",
   "execution_count": null,
   "id": "eb34991b",
   "metadata": {},
   "outputs": [],
   "source": [
    "playerData.remove(\"age\")\n",
    "println(playerData)\n",
    "\n",
    "playerData.remove(\"email\", \"john@game.com\")\n",
    "println(playerData)"
   ]
  },
  {
   "cell_type": "markdown",
   "id": "da5f2fd1",
   "metadata": {},
   "source": [
    "### Iterando sobre el mapa"
   ]
  },
  {
   "cell_type": "markdown",
   "id": "bfbf3cc4",
   "metadata": {},
   "source": [
    "Para iterar sobre el mapa emplearemos un bucle de tipo **```for-in```**. \n",
    "\n",
    "<br>Dado que los elementos del mapa son parejas (son objetos de la clase **```Pair<K,V>```**), necesitamos recoger de forma simultánea tanto la clave como el valor de las mismas. Para ello, podemos hacerlo de dos formas:\n",
    "\n",
    "- Empleando la clase **```Pair<K,V>```**. Esta clase dispone de las propiedades **```key```** y **```value```** que nos permiten acceder a la clave y valor recogidos"
   ]
  },
  {
   "cell_type": "code",
   "execution_count": null,
   "id": "22268edc",
   "metadata": {
    "scrolled": true
   },
   "outputs": [],
   "source": [
    "for (country in countries) {\n",
    "    println(\"${country.key}: ${country.value}\")\n",
    "}"
   ]
  },
  {
   "cell_type": "markdown",
   "id": "b88c6cde",
   "metadata": {},
   "source": [
    "- Desestructurando el objeto **```Pair<K,V>```** recogido en la iteración en sus dos componentes, alamcenando así la clave y valor en dos constantes independientes"
   ]
  },
  {
   "cell_type": "code",
   "execution_count": null,
   "id": "1defd021",
   "metadata": {},
   "outputs": [],
   "source": [
    "for ((countryCode, countryName) in countries) {\n",
    "    println(\"$countryCode: $countryName\")\n",
    "}"
   ]
  },
  {
   "cell_type": "markdown",
   "id": "ff2f8298",
   "metadata": {},
   "source": [
    "Además, los mapas disponen de los atributos **```keys```** y **```values```** que nos devolverán conjuntos (mutables o inmutables) con las claves o los valores almacenados en el mapa"
   ]
  },
  {
   "cell_type": "code",
   "execution_count": null,
   "id": "6c83a7b0",
   "metadata": {
    "scrolled": false
   },
   "outputs": [],
   "source": [
    "println(\"claves: ${countries.keys.joinToString(prefix = \"[\", postfix = \"]\")}\")\n",
    "println(\"valores: ${countries.values.joinToString(prefix = \"[\", postfix = \"]\")}\")"
   ]
  },
  {
   "cell_type": "markdown",
   "id": "fd629cef",
   "metadata": {},
   "source": [
    "## 2. Conjuntos (Sets)\n",
    "---"
   ]
  },
  {
   "cell_type": "markdown",
   "id": "7088d828",
   "metadata": {},
   "source": [
    "Los conjuntos o _sets_ son colecciones sin orden de valores **únicos** del mismo tipo. Es decir, dentro de un conjunto no puede haber elementos repetidos\n",
    "\n",
    "<br>En general, los conjuntos son interesantes cuando necesitamos realizar operaciones de álgebra de conjuntos: uniones, intersecciones, exclusiones,..."
   ]
  },
  {
   "cell_type": "markdown",
   "id": "9ed56124",
   "metadata": {},
   "source": [
    "### Creación de Conjuntos"
   ]
  },
  {
   "cell_type": "markdown",
   "id": "b5c6a907",
   "metadata": {},
   "source": [
    "Como en las colecciones precedentes, vamos a poder crear conjuntos, mutables o inmutables, a partir de las funciones **```setOf()```** y **```mutableSetOf()```**, que podrán recibir como argumento los elementos con los que inicializar dichas estructuras. En caso de no suministrar ningún valor para la colección, deberemos indicar el tipo de los elementos, ya que no se podrá obtener por inferencia"
   ]
  },
  {
   "cell_type": "code",
   "execution_count": null,
   "id": "7804ab20",
   "metadata": {},
   "outputs": [],
   "source": [
    "// conjunto inmutable\n",
    "val names = setOf(\"Peter\", \"John\", \"Bob\", \"Anna\")\n",
    "println(names)\n",
    "\n",
    "// conjunto mutable\n",
    "val brands = mutableSetOf(\"Audi\", \"BMW\", \"Mercedes\")\n",
    "println(brands)"
   ]
  },
  {
   "cell_type": "markdown",
   "id": "90b2aa14",
   "metadata": {},
   "source": [
    "Como en el caso de las listas, podemos emplear el **spread operator** (\\*) para inicializar un conjunto a partir de un array. Fíjate como en el siguiente ejemplo, se eliminan los duplicados del array, lo que puede ser muy conveniente de determinados casos"
   ]
  },
  {
   "cell_type": "code",
   "execution_count": null,
   "id": "ba59daba",
   "metadata": {},
   "outputs": [],
   "source": [
    "val arr = arrayOf(1, 2, 3, 4, 2, 4)\n",
    "val otroSet = mutableSetOf(*arr)\n",
    "println(otroSet)"
   ]
  },
  {
   "cell_type": "markdown",
   "id": "5e735754",
   "metadata": {},
   "source": [
    "De forma similar a otras estructuras, a librería estándar de kotlin define los interfaces **```Set```** y **```MutableSet```**, así como las clases concretas **```HashSet```** y **```LinkedHashSet```**. A partir de los constructores de estas últimas, podremos crear nuevos conjuntos.\n",
    "\n",
    "<br>Puedes consultar la documentación oficial en:\n",
    "\n",
    "- [_Set_](https://kotlinlang.org/api/latest/jvm/stdlib/kotlin.collections/-set/)\n",
    "- [_MutableSet_](https://kotlinlang.org/api/latest/jvm/stdlib/kotlin.collections/-mutable-set/)\n",
    "- [HashSet](https://kotlinlang.org/api/latest/jvm/stdlib/kotlin.collections/-hash-set/)\n",
    "- [LinkedHashSet](https://kotlinlang.org/api/latest/jvm/stdlib/kotlin.collections/-linked-hash-set/)"
   ]
  },
  {
   "cell_type": "markdown",
   "id": "e03b130e",
   "metadata": {},
   "source": [
    "### Propiedades y métodos"
   ]
  },
  {
   "cell_type": "markdown",
   "id": "68bb7992",
   "metadata": {},
   "source": [
    "### Accediendo a los elementos"
   ]
  },
  {
   "cell_type": "markdown",
   "id": "361c11f0",
   "metadata": {},
   "source": [
    "Más que acceder a los elementos de un conjunto, lo que podemos hacer es determinar la **pertenencia** de un valor al conjunto. Para ello, emplearemos el método **```contains()```**"
   ]
  },
  {
   "cell_type": "code",
   "execution_count": null,
   "id": "d01170f1",
   "metadata": {},
   "outputs": [],
   "source": [
    "val set1 = setOf(1, 4, 6, 3, 2, 9)\n",
    "val checkVal = 8\n",
    "\n",
    "println(\"¿$checkVal está en el conjunto? ${set1.contains(checkVal)}\")"
   ]
  },
  {
   "cell_type": "markdown",
   "id": "ea92d44a",
   "metadata": {},
   "source": [
    "Podemos también emplear el operador **```in```**"
   ]
  },
  {
   "cell_type": "code",
   "execution_count": null,
   "id": "cf6be8fb",
   "metadata": {},
   "outputs": [],
   "source": [
    "val set1 = setOf(1, 4, 6, 3, 2, 9)\n",
    "val checkVal = 8\n",
    "\n",
    "println(\"¿$checkVal está en el conjunto? ${checkVal in set1}\")"
   ]
  },
  {
   "cell_type": "markdown",
   "id": "2a075a7c",
   "metadata": {},
   "source": [
    "### Modificando el conjunto"
   ]
  },
  {
   "cell_type": "markdown",
   "id": "c9e0f532",
   "metadata": {},
   "source": [
    "#### Añadir elementos"
   ]
  },
  {
   "cell_type": "markdown",
   "id": "782b2ccc",
   "metadata": {},
   "source": [
    "Para **añadir** elementos podemos hacerlo mediante el método **```add()```** o utilizando el operador **+**. En el caso de que el elemento a añadir ya exista en la colección, se omite la operación. En el caso del método **```add()```** se devolverá un valor booleano indicando si la operación tuvo éxito o no"
   ]
  },
  {
   "cell_type": "code",
   "execution_count": null,
   "id": "178010a0",
   "metadata": {},
   "outputs": [],
   "source": [
    "// Cambia HashSet por LinkedHashSet para ver como cambia el orden de los elementos\n",
    "val set2 = HashSet<Int>()\n",
    "set2 += 7\n",
    "set2 += 3\n",
    "set2 += 5\n",
    "set2 += 7\n",
    "\n",
    "println(\"Conjunto inicial: $set2\")\n",
    "\n",
    "for (i in 0..9) {\n",
    "    println(\"Añadiendo $i --> ${set2.add(i)}\")\n",
    "}\n",
    "\n",
    "println(\"Conjunto final: $set2\")"
   ]
  },
  {
   "cell_type": "markdown",
   "id": "5cf952d6",
   "metadata": {},
   "source": [
    "#### Eliminar elementos"
   ]
  },
  {
   "cell_type": "markdown",
   "id": "8863f2bf",
   "metadata": {},
   "source": [
    "Podemos eliminar elementos del conjunto con el método **```remove()```**. Como en el caso de **```add()```** devolverá un booleano indicando si la operación tuvo éxito"
   ]
  },
  {
   "cell_type": "code",
   "execution_count": null,
   "id": "2c762549",
   "metadata": {},
   "outputs": [],
   "source": [
    "val set3 = mutableSetOf(2, 3, 5, 12, 24, 33)\n",
    "println(\"Conjunto inicial: $set3\")\n",
    "\n",
    "for (i in 0..9) {\n",
    "    println(\"Eliminado $i --> ${set3.remove(i)}\")\n",
    "}\n",
    "\n",
    "println(\"Conjunto final: $set3\")"
   ]
  },
  {
   "cell_type": "markdown",
   "id": "9e2945dc",
   "metadata": {},
   "source": [
    "### Álgebra de conjuntos"
   ]
  },
  {
   "cell_type": "markdown",
   "id": "0fef2d9b",
   "metadata": {},
   "source": [
    "El interfaz **```Set```** nos proporciona toda una serie de métodos para realizar [álgebra de conjuntos](https://es.wikipedia.org/wiki/%C3%81lgebra_de_conjuntos):"
   ]
  },
  {
   "cell_type": "code",
   "execution_count": null,
   "id": "db9ef0d3",
   "metadata": {},
   "outputs": [],
   "source": [
    "// Algunos ejemplos de operaciones de álgebra de conjuntos\n",
    "\n",
    "val s1 = setOf(\"A\", \"1\", \"B\", \"2\")\n",
    "val s2 = setOf(\"C\", \"3\", \"A\", \"2\", \"D\", \"5\")\n",
    "\n",
    "// unión\n",
    "println(\"S1 ∪ S2: ${s1.union(s2)}\")\n",
    "\n",
    "// intersección\n",
    "println(\"S1 ∩ S2: ${s1.intersect(s2)}\")\n",
    "\n",
    "// diferencia\n",
    "println(\"S1 ∖ S2: ${s1.minus(s2)}\")\n",
    "\n",
    "// complementario de S1\n",
    "println(\"S1∁: ${s1.union(s2).minus(s1)}\")"
   ]
  },
  {
   "cell_type": "markdown",
   "id": "3320ea04",
   "metadata": {},
   "source": [
    "## 3. Ejercicios\n",
    "---"
   ]
  },
  {
   "cell_type": "markdown",
   "id": "3d3cd56c",
   "metadata": {},
   "source": [
    "1. \n",
    "Escribe un método denominado **countUnique** que acepte una lista de enteros y devuelva el número de valores únicos que aparecen en ambas listas"
   ]
  },
  {
   "cell_type": "code",
   "execution_count": null,
   "id": "04ee1e0e",
   "metadata": {},
   "outputs": [],
   "source": [
    "// SOLUCIÓN\n"
   ]
  },
  {
   "cell_type": "code",
   "execution_count": null,
   "id": "e59bec4c",
   "metadata": {},
   "outputs": [],
   "source": [
    "// TESTS\n",
    "// --> 5\n",
    "println(countUnique(listOf(3, 7, 3, -1, 2, 3, 7, 2, 15, 15)))\n",
    "\n",
    "// --> 2\n",
    "println(countUnique(listOf(4, 2, 4, 2, 4, 4, 4, 2, 2, 2)))\n",
    "\n",
    "// --> 1\n",
    "println(countUnique(listOf(42, 42, 42, 42, 42)))\n",
    "\n",
    "// --> 1\n",
    "println(countUnique(listOf(42)))\n",
    "\n",
    "// --> 0\n",
    "println(countUnique(listOf()))"
   ]
  },
  {
   "cell_type": "markdown",
   "id": "27297099",
   "metadata": {},
   "source": [
    "2. \n",
    "Escribe un método denominado **countCommon** que acepte dos listas de enteros como parámetros y devuelva el número de valores distintos que aparecen en ambas listas.\n"
   ]
  },
  {
   "cell_type": "code",
   "execution_count": null,
   "id": "5d04463b",
   "metadata": {},
   "outputs": [],
   "source": [
    "// SOLUCIÓN\n"
   ]
  },
  {
   "cell_type": "code",
   "execution_count": null,
   "id": "5dd5f39a",
   "metadata": {},
   "outputs": [],
   "source": [
    "// TESTS\n",
    "// --> 1\n",
    "println(countCommon(listOf(1, 2, 3), listOf(3, 4, 5)))\n",
    "\n",
    "// --> 2\n",
    "println(countCommon(listOf(1, 2, 3), listOf(2, 2, 3, 4)))\n",
    "\n",
    "// --> 0\n",
    "println(countCommon(listOf(1, 2, 3), listOf(4)))\n",
    "\n",
    "// --> 0\n",
    "println(countCommon(listOf(), listOf()))"
   ]
  },
  {
   "cell_type": "markdown",
   "id": "47046131",
   "metadata": {},
   "source": [
    "3. \n",
    "Escribe un método denominado **maxLength** que acepte un Set de cadenas de caracteres y devuelva la longitud de la cadena más larga. Si el conjunto está vacío, devolverá 0"
   ]
  },
  {
   "cell_type": "code",
   "execution_count": null,
   "id": "10d89815",
   "metadata": {},
   "outputs": [],
   "source": [
    "// SOLUCIÓN\n"
   ]
  },
  {
   "cell_type": "code",
   "execution_count": null,
   "id": "e71554de",
   "metadata": {},
   "outputs": [],
   "source": [
    "// TESTS\n",
    "// --> 25\n",
    "println(maxLength(setOf(\"one\", \"two\", \"three\", \"four\", \"get your person\", \"on the floor\", \"gotta gotta get up to get\", \"down\")))\n",
    "\n",
    "// --> 0\n",
    "println(maxLength(setOf()))\n",
    "\n",
    "// --> 10\n",
    "println(maxLength(setOf(\"tenletters\")))"
   ]
  },
  {
   "cell_type": "markdown",
   "id": "5e0ba04e",
   "metadata": {},
   "source": [
    "4. \n",
    "Escribe un método denominado **hasOdd** que acepte un Set de enteros y devuelva true o false dependiendo de si el Set contiene algún número impar o no."
   ]
  },
  {
   "cell_type": "code",
   "execution_count": null,
   "id": "bcd21482",
   "metadata": {},
   "outputs": [],
   "source": [
    "// SOLUCIÓN\n"
   ]
  },
  {
   "cell_type": "code",
   "execution_count": null,
   "id": "def4f298",
   "metadata": {},
   "outputs": [],
   "source": [
    "// TESTS\n",
    "// --> true\n",
    "println(hasOdd(setOf(2, 4, 6, 8, 7, 10)))\n",
    "\n",
    "// --> false\n",
    "println(hasOdd(setOf(2, -4, 6)))\n",
    "\n",
    "// --> false\n",
    "println(hasOdd(setOf()))"
   ]
  },
  {
   "cell_type": "markdown",
   "id": "0bca83aa",
   "metadata": {},
   "source": [
    "5. \n",
    "Escribe un método denominado **removeEvenLength** que acepte un Set de cadenas de caracteres y elimine del Set todas las cadenas de longitud par\n"
   ]
  },
  {
   "cell_type": "code",
   "execution_count": null,
   "id": "8bf71db6",
   "metadata": {},
   "outputs": [],
   "source": [
    "// SOLUCIÓN\n"
   ]
  },
  {
   "cell_type": "code",
   "execution_count": null,
   "id": "13a21a41",
   "metadata": {
    "scrolled": true
   },
   "outputs": [],
   "source": [
    "// TESTS\n",
    "// --> [bar, foo]\n",
    "val set1 = mutableSetOf(\"foo\", \"bar\")\n",
    "removeEvenLength(set1)\n",
    "println(set1)\n",
    "\n",
    "// --> []\n",
    "val set2 = mutableSetOf<String>()\n",
    "removeEvenLength(set2)\n",
    "println(set2)\n",
    "\n",
    "// --> [foo, bar, baz, qux, corge, waldo, plugh, xyzzy]\n",
    "val set3 = mutableSetOf<String>(\"foobar\", \"foo\", \"bar\", \"baz\", \"qux\", \"quux\", \"corge\", \"grault\", \"garply\", \"waldo\", \"fred\", \"plugh\", \"xyzzy\", \"thud\")\n",
    "removeEvenLength(set3)\n",
    "println(set3)"
   ]
  },
  {
   "cell_type": "markdown",
   "id": "0e079ed7",
   "metadata": {},
   "source": [
    "6. \n",
    "Escribe un método denominado **isUnique** que acepte un Map de cadenas de caracteres a cadenas de caracteres que devuelva true si no hay dos claves asociadas al mismo valor. Un mapa vacío se considerará único"
   ]
  },
  {
   "cell_type": "code",
   "execution_count": null,
   "id": "8a62d83e",
   "metadata": {},
   "outputs": [],
   "source": [
    "// SOLUCIÓN\n"
   ]
  },
  {
   "cell_type": "code",
   "execution_count": null,
   "id": "f4cbd515",
   "metadata": {},
   "outputs": [],
   "source": [
    "// TESTS\n",
    "// --> false\n",
    "val mapa1 = mapOf(\"Marty\" to \"Perkins\", \"Stuart\" to \"Reges\", \"Jessica\" to \"Miller\", \"Amanda\" to \"Camp\", \"Hal\" to \"Perkins\")\n",
    "println(isUnique(mapa1))\n",
    "\n",
    "// --> true\n",
    "val mapa2 = mapOf(\"Marty\" to \"Perkins\", \"Stuart\" to \"Reges\", \"Jessica\" to \"Miller\", \"Amanda\" to \"Camp\", \"Hal\" to \"9000\")\n",
    "println(isUnique(mapa2))\n",
    "\n",
    "// --> true\n",
    "val mapa3 = HashMap<String, String>()\n",
    "println(isUnique(mapa3))"
   ]
  },
  {
   "cell_type": "markdown",
   "id": "33f366b4",
   "metadata": {},
   "source": [
    "7. \n",
    "Escribe un método denominado **intersect** que acepte dos mapas de cadenas de caracteres a enteros y devuelva un nuevo mapa cuyo contenido sea la intersección de los dos, es decir, el mapa formado por las parejas (clave, valor) que existen en ambos mapas"
   ]
  },
  {
   "cell_type": "code",
   "execution_count": null,
   "id": "5bc6f7d6",
   "metadata": {},
   "outputs": [],
   "source": [
    "// SOLUCIÓN\n"
   ]
  },
  {
   "cell_type": "code",
   "execution_count": null,
   "id": "b68142f7",
   "metadata": {},
   "outputs": [],
   "source": [
    "// TESTS\n",
    "// --> {b=2, d=4}\n",
    "println(intersect(mapOf(\"a\" to 1, \"b\" to 2, \"c\" to 3, \"d\" to 4), \n",
    "                  mapOf(\"b\" to 2, \"c\" to 5, \"d\" to 4, \"e\" to 4, \"f\" to 1)))\n",
    "\n",
    "// --> {a=1, b=2, c=3, d=4}\n",
    "println(intersect(mapOf(\"a\" to 1, \"b\" to 2, \"c\" to 3, \"d\" to 4), \n",
    "                  mapOf(\"a\" to 1, \"b\" to 2, \"c\" to 3, \"d\" to 4)))\n",
    "\n",
    "// --> {a=1, b=2, c=3, d=4}\n",
    "println(intersect(mapOf(\"x\" to 0, \"a\" to 1, \"b\" to 2, \"c\" to 3, \"d\" to 4, \"e\" to 5), \n",
    "                  mapOf(\"a\" to 1, \"b\" to 2, \"c\" to 3, \"d\" to 4)))\n",
    "\n",
    "// --> {a=1, b=2, c=3, d=4}\n",
    "println(intersect(mapOf(\"a\" to 1, \"b\" to 2, \"c\" to 3, \"d\" to 4), \n",
    "                  mapOf(\"x\" to 0, \"a\" to 1, \"b\" to 2, \"c\" to 3, \"d\" to 4, \"e\" to 5)))\n",
    "\n",
    "// --> {}\n",
    "println(intersect(mapOf(\"a\" to 1, \"b\" to 2, \"c\" to 3, \"d\" to 4), \n",
    "                  mapOf(\"a\" to 5, \"b\" to 6, \"c\" to 7, \"d\" to 8)))\n",
    "\n",
    "// --> {}\n",
    "println(intersect(mapOf(\"a\" to 1, \"b\" to 2, \"c\" to 3, \"d\" to 4), \n",
    "                  00mapOf()))\n",
    "\n",
    "// --> {}\n",
    "println(intersect(mapOf(), mapOf()))"
   ]
  },
  {
   "cell_type": "markdown",
   "id": "9ea47f79",
   "metadata": {},
   "source": [
    "8. \n",
    "Escribe un método denominado **maxOcurrences** que acepte una lista de enteros como argumento y devuelva las veces que aparece el número más frecuente de la lista (moda). Soluciona este problema empleando un mapa como estructura auxiliar. Si la lista está vacía, se devolverá 0"
   ]
  },
  {
   "cell_type": "code",
   "execution_count": null,
   "id": "06400d60",
   "metadata": {},
   "outputs": [],
   "source": [
    "// SOLUCIÓN\n"
   ]
  },
  {
   "cell_type": "code",
   "execution_count": null,
   "id": "57299e00",
   "metadata": {},
   "outputs": [],
   "source": [
    "// TESTS\n",
    "// --> 2\n",
    "println(maxOcurrences(listOf(1, 1, 2, 3, 4)))\n",
    "\n",
    "// --> 3\n",
    "println(maxOcurrences(listOf(5, 6, 5, 6, 5, 6)))\n",
    "\n",
    "// --> 4\n",
    "println(maxOcurrences(listOf(0, 0, 0, 0)))\n",
    "\n",
    "// --> 0\n",
    "println(maxOcurrences(listOf()))"
   ]
  },
  {
   "cell_type": "markdown",
   "id": "32378c02",
   "metadata": {},
   "source": [
    "9. \n",
    "Escribe un método denominado **reverse** que acepte un mapa de enteros a cadenas de caracteres como parámetro y devuelva un nuevo mapa de cadenas de caracteres a enteros tal que invierta las claves y valores de las parejas. Es decir, los valores del primero pasan a ser la claves del nuevo, y las claves del primero, los valores del nuevo.\n",
    "\n",
    "<br>Dado que los valores pueden no ser únicos, se acepta cualquier pareja formada con alguna de sus claves. Además, el orden es irrelevante\n",
    "\n",
    "<br>Por ejemplo, dada la siguiente entrada: ```{42=Marty, 81=Sue, 17=Ed, 31=Dave, 56=Ed, 3=Marty, 29=Ed}```\n",
    "<br>el método podría devolver: ```{Marty=3, Sue=81, Ed=29, Dave=31}```"
   ]
  },
  {
   "cell_type": "code",
   "execution_count": null,
   "id": "0ff6e5c6",
   "metadata": {},
   "outputs": [],
   "source": [
    "// SOLUCIÓN\n"
   ]
  },
  {
   "cell_type": "code",
   "execution_count": null,
   "id": "2e78e5b2",
   "metadata": {},
   "outputs": [],
   "source": [
    "// TESTS\n",
    "// {Sue=81, Marty=3, Dave=31, Ed=29}\n",
    "println(reverse(mapOf(42 to \"Marty\", 81 to \"Sue\", 17 to \"Ed\", 31 to \"Dave\", 56 to \"Ed\", 3 to \"Marty\", 29 to \"Ed\")))\n",
    "\n",
    "// {Ace=1, King=13, Queen=12, Jack=11}\n",
    "println(reverse(mapOf(13 to \"King\", 12 to \"Queen\", 11 to \"Jack\", 1 to \"Ace\")))\n",
    "\n",
    "// {McCain=0, Obama=13}\n",
    "println(reverse(mapOf(1 to \"Obama\", 25 to \"Obama\", 47 to \"Obama\", 13 to \"Obama\", 0 to \"McCain\")))\n",
    "\n",
    "// {}\n",
    "println(reverse(mapOf()))"
   ]
  },
  {
   "cell_type": "markdown",
   "id": "60b2c637",
   "metadata": {},
   "source": [
    "10.\n",
    "Escribe un método denominado **rarest** que reciba un mapa de cadenas de caracteres a enteros como argumento y devuelva el valor entero que aparece menos veces en el mapa. Si hay empate, se devolverá el menor de los enteros. Si el mapa está vacío, se devolverá **null**"
   ]
  },
  {
   "cell_type": "code",
   "execution_count": null,
   "id": "bb4def37",
   "metadata": {},
   "outputs": [],
   "source": [
    "// SOLUCIÓN\n"
   ]
  },
  {
   "cell_type": "code",
   "execution_count": null,
   "id": "c5b95b59",
   "metadata": {},
   "outputs": [],
   "source": [
    "// TESTS\n",
    "// --> 22\n",
    "println(rarest(mapOf(\"Alyssa\" to 22, \"Char\" to 25, \"Dan\" to 25, \"Jeff\" to 20, \"Kasey\" to 20, \n",
    "                     \"Kim\" to 20, \"Mogran\" to 25, \"Ryan\" to 25, \"Stef\" to 22)))\n",
    "\n",
    "// --> 22\n",
    "println(rarest(mapOf(\"Alyssa\" to 22, \"Char\" to 25, \"Dan\" to 25, \"Jeff\" to 20, \"Kasey\" to 20, \n",
    "                     \"Kim\" to 20, \"Mogran\" to 25, \"Ryan\" to 25, \"Stef\" to 22, \"Kelly\" to 22)))\n",
    "\n",
    "// --> 21\n",
    "println(rarest(mapOf(\"Alyssa\" to 21, \"Char\" to 21, \"Dan\" to 21, \"Jeff\" to 21, \"Kasey\" to 21, \n",
    "                     \"Kim\" to 21, \"Mogran\" to 21, \"Ryan\" to 21, \"Stef\" to 21, \"Kelly\" to 21)))\n",
    "\n",
    "// --> 22\n",
    "println(rarest(mapOf(\"Alyssa\" to 22, \"Char\" to 25)))\n",
    "\n",
    "// --> 22\n",
    "println(rarest(mapOf(\"Alyssa\" to 22)))\n",
    "\n",
    "// --> null\n",
    "println(rarest(mapOf()))"
   ]
  },
  {
   "cell_type": "markdown",
   "id": "10311a06",
   "metadata": {},
   "source": [
    "### Soluciones\n",
    "---"
   ]
  },
  {
   "cell_type": "markdown",
   "id": "4c7b7214",
   "metadata": {},
   "source": [
    "##### 1.\n",
    "```kotlin\n",
    "fun countUnique(lista: List<Int>) = HashSet(lista).size \n",
    "```"
   ]
  },
  {
   "cell_type": "markdown",
   "id": "4b4b8837",
   "metadata": {},
   "source": [
    "##### 2.\n",
    "```kotlin\n",
    "fun countCommon(lista1: List<Int>, lista2: List<Int>) = HashSet(lista1).intersect(HashSet(lista2)).size\n",
    "```"
   ]
  },
  {
   "cell_type": "markdown",
   "id": "26396aed",
   "metadata": {},
   "source": [
    "##### 3.\n",
    "```kotlin\n",
    "fun maxLength(conjunto: Set<String>): Int {\n",
    "    var len = 0\n",
    "    conjunto.forEach { it -> len = maxOf(len, it.length) }\n",
    "    return len\n",
    "}\n",
    "```"
   ]
  },
  {
   "cell_type": "markdown",
   "id": "4a1cd81e",
   "metadata": {},
   "source": [
    "##### 4.\n",
    "```kotlin\n",
    "fun hasOdd(conjunto: Set<Int>): Boolean {\n",
    "    var impar = false\n",
    "    for(n in conjunto) {\n",
    "        if (n % 2 != 0) {\n",
    "            impar = true\n",
    "            break \n",
    "        }\n",
    "    }\n",
    "    return impar\n",
    "}\n",
    "```"
   ]
  },
  {
   "cell_type": "markdown",
   "id": "44bdac5e",
   "metadata": {},
   "source": [
    "##### 5.\n",
    "```kotlin\n",
    "fun removeEvenLength(conjunto: MutableSet<String>) {\n",
    "    val it = conjunto.iterator()\n",
    "    while(it.hasNext()) {\n",
    "        val s = it.next()\n",
    "        if (s.length %2 == 0)\n",
    "            it.remove()\n",
    "    }\n",
    "}\n",
    "```\n"
   ]
  },
  {
   "cell_type": "markdown",
   "id": "7109d9f2",
   "metadata": {},
   "source": [
    "##### 6.\n",
    "```kotlin\n",
    "fun isUnique(mapa: Map<String, String>) = mapa.keys.size == HashSet(mapa.values).size\n",
    "```"
   ]
  },
  {
   "cell_type": "markdown",
   "id": "a3567142",
   "metadata": {},
   "source": [
    "##### 7.\n",
    "```kotlin\n",
    "fun intersect(map1: Map<String, Int>, map2: Map<String, Int>): MutableMap<String, Int> {\n",
    "    val mapa = mutableMapOf<String, Int>()\n",
    "    for(k in map1.keys) \n",
    "        if (k in map2.keys && map1[k] == map2[k])\n",
    "            mapa[k] = map1[k]!!\n",
    "    return mapa\n",
    "}\n",
    "```"
   ]
  },
  {
   "cell_type": "markdown",
   "id": "7d44b899",
   "metadata": {},
   "source": [
    "##### 8.\n",
    "```kotlin\n",
    "fun maxOcurrences(nums: List<Int>): Int {\n",
    "    val freq = HashMap<Int, Int>()\n",
    "    for(n in nums) \n",
    "        freq[n] = if (n in freq) freq[n]!!.plus(1) else 1\n",
    "    return freq.values.maxOrNull()?:0\n",
    "}\n",
    "```"
   ]
  },
  {
   "cell_type": "markdown",
   "id": "931817f8",
   "metadata": {},
   "source": [
    "##### 9.\n",
    "```kotlin\n",
    "fun reverse(map: Map<Int, String>): Map<String, Int> {\n",
    "    val rev = HashMap<String, Int>()\n",
    "    for((k, v) in map) rev[v] = k\n",
    "    return rev\n",
    "}\n",
    "```\n"
   ]
  },
  {
   "cell_type": "markdown",
   "id": "de931c9f",
   "metadata": {},
   "source": [
    "##### 10.\n",
    "```kotlin\n",
    "fun rarest(mapa: Map<String, Int>): Int? {\n",
    "    if (mapa.isEmpty()) return null \n",
    "    \n",
    "    // guardamos en un mapa los valores y las veces que aparecen\n",
    "    val values = HashMap<Int, Int>()\n",
    "    for (v in mapa.values)\n",
    "        values[v] = if (v in values) values[v]!!.plus(1) else 1\n",
    "    \n",
    "    // buscamos el que tiene menos ocurrencias\n",
    "    var minOcurr = Int.MAX_VALUE\n",
    "    var minValue = Int.MAX_VALUE\n",
    "    for((k, v) in  values)\n",
    "        if (v < minOcurr || (v == minOcurr && k < minValue)) {\n",
    "            minOcurr = v\n",
    "            minValue = k\n",
    "        }\n",
    "    return minValue\n",
    "}\n",
    "```"
   ]
  }
 ],
 "metadata": {
  "kernelspec": {
   "display_name": "Kotlin",
   "language": "kotlin",
   "name": "kotlin"
  },
  "language_info": {
   "codemirror_mode": "text/x-kotlin",
   "file_extension": ".kt",
   "mimetype": "text/x-kotlin",
   "name": "kotlin",
   "nbconvert_exporter": "",
   "pygments_lexer": "kotlin",
   "version": "1.7.20-dev-1299"
  },
  "toc": {
   "base_numbering": 1,
   "nav_menu": {},
   "number_sections": false,
   "sideBar": true,
   "skip_h1_title": false,
   "title_cell": "Table of Contents",
   "title_sidebar": "Contents",
   "toc_cell": true,
   "toc_position": {},
   "toc_section_display": true,
   "toc_window_display": false
  },
  "varInspector": {
   "cols": {
    "lenName": 16,
    "lenType": 16,
    "lenVar": 40
   },
   "kernels_config": {
    "python": {
     "delete_cmd_postfix": "",
     "delete_cmd_prefix": "del ",
     "library": "var_list.py",
     "varRefreshCmd": "print(var_dic_list())"
    },
    "r": {
     "delete_cmd_postfix": ") ",
     "delete_cmd_prefix": "rm(",
     "library": "var_list.r",
     "varRefreshCmd": "cat(var_dic_list()) "
    }
   },
   "types_to_exclude": [
    "module",
    "function",
    "builtin_function_or_method",
    "instance",
    "_Feature"
   ],
   "window_display": false
  }
 },
 "nbformat": 4,
 "nbformat_minor": 5
}
