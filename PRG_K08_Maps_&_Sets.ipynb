{
 "cells": [
  {
   "cell_type": "markdown",
   "id": "e78f8ef8",
   "metadata": {},
   "source": [
    "# K08. Mapas y Conjuntos (Sets)\n",
    "---"
   ]
  },
  {
   "cell_type": "markdown",
   "id": "ea2a145e",
   "metadata": {},
   "source": [
    "## 1. Mapas\n",
    "---"
   ]
  },
  {
   "cell_type": "markdown",
   "id": "ef54835a",
   "metadata": {},
   "source": [
    "Un mapa es una colección no ordenada de parejas, donde cada pareja está compuesta por una **clave** y un **valor**. Por ejemplo:\n",
    "\n",
    "<br>\n",
    "\n",
    "| Clave | Valor |\n",
    "|---|---|\n",
    "|us|EEUU|\n",
    "|es|España|\n",
    "|fr|Francia|\n",
    "|de|Alemania|\n",
    "\n",
    "<br>Las claves de un mapa son **únicas** y tienen que ser del mismo tipo. De igual modo, todos los valores tienen que ser del mismo tipo. Diferentes claves, pueden tener asignado el mismo valor.\n",
    "\n",
    "<br>Los mapas son útiles cuando queremos almacenar y buscar valores asociados a una clave o identificador "
   ]
  },
  {
   "cell_type": "markdown",
   "id": "4dbea18e",
   "metadata": {},
   "source": [
    "### Creación de Mapas"
   ]
  },
  {
   "cell_type": "markdown",
   "id": "7edb8a3b",
   "metadata": {},
   "source": [
    "De forma similar a las listas, kotlin diferencia entre mapas constantes y mutables, proporcionando las funciones corrspondientes para su creación e inicialización: **```mapOf```** y **```mutableMapOf```**"
   ]
  },
  {
   "cell_type": "code",
   "execution_count": null,
   "id": "96aaf0d4",
   "metadata": {},
   "outputs": [],
   "source": [
    "// mapa inmutable\n",
    "val countries = mapOf(\"us\" to \"EEUU\", \"es\" to \"España\", \"fr\" to \"Francia\", \"de\" to \"Alemania\")\n",
    "println(countries)\n",
    "\n",
    "// mapa mutable\n",
    "val mutableCountries = mutableMapOf(\"us\" to \"EEUU\", \"es\" to \"España\", \"fr\" to \"Francia\", \"de\" to \"Alemania\")\n",
    "mutableCountries[\"uk\"] = \"Reino Unido\"\n",
    "println(mutableCountries)"
   ]
  },
  {
   "cell_type": "markdown",
   "id": "4c2ce86a",
   "metadata": {},
   "source": [
    "En el primer caso, se crea un objeto que implementa el interfaz **```Map<K, V>```** y, en el segundo, **```MutableMap<K, V>```**. En ambos casos se inferirán los tipos de la clave (K) y valor (V) a partir de los datos suministrados (String, en este caso). En el caso de crear un mapa vacío, deberemos proporcionar los tipos correspondientes para la clave y el valor"
   ]
  },
  {
   "cell_type": "code",
   "execution_count": null,
   "id": "68f3186a",
   "metadata": {
    "scrolled": true
   },
   "outputs": [],
   "source": [
    "val scoreTable = mutableMapOf<String, Int>()\n",
    "scoreTable[\"John\"] = 250\n",
    "scoreTable[\"Bob\"] = 125\n",
    "println(scoreTable)"
   ]
  },
  {
   "cell_type": "markdown",
   "id": "9de7a380",
   "metadata": {},
   "source": [
    "La librería estándar de kotlin proporciona dos concreciones del interfaz **```MutableMap<K, V>```**, los tipos **```HashMap<K, V>```** y **```LinkedHashMap<K, V>```**. La diferencia entre ambos es que el segundo emplea internamente una lista enlazada que permite preservar el orden de inserción en la colección.\n",
    "\n",
    "<br>Además del constructor, disponemos de las funciones **```hashMapOf```** y **```linkedMapOf```** que nos permiten crear colecciones de los tipos indicados tanto vacías como inicializadas con los elementos que nos interese"
   ]
  },
  {
   "cell_type": "code",
   "execution_count": null,
   "id": "fa880a8b",
   "metadata": {},
   "outputs": [],
   "source": [
    "val hashmap = HashMap<Int, String>()\n",
    "hashmap[3] = \"tres\"\n",
    "hashmap[2] = \"dos\"\n",
    "hashmap[1] = \"uno\"\n",
    "println(hashmap)\n",
    "\n",
    "// LinkedHashMap mantiene el orden de inserción\n",
    "val linkedhashmap = LinkedHashMap<Int, String>()\n",
    "linkedhashmap[3] = \"tres\"\n",
    "linkedhashmap[2] = \"dos\"\n",
    "linkedhashmap[1] = \"uno\"\n",
    "println(linkedhashmap)"
   ]
  },
  {
   "cell_type": "markdown",
   "id": "f3ef6ef4",
   "metadata": {},
   "source": [
    "Es **importante** resaltar que los mapas son colecciones **no ordenadas**. Aunque en el ejemplo anterior pueda parecer que las parejas del HashMap están ordenadas por clave, esto es absolutamente circunstancial. Va a depender de la función hash que se emplee internamente para colocar las claves en la tabla hash de la estructura interna"
   ]
  },
  {
   "cell_type": "markdown",
   "id": "f24f3d3f",
   "metadata": {},
   "source": [
    "### Propiedades y métodos"
   ]
  },
  {
   "cell_type": "markdown",
   "id": "46289a47",
   "metadata": {},
   "source": [
    "Tanto los interfaces **```Map<K, V>```** y **```MutableMap<K, V>```**, como el interfaz **```Collection```** del que derivan, nos proporcionan diversas propiedades y métodos para el manejo de estas estructuras. Puedes consultarlos en la documentación de la librería estándar de kotlin:\n",
    "\n",
    "- [_Collection_](https://kotlinlang.org/api/latest/jvm/stdlib/kotlin.collections/-collection/#kotlin.collections.Collection)\n",
    "- [_Map_](https://kotlinlang.org/api/latest/jvm/stdlib/kotlin.collections/-map/)\n",
    "- [_MutableMap_](https://kotlinlang.org/api/latest/jvm/stdlib/kotlin.collections/-mutable-map/)\n",
    "- [HashMap](https://kotlinlang.org/api/latest/jvm/stdlib/kotlin.collections/-hash-map/)\n",
    "- [LinkedHashMap](https://kotlinlang.org/api/latest/jvm/stdlib/kotlin.collections/-linked-hash-map/)"
   ]
  },
  {
   "cell_type": "code",
   "execution_count": null,
   "id": "c2f4e6cc",
   "metadata": {},
   "outputs": [],
   "source": [
    "val map = linkedMapOf(1 to \"one\", 2 to \"two\", 3 to \"three\")\n",
    "println(map.isEmpty())\n",
    "println(map.size)\n",
    "\n",
    "map.clear()\n",
    "println(map.isEmpty())"
   ]
  },
  {
   "cell_type": "markdown",
   "id": "b26b9863",
   "metadata": {},
   "source": [
    "### Accediendo a los elementos"
   ]
  },
  {
   "cell_type": "markdown",
   "id": "08289e2c",
   "metadata": {},
   "source": [
    "Podemos acceder a los elementos del mapa de dos maneras: \n",
    "\n",
    "- empleando el método **```get()```**\n",
    "- utilizando indexado\n",
    "\n",
    "<br>En ambos casos, debemos suministrar la clave del elemento deseado\n",
    "\n",
    "<br>En caso de no encontrar el elemento en la colección, se devolverá **```null```**. Por tanto, tenemos que tener en cuenta que ambos métodos nos devolverán un **tipo anulable**"
   ]
  },
  {
   "cell_type": "code",
   "execution_count": null,
   "id": "aac67fc6",
   "metadata": {
    "scrolled": true
   },
   "outputs": [],
   "source": [
    "println(\"es = ${countries[\"es\"]}\")\n",
    "println(\"fr = ${countries.get(\"fr\")}\")\n",
    "println(\"uk = ${countries[\"uk\"]}\")\n",
    "\n",
    "val country: String? = countries[\"es\"]\n",
    "println(country)"
   ]
  },
  {
   "cell_type": "markdown",
   "id": "8243398a",
   "metadata": {},
   "source": [
    "### Modificando la lista"
   ]
  },
  {
   "cell_type": "markdown",
   "id": "9891da1c",
   "metadata": {},
   "source": [
    "Para modificar nuestros mapas mutables tenemos principalmente dos opciones:\n",
    "\n",
    "- empleando el método **```put()```**\n",
    "- utilizando indexado\n",
    "\n",
    "<br>En ambos casos, debemos suministrar tanto la clave como el valor del elemento. En caso de que la clave no exista, se añadirá un nuevo elemento. En caso de que sí exista, se modificará el valor actual por el suministrado \n"
   ]
  },
  {
   "cell_type": "code",
   "execution_count": null,
   "id": "2d18b20a",
   "metadata": {},
   "outputs": [],
   "source": [
    "val playerData = mutableMapOf(\"name\" to \"John Doe\", \"country\" to \"us\")\n",
    "\n",
    "println(playerData)\n",
    "\n",
    "playerData[\"name\"] = \"Bob\"\n",
    "playerData.put(\"email\", \"bob@game.com\")\n",
    "\n",
    "println(playerData)"
   ]
  },
  {
   "cell_type": "markdown",
   "id": "a9d788d0",
   "metadata": {},
   "source": [
    "Como en el caso de las listas mutables, podemos emplear el operador **+** para añadir nuevas parejas a la colección"
   ]
  },
  {
   "cell_type": "code",
   "execution_count": null,
   "id": "1c089d68",
   "metadata": {
    "scrolled": true
   },
   "outputs": [],
   "source": [
    "playerData += \"age\" to \"25\"\n",
    "println(playerData)"
   ]
  },
  {
   "cell_type": "markdown",
   "id": "e66ff007",
   "metadata": {},
   "source": [
    "#### Eliminar elementos"
   ]
  },
  {
   "cell_type": "markdown",
   "id": "fe6d0fc0",
   "metadata": {},
   "source": [
    "Para **eliminar** parejas del mapa, emplearemos el método **```remove()```**. Este método recibirá como argumento la **clave** de la entrada del mapa que queremos eliminar. En caso de que suministremos también un valor, la entrada sólo se eliminará si el valor actual **coincide** con el suministrado"
   ]
  },
  {
   "cell_type": "code",
   "execution_count": null,
   "id": "eb34991b",
   "metadata": {},
   "outputs": [],
   "source": [
    "playerData.remove(\"age\")\n",
    "println(playerData)\n",
    "\n",
    "playerData.remove(\"email\", \"john@game.com\")\n",
    "println(playerData)"
   ]
  },
  {
   "cell_type": "markdown",
   "id": "da5f2fd1",
   "metadata": {},
   "source": [
    "### Iterando sobre el mapa"
   ]
  },
  {
   "cell_type": "markdown",
   "id": "bfbf3cc4",
   "metadata": {},
   "source": [
    "Para iterar sobre el mapa emplearemos un bucle de tipo **```for-in```**. \n",
    "\n",
    "<br>Dado que los elementos del mapa son parejas (son objetos de la clase **```Pair<K,V>```**), necesitamos recoger de forma simultánea tanto la clave como el valor de las mismas. Para ello, podemos hacerlo de dos formas:\n",
    "\n",
    "- Empleando la clase **```Pair<K,V>```**. Esta clase dispone de las propiedades **```key```** y **```value```** que nos permiten acceder a la clave y valor recogidos"
   ]
  },
  {
   "cell_type": "code",
   "execution_count": null,
   "id": "22268edc",
   "metadata": {
    "scrolled": true
   },
   "outputs": [],
   "source": [
    "for (country in countries) {\n",
    "    println(\"${country.key}: ${country.value}\")\n",
    "}"
   ]
  },
  {
   "cell_type": "markdown",
   "id": "b88c6cde",
   "metadata": {},
   "source": [
    "- Desestructurando el objeto **```Pair<K,V>```** recogido en la iteración en sus dos componentes, alamcenando así la clave y valor en dos constantes independientes"
   ]
  },
  {
   "cell_type": "code",
   "execution_count": null,
   "id": "1defd021",
   "metadata": {},
   "outputs": [],
   "source": [
    "for ((countryCode, countryName) in countries) {\n",
    "    println(\"$countryCode: $countryName\")\n",
    "}"
   ]
  },
  {
   "cell_type": "markdown",
   "id": "ff2f8298",
   "metadata": {},
   "source": [
    "Además, los mapas disponen de los atributos **```keys```** y **```values```** que nos devolverán conjuntos (mutables o inmutables) con las claves o los valores almacenados en el mapa"
   ]
  },
  {
   "cell_type": "code",
   "execution_count": null,
   "id": "6c83a7b0",
   "metadata": {
    "scrolled": false
   },
   "outputs": [],
   "source": [
    "println(\"claves: ${countries.keys.joinToString(prefix = \"[\", postfix = \"]\")}\")\n",
    "println(\"valores: ${countries.values.joinToString(prefix = \"[\", postfix = \"]\")}\")"
   ]
  },
  {
   "cell_type": "markdown",
   "id": "fd629cef",
   "metadata": {},
   "source": [
    "## 2. Conjuntos (Sets)\n",
    "---"
   ]
  },
  {
   "cell_type": "markdown",
   "id": "7088d828",
   "metadata": {},
   "source": [
    "Los conjuntos o _sets_ son colecciones sin orden de valores **únicos** del mismo tipo. Es decir, dentro de un conjunto no puede haber elementos repetidos\n",
    "\n",
    "<br>En general, los conjuntos son interesantes cuando necesitamos realizar operaciones de álgebra de conjuntos: uniones, intersecciones, exclusiones,..."
   ]
  },
  {
   "cell_type": "markdown",
   "id": "9ed56124",
   "metadata": {},
   "source": [
    "### Creación de Conjuntos"
   ]
  },
  {
   "cell_type": "markdown",
   "id": "b5c6a907",
   "metadata": {},
   "source": [
    "Como en las colecciones precedentes, vamos a poder crear conjuntos, mutables o inmutables, a partir de las funciones **```setOf()```** y **```mutableSetOf()```**, que podrán recibir como argumento los elementos con los que inicializar dichas estructuras. En caso de no suministrar ningún valor para la colección, deberemos indicar el tipo de los elementos, ya que no se podrá obtener por inferencia"
   ]
  },
  {
   "cell_type": "code",
   "execution_count": null,
   "id": "7804ab20",
   "metadata": {},
   "outputs": [],
   "source": [
    "// conjunto inmutable\n",
    "val names = setOf(\"Peter\", \"John\", \"Bob\", \"Anna\")\n",
    "println(names)\n",
    "\n",
    "// conjunto mutable\n",
    "val brands = mutableSetOf(\"Audi\", \"BMW\", \"Mercedes\")\n",
    "println(brands)"
   ]
  },
  {
   "cell_type": "markdown",
   "id": "90b2aa14",
   "metadata": {},
   "source": [
    "Como en el caso de las listas, podemos emplear el **spread operator** (\\*) para inicializar un conjunto a partir de un array. Fíjate como en el siguiente ejemplo, se eliminan los duplicados del array, lo que puede ser muy conveniente de determinados casos"
   ]
  },
  {
   "cell_type": "code",
   "execution_count": null,
   "id": "ba59daba",
   "metadata": {},
   "outputs": [],
   "source": [
    "val arr = arrayOf(1, 2, 3, 4, 2, 4)\n",
    "val otroSet = mutableSetOf(*arr)\n",
    "println(otroSet)"
   ]
  },
  {
   "cell_type": "markdown",
   "id": "5e735754",
   "metadata": {},
   "source": [
    "De forma similar a otras estructuras, a librería estándar de kotlin define los interfaces **```Set```** y **```MutableSet```**, así como las clases concretas **```HashSet```** y **```LinkedHashSet```**. A partir de los constructores de estas últimas, podremos crear nuevos conjuntos.\n",
    "\n",
    "<br>Puedes consultar la documentación oficial en:\n",
    "\n",
    "- [_Set_](https://kotlinlang.org/api/latest/jvm/stdlib/kotlin.collections/-set/)\n",
    "- [_MutableSet_](https://kotlinlang.org/api/latest/jvm/stdlib/kotlin.collections/-mutable-set/)\n",
    "- [HashSet](https://kotlinlang.org/api/latest/jvm/stdlib/kotlin.collections/-hash-set/)\n",
    "- [LinkedHashSet](https://kotlinlang.org/api/latest/jvm/stdlib/kotlin.collections/-linked-hash-set/)"
   ]
  },
  {
   "cell_type": "markdown",
   "id": "e03b130e",
   "metadata": {},
   "source": [
    "### Propiedades y métodos"
   ]
  },
  {
   "cell_type": "markdown",
   "id": "68bb7992",
   "metadata": {},
   "source": [
    "### Accediendo a los elementos"
   ]
  },
  {
   "cell_type": "markdown",
   "id": "361c11f0",
   "metadata": {},
   "source": [
    "Más que acceder a los elementos de un conjunto, lo que podemos hacer es determinar la **pertenencia** de un valor al conjunto. Para ello, emplearemos el método **```contains()```**"
   ]
  },
  {
   "cell_type": "code",
   "execution_count": null,
   "id": "d01170f1",
   "metadata": {},
   "outputs": [],
   "source": [
    "val set1 = setOf(1, 4, 6, 3, 2, 9)\n",
    "val checkVal = 8\n",
    "\n",
    "println(\"¿$checkVal está en el conjunto? ${set1.contains(checkVal)}\")"
   ]
  },
  {
   "cell_type": "markdown",
   "id": "ea92d44a",
   "metadata": {},
   "source": [
    "Podemos también emplear el operador **```in```**"
   ]
  },
  {
   "cell_type": "code",
   "execution_count": null,
   "id": "cf6be8fb",
   "metadata": {},
   "outputs": [],
   "source": [
    "val set1 = setOf(1, 4, 6, 3, 2, 9)\n",
    "val checkVal = 8\n",
    "\n",
    "println(\"¿$checkVal está en el conjunto? ${checkVal in set1}\")"
   ]
  },
  {
   "cell_type": "markdown",
   "id": "2a075a7c",
   "metadata": {},
   "source": [
    "### Modificando el conjunto"
   ]
  },
  {
   "cell_type": "markdown",
   "id": "c9e0f532",
   "metadata": {},
   "source": [
    "#### Añadir elementos"
   ]
  },
  {
   "cell_type": "markdown",
   "id": "782b2ccc",
   "metadata": {},
   "source": [
    "Para **añadir** elementos podemos hacerlo mediante el método **```add()```** o utilizando el operador **+**. En el caso de que el elemento a añadir ya exista en la colección, se omite la operación. En el caso del método **```add()```** se devolverá un valor booleano indicando si la operación tuvo éxito o no"
   ]
  },
  {
   "cell_type": "code",
   "execution_count": null,
   "id": "178010a0",
   "metadata": {},
   "outputs": [],
   "source": [
    "// Cambia HashSet por LinkedHashSet para ver como cambia el orden de los elementos\n",
    "val set2 = HashSet<Int>()\n",
    "set2 += 7\n",
    "set2 += 3\n",
    "set2 += 5\n",
    "set2 += 7\n",
    "\n",
    "println(\"Conjunto inicial: $set2\")\n",
    "\n",
    "for (i in 0..9) {\n",
    "    println(\"Añadiendo $i --> ${set2.add(i)}\")\n",
    "}\n",
    "\n",
    "println(\"Conjunto final: $set2\")"
   ]
  },
  {
   "cell_type": "markdown",
   "id": "5cf952d6",
   "metadata": {},
   "source": [
    "#### Eliminar elementos"
   ]
  },
  {
   "cell_type": "markdown",
   "id": "8863f2bf",
   "metadata": {},
   "source": [
    "Podemos eliminar elementos del conjunto con el método **```remove()```**. Como en el caso de **```add()```** devolverá un booleano indicando si la operación tuvo éxito"
   ]
  },
  {
   "cell_type": "code",
   "execution_count": null,
   "id": "2c762549",
   "metadata": {},
   "outputs": [],
   "source": [
    "val set3 = mutableSetOf(2, 3, 5, 12, 24, 33)\n",
    "println(\"Conjunto inicial: $set3\")\n",
    "\n",
    "for (i in 0..9) {\n",
    "    println(\"Eliminado $i --> ${set3.remove(i)}\")\n",
    "}\n",
    "\n",
    "println(\"Conjunto final: $set3\")"
   ]
  },
  {
   "cell_type": "markdown",
   "id": "9e2945dc",
   "metadata": {},
   "source": [
    "### Álgebra de conjuntos"
   ]
  },
  {
   "cell_type": "markdown",
   "id": "0fef2d9b",
   "metadata": {},
   "source": [
    "El interfaz **```Set```** nos proporciona toda una serie de métodos para realizar [álgebra de conjuntos](https://es.wikipedia.org/wiki/%C3%81lgebra_de_conjuntos):"
   ]
  },
  {
   "cell_type": "code",
   "execution_count": null,
   "id": "db9ef0d3",
   "metadata": {},
   "outputs": [],
   "source": [
    "// Algunos ejemplos de operaciones de álgebra de conjuntos\n",
    "\n",
    "val s1 = setOf(\"A\", \"1\", \"B\", \"2\")\n",
    "val s2 = setOf(\"C\", \"3\", \"A\", \"2\", \"D\", \"5\")\n",
    "\n",
    "// unión\n",
    "println(\"S1 ∪ S2: ${s1.union(s2)}\")\n",
    "\n",
    "// intersección\n",
    "println(\"S1 ∩ S2: ${s1.intersect(s2)}\")\n",
    "\n",
    "// diferencia\n",
    "println(\"S1 ∖ S2: ${s1.minus(s2)}\")\n",
    "\n",
    "// complementario de S1\n",
    "println(\"S1∁: ${s1.union(s2).minus(s1)}\")"
   ]
  }
 ],
 "metadata": {
  "kernelspec": {
   "display_name": "Kotlin",
   "language": "kotlin",
   "name": "kotlin"
  },
  "language_info": {
   "codemirror_mode": "text/x-kotlin",
   "file_extension": ".kt",
   "mimetype": "text/x-kotlin",
   "name": "kotlin",
   "nbconvert_exporter": "",
   "pygments_lexer": "kotlin",
   "version": "1.8.0-RC"
  },
  "varInspector": {
   "cols": {
    "lenName": 16,
    "lenType": 16,
    "lenVar": 40
   },
   "kernels_config": {
    "python": {
     "delete_cmd_postfix": "",
     "delete_cmd_prefix": "del ",
     "library": "var_list.py",
     "varRefreshCmd": "print(var_dic_list())"
    },
    "r": {
     "delete_cmd_postfix": ") ",
     "delete_cmd_prefix": "rm(",
     "library": "var_list.r",
     "varRefreshCmd": "cat(var_dic_list()) "
    }
   },
   "types_to_exclude": [
    "module",
    "function",
    "builtin_function_or_method",
    "instance",
    "_Feature"
   ],
   "window_display": false
  }
 },
 "nbformat": 4,
 "nbformat_minor": 5
}
