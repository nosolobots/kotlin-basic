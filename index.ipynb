{
 "cells": [
  {
   "cell_type": "markdown",
   "id": "947f9d53",
   "metadata": {
    "toc": true
   },
   "source": [
    "<h1>Table of Contents<span class=\"tocSkip\"></span></h1>\n",
    "<div class=\"toc\"><ul class=\"toc-item\"><li><span><a href=\"#Kotlin-básico-para-programadores\" data-toc-modified-id=\"Kotlin-básico-para-programadores-1\">Kotlin básico para programadores</a></span></li></ul></div>"
   ]
  },
  {
   "cell_type": "markdown",
   "id": "7dc8a4de",
   "metadata": {},
   "source": [
    "# Kotlin básico para programadores\n",
    "---"
   ]
  },
  {
   "cell_type": "markdown",
   "id": "015f4902",
   "metadata": {},
   "source": [
    "- K00. [Introducción a los **_Jupyter Notebooks_**](https://mybinder.org/v2/gh/nosolobots/kotlin-basic/master?filepath=PRG_K00_Intro_Notebooks.ipynb)\n",
    "- K01. [Introducción a **_Kotlin_**](https://mybinder.org/v2/gh/nosolobots/kotlin-basic/master?filepath=PRG_K01_Intro_Kotlin.ipynb)"
   ]
  }
 ],
 "metadata": {
  "kernelspec": {
   "display_name": "Kotlin",
   "language": "kotlin",
   "name": "kotlin"
  },
  "language_info": {
   "codemirror_mode": "text/x-kotlin",
   "file_extension": ".kt",
   "mimetype": "text/x-kotlin",
   "name": "kotlin",
   "nbconvert_exporter": "",
   "pygments_lexer": "kotlin",
   "version": "1.7.0-dev-1825"
  },
  "toc": {
   "base_numbering": 1,
   "nav_menu": {},
   "number_sections": false,
   "sideBar": true,
   "skip_h1_title": false,
   "title_cell": "Table of Contents",
   "title_sidebar": "Contents",
   "toc_cell": true,
   "toc_position": {},
   "toc_section_display": true,
   "toc_window_display": false
  }
 },
 "nbformat": 4,
 "nbformat_minor": 5
}
