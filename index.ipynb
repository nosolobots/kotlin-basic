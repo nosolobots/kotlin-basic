{
 "cells": [
  {
   "cell_type": "markdown",
   "id": "7991865c",
   "metadata": {},
   "source": [
    "### Jupyter Notebooks"
   ]
  },
  {
   "cell_type": "markdown",
   "id": "015f4902",
   "metadata": {},
   "source": [
    "- #### K00. [Introducción a los Jupyter Notebooks](https://mybinder.org/v2/gh/nosolobots/kotlin-basic/master?filepath=PRG_K00_Notebooks_Intro.ipynb)"
   ]
  },
  {
   "cell_type": "markdown",
   "id": "2a1e2a88",
   "metadata": {},
   "source": [
    "### Kotlin básico para programadores (java)"
   ]
  },
  {
   "cell_type": "markdown",
   "id": "75cb4179",
   "metadata": {},
   "source": [
    "- #### K01. [Introducción a Kotlin](https://mybinder.org/v2/gh/nosolobots/kotlin-basic/master?filepath=PRG_K01_Kotlin_Intro.ipynb)\n",
    "- #### K02. [Entornos de Desarrollo para Kotlin](https://mybinder.org/v2/gh/nosolobots/kotlin-basic/master?filepath=PRG_K02_Kotlin_IDE.ipynb)\n",
    "- #### K03. [Tipos y Variables](https://mybinder.org/v2/gh/nosolobots/kotlin-basic/master?filepath=PRG_K03_Kotlin_Vars.ipynb)\n",
    "- #### K04. [Control de Flujo](https://mybinder.org/v2/gh/nosolobots/kotlin-basic/master?filepath=PRG_K04_Kotlin_Control_flujo.ipynb)"
   ]
  }
 ],
 "metadata": {
  "kernelspec": {
   "display_name": "Kotlin",
   "language": "kotlin",
   "name": "kotlin"
  },
  "language_info": {
   "codemirror_mode": "text/x-kotlin",
   "file_extension": ".kt",
   "mimetype": "text/x-kotlin",
   "name": "kotlin",
   "nbconvert_exporter": "",
   "pygments_lexer": "kotlin",
   "version": "1.7.0-dev-1825"
  },
  "toc": {
   "base_numbering": 1,
   "nav_menu": {},
   "number_sections": false,
   "sideBar": true,
   "skip_h1_title": false,
   "title_cell": "Table of Contents",
   "title_sidebar": "Contents",
   "toc_cell": true,
   "toc_position": {},
   "toc_section_display": true,
   "toc_window_display": false
  }
 },
 "nbformat": 4,
 "nbformat_minor": 5
}
