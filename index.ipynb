{
 "cells": [
  {
   "cell_type": "markdown",
   "id": "1b91b0f9",
   "metadata": {
    "toc": true
   },
   "source": [
    "<h1>Table of Contents<span class=\"tocSkip\"></span></h1>\n",
    "<div class=\"toc\"><ul class=\"toc-item\"><li><span><a href=\"#Jupyter-Notebooks\" data-toc-modified-id=\"Jupyter-Notebooks-1\">Jupyter Notebooks</a></span><ul class=\"toc-item\"><li><span><a href=\"#K00.-Introducción-a-los-Jupyter-Notebooks\" data-toc-modified-id=\"K00.-Introducción-a-los-Jupyter-Notebooks-1.1\">K00. <a href=\"https://mybinder.org/v2/gh/nosolobots/kotlin-basic/master?filepath=PRG_K00_Notebooks_Intro.ipynb\" rel=\"nofollow\" target=\"_blank\">Introducción a los Jupyter Notebooks</a></a></span></li></ul></li><li><span><a href=\"#Kotlin-básico-para-programadores-(java)\" data-toc-modified-id=\"Kotlin-básico-para-programadores-(java)-2\">Kotlin básico para programadores (java)</a></span><ul class=\"toc-item\"><li><span><a href=\"#K01.-Introducción-a-Kotlin\" data-toc-modified-id=\"K01.-Introducción-a-Kotlin-2.1\">K01. <a href=\"https://mybinder.org/v2/gh/nosolobots/kotlin-basic/master?filepath=PRG_K01_Kotlin_Intro.ipynb\" rel=\"nofollow\" target=\"_blank\">Introducción a Kotlin</a></a></span></li><li><span><a href=\"#K02.-Entornos-de-Desarrollo-para-Kotlin\" data-toc-modified-id=\"K02.-Entornos-de-Desarrollo-para-Kotlin-2.2\">K02. <a href=\"https://mybinder.org/v2/gh/nosolobots/kotlin-basic/master?filepath=PRG_K02_Kotlin_IDE.ipynb\" rel=\"nofollow\" target=\"_blank\">Entornos de Desarrollo para Kotlin</a></a></span></li><li><span><a href=\"#K03.-Tipos-y-Variables\" data-toc-modified-id=\"K03.-Tipos-y-Variables-2.3\">K03. <a href=\"https://mybinder.org/v2/gh/nosolobots/kotlin-basic/master?filepath=PRG_K03_Kotlin_Vars.ipynb\" rel=\"nofollow\" target=\"_blank\">Tipos y Variables</a></a></span></li><li><span><a href=\"#K04.-Control-de-Flujo\" data-toc-modified-id=\"K04.-Control-de-Flujo-2.4\">K04. <a href=\"https://mybinder.org/v2/gh/nosolobots/kotlin-basic/master?filepath=PRG_K04_Kotlin_Control_flujo.ipynb\" rel=\"nofollow\" target=\"_blank\">Control de Flujo</a></a></span></li></ul></li></ul></div>"
   ]
  },
  {
   "cell_type": "markdown",
   "id": "7991865c",
   "metadata": {},
   "source": [
    "### Jupyter Notebooks"
   ]
  },
  {
   "cell_type": "markdown",
   "id": "015f4902",
   "metadata": {},
   "source": [
    "- #### K00. [Introducción a los Jupyter Notebooks](https://mybinder.org/v2/gh/nosolobots/kotlin-basic/master?filepath=PRG_K00_Notebooks_Intro.ipynb)"
   ]
  },
  {
   "cell_type": "markdown",
   "id": "2a1e2a88",
   "metadata": {},
   "source": [
    "### Kotlin básico para programadores (java)"
   ]
  },
  {
   "cell_type": "markdown",
   "id": "75cb4179",
   "metadata": {},
   "source": [
    "- #### K01. [Introducción a Kotlin](https://mybinder.org/v2/gh/nosolobots/kotlin-basic/master?filepath=PRG_K01_Kotlin_Intro.ipynb)\n",
    "- #### K02. [Entornos de Desarrollo para Kotlin](https://mybinder.org/v2/gh/nosolobots/kotlin-basic/master?filepath=PRG_K02_Kotlin_IDE.ipynb)\n",
    "- #### K03. [Tipos y Variables](https://mybinder.org/v2/gh/nosolobots/kotlin-basic/master?filepath=PRG_K03_Kotlin_Vars.ipynb)\n",
    "- #### K04. [Control de Flujo](https://mybinder.org/v2/gh/nosolobots/kotlin-basic/master?filepath=PRG_K04_Kotlin_Control_flujo.ipynb)"
   ]
  }
 ],
 "metadata": {
  "kernelspec": {
   "display_name": "Python 3",
   "language": "python",
   "name": "python3"
  },
  "language_info": {
   "codemirror_mode": {
    "name": "ipython",
    "version": 3
   },
   "file_extension": ".py",
   "mimetype": "text/x-python",
   "name": "python",
   "nbconvert_exporter": "python",
   "pygments_lexer": "ipython3",
   "version": "3.8.10"
  },
  "toc": {
   "base_numbering": 1,
   "nav_menu": {},
   "number_sections": false,
   "sideBar": true,
   "skip_h1_title": false,
   "title_cell": "Table of Contents",
   "title_sidebar": "Contents",
   "toc_cell": true,
   "toc_position": {},
   "toc_section_display": true,
   "toc_window_display": false
  }
 },
 "nbformat": 4,
 "nbformat_minor": 5
}
