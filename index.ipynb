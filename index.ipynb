{
 "cells": [
  {
   "cell_type": "markdown",
   "id": "1b91b0f9",
   "metadata": {
    "toc": true
   },
   "source": [
    "<h1>Table of Contents<span class=\"tocSkip\"></span></h1>\n",
    "<div class=\"toc\"><ul class=\"toc-item\"><li><span><a href=\"#Jupyter-Notebooks\" data-toc-modified-id=\"Jupyter-Notebooks-1\">Jupyter Notebooks</a></span><ul class=\"toc-item\"><li><ul class=\"toc-item\"><li><span><a href=\"#K00.-Introducción-a-los-Jupyter-Notebooks\" data-toc-modified-id=\"K00.-Introducción-a-los-Jupyter-Notebooks-1.0.1\">K00. <a href=\"https://mybinder.org/v2/gh/nosolobots/kotlin-basic/master?filepath=PRG_K00_Notebooks_Intro.ipynb\" rel=\"nofollow\" target=\"_blank\">Introducción a los Jupyter Notebooks</a></a></span></li></ul></li></ul></li><li><span><a href=\"#Kotlin-para-programadores-(Java)\" data-toc-modified-id=\"Kotlin-para-programadores-(Java)-2\">Kotlin para programadores (Java)</a></span><ul class=\"toc-item\"><li><span><a href=\"#Sección-1:-Kotlin-Básico\" data-toc-modified-id=\"Sección-1:-Kotlin-Básico-2.1\">Sección 1: Kotlin Básico</a></span><ul class=\"toc-item\"><li><span><a href=\"#K01.-Introducción-a-Kotlin\" data-toc-modified-id=\"K01.-Introducción-a-Kotlin-2.1.1\">K01. <a href=\"https://mybinder.org/v2/gh/nosolobots/kotlin-basic/master?filepath=PRG_K01_Kotlin_Intro.ipynb\" rel=\"nofollow\" target=\"_blank\">Introducción a Kotlin</a></a></span></li><li><span><a href=\"#K02.-Entornos-de-Desarrollo-para-Kotlin\" data-toc-modified-id=\"K02.-Entornos-de-Desarrollo-para-Kotlin-2.1.2\">K02. <a href=\"https://mybinder.org/v2/gh/nosolobots/kotlin-basic/master?filepath=PRG_K02_Kotlin_IDE.ipynb\" rel=\"nofollow\" target=\"_blank\">Entornos de Desarrollo para Kotlin</a></a></span></li><li><span><a href=\"#K03.-Tipos-y-Variables\" data-toc-modified-id=\"K03.-Tipos-y-Variables-2.1.3\">K03. <a href=\"https://mybinder.org/v2/gh/nosolobots/kotlin-basic/master?filepath=PRG_K03_Kotlin_Vars.ipynb\" rel=\"nofollow\" target=\"_blank\">Tipos y Variables</a></a></span></li><li><span><a href=\"#K04.-Control-de-Flujo\" data-toc-modified-id=\"K04.-Control-de-Flujo-2.1.4\">K04. <a href=\"https://mybinder.org/v2/gh/nosolobots/kotlin-basic/master?filepath=PRG_K04_Kotlin_Control_flujo.ipynb\" rel=\"nofollow\" target=\"_blank\">Control de Flujo</a></a></span></li><li><span><a href=\"#K05.-Funciones\" data-toc-modified-id=\"K05.-Funciones-2.1.5\">K05. <a href=\"https://mybinder.org/v2/gh/nosolobots/kotlin-basic/master?filepath=PRG_K05_Kotlin_Funciones.ipynb\" rel=\"nofollow\" target=\"_blank\">Funciones</a></a></span></li><li><span><a href=\"#K06.-Tratamiento-de-Nulos\" data-toc-modified-id=\"K06.-Tratamiento-de-Nulos-2.1.6\">K06. <a href=\"https://mybinder.org/v2/gh/nosolobots/kotlin-basic/master?filepath=PRG_K05_Kotlin_Nullability.ipynb\" rel=\"nofollow\" target=\"_blank\">Tratamiento de Nulos</a></a></span></li></ul></li><li><span><a href=\"#Sección-2:-Colecciones-&amp;-Lambdas\" data-toc-modified-id=\"Sección-2:-Colecciones-&amp;-Lambdas-2.2\">Sección 2: Colecciones &amp; Lambdas</a></span><ul class=\"toc-item\"><li><span><a href=\"#K07.-Arrays-y-Listas\" data-toc-modified-id=\"K07.-Arrays-y-Listas-2.2.1\">K07. <a href=\"https://mybinder.org/v2/gh/nosolobots/kotlin-basic/master?filepath=PRG_K07_Arrays_%26_Lists.ipynb\" rel=\"nofollow\" target=\"_blank\">Arrays y Listas</a></a></span></li><li><span><a href=\"#K08.-Mapas-y-Conjuntos\" data-toc-modified-id=\"K08.-Mapas-y-Conjuntos-2.2.2\">K08. <a href=\"https://mybinder.org/v2/gh/nosolobots/kotlin-basic/master?filepath=PRG_K08_Maps_%26_Sets.ipynb\" rel=\"nofollow\" target=\"_blank\">Mapas y Conjuntos</a></a></span></li><li><span><a href=\"#K09.-Funciones-Lambda\" data-toc-modified-id=\"K09.-Funciones-Lambda-2.2.3\">K09. <a href=\"https://mybinder.org/v2/gh/nosolobots/kotlin-basic/master?filepath=PRG_K09_Lambdas.ipynb\" rel=\"nofollow\" target=\"_blank\">Funciones Lambda</a></a></span></li></ul></li><li><span><a href=\"#Sección-3:-Programación-Orientada-a-Objetos\" data-toc-modified-id=\"Sección-3:-Programación-Orientada-a-Objetos-2.3\">Sección 3: Programación Orientada a Objetos</a></span><ul class=\"toc-item\"><li><span><a href=\"#K09.-Test-Input-Python\" data-toc-modified-id=\"K09.-Test-Input-Python-2.3.1\">K09. <a href=\"https://mybinder.org/v2/gh/nosolobots/kotlin-basic/master?filepath=test_input_python.ipynb\" rel=\"nofollow\" target=\"_blank\">Test Input Python</a></a></span></li></ul></li></ul></li></ul></div>"
   ]
  },
  {
   "cell_type": "markdown",
   "id": "7991865c",
   "metadata": {},
   "source": [
    "## Jupyter Notebooks\n",
    "---"
   ]
  },
  {
   "cell_type": "markdown",
   "id": "015f4902",
   "metadata": {},
   "source": [
    "- #### K00. [Introducción a los Jupyter Notebooks](https://mybinder.org/v2/gh/nosolobots/kotlin-basic/master?filepath=PRG_K00_Notebooks_Intro.ipynb)"
   ]
  },
  {
   "cell_type": "markdown",
   "id": "2a1e2a88",
   "metadata": {},
   "source": [
    "## Kotlin para programadores (Java)\n",
    "---"
   ]
  },
  {
   "cell_type": "markdown",
   "id": "7ef4e754",
   "metadata": {},
   "source": [
    "### Sección 1: Kotlin Básico"
   ]
  },
  {
   "cell_type": "markdown",
   "id": "75cb4179",
   "metadata": {},
   "source": [
    "- #### K01. [Introducción a Kotlin](https://mybinder.org/v2/gh/nosolobots/kotlin-basic/master?filepath=PRG_K01_Kotlin_Intro.ipynb)\n",
    "- #### K02. [Entornos de Desarrollo para Kotlin](https://mybinder.org/v2/gh/nosolobots/kotlin-basic/master?filepath=PRG_K02_Kotlin_IDE.ipynb)\n",
    "- #### K03. [Tipos y Variables](https://mybinder.org/v2/gh/nosolobots/kotlin-basic/master?filepath=PRG_K03_Kotlin_Vars.ipynb)\n",
    "- #### K04. [Control de Flujo](https://mybinder.org/v2/gh/nosolobots/kotlin-basic/master?filepath=PRG_K04_Kotlin_Control_flujo.ipynb)\n",
    "- #### K05. [Funciones](https://mybinder.org/v2/gh/nosolobots/kotlin-basic/master?filepath=PRG_K05_Kotlin_Funciones.ipynb)\n",
    "- #### K06. [Tratamiento de Nulos](https://mybinder.org/v2/gh/nosolobots/kotlin-basic/master?filepath=PRG_K05_Kotlin_Nullability.ipynb)"
   ]
  },
  {
   "cell_type": "markdown",
   "id": "86d33c32",
   "metadata": {},
   "source": [
    "### Sección 2: Colecciones & Lambdas"
   ]
  },
  {
   "cell_type": "markdown",
   "id": "edb3053f",
   "metadata": {},
   "source": [
    "- #### K07. [Arrays y Listas](https://mybinder.org/v2/gh/nosolobots/kotlin-basic/master?filepath=PRG_K07_Arrays_%26_Lists.ipynb)\n",
    "- #### K08. [Mapas y Conjuntos](https://mybinder.org/v2/gh/nosolobots/kotlin-basic/master?filepath=PRG_K08_Maps_%26_Sets.ipynb)\n",
    "- #### K09. [Funciones Lambda](https://mybinder.org/v2/gh/nosolobots/kotlin-basic/master?filepath=PRG_K09_Lambdas.ipynb)"
   ]
  },
  {
   "cell_type": "markdown",
   "id": "f1fe84b1",
   "metadata": {},
   "source": [
    "### Sección 3: Programación Orientada a Objetos"
   ]
  },
  {
   "cell_type": "markdown",
   "id": "cb53316b",
   "metadata": {},
   "source": [
    "- #### K10. [Clases](https://mybinder.org/v2/gh/nosolobots/kotlin-basic/master?filepath=PRG_K10_Clases.ipynb)\n",
    "- #### K11. [Propiedades y Métodos](https://mybinder.org/v2/gh/nosolobots/kotlin-basic/master?filepath=PRG_K11_Propiedades_Metodos.ipynb)\n",
    "- #### K12. [Objetos](https://mybinder.org/v2/gh/nosolobots/kotlin-basic/master?filepath=PRG_K12_Objetos.ipynb)\n",
    "- #### K13. [Herencia](https://mybinder.org/v2/gh/nosolobots/kotlin-basic/master?filepath=PRG_K13_Clases_Avanzado.ipynb)\n",
    "- #### K14. [Interfaces](https://mybinder.org/v2/gh/nosolobots/kotlin-basic/master?filepath=PRG_K14_Interfaces.ipynb)"
   ]
  }
 ],
 "metadata": {
  "kernelspec": {
   "display_name": "Python 3 (ipykernel)",
   "language": "python",
   "name": "python3"
  },
  "language_info": {
   "codemirror_mode": {
    "name": "ipython",
    "version": 3
   },
   "file_extension": ".py",
   "mimetype": "text/x-python",
   "name": "python",
   "nbconvert_exporter": "python",
   "pygments_lexer": "ipython3",
   "version": "3.10.6"
  },
  "toc": {
   "base_numbering": 1,
   "nav_menu": {},
   "number_sections": false,
   "sideBar": true,
   "skip_h1_title": false,
   "title_cell": "Table of Contents",
   "title_sidebar": "Contents",
   "toc_cell": true,
   "toc_position": {},
   "toc_section_display": true,
   "toc_window_display": false
  },
  "varInspector": {
   "cols": {
    "lenName": 16,
    "lenType": 16,
    "lenVar": 40
   },
   "kernels_config": {
    "python": {
     "delete_cmd_postfix": "",
     "delete_cmd_prefix": "del ",
     "library": "var_list.py",
     "varRefreshCmd": "print(var_dic_list())"
    },
    "r": {
     "delete_cmd_postfix": ") ",
     "delete_cmd_prefix": "rm(",
     "library": "var_list.r",
     "varRefreshCmd": "cat(var_dic_list()) "
    }
   },
   "types_to_exclude": [
    "module",
    "function",
    "builtin_function_or_method",
    "instance",
    "_Feature"
   ],
   "window_display": false
  }
 },
 "nbformat": 4,
 "nbformat_minor": 5
}
