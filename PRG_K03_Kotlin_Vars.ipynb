{
 "cells": [
  {
   "cell_type": "markdown",
   "id": "343f6d3b",
   "metadata": {
    "toc": true
   },
   "source": [
    "<h1>Table of Contents<span class=\"tocSkip\"></span></h1>\n",
    "<div class=\"toc\"><ul class=\"toc-item\"><li><span><a href=\"#Tipos,-Variables-y-Constantes\" data-toc-modified-id=\"Tipos,-Variables-y-Constantes-1\">Tipos, Variables y Constantes</a></span></li><li><span><a href=\"#Tipos-Básicos\" data-toc-modified-id=\"Tipos-Básicos-2\">Tipos Básicos</a></span><ul class=\"toc-item\"><li><span><a href=\"#Números\" data-toc-modified-id=\"Números-2.1\">Números</a></span><ul class=\"toc-item\"><li><span><a href=\"#Enteros\" data-toc-modified-id=\"Enteros-2.1.1\">Enteros</a></span></li><li><span><a href=\"#Punto-Flotante\" data-toc-modified-id=\"Punto-Flotante-2.1.2\">Punto Flotante</a></span></li></ul></li><li><span><a href=\"#Booleanos\" data-toc-modified-id=\"Booleanos-2.2\">Booleanos</a></span></li><li><span><a href=\"#Caracteres\" data-toc-modified-id=\"Caracteres-2.3\">Caracteres</a></span></li></ul></li><li><span><a href=\"#Conversiones-de-Tipos\" data-toc-modified-id=\"Conversiones-de-Tipos-3\">Conversiones de Tipos</a></span></li><li><span><a href=\"#Cadenas-de-Caracteres\" data-toc-modified-id=\"Cadenas-de-Caracteres-4\">Cadenas de Caracteres</a></span></li><li><span><a href=\"#Arrays\" data-toc-modified-id=\"Arrays-5\">Arrays</a></span></li></ul></div>"
   ]
  },
  {
   "cell_type": "markdown",
   "id": "b49a551f",
   "metadata": {},
   "source": [
    "## Tipos, Variables y Constantes"
   ]
  },
  {
   "cell_type": "markdown",
   "id": "46cbac01",
   "metadata": {},
   "source": [
    "Al igual que Java, Kotlin es un en lenguaje de **tipado estático**. Por tanto, todas las variables o constantes declaradas en nuestros programas deberán tener un tipo de dato asociado que determinará tanto la naturaleza del almacenamiento como las operaciones posibles sobre dichos datos.\n",
    "\n",
    "<br>La sintaxis general para la declaración de nuestras variables es la siguiente:\n",
    "\n",
    "```kotlin\n",
    "val|var nombre [: tipo] [= valor]\n",
    "```\n",
    "\n",
    "<br>donde:\n",
    "\n",
    "- **val** se emplea para declarar variables de **sólo lectura**. Es decir, una vez inicializadas, no pueden modificar su valor (equivalente al empleo de _final_ en Java). En general deberíamos optar por emplear este tipo de variables salvo que necesitemos modificar su valor posteriormente.\n",
    "\n",
    "<br>\n",
    "\n",
    "- **var** se emplea para declarar variables que pueden ser reasignadas (pueden cambiar su valor)\n",
    "\n",
    "<br>\n",
    "\n",
    "- **nombre** es el **identificador** de la variable. En general, se aplican las mismas reglas que en Java:\n",
    "  - Debe empezar por una letra o guión bajo (_) seguido por letras o dígitos\n",
    "  - No se permiten espacios en blanco ni caracteres especiales\n",
    "  - Son _case-sensitive_. \n",
    "  - En general, usaremos notación _lowerCamelCase_ para variables y funciones, y _UpperCamelCase_ (ó _PascalCase_) para los nombres de las clases\n",
    "  \n",
    "<br>\n",
    "\n",
    "- en caso de que no inicialicemos la variable con un valor, deberemos indicar el **tipo** de la misma\n",
    "\n",
    "<br>\n",
    "\n",
    "- podemos inicializar la variable con un **valor** en el momento de su declaración. En este caso, no estamos obligados a especificar su tipo ya que Kotlin se encargará de asignar el más adecuado en función de dicho valor. Es lo que se conoce como **inferencia de tipo**\n",
    "\n",
    "<br>Algunos ejemplos:"
   ]
  },
  {
   "cell_type": "code",
   "execution_count": null,
   "id": "937fa20e",
   "metadata": {},
   "outputs": [],
   "source": [
    "val a: Int = 1 // asignación durante la declaración\n",
    "val b = 2      // el tipo 'Int' se establece por inferencia\n",
    "println(\"a=$a, b=$b\") // $a y $b permiten \"insertar\" los valores de las variables a y b en el texto que se va a imprimir"
   ]
  },
  {
   "cell_type": "markdown",
   "id": "b318afea",
   "metadata": {},
   "source": [
    "Cualquier intento de modificar alguna de las variables anteriores derivaría en un error de compilación:"
   ]
  },
  {
   "cell_type": "code",
   "execution_count": null,
   "id": "9a7226fe",
   "metadata": {},
   "outputs": [],
   "source": [
    "a = 3"
   ]
  },
  {
   "cell_type": "markdown",
   "id": "b932ba39",
   "metadata": {},
   "source": [
    "Cuando necesitamos variables cuyo valor puede cambiar durante la ejecución del programa debemos declararlas usando **var**"
   ]
  },
  {
   "cell_type": "code",
   "execution_count": null,
   "id": "131507e7",
   "metadata": {},
   "outputs": [],
   "source": [
    "var x = 5\n",
    "x += 1\n",
    "x // en una celda se imprime automáticamente el valor devuelto por la última expresión ejecutada, en este caso, x (no necesitamos hacer un print)"
   ]
  },
  {
   "cell_type": "markdown",
   "id": "9c870a17",
   "metadata": {},
   "source": [
    "Podemos declarar variables en el nivel superior (fuera de funciones y clases), por lo que serán globales y accesibles desde cualquier punto de nuestro código:"
   ]
  },
  {
   "cell_type": "code",
   "execution_count": null,
   "id": "2e6ef277",
   "metadata": {},
   "outputs": [],
   "source": [
    "val PI: Double = 3.141516\n",
    "var x = 0\n",
    "\n",
    "fun incrementX() {\n",
    "    x += 1\n",
    "}\n",
    "\n",
    "incrementX()\n",
    "x"
   ]
  },
  {
   "cell_type": "markdown",
   "id": "9bc55556",
   "metadata": {},
   "source": [
    "## Tipos Básicos"
   ]
  },
  {
   "cell_type": "markdown",
   "id": "e6704784",
   "metadata": {},
   "source": [
    "En Kotlin, todo son objetos. Así, todas las variables que creemos son de **tipos referenciados** (no existen **tipos primitivos** como en Java). \n",
    "\n",
    "<br>En todo caso, dado que Kotlin emplea representaciones internas equivalentes a las de Java para números, caracteres y booleanos, se aplicarán los rangos de valores correspondientes."
   ]
  },
  {
   "cell_type": "markdown",
   "id": "bd492ef9",
   "metadata": {},
   "source": [
    "### Números"
   ]
  },
  {
   "cell_type": "markdown",
   "id": "bb16930f",
   "metadata": {},
   "source": [
    "#### Enteros"
   ]
  },
  {
   "cell_type": "markdown",
   "id": "b752c179",
   "metadata": {},
   "source": [
    "| Tipo | Tamaño (bits) | Min | Max |\n",
    "| --- | :---: | :---: | :---: |\n",
    "| Byte | 8 | -128 | 127 |\n",
    "| Short | 16 | -32768 | 32767 |\n",
    "| Int | 32 | -2.147.483.648 (-2<sup>31</sup>) | 2.147.483.647 (2<sup>31</sup> - 1) |\n",
    "| Long | 64 | -9.223.372.036.854.775.808 (-2<sup>63</sup>) | 9.223.372.036.854.775.807 (2<sup>63</sup> - 1) |"
   ]
  },
  {
   "cell_type": "markdown",
   "id": "5a24f2f5",
   "metadata": {},
   "source": [
    "<br>Todas las variables inicializadas con enteros que no superen el valor máximo de ```Int``` tendrán el tipo inferido ```Int```. En caso de que el valor del literal sea superior a dicho máximo, se asignará el tipo ```Long```. Para especificar el tipo ```Long``` de forma explícita, se añadirá una **L** como sufijo del valor\n",
    "\n",
    "<br>Los literales enteros en formato **hexadecimal** llevarán el prefijo **0x** y en formato **binario** el prefijo **0b**. Los literales en formato **octal** no están soportados."
   ]
  },
  {
   "cell_type": "code",
   "execution_count": null,
   "id": "67efe7f3",
   "metadata": {},
   "outputs": [],
   "source": [
    "val uno = 1 // Int\n",
    "val tresMilMillones = 3_000_000_000  // Long (en los literales numéricos podemos emplear _ para mejorar la legibilidad)\n",
    "val unoLong = 1L // Long\n",
    "val unoByte: Byte = 1 // Tenemos que indicar el tipo. Por inferencia sería Int\n",
    "val cienHex = 0x64 // Literal hexadecimal\n",
    "val tresBin = 0b11 // Literal binario"
   ]
  },
  {
   "cell_type": "markdown",
   "id": "3184e0dc",
   "metadata": {},
   "source": [
    "<br>Además de los tipos enteros, Kotlin proporciona los siguientes tipos para manejar valores enteros sin signo (positivos)\n",
    "\n",
    "<br>\n",
    "\n",
    "| Tipo | Tamaño (bits) | Min | Max |\n",
    "| --- | :---: | :---: | :---: |\n",
    "| UByte | 8 | 0 | 255 |\n",
    "| UShort | 16 | 0 | 65535 |\n",
    "| Int | 32 | 0 | 4.294.967.295 (2<sup>32</sup> - 1) |\n",
    "| Long | 64 | 0 | 18.446.744.073.709.551.615 (2<sup>64</sup> - 1) |\n",
    "\n",
    "<br>Los literales correspondientes llevarán el sufijo **u** o **U**. Puede combinarse con el sufijo **L**\n"
   ]
  },
  {
   "cell_type": "code",
   "execution_count": null,
   "id": "37878eae",
   "metadata": {},
   "outputs": [],
   "source": [
    "val b: UByte = 1u  // UByte\n",
    "val s: UShort = 1u // UShort\n",
    "val l: ULong = 1u // ULong\n",
    "\n",
    "val a1 = 42u // UInt\n",
    "val a2 = 0xFFFF_FFFF_FFFFu // ULong\n",
    "\n",
    "val a = 1UL // ULong"
   ]
  },
  {
   "cell_type": "markdown",
   "id": "dcd1c95a",
   "metadata": {},
   "source": [
    "#### Punto Flotante"
   ]
  },
  {
   "cell_type": "markdown",
   "id": "9ab6eeaa",
   "metadata": {},
   "source": [
    "Para números en punto flotante, Kotlin proporciona los tipos ```Float``` y ```Double``` que se corresponden con los estándares IEEE754 _single precision_ e IEEE754 _double precision_ para la representación binaria de números reales\n",
    "\n",
    "<br>\n",
    "\n",
    "| Tipo | Tamaño (bits) | Dígitos decimales |\n",
    "| --- | :---: | :---: |\n",
    "| Float | 32 | 6-7 |\n",
    "| Double | 64 | 15-16 |\n",
    "\n",
    "A las variables inicializadas con números con decimales se les asigna por defecto el tipo ```Double```. Para especificar el tipo ```Float``` de forma explícita, se añadirá una **F** o **f** como sufijo del valor"
   ]
  },
  {
   "cell_type": "code",
   "execution_count": null,
   "id": "3405c832",
   "metadata": {},
   "outputs": [],
   "source": [
    "val e = 2.7182818284 // Double\n",
    "val eFloat = 2.7182818284f // Float, valor real es 2.7182817"
   ]
  },
  {
   "cell_type": "markdown",
   "id": "d649351b",
   "metadata": {},
   "source": [
    "### Booleanos"
   ]
  },
  {
   "cell_type": "markdown",
   "id": "574b1567",
   "metadata": {},
   "source": [
    "El tipo **Boolean** representa objetos booleanos que pueden tomar dos valores: **true** y **false**"
   ]
  },
  {
   "cell_type": "code",
   "execution_count": null,
   "id": "f4c05183",
   "metadata": {},
   "outputs": [],
   "source": [
    "val myTrue: Boolean = true\n",
    "val myFalse = false\n",
    "\n",
    "println(myTrue || myFalse)\n",
    "println(myTrue && myFalse)\n",
    "println(!myFalse)"
   ]
  },
  {
   "cell_type": "markdown",
   "id": "27c9010e",
   "metadata": {},
   "source": [
    "### Caracteres"
   ]
  },
  {
   "cell_type": "markdown",
   "id": "a4cb948e",
   "metadata": {},
   "source": [
    "Los caracteres se representan con el tipo **Char**. Los literales deben ir encerrados entre comilla simple **'**\n",
    "\n",
    "<br>Se soportan las siguientes **secuencias de escape**: ```\\t, \\b, \\n, \\r, \\', \\\", \\\\ y \\$```.\n",
    "\n",
    "<br>Cualquier otro caracter Unicode se puede escapar usando la sintaxis: '\\uXXXX', donde XXXX será la codificación hexadecimal del mismo"
   ]
  },
  {
   "cell_type": "code",
   "execution_count": null,
   "id": "f824484e",
   "metadata": {},
   "outputs": [],
   "source": [
    "val aChar: Char = 'a'\n",
    "\n",
    "println(aChar)\n",
    "println('\\n')     // salto de línea\n",
    "println('\\u03C0') // letra pi (π)"
   ]
  },
  {
   "cell_type": "markdown",
   "id": "41615db8",
   "metadata": {},
   "source": [
    "## Conversiones de Tipos"
   ]
  },
  {
   "cell_type": "markdown",
   "id": "67921bcb",
   "metadata": {},
   "source": [
    "## Cadenas de Caracteres"
   ]
  },
  {
   "cell_type": "markdown",
   "id": "c0890930",
   "metadata": {},
   "source": [
    "## Arrays"
   ]
  }
 ],
 "metadata": {
  "kernelspec": {
   "display_name": "Kotlin",
   "language": "kotlin",
   "name": "kotlin"
  },
  "language_info": {
   "codemirror_mode": "text/x-kotlin",
   "file_extension": ".kt",
   "mimetype": "text/x-kotlin",
   "name": "kotlin",
   "nbconvert_exporter": "",
   "pygments_lexer": "kotlin",
   "version": "1.7.0-dev-1825"
  },
  "toc": {
   "base_numbering": 1,
   "nav_menu": {},
   "number_sections": false,
   "sideBar": true,
   "skip_h1_title": false,
   "title_cell": "Table of Contents",
   "title_sidebar": "Contents",
   "toc_cell": true,
   "toc_position": {},
   "toc_section_display": true,
   "toc_window_display": false
  }
 },
 "nbformat": 4,
 "nbformat_minor": 5
}
