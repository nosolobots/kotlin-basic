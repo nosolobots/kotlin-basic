{
 "cells": [
  {
   "cell_type": "markdown",
   "id": "343f6d3b",
   "metadata": {
    "toc": true
   },
   "source": [
    "<h1>Table of Contents<span class=\"tocSkip\"></span></h1>\n",
    "<div class=\"toc\"><ul class=\"toc-item\"><li><span><a href=\"#Tipos,-Variables-y-Constantes\" data-toc-modified-id=\"Tipos,-Variables-y-Constantes-1\">Tipos, Variables y Constantes</a></span></li><li><span><a href=\"#Tipos-Básicos\" data-toc-modified-id=\"Tipos-Básicos-2\">Tipos Básicos</a></span><ul class=\"toc-item\"><li><span><a href=\"#Números\" data-toc-modified-id=\"Números-2.1\">Números</a></span><ul class=\"toc-item\"><li><span><a href=\"#Enteros\" data-toc-modified-id=\"Enteros-2.1.1\">Enteros</a></span></li><li><span><a href=\"#Punto-Flotante\" data-toc-modified-id=\"Punto-Flotante-2.1.2\">Punto Flotante</a></span></li></ul></li><li><span><a href=\"#Booleanos\" data-toc-modified-id=\"Booleanos-2.2\">Booleanos</a></span></li><li><span><a href=\"#Caracteres\" data-toc-modified-id=\"Caracteres-2.3\">Caracteres</a></span></li></ul></li><li><span><a href=\"#Conversiones-de-Tipos\" data-toc-modified-id=\"Conversiones-de-Tipos-3\">Conversiones de Tipos</a></span></li><li><span><a href=\"#Operaciones\" data-toc-modified-id=\"Operaciones-4\">Operaciones</a></span><ul class=\"toc-item\"><li><span><a href=\"#Operaciones-Aritméticas\" data-toc-modified-id=\"Operaciones-Aritméticas-4.1\">Operaciones Aritméticas</a></span></li><li><span><a href=\"#Operaciones-Bitwise\" data-toc-modified-id=\"Operaciones-Bitwise-4.2\">Operaciones <em>Bitwise</em></a></span></li><li><span><a href=\"#Operaciones-Lógicas\" data-toc-modified-id=\"Operaciones-Lógicas-4.3\">Operaciones Lógicas</a></span></li><li><span><a href=\"#Operaciones-con-Asignación\" data-toc-modified-id=\"Operaciones-con-Asignación-4.4\">Operaciones con Asignación</a></span></li><li><span><a href=\"#Métodos-de-operadores\" data-toc-modified-id=\"Métodos-de-operadores-4.5\">Métodos de operadores</a></span></li></ul></li><li><span><a href=\"#Cadenas-de-Caracteres-(Strings)\" data-toc-modified-id=\"Cadenas-de-Caracteres-(Strings)-5\">Cadenas de Caracteres (<em>Strings</em>)</a></span><ul class=\"toc-item\"><li><span><a href=\"#Raw-Strings\" data-toc-modified-id=\"Raw-Strings-5.1\"><em>Raw Strings</em></a></span></li><li><span><a href=\"#String-Templates\" data-toc-modified-id=\"String-Templates-5.2\"><em>String Templates</em></a></span></li><li><span><a href=\"#Métodos\" data-toc-modified-id=\"Métodos-5.3\">Métodos</a></span></li></ul></li><li><span><a href=\"#Pair-y-Triple\" data-toc-modified-id=\"Pair-y-Triple-6\">Pair y Triple</a></span></li><li><span><a href=\"#Any-y-Unit\" data-toc-modified-id=\"Any-y-Unit-7\">Any y Unit</a></span></li><li><span><a href=\"#Ejercicios\" data-toc-modified-id=\"Ejercicios-8\">Ejercicios</a></span></li></ul></div>"
   ]
  },
  {
   "cell_type": "markdown",
   "id": "b49a551f",
   "metadata": {},
   "source": [
    "## Tipos, Variables y Constantes"
   ]
  },
  {
   "cell_type": "markdown",
   "id": "46cbac01",
   "metadata": {},
   "source": [
    "Al igual que Java, Kotlin es un en lenguaje de **tipado estático**. Por tanto, todas las variables o constantes declaradas en nuestros programas deberán tener un tipo de dato asociado que determinará tanto la naturaleza del almacenamiento como las operaciones posibles sobre dichos datos.\n",
    "\n",
    "<br>La sintaxis general para la declaración de nuestras variables es la siguiente:\n",
    "\n",
    "```kotlin\n",
    "val|var nombre [: tipo] [= valor]\n",
    "```\n",
    "\n",
    "<br>donde:\n",
    "\n",
    "- **val** se emplea para declarar variables de **sólo lectura**. Es decir, una vez inicializadas, no pueden modificar su valor (equivalente al empleo de _final_ en Java). En general deberíamos optar por emplear este tipo de variables salvo que necesitemos modificar su valor posteriormente.\n",
    "\n",
    "<br>\n",
    "\n",
    "- **var** se emplea para declarar variables que pueden ser reasignadas (pueden cambiar su valor)\n",
    "\n",
    "<br>\n",
    "\n",
    "- **nombre** es el **identificador** de la variable. En general, se aplican las mismas reglas que en Java:\n",
    "  - Debe empezar por una letra o guión bajo (_) seguido por letras o dígitos\n",
    "  - No se permiten espacios en blanco ni caracteres especiales\n",
    "  - Son _case-sensitive_. \n",
    "  - En general, usaremos notación _lowerCamelCase_ para variables y funciones, y _UpperCamelCase_ (ó _PascalCase_) para los nombres de las clases\n",
    "  \n",
    "<br>\n",
    "\n",
    "- en caso de que no inicialicemos la variable con un valor, deberemos indicar el **tipo** de la misma\n",
    "\n",
    "<br>\n",
    "\n",
    "- podemos inicializar la variable con un **valor** en el momento de su declaración. En este caso, no estamos obligados a especificar su tipo ya que Kotlin se encargará de asignar el más adecuado en función de dicho valor. Es lo que se conoce como **inferencia de tipo**\n",
    "\n",
    "<br>Algunos ejemplos:"
   ]
  },
  {
   "cell_type": "code",
   "execution_count": 2,
   "id": "937fa20e",
   "metadata": {},
   "outputs": [
    {
     "name": "stdout",
     "output_type": "stream",
     "text": [
      "a=1, b=2\n"
     ]
    }
   ],
   "source": [
    "val a: Int = 1 // asignación durante la declaración\n",
    "val b = 2      // el tipo 'Int' se establece por inferencia\n",
    "println(\"a=$a, b=$b\") // $a y $b permiten \"insertar\" los valores de las variables a y b en el texto que se va a imprimir"
   ]
  },
  {
   "cell_type": "markdown",
   "id": "b318afea",
   "metadata": {},
   "source": [
    "Cualquier intento de modificar alguna de las variables anteriores derivaría en un error de compilación:"
   ]
  },
  {
   "cell_type": "code",
   "execution_count": null,
   "id": "9a7226fe",
   "metadata": {},
   "outputs": [],
   "source": [
    "a = 3"
   ]
  },
  {
   "cell_type": "markdown",
   "id": "b932ba39",
   "metadata": {},
   "source": [
    "Cuando necesitamos variables cuyo valor puede cambiar durante la ejecución del programa debemos declararlas usando **var**"
   ]
  },
  {
   "cell_type": "code",
   "execution_count": null,
   "id": "131507e7",
   "metadata": {},
   "outputs": [],
   "source": [
    "var x = 5\n",
    "x += 1\n",
    "x // en una celda se imprime automáticamente el valor devuelto por la última expresión ejecutada, en este caso, x (no necesitamos hacer un print)"
   ]
  },
  {
   "cell_type": "markdown",
   "id": "9c870a17",
   "metadata": {},
   "source": [
    "Podemos declarar variables en el nivel superior (fuera de funciones y clases), por lo que serán globales y accesibles desde cualquier punto de nuestro código:"
   ]
  },
  {
   "cell_type": "code",
   "execution_count": null,
   "id": "2e6ef277",
   "metadata": {},
   "outputs": [],
   "source": [
    "val PI: Double = 3.141516\n",
    "var x = 0\n",
    "\n",
    "fun incrementX() {\n",
    "    x += 1\n",
    "}\n",
    "\n",
    "incrementX()\n",
    "x"
   ]
  },
  {
   "cell_type": "markdown",
   "id": "9bc55556",
   "metadata": {},
   "source": [
    "## Tipos Básicos"
   ]
  },
  {
   "cell_type": "markdown",
   "id": "e6704784",
   "metadata": {},
   "source": [
    "En Kotlin, todo son objetos. Así, todas las variables que creemos son de **tipos referenciados** (no existen **tipos primitivos** como en Java). \n",
    "\n",
    "<br>En todo caso, dado que Kotlin emplea representaciones internas equivalentes a las de Java para números, caracteres y booleanos, se aplicarán los rangos de valores correspondientes."
   ]
  },
  {
   "cell_type": "markdown",
   "id": "bd492ef9",
   "metadata": {},
   "source": [
    "### Números"
   ]
  },
  {
   "cell_type": "markdown",
   "id": "bb16930f",
   "metadata": {},
   "source": [
    "#### Enteros"
   ]
  },
  {
   "cell_type": "markdown",
   "id": "b752c179",
   "metadata": {},
   "source": [
    "| Tipo | Tamaño (bits) | Min | Max |\n",
    "| --- | :---: | :---: | :---: |\n",
    "| Byte | 8 | -128 | 127 |\n",
    "| Short | 16 | -32768 | 32767 |\n",
    "| Int | 32 | -2.147.483.648 (-2<sup>31</sup>) | 2.147.483.647 (2<sup>31</sup> - 1) |\n",
    "| Long | 64 | -9.223.372.036.854.775.808 (-2<sup>63</sup>) | 9.223.372.036.854.775.807 (2<sup>63</sup> - 1) |"
   ]
  },
  {
   "cell_type": "markdown",
   "id": "5a24f2f5",
   "metadata": {},
   "source": [
    "<br>Todas las variables inicializadas con enteros que no superen el valor máximo de ```Int``` tendrán el tipo inferido ```Int```. En caso de que el valor del literal sea superior a dicho máximo, se asignará el tipo ```Long```. Para especificar el tipo ```Long``` de forma explícita, se añadirá una **L** como sufijo del valor\n",
    "\n",
    "<br>Los literales enteros en formato **hexadecimal** llevarán el prefijo **0x** y en formato **binario** el prefijo **0b**. Los literales en formato **octal** no están soportados."
   ]
  },
  {
   "cell_type": "code",
   "execution_count": null,
   "id": "67efe7f3",
   "metadata": {},
   "outputs": [],
   "source": [
    "val uno = 1 // Int\n",
    "val tresMilMillones = 3_000_000_000  // Long (en los literales numéricos podemos emplear _ para mejorar la legibilidad)\n",
    "val unoLong = 1L // Long\n",
    "val unoByte: Byte = 1 // Tenemos que indicar el tipo. Por inferencia sería Int\n",
    "val cienHex = 0x64 // Literal hexadecimal\n",
    "val tresBin = 0b11 // Literal binario"
   ]
  },
  {
   "cell_type": "markdown",
   "id": "3184e0dc",
   "metadata": {},
   "source": [
    "<br>Además de los tipos enteros, Kotlin proporciona los siguientes tipos para manejar valores enteros sin signo (positivos)\n",
    "\n",
    "<br>\n",
    "\n",
    "| Tipo | Tamaño (bits) | Min | Max |\n",
    "| --- | :---: | :---: | :---: |\n",
    "| UByte | 8 | 0 | 255 |\n",
    "| UShort | 16 | 0 | 65535 |\n",
    "| Int | 32 | 0 | 4.294.967.295 (2<sup>32</sup> - 1) |\n",
    "| Long | 64 | 0 | 18.446.744.073.709.551.615 (2<sup>64</sup> - 1) |\n",
    "\n",
    "<br>Los literales correspondientes llevarán el sufijo **u** o **U**. Puede combinarse con el sufijo **L**\n"
   ]
  },
  {
   "cell_type": "code",
   "execution_count": null,
   "id": "37878eae",
   "metadata": {},
   "outputs": [],
   "source": [
    "val b: UByte = 1u  // UByte\n",
    "val s: UShort = 1u // UShort\n",
    "val l: ULong = 1u // ULong\n",
    "\n",
    "val a1 = 42u // UInt\n",
    "val a2 = 0xFFFF_FFFF_FFFFu // ULong\n",
    "\n",
    "val a = 1UL // ULong"
   ]
  },
  {
   "cell_type": "markdown",
   "id": "dcd1c95a",
   "metadata": {},
   "source": [
    "#### Punto Flotante"
   ]
  },
  {
   "cell_type": "markdown",
   "id": "9ab6eeaa",
   "metadata": {},
   "source": [
    "Para números en punto flotante, Kotlin proporciona los tipos ```Float``` y ```Double``` que se corresponden con los estándares IEEE754 _single precision_ e IEEE754 _double precision_ para la representación binaria de números reales\n",
    "\n",
    "<br>\n",
    "\n",
    "| Tipo | Tamaño (bits) | Dígitos decimales |\n",
    "| --- | :---: | :---: |\n",
    "| Float | 32 | 6-7 |\n",
    "| Double | 64 | 15-16 |\n",
    "\n",
    "A las variables inicializadas con números con decimales se les asigna por defecto el tipo ```Double```. Para especificar el tipo ```Float``` de forma explícita, se añadirá una **F** o **f** como sufijo del valor"
   ]
  },
  {
   "cell_type": "code",
   "execution_count": null,
   "id": "3405c832",
   "metadata": {},
   "outputs": [],
   "source": [
    "val e = 2.7182818284 // Double\n",
    "val eFloat = 2.7182818284f // Float, valor real es 2.7182817"
   ]
  },
  {
   "cell_type": "markdown",
   "id": "d649351b",
   "metadata": {},
   "source": [
    "### Booleanos"
   ]
  },
  {
   "cell_type": "markdown",
   "id": "574b1567",
   "metadata": {},
   "source": [
    "El tipo **Boolean** representa objetos booleanos que pueden tomar dos valores: **true** y **false**"
   ]
  },
  {
   "cell_type": "code",
   "execution_count": null,
   "id": "f4c05183",
   "metadata": {},
   "outputs": [],
   "source": [
    "val myTrue: Boolean = true\n",
    "val myFalse = false\n",
    "\n",
    "println(myTrue || myFalse)\n",
    "println(myTrue && myFalse)\n",
    "println(!myFalse)"
   ]
  },
  {
   "cell_type": "markdown",
   "id": "27c9010e",
   "metadata": {},
   "source": [
    "### Caracteres"
   ]
  },
  {
   "cell_type": "markdown",
   "id": "a4cb948e",
   "metadata": {},
   "source": [
    "Los caracteres se representan con el tipo **Char**. Los literales deben ir encerrados entre comilla simple **'**\n",
    "\n",
    "<br>Se soportan las siguientes **secuencias de escape**: ```\\t, \\b, \\n, \\r, \\', \\\", \\\\ y \\$```.\n",
    "\n",
    "<br>Se emplea UNICODE para la representación interna del carácter. Podemos almacenar cualquier caracter usando la sintaxis: '\\uXXXX', donde XXXX será la codificación UNICODE en hexadecimal del mismo."
   ]
  },
  {
   "cell_type": "code",
   "execution_count": null,
   "id": "f824484e",
   "metadata": {},
   "outputs": [],
   "source": [
    "val aChar: Char = 'a'\n",
    "\n",
    "println(aChar)\n",
    "println('\\n')     // salto de línea\n",
    "println('\\u03C0') // letra pi (π)"
   ]
  },
  {
   "cell_type": "markdown",
   "id": "ee7146a2",
   "metadata": {},
   "source": [
    "En Kotlin disponemos de numerosas funciones (https://kotlinlang.org/api/latest/jvm/stdlib/kotlin.text/#functions) que nos permiten analizar el carácter almacenado en una variable (si es un dígito, si está en mayúsculas o minúsculas, si es un espacio en blanco...)"
   ]
  },
  {
   "cell_type": "code",
   "execution_count": 4,
   "id": "f262bb75",
   "metadata": {},
   "outputs": [
    {
     "name": "stdout",
     "output_type": "stream",
     "text": [
      "true\n",
      "false\n"
     ]
    }
   ],
   "source": [
    "val ch1 = '\\t'\n",
    "println(ch1.isWhitespace())\n",
    "\n",
    "val ch2 = 'A'\n",
    "println(ch2.isLowerCase())"
   ]
  },
  {
   "cell_type": "markdown",
   "id": "41615db8",
   "metadata": {},
   "source": [
    "## Conversiones de Tipos"
   ]
  },
  {
   "cell_type": "markdown",
   "id": "b2fd5d26",
   "metadata": {},
   "source": [
    "En Kotlin, a diferencia de Java y otros lenguajes como C++, no existen conversiones automáticas entre tipos numéricos. Las conversiones deben ser realizadas de forma **explícita**. Para ello, las clases correspondientes nos proporcionan toda una serie de métodos"
   ]
  },
  {
   "cell_type": "code",
   "execution_count": 3,
   "id": "9257028a",
   "metadata": {},
   "outputs": [
    {
     "name": "stdout",
     "output_type": "stream",
     "text": [
      "i = 1\n",
      "i = 3\n",
      "i = 65\n"
     ]
    }
   ],
   "source": [
    "val b: Byte = 1\n",
    "// val i: Int = b // ERROR\n",
    "var i: Int = b.toInt()\n",
    "println(\"Byte a Int --> i = $i\")\n",
    "\n",
    "val f: Float = 3.7f\n",
    "i = f.toInt() // OJO!! Trunca la parte decimal\n",
    "println(\"Float a Int --> i = $i\")\n",
    "\n",
    "i = 'A'.toInt() // Los literales son objetos, por lo que podemos acceder a los métodos de la clase\n",
    "println(\"Char a Int --> i = $i\")"
   ]
  },
  {
   "cell_type": "markdown",
   "id": "c7f0fdcb",
   "metadata": {},
   "source": [
    "Todos los tipos numéricos soportan conversiones a los otros tipos:\n",
    "\n",
    "<br>\n",
    "\n",
    "- ```toByte(): Byte```\n",
    "- ```toShort(): Short```\n",
    "- ```toInt(): Int```\n",
    "- ```toLong(): Long```\n",
    "- ```toFloat(): Float```\n",
    "- ```toDouble(): Double```\n",
    "- ```toChar(): Char```\n"
   ]
  },
  {
   "cell_type": "code",
   "execution_count": 9,
   "id": "c92d8dc2",
   "metadata": {
    "scrolled": true
   },
   "outputs": [
    {
     "name": "stderr",
     "output_type": "stream",
     "text": [
      "Line_830.jupyter-kts (8:3 - 12) Unresolved reference. None of the following candidates is applicable because of receiver type mismatch: \n",
      "public inline fun String?.toBoolean(): Boolean defined in kotlin.text"
     ]
    }
   ],
   "source": [
    "val i = 128 // Int\n",
    "val b: Byte = i.toByte() // Overflow!!\n",
    "val c: Char = 65.toChar()\n",
    "\n",
    "println(\"Int to Byte --> $b\")\n",
    "println(\"Int to Char --> $c\")"
   ]
  },
  {
   "cell_type": "markdown",
   "id": "e982bd28",
   "metadata": {},
   "source": [
    "## Operaciones"
   ]
  },
  {
   "cell_type": "markdown",
   "id": "38328884",
   "metadata": {},
   "source": [
    "### Operaciones Aritméticas"
   ]
  },
  {
   "cell_type": "markdown",
   "id": "81915789",
   "metadata": {},
   "source": [
    "Kotlin soporta el conjunto estándar de operaciones aritméticas: ```+, -, *, /, %```. "
   ]
  },
  {
   "cell_type": "code",
   "execution_count": 16,
   "id": "57c3ee3d",
   "metadata": {},
   "outputs": [
    {
     "name": "stdout",
     "output_type": "stream",
     "text": [
      "3\n",
      "2499999999\n",
      "8.5094\n",
      "3.3333333333333335\n"
     ]
    }
   ],
   "source": [
    "println(1 + 2)\n",
    "println(2_500_000_000L - 1L)\n",
    "println(3.14 * 2.71)\n",
    "println(10.0 / 3)"
   ]
  },
  {
   "cell_type": "markdown",
   "id": "ad00d459",
   "metadata": {},
   "source": [
    "Al igual que en Java, la división de enteros resulta en un número entero, descartándose la parte decimal (truncado)\n",
    "\n",
    "<br>Podemos convertir la operación en una operación en punto flotante convirtiendo a ese tipo uno de los operandos"
   ]
  },
  {
   "cell_type": "code",
   "execution_count": 17,
   "id": "f47fbb90",
   "metadata": {
    "scrolled": true
   },
   "outputs": [
    {
     "name": "stdout",
     "output_type": "stream",
     "text": [
      "3\n",
      "3.3333333333333335\n"
     ]
    }
   ],
   "source": [
    "println(10 / 3)\n",
    "println(10 / 3.toDouble())"
   ]
  },
  {
   "cell_type": "markdown",
   "id": "c1fb7919",
   "metadata": {},
   "source": [
    "### Operaciones _Bitwise_"
   ]
  },
  {
   "cell_type": "markdown",
   "id": "5e5785cb",
   "metadata": {},
   "source": [
    "Kotlin proporciona una serie de operaciones a nivel de bit sobre números enteros\n",
    "\n",
    "<br>\n",
    "\n",
    "| Operación | Descripción |\n",
    "| :---: | --- |\n",
    "| ```shl n``` \\| ```shl(n)``` | Desplazamiento lógico a la izquierda de _n_ bits |\n",
    "| ```shr n``` \\| ```shr(n)``` | Desplazamiento lógico a la derecha de _n_ bits |\n",
    "| ```ushr n``` \\| ```ushr(n)``` | Desplazamiento aritmético (con signo) a la derecha de _n_ bits |\n",
    "| ```and n``` \\| ```and(n)``` | _bitwise_ **and** |\n",
    "| ```or n``` \\| ```or(n)``` | _bitwise_ **or** |\n",
    "| ```xor n``` \\| ```xor(n)``` | _bitwise_ **xor** |\n",
    "| ```inv()``` | complementario |"
   ]
  },
  {
   "cell_type": "code",
   "execution_count": 42,
   "id": "b290eeb5",
   "metadata": {},
   "outputs": [
    {
     "name": "stdout",
     "output_type": "stream",
     "text": [
      "2\n",
      "10\n",
      "0\n",
      "12\n"
     ]
    }
   ],
   "source": [
    "println(5 shr 1)\n",
    "println(5.shl(1))\n",
    "println(5.xor(5))\n",
    "println((3 shl 2) and 0xFD)"
   ]
  },
  {
   "cell_type": "markdown",
   "id": "dc83947e",
   "metadata": {},
   "source": [
    "### Operaciones Lógicas"
   ]
  },
  {
   "cell_type": "markdown",
   "id": "c6f12737",
   "metadata": {},
   "source": [
    "Disponemos de los siguientes operadores para la creación de expresiones lógicas. El resultado de las mismas será de tipo **Boolean**\n",
    "\n",
    "<br>\n",
    "\n",
    "| Operación | Descripción |\n",
    "| :---: | --- |\n",
    "| \\|\\| | OR lógico |\n",
    "| && | AND lógico |\n",
    "| ! | NOT lógico |\n",
    "| == | Igualdad |\n",
    "| != | Desigualdad |"
   ]
  },
  {
   "cell_type": "code",
   "execution_count": 46,
   "id": "687f2669",
   "metadata": {},
   "outputs": [
    {
     "name": "stdout",
     "output_type": "stream",
     "text": [
      "true\n",
      "false\n",
      "true\n",
      "true\n",
      "true\n"
     ]
    }
   ],
   "source": [
    "val myTrue = true\n",
    "val myFalse = false\n",
    "\n",
    "println(myTrue || myFalse)\n",
    "println(!myTrue || myFalse)\n",
    "println(!false && myTrue)\n",
    "println(myFalse == false)\n",
    "println(myFalse != myTrue)"
   ]
  },
  {
   "cell_type": "markdown",
   "id": "64d00452",
   "metadata": {},
   "source": [
    "### Operaciones con Asignación"
   ]
  },
  {
   "cell_type": "markdown",
   "id": "a0af25d8",
   "metadata": {},
   "source": [
    "Al igual que en Java, disponemos de los operadores con asignación: ```+=, -=. *=, /=, %=``` y los prefijos/postfijos de incremento (++) y decremento (--)"
   ]
  },
  {
   "cell_type": "code",
   "execution_count": 48,
   "id": "5b992dba",
   "metadata": {
    "scrolled": true
   },
   "outputs": [
    {
     "data": {
      "text/plain": [
       "6"
      ]
     },
     "execution_count": 48,
     "metadata": {},
     "output_type": "execute_result"
    }
   ],
   "source": [
    "var a = 1\n",
    "a++    // a = a + 1 = 2\n",
    "a *= 3 // a = a * 3 = 6\n",
    "a"
   ]
  },
  {
   "cell_type": "markdown",
   "id": "9d32d9f8",
   "metadata": {},
   "source": [
    "### Métodos de operadores"
   ]
  },
  {
   "cell_type": "markdown",
   "id": "3e7f55f8",
   "metadata": {},
   "source": [
    "El conjunto predefinido de operadores, tiene aparejado un conjunto de métodos para realizar operaciones equivalentes. Por ejemplo:"
   ]
  },
  {
   "cell_type": "code",
   "execution_count": 4,
   "id": "c837ee69",
   "metadata": {},
   "outputs": [
    {
     "data": {
      "text/plain": [
       "12"
      ]
     },
     "execution_count": 4,
     "metadata": {},
     "output_type": "execute_result"
    }
   ],
   "source": [
    "val a = 5\n",
    "val b = 7\n",
    "val c = a.plus(b) // c = a + b\n",
    "c"
   ]
  },
  {
   "cell_type": "markdown",
   "id": "39999571",
   "metadata": {},
   "source": [
    "Puedes consultar una lista y uso de dichos métodos en la documentación oficial: https://kotlinlang.org/docs/operator-overloading.html"
   ]
  },
  {
   "cell_type": "markdown",
   "id": "67921bcb",
   "metadata": {},
   "source": [
    "## Cadenas de Caracteres (_Strings_)"
   ]
  },
  {
   "cell_type": "markdown",
   "id": "cefc8744",
   "metadata": {},
   "source": [
    "Kotlin proporciona el tipo ```String``` para la representación de cadenas de caracteres. Los literales de tipo ```String``` deben ir encerrados entre comilla doble (**\"**)"
   ]
  },
  {
   "cell_type": "code",
   "execution_count": 5,
   "id": "5e552668",
   "metadata": {},
   "outputs": [],
   "source": [
    "val s = \"hello Kotlin\""
   ]
  },
  {
   "cell_type": "markdown",
   "id": "4ef7e99f",
   "metadata": {},
   "source": [
    "Podemos acceder a los caracteres individuales de un ```String``` utilizando indexación:"
   ]
  },
  {
   "cell_type": "code",
   "execution_count": 7,
   "id": "20ea7171",
   "metadata": {},
   "outputs": [
    {
     "name": "stdout",
     "output_type": "stream",
     "text": [
      "h\n",
      "e\n",
      "n\n"
     ]
    }
   ],
   "source": [
    "val s = \"hello Kotlin\"\n",
    "println(s[0])\n",
    "println(s[1])\n",
    "println(s[s.length - 1])"
   ]
  },
  {
   "cell_type": "markdown",
   "id": "b74e9bbe",
   "metadata": {},
   "source": [
    "De forma equivalente a lo que sucede en Java, los objetos de tipo ```String``` son **inmutables**. Es decir, una vez creados no podemos modficar su contenido (alterar sus caracteres). Cualquier operación sobre el ```String``` que altere su contenido generará un nuevo objeto"
   ]
  },
  {
   "cell_type": "code",
   "execution_count": 8,
   "id": "4022711b",
   "metadata": {
    "scrolled": true
   },
   "outputs": [
    {
     "name": "stdout",
     "output_type": "stream",
     "text": [
      "ABCD\n",
      "abcd\n"
     ]
    }
   ],
   "source": [
    "val s = \"abcd\"\n",
    "println(s.uppercase()) // crea un nuevo String\n",
    "println(s) // el String original no se transforma"
   ]
  },
  {
   "cell_type": "markdown",
   "id": "1e209f3e",
   "metadata": {},
   "source": [
    "Para concatenar cadenas de caracteres se emplea el operador **+**. Podemos concatenar _Strings_ con otros tipos de datos (se convierten automáticamente en _String_) con la condición de que el primero de los elementos sea un _String_"
   ]
  },
  {
   "cell_type": "code",
   "execution_count": 3,
   "id": "53f15298",
   "metadata": {},
   "outputs": [
    {
     "data": {
      "text/plain": [
       "abc53"
      ]
     },
     "execution_count": 3,
     "metadata": {},
     "output_type": "execute_result"
    }
   ],
   "source": [
    "val s = \"abc\" + 53\n",
    "s"
   ]
  },
  {
   "cell_type": "markdown",
   "id": "84aff129",
   "metadata": {},
   "source": [
    "### _Raw Strings_"
   ]
  },
  {
   "cell_type": "markdown",
   "id": "9b683e92",
   "metadata": {},
   "source": [
    "Una **_raw string_** es una cadena de caracteres que mantiene el formato introducido, pudiendo incluir espacios y otros caracteres, sin necesidad de emplear el escapado.\n",
    "\n",
    "<br>Este tipo de literales deben encerrarse entre **comilla triple** (**\"\"\"**)"
   ]
  },
  {
   "cell_type": "code",
   "execution_count": 12,
   "id": "b0caa1c7",
   "metadata": {},
   "outputs": [
    {
     "data": {
      "text/plain": [
       "\n",
       "    En un lugar de \"la Mancha\",\n",
       "        de cuyo nombre no quiero acordarme, \n",
       "            no ha mucho tiempo que vivía un hidalgo \n",
       "                de los de lanza en astillero...\n",
       "    (Miguel de Cervantes Saavedra)\n"
      ]
     },
     "execution_count": 12,
     "metadata": {},
     "output_type": "execute_result"
    }
   ],
   "source": [
    "val texto = \"\"\"\n",
    "    En un lugar de \"la Mancha\",\n",
    "        de cuyo nombre no quiero acordarme, \n",
    "            no ha mucho tiempo que vivía un hidalgo \n",
    "                de los de lanza en astillero...\n",
    "    (Miguel de Cervantes Saavedra)\n",
    "\"\"\"\n",
    "texto"
   ]
  },
  {
   "cell_type": "markdown",
   "id": "a1ebe05b",
   "metadata": {},
   "source": [
    "Para eliminar los espacios al principio de las líneas, permitiéndonos formatear el literal libremente, podemos emplear el carácter **|** junto con el método ```trimMargin()```"
   ]
  },
  {
   "cell_type": "code",
   "execution_count": 24,
   "id": "a00c513c",
   "metadata": {},
   "outputs": [
    {
     "name": "stdout",
     "output_type": "stream",
     "text": [
      "\n",
      "    |  En un lugar de \"la Mancha\",\n",
      "    |de cuyo nombre no quiero acordarme, \n",
      "    |no ha mucho tiempo que vivía un hidalgo \n",
      "    |de los de lanza en astillero...\n",
      "    |  (Miguel de Cervantes Saavedra)\n",
      "\n",
      "  En un lugar de \"la Mancha\",\n",
      "de cuyo nombre no quiero acordarme, \n",
      "no ha mucho tiempo que vivía un hidalgo \n",
      "de los de lanza en astillero...\n",
      "  (Miguel de Cervantes Saavedra)\n"
     ]
    }
   ],
   "source": [
    "val texto = \"\"\"\n",
    "    |  En un lugar de \"la Mancha\",\n",
    "    |de cuyo nombre no quiero acordarme, \n",
    "    |no ha mucho tiempo que vivía un hidalgo \n",
    "    |de los de lanza en astillero...\n",
    "    |  (Miguel de Cervantes Saavedra)\n",
    "\"\"\"\n",
    "println(texto)\n",
    "println(texto.trimMargin())"
   ]
  },
  {
   "cell_type": "markdown",
   "id": "0da2c76c",
   "metadata": {},
   "source": [
    "### _String Templates_"
   ]
  },
  {
   "cell_type": "markdown",
   "id": "2271c292",
   "metadata": {},
   "source": [
    "Los literales de texto pueden funcionar como plantillas, conteniendo elementos (_placeholders_) que sean expresiones y sean evaluadas y sustituidas por su resultado en el literal. Estas expresiones se identifican mediante el signo dólar (**$**). Pueden ser únicamente el nombre de una variable o una expresión más compleja, en cuyo caso se encierran entre llaves (**{}**)"
   ]
  },
  {
   "cell_type": "code",
   "execution_count": 16,
   "id": "9c167681",
   "metadata": {
    "scrolled": true
   },
   "outputs": [
    {
     "name": "stdout",
     "output_type": "stream",
     "text": [
      "i = 10\n",
      "Hola, mi nombre es Joe y tiene 4 caracteres\n"
     ]
    }
   ],
   "source": [
    "val i = 10\n",
    "val name = \"Joe\"\n",
    "println(\"i = $i\")\n",
    "println(\"Hola, mi nombre es $name y tiene ${s.length} caracteres\")"
   ]
  },
  {
   "cell_type": "markdown",
   "id": "cf79641e",
   "metadata": {},
   "source": [
    "### Métodos"
   ]
  },
  {
   "cell_type": "markdown",
   "id": "c1b7ad14",
   "metadata": {},
   "source": [
    "Puedes consultar una lista y uso de los métodos de la clase ```String``` en la documentación oficial: https://kotlinlang.org/api/latest/jvm/stdlib/kotlin/-string/"
   ]
  },
  {
   "cell_type": "markdown",
   "id": "672977d7",
   "metadata": {},
   "source": [
    "## Pair y Triple"
   ]
  },
  {
   "cell_type": "markdown",
   "id": "c9f59d3f",
   "metadata": {},
   "source": [
    "Es tan común el necesitar representar parejas o tríos de valores (coordenadas 2D/3D, entradas de un mapa/diccionario, devolución de múltiples valores por parte de un método o función,...) que Kotlin nos proporciona los tipos ```Pair``` y ```Triple```. \n",
    "\n",
    "<br>Ambas son clases genéricas por lo que tendremos que especificar los tipos de cada uno de los elementos de la pareja/trío (Kotlin también los puede inferir)\n",
    "\n",
    "<br>Podemos acceder a sus valores mediante las propiedades ```first```, ```second```, ```third```"
   ]
  },
  {
   "cell_type": "code",
   "execution_count": 31,
   "id": "afcf5d52",
   "metadata": {
    "scrolled": true
   },
   "outputs": [
    {
     "name": "stdout",
     "output_type": "stream",
     "text": [
      "coord2D = (2, 3)\n",
      "coord3d.x = 1.0, coord3d.y = 2.0, coord3d.z = 3.0\n",
      "1 -> one\n"
     ]
    }
   ],
   "source": [
    "val coord2D: Pair<Int, Int> = Pair(2,3)\n",
    "val coord3D = Triple(1f, 2f, 3f) // Tipo <Float, Float, Float> por inferencia\n",
    "var mapEntry = Pair(1, \"one\") // Tipo <Int, String> por inferencia\n",
    "\n",
    "println(\"coord2D = $coord2D\")\n",
    "println(\"coord3d.x = ${coord3D.first}, coord3d.y = ${coord3D.second}, coord3d.z = ${coord3D.third}\")\n",
    "println(\"${mapEntry.first} -> ${mapEntry.second}\")"
   ]
  },
  {
   "cell_type": "markdown",
   "id": "9b0001da",
   "metadata": {},
   "source": [
    "Podemos crear también objetos de tipo ```Pair``` empleando el operador **```to```**"
   ]
  },
  {
   "cell_type": "code",
   "execution_count": 33,
   "id": "d971d523",
   "metadata": {},
   "outputs": [
    {
     "data": {
      "text/plain": [
       "(2, 3)"
      ]
     },
     "execution_count": 33,
     "metadata": {},
     "output_type": "execute_result"
    }
   ],
   "source": [
    "val pareja = 2 to 3\n",
    "pareja"
   ]
  },
  {
   "cell_type": "markdown",
   "id": "823b3778",
   "metadata": {},
   "source": [
    "Kotlin también nos proporciona una sintaxis simplificada para \"desestructurar\" estos objetos compuestos en variables individuales"
   ]
  },
  {
   "cell_type": "code",
   "execution_count": 34,
   "id": "fe2244b8",
   "metadata": {},
   "outputs": [
    {
     "name": "stdout",
     "output_type": "stream",
     "text": [
      "x = 1.0, y = 2.0, z = 3.0\n"
     ]
    }
   ],
   "source": [
    "val (x,y,z) = coord3D\n",
    "println(\"x = $x, y = $y, z = $z\")"
   ]
  },
  {
   "cell_type": "markdown",
   "id": "c0890930",
   "metadata": {},
   "source": [
    "## Any y Unit"
   ]
  },
  {
   "cell_type": "markdown",
   "id": "0ffa8485",
   "metadata": {},
   "source": [
    "El tipo ```Any``` se asemeja a la clase ```Object``` de Java en el sentido de que es superclase de cualquier otra clase en Kotlin, proporcionándole un conjunto común de métodos a todas ellas: https://kotlinlang.org/api/latest/jvm/stdlib/kotlin/-any/\n",
    "\n",
    "<br>Así, cualquier tipo de datos se considera también de tipo ```Any```"
   ]
  },
  {
   "cell_type": "code",
   "execution_count": 35,
   "id": "4bb2ab17",
   "metadata": {},
   "outputs": [],
   "source": [
    "val anyNum: Any = 52\n",
    "val anyStr: Any = \"52\""
   ]
  },
  {
   "cell_type": "markdown",
   "id": "5dd66eda",
   "metadata": {},
   "source": [
    "El tipo ```Unit``` es similar al tipo ```void``` de Java. Se emplea en genéricos y como valor de retorno de aquellas funciones que no especifiquen un tipo de retorno"
   ]
  },
  {
   "cell_type": "code",
   "execution_count": 38,
   "id": "607a5dfe",
   "metadata": {
    "scrolled": true
   },
   "outputs": [
    {
     "name": "stdout",
     "output_type": "stream",
     "text": [
      "2 + 3 = 5\n",
      "ret = kotlin.Unit\n"
     ]
    }
   ],
   "source": [
    "fun sumaSinRetorno(a: Int, b: Int) {\n",
    "    println(\"$a + $b = ${a + b}\") // Imprime la suma\n",
    "}\n",
    "println(\"ret = ${sumaSinRetorno(2, 3)}\") // Imprime el valor devuelto por la función"
   ]
  },
  {
   "cell_type": "markdown",
   "id": "859858c3",
   "metadata": {},
   "source": [
    "## Ejercicios"
   ]
  },
  {
   "cell_type": "markdown",
   "id": "d7939602",
   "metadata": {},
   "source": [
    "  1. Declara dos variables ```a``` y ```b``` de tipo ```Double``` y asígnales un valor. Calcula la media y almecena el valor en una constante denominada ```media```"
   ]
  },
  {
   "cell_type": "code",
   "execution_count": null,
   "id": "aaeef3cd",
   "metadata": {},
   "outputs": [],
   "source": []
  },
  {
   "cell_type": "markdown",
   "id": "ad2e9af6",
   "metadata": {},
   "source": [
    "2. Una temperatura expresada en ºC puede ser convertida a ªF multiplicando por 1.8 y sumando 32. En este caso, vamos a hacer el contrario: convertir una temperatura de ªF a ªC. Declara una constante denominada ```fahrenheit``` de tipo ```Double``` y asígnale un valor. Calcula la temperatura correspondiente en ªC y almacena el resultado en una constante denominada ```celsius```"
   ]
  },
  {
   "cell_type": "code",
   "execution_count": null,
   "id": "b5ff49b4",
   "metadata": {},
   "outputs": [],
   "source": []
  },
  {
   "cell_type": "markdown",
   "id": "5fb5b663",
   "metadata": {},
   "source": [
    "3. Imagina que las casillas de un tablero de ajedrez se numeran de izquierda a derecha, de arriba a abajo, siendo 0 la casilla de arriba-izquierda y 63 la casilla de abajo-derecha. Las filas se numeran de 0 a 7 de arriba a abajo y, las columnas, de 0 a 7 de izquierda a derecha.\n",
    "Declara una constante denominada ```posicion``` y asígnale un valor entre 0 y 63. Calcula los números correspondientes a la fila y la columna y almacena los resultados en dos constantes denominadas ```fila``` y ```columna```"
   ]
  },
  {
   "cell_type": "code",
   "execution_count": null,
   "id": "a410206b",
   "metadata": {},
   "outputs": [],
   "source": []
  },
  {
   "cell_type": "markdown",
   "id": "c79e30be",
   "metadata": {},
   "source": [
    "4. Un círculo tiene 2π radianes, correspondiendo con 360º. Declara una constante denominada ```grados``` de tipo ```Double``` y asígnale un valor. Cálcula el valor correspondiente en radianes y almacénalo en una constante denominada ```radianes```"
   ]
  },
  {
   "cell_type": "code",
   "execution_count": null,
   "id": "b69e02ca",
   "metadata": {},
   "outputs": [],
   "source": []
  },
  {
   "cell_type": "markdown",
   "id": "af2a250c",
   "metadata": {},
   "source": [
    "5. Crea una constante denominada ```nombre``` e inicialízala con tu nombre. Crea una constante denominada ```apellidos``` e inicialízala con tus apellidos. Crea una constante denominada ```nombreCompleto``` cuyo valor sea la concatenación de las dos anteriores separadas por un espacio.\n",
    "Usando ```templates```, crea una constante denominada ```misDatos``` que emplee la constante anterior ```nombreCompleto``` para producir un texto con tu nombre similar al siguiente: ```\"Hola, mi nombre es John Doe\"```"
   ]
  },
  {
   "cell_type": "markdown",
   "id": "db9cd8a6",
   "metadata": {},
   "source": [
    "6. ¿Qué es incorrecto del siguiente código? Corrígelo."
   ]
  },
  {
   "cell_type": "code",
   "execution_count": null,
   "id": "fff444e9",
   "metadata": {},
   "outputs": [],
   "source": [
    "val name = \"Joe\"\n",
    "name += \" Doe\""
   ]
  },
  {
   "cell_type": "markdown",
   "id": "f48e647a",
   "metadata": {},
   "source": [
    "7. Declara una constante de tipo ```Triple``` que contenga tres enteros: día, mes y año. Inicialízala a la fecha de tu cumpleaños.\n",
    "Extrae los valores de la fecha en tres constantes denominadas ```day```, ```month``` y ```year```\n",
    "Usa ```string templates``` para componer el texto: ```\"Mi cumpleaños es el X del X de X\"``` donde sustituyas las X por los valores correspondientes."
   ]
  },
  {
   "cell_type": "code",
   "execution_count": null,
   "id": "921f60a4",
   "metadata": {},
   "outputs": [],
   "source": []
  }
 ],
 "metadata": {
  "kernelspec": {
   "display_name": "Kotlin",
   "language": "kotlin",
   "name": "kotlin"
  },
  "language_info": {
   "codemirror_mode": "text/x-kotlin",
   "file_extension": ".kt",
   "mimetype": "text/x-kotlin",
   "name": "kotlin",
   "nbconvert_exporter": "",
   "pygments_lexer": "kotlin",
   "version": "1.7.0-dev-1825"
  },
  "toc": {
   "base_numbering": 1,
   "nav_menu": {},
   "number_sections": false,
   "sideBar": true,
   "skip_h1_title": false,
   "title_cell": "Table of Contents",
   "title_sidebar": "Contents",
   "toc_cell": true,
   "toc_position": {},
   "toc_section_display": true,
   "toc_window_display": false
  }
 },
 "nbformat": 4,
 "nbformat_minor": 5
}
