{
 "cells": [
  {
   "cell_type": "markdown",
   "id": "969a2a20",
   "metadata": {
    "toc": true
   },
   "source": [
    "<h1>Table of Contents<span class=\"tocSkip\"></span></h1>\n",
    "<div class=\"toc\"><ul class=\"toc-item\"><li><span><a href=\"#K06.-Tratamiento-de-Nulos\" data-toc-modified-id=\"K06.-Tratamiento-de-Nulos-1\">K06. Tratamiento de Nulos</a></span><ul class=\"toc-item\"><li><span><a href=\"#El-valor-null\" data-toc-modified-id=\"El-valor-null-1.1\">El valor null</a></span></li><li><span><a href=\"#Los-tipos-anulables-(nullable-types)\" data-toc-modified-id=\"Los-tipos-anulables-(nullable-types)-1.2\">Los tipos anulables (<em>nullable types</em>)</a></span></li><li><span><a href=\"#El-operador-!!\" data-toc-modified-id=\"El-operador-!!-1.3\">El operador !!</a></span></li><li><span><a href=\"#Smart-casts\" data-toc-modified-id=\"Smart-casts-1.4\">Smart casts</a></span></li><li><span><a href=\"#Invocaciones-seguras-(safe-calls)-con-el-operador-.?\" data-toc-modified-id=\"Invocaciones-seguras-(safe-calls)-con-el-operador-.?-1.5\">Invocaciones seguras (<em>safe calls</em>) con el operador .?</a></span></li><li><span><a href=\"#La-función-let\" data-toc-modified-id=\"La-función-let-1.6\">La función <em>let</em></a></span></li><li><span><a href=\"#Operador-Elvis-?:\" data-toc-modified-id=\"Operador-Elvis-?:-1.7\">Operador Elvis ?:</a></span></li><li><span><a href=\"#Ejercicios\" data-toc-modified-id=\"Ejercicios-1.8\">Ejercicios</a></span><ul class=\"toc-item\"><li><span><a href=\"#Soluciones\" data-toc-modified-id=\"Soluciones-1.8.1\">Soluciones</a></span></li></ul></li></ul></li></ul></div>"
   ]
  },
  {
   "cell_type": "markdown",
   "id": "daea5b3e",
   "metadata": {},
   "source": [
    "# K06. Tratamiento de Nulos\n",
    "---"
   ]
  },
  {
   "cell_type": "markdown",
   "id": "f115a284",
   "metadata": {},
   "source": [
    "## El valor null\n",
    "---"
   ]
  },
  {
   "cell_type": "markdown",
   "id": "ddb83370",
   "metadata": {},
   "source": [
    "Hasta ahora, todas las variables y constantes que hemos venido usando tenían un valor concreto. Sin embargo, en ocasiones, es necesario representar la ausencia de un valor.\n",
    "\n",
    "<br>Para ello podemos emplear un valor especial. Es lo que se conoce como **valores centinela**, es decir, valores empleados para representar la ausencia de un valor en una variable. Por ejemplo, una cadena vacía para un tipo ```String``` o un 0 para valores numéricos. Sin embargo, esto tiene el incoveniente de que dicho valor no se puede utilizar como dato y, por otro lado, induce la ambigüedad de saber si un determinado valor es un valor centinela o un valor real.\n",
    "\n",
    "<br>Para los tipos referenciados (como lo son todos en Kotlin), los lenguajes de programación suelen emplear el identificador **```null```** para representar esta ausencia de valor. Mediante su uso es posible indicar que una variable o constante no está inicializada. Esto tiene la ventaja de no emplear valores centinela pero tiene un gran problema, la necesidad de estar constantemente chequeando si la variable en cuestión tiene asignado un valor antes de tratar de acceder a alguno de los atributos o métodos del supuesto objeto referenciado (por ejemplo, los continuos ```if (var != null)``` de Java). De lo contrario, se producirán estrepitosos errores en tiempo de ejecución. Y esto es lo más grave, que no son detectables en tiempo de compilación.\n",
    "\n",
    "<br>Kotlin resuelve el problema introduciendo un nuevo conjunto de tipos, los **nullable types** o **tipos anulables**. Empleando un tipo **no-nulo** (como todos los vistos hasta ahora) nos aseguramos que cualquier variable tendrá siempre un valor. Por otro lado, empleando los tipos anulables, podremos tener variables no asignadas (=null) pero deberemos manejar dicha situación."
   ]
  },
  {
   "cell_type": "markdown",
   "id": "192f23c9",
   "metadata": {},
   "source": [
    "## Los tipos anulables (_nullable types_)\n",
    "---"
   ]
  },
  {
   "cell_type": "markdown",
   "id": "8b8b9416",
   "metadata": {},
   "source": [
    "Los tipos anulables se emplean para crear variables que pueden contener un valor o ```null```. \n",
    "\n",
    "<br>Para declarar una variable de un tipo anulable no tenemos más que añadir una **?** al nombre del tipo. De esta manera, podemos crear un tipo anulable a partir de cualquier tipo (propio o no)"
   ]
  },
  {
   "cell_type": "code",
   "execution_count": null,
   "id": "523ce91f",
   "metadata": {},
   "outputs": [],
   "source": [
    "var value: Int? = null\n",
    "println(value)\n",
    "\n",
    "value = 200\n",
    "println(value)"
   ]
  },
  {
   "cell_type": "markdown",
   "id": "65909d0e",
   "metadata": {},
   "source": [
    "Puedes ver estos tipos anulables como una especie de \"caja\" que, o bien contiene un valor, o bien está vacía. De hecho, no pueden operarse directamente con los valores de un tipo no-nulo (como veremos después, tendremos que sacar antes el valor almacenado en la \"caja\")"
   ]
  },
  {
   "cell_type": "code",
   "execution_count": null,
   "id": "519661d9",
   "metadata": {},
   "outputs": [],
   "source": [
    "val valNoNulo = 10 // los tipos por inferencia son siempre no-nulos\n",
    "val valNulo: Int? = 5\n",
    "\n",
    "// la siguiente expresión producirá un error al ejecutarse\n",
    "valNoNulo + valNulo"
   ]
  },
  {
   "cell_type": "markdown",
   "id": "a380dc93",
   "metadata": {},
   "source": [
    "## El operador !!\n",
    "---"
   ]
  },
  {
   "cell_type": "markdown",
   "id": "d2d72e1e",
   "metadata": {},
   "source": [
    "Para extraer el valor contenido en el tipo anulable (la \"caja\") podemos emplear el operador **!!**, ó **not-null assertion operator**"
   ]
  },
  {
   "cell_type": "code",
   "execution_count": null,
   "id": "b30b9c25",
   "metadata": {},
   "outputs": [],
   "source": [
    "val valNoNulo = 10\n",
    "val valNulo: Int? = 5\n",
    "\n",
    "valNoNulo + valNulo!!"
   ]
  },
  {
   "cell_type": "markdown",
   "id": "33746aee",
   "metadata": {},
   "source": [
    "Debemos tener en cuenta que el operador **!!** extrae el valor almacenado, **sin hacer ningún tipo de chequeo**. En caso de que no contenga un valor (null) se producirá un error del tipo **_NullPointerException_** durante la ejecución del programa"
   ]
  },
  {
   "cell_type": "code",
   "execution_count": null,
   "id": "14b0b0fb",
   "metadata": {},
   "outputs": [],
   "source": [
    "val valNoNulo = 10\n",
    "val valNulo: Int? = null\n",
    "\n",
    "valNoNulo + valNulo!!"
   ]
  },
  {
   "cell_type": "markdown",
   "id": "8a75cd5b",
   "metadata": {},
   "source": [
    "Para evitar estas situaciones indeseables, Kotlin nos proporciona diversos mecanismos como veremos a continuación"
   ]
  },
  {
   "cell_type": "markdown",
   "id": "b48794ce",
   "metadata": {},
   "source": [
    "## Smart casts\n",
    "---"
   ]
  },
  {
   "cell_type": "markdown",
   "id": "f5a1924b",
   "metadata": {},
   "source": [
    "Antes de hacer uso del valor contenido en una variable de tipo anulable, podemos chequear si contiene o no un valor. Para el caso en que contine un valor, Kotlin automáticamente hará un **cast** del tipo anulable al tipo equivalente no-nulo (smart cast), con lo que podremos acceder directamente al valor contenido evitando la necesidad de emplear el operador !!"
   ]
  },
  {
   "cell_type": "code",
   "execution_count": null,
   "id": "c263311f",
   "metadata": {},
   "outputs": [],
   "source": [
    "val valNoNulo = 10\n",
    "val valNulo: Int? = 5\n",
    "\n",
    "if (valNulo != null)\n",
    "    println(valNoNulo + valNulo)\n",
    "else\n",
    "    println(\"No se pueden sumar porque valNulo es null\")"
   ]
  },
  {
   "cell_type": "markdown",
   "id": "04a74991",
   "metadata": {},
   "source": [
    "## Invocaciones seguras (_safe calls_) con el operador .?\n",
    "---"
   ]
  },
  {
   "cell_type": "markdown",
   "id": "1c7c1d7c",
   "metadata": {},
   "source": [
    "En ocasiones, el uso de chequeos de las variables como el caso anterior (_smart casts_) puede hacerse realmente tedioso. Por ejemplo, supongamos que simplemente deseamos obtener la longitud de una cadena referenciada por una variable de tipo anulable. En principio, antes de acceder a dicha propiedad de la cadena de texto, deberíamos comprobar que dicha variable contiene una referencia y no un ```null```, o podría producirse un error (esto es lo que habitualmente hacemos en Java). De hecho, Kotlin no nos dejará invocar dicho método o acceder al atributo solicitado, generando un error de compilación."
   ]
  },
  {
   "cell_type": "code",
   "execution_count": null,
   "id": "49f4cd65",
   "metadata": {},
   "outputs": [],
   "source": [
    "val val1: String? = \"Soy un String de tipo nulo\"\n",
    "\n",
    "// El siguiente código generará un error de compilación al intentar acceder a un atributo del objeto de forma no segura\n",
    "println(val1.length)"
   ]
  },
  {
   "cell_type": "markdown",
   "id": "35844962",
   "metadata": {},
   "source": [
    "Kotlin nos proporciona el operador **.?**, ó **_safe call operator_** para simplificar estas situaciones. Este operador nos permitirá acceder de forma segura al método del objeto referenciado ya que, en caso de que la variable no esté asignada, nos devolverá ```null``` en lugar de producir el correspondiente error de ejecución"
   ]
  },
  {
   "cell_type": "code",
   "execution_count": null,
   "id": "ce2b5dbc",
   "metadata": {},
   "outputs": [],
   "source": [
    "var val1: String? = \"Tengo un valor\"\n",
    "var val2: String? = null\n",
    "\n",
    "// el safe call operator extrae el valor (referencia) almacenada o un \"null\"\n",
    "println(val1?.length)\n",
    "println(val2?.length)"
   ]
  },
  {
   "cell_type": "markdown",
   "id": "97fd5590",
   "metadata": {},
   "source": [
    "Las invocaciones utilizando el operador **?.** pueden ser encadenadas. En el momento que una de las llamadas devuelva ```null```, se detiene la evaluación de la expresión y se devuelve ```null``` como resultado.\n",
    "\n",
    "<br>Dado que el resultado de una _safe call_ puede ser ```null```, estas expresiones devuleven tipos anulables"
   ]
  },
  {
   "cell_type": "code",
   "execution_count": null,
   "id": "2129a085",
   "metadata": {},
   "outputs": [],
   "source": [
    "// safe calls encadenados\n",
    "println(val1?.length?.toString())\n",
    "println(val2?.length?.toString())"
   ]
  },
  {
   "cell_type": "markdown",
   "id": "369dd1b2",
   "metadata": {},
   "source": [
    "## La función _let_\n",
    "---"
   ]
  },
  {
   "cell_type": "markdown",
   "id": "d1039bb1",
   "metadata": {},
   "source": [
    "El operador .? proporcina otra manera de usar _smart casts_ para trabajar con el valor no-nulo dentro de un tipo anulable a través de la función **```let()```** de la librería estándar.\n",
    "\n",
    "<br>Dentro de la función ```let```, la variable se volverá no-nula, de forma que podremos acceder a ella sin necesidad de utilizar los operadores .? ó !! con total seguridad"
   ]
  },
  {
   "cell_type": "code",
   "execution_count": null,
   "id": "f7361283",
   "metadata": {
    "scrolled": true
   },
   "outputs": [],
   "source": [
    "val valTipoNulo: Int? = null\n",
    "var valTipoNoNulo: Int = 0\n",
    "\n",
    "valTipoNulo?.let {\n",
    "    valTipoNoNulo = valTipoNulo + 5\n",
    "}\n",
    "\n",
    "valTipoNoNulo"
   ]
  },
  {
   "cell_type": "markdown",
   "id": "8d422750",
   "metadata": {},
   "source": [
    "## Operador Elvis ?:\n",
    "---"
   ]
  },
  {
   "cell_type": "markdown",
   "id": "e967452d",
   "metadata": {},
   "source": [
    "Otra forma de obtener el valor almacenado en un tipo anulable es mediante el operador **?:** u **operador Elvis**. Este operador devuelve, o bien el valor almacenado en caso de que exista, o un **valor por defecto** que suministraremos, en caso de que no. Por tanto, este operador siempre nos devolverá algún valor.\n",
    "\n",
    "<br>La sintaxis es: ```<expresión_de_tipo_nulo> ?: <valor_por_defecto_si_null>```\n",
    "\n",
    "<br>Por ejemplo:"
   ]
  },
  {
   "cell_type": "code",
   "execution_count": null,
   "id": "9bc42a68",
   "metadata": {
    "scrolled": false
   },
   "outputs": [],
   "source": [
    "var valNoNulo: Int? = 10\n",
    "var valNulo: Int? = null\n",
    "\n",
    "// imprime el valor almacenado ó 0 en caso de nulo\n",
    "println(valNoNulo ?: 0)\n",
    "println(valNulo ?: 0)\n",
    "\n",
    "// es equivalente a...\n",
    "println(if(valNoNulo != null) valNoNulo else 0)\n",
    "println(if(valNulo != null) valNulo else 0)"
   ]
  },
  {
   "cell_type": "markdown",
   "id": "1b14a61b",
   "metadata": {},
   "source": [
    "## Ejercicios\n",
    "---"
   ]
  },
  {
   "cell_type": "markdown",
   "id": "88928653",
   "metadata": {},
   "source": [
    "1. Crea una variable de tipo String anulable denominada ```myFavouriteSong```. Si tienes una canción favorita, asígnasela. Si no tienes, o tienes más de una, establece su valor a ```null```. Empleando _smart casts_ imprime su contenido o el texto \"No tengo una canción favorita\""
   ]
  },
  {
   "cell_type": "code",
   "execution_count": null,
   "id": "cf9e5d29",
   "metadata": {},
   "outputs": [],
   "source": [
    "    // SOLUCIÓN\n"
   ]
  },
  {
   "cell_type": "markdown",
   "id": "7869b03c",
   "metadata": {},
   "source": [
    "2. Crea una función denominada ```divideIfWhole``` que devuelva el número de veces que un número entero puede ser dividido por otro número entero sin resto. La función debe devolver ```null``` si el número no es divisible. A continuación, creas una nueva función denominada ```checkDivisible``` que invoque a la función anterior y muestre el resultado. Utiliza smart casts para distinguir los dos casos: si el primer número es divisible por el segundo debe indicar \"Sí, es divisible XXX veces\" o, en caso de que no lo sea, \"No es divisible :\\[\". Por ejemplo:\n",
    "\n",
    "- checkDivisible(200, 2). Debe imprimir \"Sí, es divisible 3 veces\"\n",
    "- checkDivisible(200, 3). Debe imprimir \"No es divisible :\\[\"\n",
    "\n"
   ]
  },
  {
   "cell_type": "code",
   "execution_count": null,
   "id": "111745c1",
   "metadata": {},
   "outputs": [],
   "source": [
    "// SOLUCIÓN\n"
   ]
  },
  {
   "cell_type": "markdown",
   "id": "64de10d2",
   "metadata": {},
   "source": [
    "3. Reescribe la función ```checkDivisible``` para que emplee el operador Elvis. En este caso, el mensaje siempre será \"Es divisible XXX veces\", siendo XXX el número de veces que podemos realizar la división entera (>=0)"
   ]
  },
  {
   "cell_type": "code",
   "execution_count": null,
   "id": "1d71132f",
   "metadata": {},
   "outputs": [],
   "source": [
    "// SOLUCIÓN\n"
   ]
  },
  {
   "cell_type": "markdown",
   "id": "70c89021",
   "metadata": {},
   "source": [
    "### Soluciones\n",
    "---"
   ]
  },
  {
   "cell_type": "markdown",
   "id": "0d3bb156",
   "metadata": {},
   "source": [
    "##### 1.\n",
    "```\n",
    "val myFavouriteSong: String? = null\n",
    "\n",
    "if (myFavouriteSong != null)\n",
    "    println(myFavouriteSong)\n",
    "else \n",
    "    println(\"No tengo una canción favorita\")\n",
    "```\n"
   ]
  },
  {
   "cell_type": "markdown",
   "id": "0a96d6ed",
   "metadata": {},
   "source": [
    "##### 2.\n",
    "```\n",
    "fun divideIfWhole(dividendo: Int, divisor: Int): Int? {\n",
    "    var cont = 0\n",
    "    var num = dividendo\n",
    "    while (num % divisor == 0) {\n",
    "        num /= divisor\n",
    "        ++cont\n",
    "    }\n",
    "    return if (cont > 0) cont else null\n",
    "}\n",
    "\n",
    "fun checkDivisible(dividendo: Int, divisor: Int) {\n",
    "    val veces = divideIfWhole(dividendo, divisor)\n",
    "    if (veces != null)\n",
    "        println(\"Sí, es divisible $veces veces\")\n",
    "    else\n",
    "        println(\"No es divisible :[\")\n",
    "}\n",
    "\n",
    "checkDivisible(200, 2)\n",
    "checkDivisible(200, 3)\n",
    "```"
   ]
  },
  {
   "cell_type": "markdown",
   "id": "a1efd3c9",
   "metadata": {},
   "source": [
    "##### 3.\n",
    "```\n",
    "fun checkDivisible(dividendo: Int, divisor: Int) { \n",
    "    println(\"Es divisible ${divideIfWhole(dividendo, divisor) ?: 0} veces\") \n",
    "}\n",
    "\n",
    "checkDivisible(200, 2)\n",
    "checkDivisible(200, 3)\n",
    "```"
   ]
  }
 ],
 "metadata": {
  "kernelspec": {
   "display_name": "Kotlin",
   "language": "kotlin",
   "name": "kotlin"
  },
  "language_info": {
   "codemirror_mode": "text/x-kotlin",
   "file_extension": ".kt",
   "mimetype": "text/x-kotlin",
   "name": "kotlin",
   "nbconvert_exporter": "",
   "pygments_lexer": "kotlin",
   "version": "1.8.0-RC"
  },
  "toc": {
   "base_numbering": 1,
   "nav_menu": {},
   "number_sections": false,
   "sideBar": true,
   "skip_h1_title": false,
   "title_cell": "Table of Contents",
   "title_sidebar": "Contents",
   "toc_cell": true,
   "toc_position": {},
   "toc_section_display": true,
   "toc_window_display": false
  }
 },
 "nbformat": 4,
 "nbformat_minor": 5
}
